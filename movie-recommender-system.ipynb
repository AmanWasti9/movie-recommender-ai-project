{
 "cells": [
  {
   "cell_type": "code",
   "execution_count": 1,
   "id": "c5246abe-280f-471d-8f6d-0f85311adcbb",
   "metadata": {
    "id": "c5246abe-280f-471d-8f6d-0f85311adcbb"
   },
   "outputs": [],
   "source": [
    "import numpy as np\n",
    "import pandas as pd"
   ]
  },
  {
   "cell_type": "code",
   "execution_count": 2,
   "id": "5892ef18-d00e-4801-b786-13f6fce271d2",
   "metadata": {
    "id": "5892ef18-d00e-4801-b786-13f6fce271d2"
   },
   "outputs": [],
   "source": [
    "movies = pd.read_csv('tmdb_5000_movies.csv')\n",
    "credits = pd.read_csv('tmdb_5000_credits.csv')"
   ]
  },
  {
   "cell_type": "code",
   "execution_count": 3,
   "id": "4ec0cd54-cbc8-499e-96b5-07ff9b8becfc",
   "metadata": {
    "colab": {
     "base_uri": "https://localhost:8080/",
     "height": 188
    },
    "id": "4ec0cd54-cbc8-499e-96b5-07ff9b8becfc",
    "outputId": "4dc57487-ee46-4ce5-cc2b-42e60eb836ff"
   },
   "outputs": [
    {
     "data": {
      "text/html": [
       "<div>\n",
       "<style scoped>\n",
       "    .dataframe tbody tr th:only-of-type {\n",
       "        vertical-align: middle;\n",
       "    }\n",
       "\n",
       "    .dataframe tbody tr th {\n",
       "        vertical-align: top;\n",
       "    }\n",
       "\n",
       "    .dataframe thead th {\n",
       "        text-align: right;\n",
       "    }\n",
       "</style>\n",
       "<table border=\"1\" class=\"dataframe\">\n",
       "  <thead>\n",
       "    <tr style=\"text-align: right;\">\n",
       "      <th></th>\n",
       "      <th>budget</th>\n",
       "      <th>genres</th>\n",
       "      <th>homepage</th>\n",
       "      <th>id</th>\n",
       "      <th>keywords</th>\n",
       "      <th>original_language</th>\n",
       "      <th>original_title</th>\n",
       "      <th>overview</th>\n",
       "      <th>popularity</th>\n",
       "      <th>production_companies</th>\n",
       "      <th>production_countries</th>\n",
       "      <th>release_date</th>\n",
       "      <th>revenue</th>\n",
       "      <th>runtime</th>\n",
       "      <th>spoken_languages</th>\n",
       "      <th>status</th>\n",
       "      <th>tagline</th>\n",
       "      <th>title</th>\n",
       "      <th>vote_average</th>\n",
       "      <th>vote_count</th>\n",
       "    </tr>\n",
       "  </thead>\n",
       "  <tbody>\n",
       "    <tr>\n",
       "      <th>0</th>\n",
       "      <td>237000000</td>\n",
       "      <td>[{\"id\": 28, \"name\": \"Action\"}, {\"id\": 12, \"nam...</td>\n",
       "      <td>http://www.avatarmovie.com/</td>\n",
       "      <td>19995</td>\n",
       "      <td>[{\"id\": 1463, \"name\": \"culture clash\"}, {\"id\":...</td>\n",
       "      <td>en</td>\n",
       "      <td>Avatar</td>\n",
       "      <td>In the 22nd century, a paraplegic Marine is di...</td>\n",
       "      <td>150.437577</td>\n",
       "      <td>[{\"name\": \"Ingenious Film Partners\", \"id\": 289...</td>\n",
       "      <td>[{\"iso_3166_1\": \"US\", \"name\": \"United States o...</td>\n",
       "      <td>2009-12-10</td>\n",
       "      <td>2787965087</td>\n",
       "      <td>162.0</td>\n",
       "      <td>[{\"iso_639_1\": \"en\", \"name\": \"English\"}, {\"iso...</td>\n",
       "      <td>Released</td>\n",
       "      <td>Enter the World of Pandora.</td>\n",
       "      <td>Avatar</td>\n",
       "      <td>7.2</td>\n",
       "      <td>11800</td>\n",
       "    </tr>\n",
       "  </tbody>\n",
       "</table>\n",
       "</div>"
      ],
      "text/plain": [
       "      budget                                             genres  \\\n",
       "0  237000000  [{\"id\": 28, \"name\": \"Action\"}, {\"id\": 12, \"nam...   \n",
       "\n",
       "                      homepage     id  \\\n",
       "0  http://www.avatarmovie.com/  19995   \n",
       "\n",
       "                                            keywords original_language  \\\n",
       "0  [{\"id\": 1463, \"name\": \"culture clash\"}, {\"id\":...                en   \n",
       "\n",
       "  original_title                                           overview  \\\n",
       "0         Avatar  In the 22nd century, a paraplegic Marine is di...   \n",
       "\n",
       "   popularity                               production_companies  \\\n",
       "0  150.437577  [{\"name\": \"Ingenious Film Partners\", \"id\": 289...   \n",
       "\n",
       "                                production_countries release_date     revenue  \\\n",
       "0  [{\"iso_3166_1\": \"US\", \"name\": \"United States o...   2009-12-10  2787965087   \n",
       "\n",
       "   runtime                                   spoken_languages    status  \\\n",
       "0    162.0  [{\"iso_639_1\": \"en\", \"name\": \"English\"}, {\"iso...  Released   \n",
       "\n",
       "                       tagline   title  vote_average  vote_count  \n",
       "0  Enter the World of Pandora.  Avatar           7.2       11800  "
      ]
     },
     "execution_count": 3,
     "metadata": {},
     "output_type": "execute_result"
    }
   ],
   "source": [
    "movies.head(1)"
   ]
  },
  {
   "cell_type": "code",
   "execution_count": 4,
   "id": "649b37eb-f95d-4337-bb2d-f8e95403353c",
   "metadata": {
    "colab": {
     "base_uri": "https://localhost:8080/",
     "height": 81
    },
    "id": "649b37eb-f95d-4337-bb2d-f8e95403353c",
    "outputId": "788db7e6-0731-40a7-874f-cbcc12368bae"
   },
   "outputs": [
    {
     "data": {
      "text/html": [
       "<div>\n",
       "<style scoped>\n",
       "    .dataframe tbody tr th:only-of-type {\n",
       "        vertical-align: middle;\n",
       "    }\n",
       "\n",
       "    .dataframe tbody tr th {\n",
       "        vertical-align: top;\n",
       "    }\n",
       "\n",
       "    .dataframe thead th {\n",
       "        text-align: right;\n",
       "    }\n",
       "</style>\n",
       "<table border=\"1\" class=\"dataframe\">\n",
       "  <thead>\n",
       "    <tr style=\"text-align: right;\">\n",
       "      <th></th>\n",
       "      <th>movie_id</th>\n",
       "      <th>title</th>\n",
       "      <th>cast</th>\n",
       "      <th>crew</th>\n",
       "    </tr>\n",
       "  </thead>\n",
       "  <tbody>\n",
       "    <tr>\n",
       "      <th>0</th>\n",
       "      <td>19995</td>\n",
       "      <td>Avatar</td>\n",
       "      <td>[{\"cast_id\": 242, \"character\": \"Jake Sully\", \"...</td>\n",
       "      <td>[{\"credit_id\": \"52fe48009251416c750aca23\", \"de...</td>\n",
       "    </tr>\n",
       "  </tbody>\n",
       "</table>\n",
       "</div>"
      ],
      "text/plain": [
       "   movie_id   title                                               cast  \\\n",
       "0     19995  Avatar  [{\"cast_id\": 242, \"character\": \"Jake Sully\", \"...   \n",
       "\n",
       "                                                crew  \n",
       "0  [{\"credit_id\": \"52fe48009251416c750aca23\", \"de...  "
      ]
     },
     "execution_count": 4,
     "metadata": {},
     "output_type": "execute_result"
    }
   ],
   "source": [
    "credits.head(1)"
   ]
  },
  {
   "cell_type": "code",
   "execution_count": 5,
   "id": "bb4e19e6-8370-4fb6-a694-79e5d31005ee",
   "metadata": {
    "id": "bb4e19e6-8370-4fb6-a694-79e5d31005ee"
   },
   "outputs": [],
   "source": [
    "movies = movies.merge(credits,on='title')"
   ]
  },
  {
   "cell_type": "code",
   "execution_count": 6,
   "id": "22bf3480-d45e-4e8c-8ec0-062b79b04461",
   "metadata": {
    "colab": {
     "base_uri": "https://localhost:8080/",
     "height": 741
    },
    "id": "22bf3480-d45e-4e8c-8ec0-062b79b04461",
    "outputId": "dbda98a2-62f2-469d-aeb8-7dbfffde4cc8"
   },
   "outputs": [
    {
     "data": {
      "text/html": [
       "<div>\n",
       "<style scoped>\n",
       "    .dataframe tbody tr th:only-of-type {\n",
       "        vertical-align: middle;\n",
       "    }\n",
       "\n",
       "    .dataframe tbody tr th {\n",
       "        vertical-align: top;\n",
       "    }\n",
       "\n",
       "    .dataframe thead th {\n",
       "        text-align: right;\n",
       "    }\n",
       "</style>\n",
       "<table border=\"1\" class=\"dataframe\">\n",
       "  <thead>\n",
       "    <tr style=\"text-align: right;\">\n",
       "      <th></th>\n",
       "      <th>budget</th>\n",
       "      <th>genres</th>\n",
       "      <th>homepage</th>\n",
       "      <th>id</th>\n",
       "      <th>keywords</th>\n",
       "      <th>original_language</th>\n",
       "      <th>original_title</th>\n",
       "      <th>overview</th>\n",
       "      <th>popularity</th>\n",
       "      <th>production_companies</th>\n",
       "      <th>...</th>\n",
       "      <th>runtime</th>\n",
       "      <th>spoken_languages</th>\n",
       "      <th>status</th>\n",
       "      <th>tagline</th>\n",
       "      <th>title</th>\n",
       "      <th>vote_average</th>\n",
       "      <th>vote_count</th>\n",
       "      <th>movie_id</th>\n",
       "      <th>cast</th>\n",
       "      <th>crew</th>\n",
       "    </tr>\n",
       "  </thead>\n",
       "  <tbody>\n",
       "    <tr>\n",
       "      <th>0</th>\n",
       "      <td>237000000</td>\n",
       "      <td>[{\"id\": 28, \"name\": \"Action\"}, {\"id\": 12, \"nam...</td>\n",
       "      <td>http://www.avatarmovie.com/</td>\n",
       "      <td>19995</td>\n",
       "      <td>[{\"id\": 1463, \"name\": \"culture clash\"}, {\"id\":...</td>\n",
       "      <td>en</td>\n",
       "      <td>Avatar</td>\n",
       "      <td>In the 22nd century, a paraplegic Marine is di...</td>\n",
       "      <td>150.437577</td>\n",
       "      <td>[{\"name\": \"Ingenious Film Partners\", \"id\": 289...</td>\n",
       "      <td>...</td>\n",
       "      <td>162.0</td>\n",
       "      <td>[{\"iso_639_1\": \"en\", \"name\": \"English\"}, {\"iso...</td>\n",
       "      <td>Released</td>\n",
       "      <td>Enter the World of Pandora.</td>\n",
       "      <td>Avatar</td>\n",
       "      <td>7.2</td>\n",
       "      <td>11800</td>\n",
       "      <td>19995</td>\n",
       "      <td>[{\"cast_id\": 242, \"character\": \"Jake Sully\", \"...</td>\n",
       "      <td>[{\"credit_id\": \"52fe48009251416c750aca23\", \"de...</td>\n",
       "    </tr>\n",
       "    <tr>\n",
       "      <th>1</th>\n",
       "      <td>300000000</td>\n",
       "      <td>[{\"id\": 12, \"name\": \"Adventure\"}, {\"id\": 14, \"...</td>\n",
       "      <td>http://disney.go.com/disneypictures/pirates/</td>\n",
       "      <td>285</td>\n",
       "      <td>[{\"id\": 270, \"name\": \"ocean\"}, {\"id\": 726, \"na...</td>\n",
       "      <td>en</td>\n",
       "      <td>Pirates of the Caribbean: At World's End</td>\n",
       "      <td>Captain Barbossa, long believed to be dead, ha...</td>\n",
       "      <td>139.082615</td>\n",
       "      <td>[{\"name\": \"Walt Disney Pictures\", \"id\": 2}, {\"...</td>\n",
       "      <td>...</td>\n",
       "      <td>169.0</td>\n",
       "      <td>[{\"iso_639_1\": \"en\", \"name\": \"English\"}]</td>\n",
       "      <td>Released</td>\n",
       "      <td>At the end of the world, the adventure begins.</td>\n",
       "      <td>Pirates of the Caribbean: At World's End</td>\n",
       "      <td>6.9</td>\n",
       "      <td>4500</td>\n",
       "      <td>285</td>\n",
       "      <td>[{\"cast_id\": 4, \"character\": \"Captain Jack Spa...</td>\n",
       "      <td>[{\"credit_id\": \"52fe4232c3a36847f800b579\", \"de...</td>\n",
       "    </tr>\n",
       "    <tr>\n",
       "      <th>2</th>\n",
       "      <td>245000000</td>\n",
       "      <td>[{\"id\": 28, \"name\": \"Action\"}, {\"id\": 12, \"nam...</td>\n",
       "      <td>http://www.sonypictures.com/movies/spectre/</td>\n",
       "      <td>206647</td>\n",
       "      <td>[{\"id\": 470, \"name\": \"spy\"}, {\"id\": 818, \"name...</td>\n",
       "      <td>en</td>\n",
       "      <td>Spectre</td>\n",
       "      <td>A cryptic message from Bond’s past sends him o...</td>\n",
       "      <td>107.376788</td>\n",
       "      <td>[{\"name\": \"Columbia Pictures\", \"id\": 5}, {\"nam...</td>\n",
       "      <td>...</td>\n",
       "      <td>148.0</td>\n",
       "      <td>[{\"iso_639_1\": \"fr\", \"name\": \"Fran\\u00e7ais\"},...</td>\n",
       "      <td>Released</td>\n",
       "      <td>A Plan No One Escapes</td>\n",
       "      <td>Spectre</td>\n",
       "      <td>6.3</td>\n",
       "      <td>4466</td>\n",
       "      <td>206647</td>\n",
       "      <td>[{\"cast_id\": 1, \"character\": \"James Bond\", \"cr...</td>\n",
       "      <td>[{\"credit_id\": \"54805967c3a36829b5002c41\", \"de...</td>\n",
       "    </tr>\n",
       "    <tr>\n",
       "      <th>3</th>\n",
       "      <td>250000000</td>\n",
       "      <td>[{\"id\": 28, \"name\": \"Action\"}, {\"id\": 80, \"nam...</td>\n",
       "      <td>http://www.thedarkknightrises.com/</td>\n",
       "      <td>49026</td>\n",
       "      <td>[{\"id\": 849, \"name\": \"dc comics\"}, {\"id\": 853,...</td>\n",
       "      <td>en</td>\n",
       "      <td>The Dark Knight Rises</td>\n",
       "      <td>Following the death of District Attorney Harve...</td>\n",
       "      <td>112.312950</td>\n",
       "      <td>[{\"name\": \"Legendary Pictures\", \"id\": 923}, {\"...</td>\n",
       "      <td>...</td>\n",
       "      <td>165.0</td>\n",
       "      <td>[{\"iso_639_1\": \"en\", \"name\": \"English\"}]</td>\n",
       "      <td>Released</td>\n",
       "      <td>The Legend Ends</td>\n",
       "      <td>The Dark Knight Rises</td>\n",
       "      <td>7.6</td>\n",
       "      <td>9106</td>\n",
       "      <td>49026</td>\n",
       "      <td>[{\"cast_id\": 2, \"character\": \"Bruce Wayne / Ba...</td>\n",
       "      <td>[{\"credit_id\": \"52fe4781c3a36847f81398c3\", \"de...</td>\n",
       "    </tr>\n",
       "    <tr>\n",
       "      <th>4</th>\n",
       "      <td>260000000</td>\n",
       "      <td>[{\"id\": 28, \"name\": \"Action\"}, {\"id\": 12, \"nam...</td>\n",
       "      <td>http://movies.disney.com/john-carter</td>\n",
       "      <td>49529</td>\n",
       "      <td>[{\"id\": 818, \"name\": \"based on novel\"}, {\"id\":...</td>\n",
       "      <td>en</td>\n",
       "      <td>John Carter</td>\n",
       "      <td>John Carter is a war-weary, former military ca...</td>\n",
       "      <td>43.926995</td>\n",
       "      <td>[{\"name\": \"Walt Disney Pictures\", \"id\": 2}]</td>\n",
       "      <td>...</td>\n",
       "      <td>132.0</td>\n",
       "      <td>[{\"iso_639_1\": \"en\", \"name\": \"English\"}]</td>\n",
       "      <td>Released</td>\n",
       "      <td>Lost in our world, found in another.</td>\n",
       "      <td>John Carter</td>\n",
       "      <td>6.1</td>\n",
       "      <td>2124</td>\n",
       "      <td>49529</td>\n",
       "      <td>[{\"cast_id\": 5, \"character\": \"John Carter\", \"c...</td>\n",
       "      <td>[{\"credit_id\": \"52fe479ac3a36847f813eaa3\", \"de...</td>\n",
       "    </tr>\n",
       "  </tbody>\n",
       "</table>\n",
       "<p>5 rows × 23 columns</p>\n",
       "</div>"
      ],
      "text/plain": [
       "      budget                                             genres  \\\n",
       "0  237000000  [{\"id\": 28, \"name\": \"Action\"}, {\"id\": 12, \"nam...   \n",
       "1  300000000  [{\"id\": 12, \"name\": \"Adventure\"}, {\"id\": 14, \"...   \n",
       "2  245000000  [{\"id\": 28, \"name\": \"Action\"}, {\"id\": 12, \"nam...   \n",
       "3  250000000  [{\"id\": 28, \"name\": \"Action\"}, {\"id\": 80, \"nam...   \n",
       "4  260000000  [{\"id\": 28, \"name\": \"Action\"}, {\"id\": 12, \"nam...   \n",
       "\n",
       "                                       homepage      id  \\\n",
       "0                   http://www.avatarmovie.com/   19995   \n",
       "1  http://disney.go.com/disneypictures/pirates/     285   \n",
       "2   http://www.sonypictures.com/movies/spectre/  206647   \n",
       "3            http://www.thedarkknightrises.com/   49026   \n",
       "4          http://movies.disney.com/john-carter   49529   \n",
       "\n",
       "                                            keywords original_language  \\\n",
       "0  [{\"id\": 1463, \"name\": \"culture clash\"}, {\"id\":...                en   \n",
       "1  [{\"id\": 270, \"name\": \"ocean\"}, {\"id\": 726, \"na...                en   \n",
       "2  [{\"id\": 470, \"name\": \"spy\"}, {\"id\": 818, \"name...                en   \n",
       "3  [{\"id\": 849, \"name\": \"dc comics\"}, {\"id\": 853,...                en   \n",
       "4  [{\"id\": 818, \"name\": \"based on novel\"}, {\"id\":...                en   \n",
       "\n",
       "                             original_title  \\\n",
       "0                                    Avatar   \n",
       "1  Pirates of the Caribbean: At World's End   \n",
       "2                                   Spectre   \n",
       "3                     The Dark Knight Rises   \n",
       "4                               John Carter   \n",
       "\n",
       "                                            overview  popularity  \\\n",
       "0  In the 22nd century, a paraplegic Marine is di...  150.437577   \n",
       "1  Captain Barbossa, long believed to be dead, ha...  139.082615   \n",
       "2  A cryptic message from Bond’s past sends him o...  107.376788   \n",
       "3  Following the death of District Attorney Harve...  112.312950   \n",
       "4  John Carter is a war-weary, former military ca...   43.926995   \n",
       "\n",
       "                                production_companies  ... runtime  \\\n",
       "0  [{\"name\": \"Ingenious Film Partners\", \"id\": 289...  ...   162.0   \n",
       "1  [{\"name\": \"Walt Disney Pictures\", \"id\": 2}, {\"...  ...   169.0   \n",
       "2  [{\"name\": \"Columbia Pictures\", \"id\": 5}, {\"nam...  ...   148.0   \n",
       "3  [{\"name\": \"Legendary Pictures\", \"id\": 923}, {\"...  ...   165.0   \n",
       "4        [{\"name\": \"Walt Disney Pictures\", \"id\": 2}]  ...   132.0   \n",
       "\n",
       "                                    spoken_languages    status  \\\n",
       "0  [{\"iso_639_1\": \"en\", \"name\": \"English\"}, {\"iso...  Released   \n",
       "1           [{\"iso_639_1\": \"en\", \"name\": \"English\"}]  Released   \n",
       "2  [{\"iso_639_1\": \"fr\", \"name\": \"Fran\\u00e7ais\"},...  Released   \n",
       "3           [{\"iso_639_1\": \"en\", \"name\": \"English\"}]  Released   \n",
       "4           [{\"iso_639_1\": \"en\", \"name\": \"English\"}]  Released   \n",
       "\n",
       "                                          tagline  \\\n",
       "0                     Enter the World of Pandora.   \n",
       "1  At the end of the world, the adventure begins.   \n",
       "2                           A Plan No One Escapes   \n",
       "3                                 The Legend Ends   \n",
       "4            Lost in our world, found in another.   \n",
       "\n",
       "                                      title vote_average vote_count movie_id  \\\n",
       "0                                    Avatar          7.2      11800    19995   \n",
       "1  Pirates of the Caribbean: At World's End          6.9       4500      285   \n",
       "2                                   Spectre          6.3       4466   206647   \n",
       "3                     The Dark Knight Rises          7.6       9106    49026   \n",
       "4                               John Carter          6.1       2124    49529   \n",
       "\n",
       "                                                cast  \\\n",
       "0  [{\"cast_id\": 242, \"character\": \"Jake Sully\", \"...   \n",
       "1  [{\"cast_id\": 4, \"character\": \"Captain Jack Spa...   \n",
       "2  [{\"cast_id\": 1, \"character\": \"James Bond\", \"cr...   \n",
       "3  [{\"cast_id\": 2, \"character\": \"Bruce Wayne / Ba...   \n",
       "4  [{\"cast_id\": 5, \"character\": \"John Carter\", \"c...   \n",
       "\n",
       "                                                crew  \n",
       "0  [{\"credit_id\": \"52fe48009251416c750aca23\", \"de...  \n",
       "1  [{\"credit_id\": \"52fe4232c3a36847f800b579\", \"de...  \n",
       "2  [{\"credit_id\": \"54805967c3a36829b5002c41\", \"de...  \n",
       "3  [{\"credit_id\": \"52fe4781c3a36847f81398c3\", \"de...  \n",
       "4  [{\"credit_id\": \"52fe479ac3a36847f813eaa3\", \"de...  \n",
       "\n",
       "[5 rows x 23 columns]"
      ]
     },
     "execution_count": 6,
     "metadata": {},
     "output_type": "execute_result"
    }
   ],
   "source": [
    "movies.head()"
   ]
  },
  {
   "cell_type": "code",
   "execution_count": 7,
   "id": "6c853bf1-bf9f-42f8-9a72-ac591466045a",
   "metadata": {
    "id": "6c853bf1-bf9f-42f8-9a72-ac591466045a"
   },
   "outputs": [],
   "source": [
    "# genres\n",
    "# id\n",
    "# keywords\n",
    "# title\n",
    "# overview\n",
    "# cast\n",
    "# crew\n",
    "# vote_average as rating of the movie\n",
    "\n",
    "movies = movies[['movie_id','title','overview','genres','keywords','vote_average','cast','crew']]"
   ]
  },
  {
   "cell_type": "code",
   "execution_count": 8,
   "id": "cb363538-910e-4e42-81ae-6531e4351dac",
   "metadata": {
    "colab": {
     "base_uri": "https://localhost:8080/"
    },
    "id": "cb363538-910e-4e42-81ae-6531e4351dac",
    "outputId": "2f72c2bc-6847-4c31-f0f8-de96851bd04e"
   },
   "outputs": [
    {
     "name": "stdout",
     "output_type": "stream",
     "text": [
      "<class 'pandas.core.frame.DataFrame'>\n",
      "RangeIndex: 4809 entries, 0 to 4808\n",
      "Data columns (total 8 columns):\n",
      " #   Column        Non-Null Count  Dtype  \n",
      "---  ------        --------------  -----  \n",
      " 0   movie_id      4809 non-null   int64  \n",
      " 1   title         4809 non-null   object \n",
      " 2   overview      4806 non-null   object \n",
      " 3   genres        4809 non-null   object \n",
      " 4   keywords      4809 non-null   object \n",
      " 5   vote_average  4809 non-null   float64\n",
      " 6   cast          4809 non-null   object \n",
      " 7   crew          4809 non-null   object \n",
      "dtypes: float64(1), int64(1), object(6)\n",
      "memory usage: 300.7+ KB\n"
     ]
    }
   ],
   "source": [
    "movies.info()"
   ]
  },
  {
   "cell_type": "code",
   "execution_count": 9,
   "id": "7ce55d8c-8eb0-44ef-be70-051289850c40",
   "metadata": {
    "colab": {
     "base_uri": "https://localhost:8080/",
     "height": 293
    },
    "id": "7ce55d8c-8eb0-44ef-be70-051289850c40",
    "outputId": "f4859cc3-01ca-4212-b779-94d91f7bfef8"
   },
   "outputs": [
    {
     "data": {
      "text/html": [
       "<div>\n",
       "<style scoped>\n",
       "    .dataframe tbody tr th:only-of-type {\n",
       "        vertical-align: middle;\n",
       "    }\n",
       "\n",
       "    .dataframe tbody tr th {\n",
       "        vertical-align: top;\n",
       "    }\n",
       "\n",
       "    .dataframe thead th {\n",
       "        text-align: right;\n",
       "    }\n",
       "</style>\n",
       "<table border=\"1\" class=\"dataframe\">\n",
       "  <thead>\n",
       "    <tr style=\"text-align: right;\">\n",
       "      <th></th>\n",
       "      <th>movie_id</th>\n",
       "      <th>title</th>\n",
       "      <th>overview</th>\n",
       "      <th>genres</th>\n",
       "      <th>keywords</th>\n",
       "      <th>vote_average</th>\n",
       "      <th>cast</th>\n",
       "      <th>crew</th>\n",
       "    </tr>\n",
       "  </thead>\n",
       "  <tbody>\n",
       "    <tr>\n",
       "      <th>0</th>\n",
       "      <td>19995</td>\n",
       "      <td>Avatar</td>\n",
       "      <td>In the 22nd century, a paraplegic Marine is di...</td>\n",
       "      <td>[{\"id\": 28, \"name\": \"Action\"}, {\"id\": 12, \"nam...</td>\n",
       "      <td>[{\"id\": 1463, \"name\": \"culture clash\"}, {\"id\":...</td>\n",
       "      <td>7.2</td>\n",
       "      <td>[{\"cast_id\": 242, \"character\": \"Jake Sully\", \"...</td>\n",
       "      <td>[{\"credit_id\": \"52fe48009251416c750aca23\", \"de...</td>\n",
       "    </tr>\n",
       "    <tr>\n",
       "      <th>1</th>\n",
       "      <td>285</td>\n",
       "      <td>Pirates of the Caribbean: At World's End</td>\n",
       "      <td>Captain Barbossa, long believed to be dead, ha...</td>\n",
       "      <td>[{\"id\": 12, \"name\": \"Adventure\"}, {\"id\": 14, \"...</td>\n",
       "      <td>[{\"id\": 270, \"name\": \"ocean\"}, {\"id\": 726, \"na...</td>\n",
       "      <td>6.9</td>\n",
       "      <td>[{\"cast_id\": 4, \"character\": \"Captain Jack Spa...</td>\n",
       "      <td>[{\"credit_id\": \"52fe4232c3a36847f800b579\", \"de...</td>\n",
       "    </tr>\n",
       "    <tr>\n",
       "      <th>2</th>\n",
       "      <td>206647</td>\n",
       "      <td>Spectre</td>\n",
       "      <td>A cryptic message from Bond’s past sends him o...</td>\n",
       "      <td>[{\"id\": 28, \"name\": \"Action\"}, {\"id\": 12, \"nam...</td>\n",
       "      <td>[{\"id\": 470, \"name\": \"spy\"}, {\"id\": 818, \"name...</td>\n",
       "      <td>6.3</td>\n",
       "      <td>[{\"cast_id\": 1, \"character\": \"James Bond\", \"cr...</td>\n",
       "      <td>[{\"credit_id\": \"54805967c3a36829b5002c41\", \"de...</td>\n",
       "    </tr>\n",
       "    <tr>\n",
       "      <th>3</th>\n",
       "      <td>49026</td>\n",
       "      <td>The Dark Knight Rises</td>\n",
       "      <td>Following the death of District Attorney Harve...</td>\n",
       "      <td>[{\"id\": 28, \"name\": \"Action\"}, {\"id\": 80, \"nam...</td>\n",
       "      <td>[{\"id\": 849, \"name\": \"dc comics\"}, {\"id\": 853,...</td>\n",
       "      <td>7.6</td>\n",
       "      <td>[{\"cast_id\": 2, \"character\": \"Bruce Wayne / Ba...</td>\n",
       "      <td>[{\"credit_id\": \"52fe4781c3a36847f81398c3\", \"de...</td>\n",
       "    </tr>\n",
       "    <tr>\n",
       "      <th>4</th>\n",
       "      <td>49529</td>\n",
       "      <td>John Carter</td>\n",
       "      <td>John Carter is a war-weary, former military ca...</td>\n",
       "      <td>[{\"id\": 28, \"name\": \"Action\"}, {\"id\": 12, \"nam...</td>\n",
       "      <td>[{\"id\": 818, \"name\": \"based on novel\"}, {\"id\":...</td>\n",
       "      <td>6.1</td>\n",
       "      <td>[{\"cast_id\": 5, \"character\": \"John Carter\", \"c...</td>\n",
       "      <td>[{\"credit_id\": \"52fe479ac3a36847f813eaa3\", \"de...</td>\n",
       "    </tr>\n",
       "  </tbody>\n",
       "</table>\n",
       "</div>"
      ],
      "text/plain": [
       "   movie_id                                     title  \\\n",
       "0     19995                                    Avatar   \n",
       "1       285  Pirates of the Caribbean: At World's End   \n",
       "2    206647                                   Spectre   \n",
       "3     49026                     The Dark Knight Rises   \n",
       "4     49529                               John Carter   \n",
       "\n",
       "                                            overview  \\\n",
       "0  In the 22nd century, a paraplegic Marine is di...   \n",
       "1  Captain Barbossa, long believed to be dead, ha...   \n",
       "2  A cryptic message from Bond’s past sends him o...   \n",
       "3  Following the death of District Attorney Harve...   \n",
       "4  John Carter is a war-weary, former military ca...   \n",
       "\n",
       "                                              genres  \\\n",
       "0  [{\"id\": 28, \"name\": \"Action\"}, {\"id\": 12, \"nam...   \n",
       "1  [{\"id\": 12, \"name\": \"Adventure\"}, {\"id\": 14, \"...   \n",
       "2  [{\"id\": 28, \"name\": \"Action\"}, {\"id\": 12, \"nam...   \n",
       "3  [{\"id\": 28, \"name\": \"Action\"}, {\"id\": 80, \"nam...   \n",
       "4  [{\"id\": 28, \"name\": \"Action\"}, {\"id\": 12, \"nam...   \n",
       "\n",
       "                                            keywords  vote_average  \\\n",
       "0  [{\"id\": 1463, \"name\": \"culture clash\"}, {\"id\":...           7.2   \n",
       "1  [{\"id\": 270, \"name\": \"ocean\"}, {\"id\": 726, \"na...           6.9   \n",
       "2  [{\"id\": 470, \"name\": \"spy\"}, {\"id\": 818, \"name...           6.3   \n",
       "3  [{\"id\": 849, \"name\": \"dc comics\"}, {\"id\": 853,...           7.6   \n",
       "4  [{\"id\": 818, \"name\": \"based on novel\"}, {\"id\":...           6.1   \n",
       "\n",
       "                                                cast  \\\n",
       "0  [{\"cast_id\": 242, \"character\": \"Jake Sully\", \"...   \n",
       "1  [{\"cast_id\": 4, \"character\": \"Captain Jack Spa...   \n",
       "2  [{\"cast_id\": 1, \"character\": \"James Bond\", \"cr...   \n",
       "3  [{\"cast_id\": 2, \"character\": \"Bruce Wayne / Ba...   \n",
       "4  [{\"cast_id\": 5, \"character\": \"John Carter\", \"c...   \n",
       "\n",
       "                                                crew  \n",
       "0  [{\"credit_id\": \"52fe48009251416c750aca23\", \"de...  \n",
       "1  [{\"credit_id\": \"52fe4232c3a36847f800b579\", \"de...  \n",
       "2  [{\"credit_id\": \"54805967c3a36829b5002c41\", \"de...  \n",
       "3  [{\"credit_id\": \"52fe4781c3a36847f81398c3\", \"de...  \n",
       "4  [{\"credit_id\": \"52fe479ac3a36847f813eaa3\", \"de...  "
      ]
     },
     "execution_count": 9,
     "metadata": {},
     "output_type": "execute_result"
    }
   ],
   "source": [
    "movies.head()"
   ]
  },
  {
   "cell_type": "code",
   "execution_count": 12,
   "id": "2f3a79fd-ac91-46eb-a8b2-8982a1b20560",
   "metadata": {
    "colab": {
     "base_uri": "https://localhost:8080/"
    },
    "id": "2f3a79fd-ac91-46eb-a8b2-8982a1b20560",
    "outputId": "6a220b78-a9af-4978-fc59-8f050d39fa89"
   },
   "outputs": [
    {
     "data": {
      "text/plain": [
       "movie_id        0\n",
       "title           0\n",
       "overview        0\n",
       "genres          0\n",
       "keywords        0\n",
       "vote_average    0\n",
       "cast            0\n",
       "crew            0\n",
       "dtype: int64"
      ]
     },
     "execution_count": 12,
     "metadata": {},
     "output_type": "execute_result"
    }
   ],
   "source": [
    "movies.isnull().sum()"
   ]
  },
  {
   "cell_type": "code",
   "execution_count": 13,
   "id": "5fd3c7dc-3c70-4102-8f47-3ca77f7cc83a",
   "metadata": {
    "id": "5fd3c7dc-3c70-4102-8f47-3ca77f7cc83a"
   },
   "outputs": [],
   "source": [
    "movies.dropna(inplace=True)"
   ]
  },
  {
   "cell_type": "code",
   "execution_count": 14,
   "id": "50e74019-d049-45e3-885b-04b2c7283d95",
   "metadata": {
    "colab": {
     "base_uri": "https://localhost:8080/"
    },
    "id": "50e74019-d049-45e3-885b-04b2c7283d95",
    "outputId": "87334fa4-cd99-46a4-87b2-002e182897d3"
   },
   "outputs": [
    {
     "data": {
      "text/plain": [
       "0"
      ]
     },
     "execution_count": 14,
     "metadata": {},
     "output_type": "execute_result"
    }
   ],
   "source": [
    "movies.duplicated().sum()"
   ]
  },
  {
   "cell_type": "code",
   "execution_count": 15,
   "id": "f7bbf669-31cf-45ba-9650-6b4aa40e942c",
   "metadata": {
    "colab": {
     "base_uri": "https://localhost:8080/",
     "height": 35
    },
    "id": "f7bbf669-31cf-45ba-9650-6b4aa40e942c",
    "outputId": "74a66569-debe-4274-cf9f-bf74ab33dc00"
   },
   "outputs": [
    {
     "data": {
      "text/plain": [
       "'[{\"id\": 28, \"name\": \"Action\"}, {\"id\": 12, \"name\": \"Adventure\"}, {\"id\": 14, \"name\": \"Fantasy\"}, {\"id\": 878, \"name\": \"Science Fiction\"}]'"
      ]
     },
     "execution_count": 15,
     "metadata": {},
     "output_type": "execute_result"
    }
   ],
   "source": [
    "movies.iloc[0].genres"
   ]
  },
  {
   "cell_type": "code",
   "execution_count": 16,
   "id": "e1d6d080-fd65-49e2-8450-d56d3a54bacc",
   "metadata": {
    "id": "e1d6d080-fd65-49e2-8450-d56d3a54bacc"
   },
   "outputs": [],
   "source": [
    "# [{\"id\": 28, \"name\": \"Action\"}, {\"id\": 12, \"name\": \"Adventure\"}, {\"id\": 14, \"name\": \"Fantasy\"}, {\"id\": 878, \"name\": \"Science Fiction\"}]\n",
    "\n",
    "# ['Action','Adventure','Science Fiction']\n",
    "import ast\n",
    "def convert(obj):\n",
    "    L = []\n",
    "    for i in ast.literal_eval(obj):\n",
    "        L.append(i['name'])\n",
    "    return L\n"
   ]
  },
  {
   "cell_type": "code",
   "execution_count": 17,
   "id": "a19344d0-28aa-4ea0-aad0-aae78f996be1",
   "metadata": {
    "id": "a19344d0-28aa-4ea0-aad0-aae78f996be1"
   },
   "outputs": [],
   "source": [
    "movies['genres'] = movies['genres'].apply(convert)"
   ]
  },
  {
   "cell_type": "code",
   "execution_count": 18,
   "id": "28a54dba-4ff7-4e87-b6e1-7cf7c6b18fbc",
   "metadata": {
    "id": "28a54dba-4ff7-4e87-b6e1-7cf7c6b18fbc"
   },
   "outputs": [],
   "source": [
    "movies['keywords'] = movies['keywords'].apply(convert)"
   ]
  },
  {
   "cell_type": "code",
   "execution_count": 19,
   "id": "bbfb54a2-7f00-4c70-9889-50b23e432895",
   "metadata": {
    "colab": {
     "base_uri": "https://localhost:8080/",
     "height": 293
    },
    "id": "bbfb54a2-7f00-4c70-9889-50b23e432895",
    "outputId": "e8571437-b418-4f7c-a1f6-ae350f0e61fd"
   },
   "outputs": [
    {
     "data": {
      "text/html": [
       "<div>\n",
       "<style scoped>\n",
       "    .dataframe tbody tr th:only-of-type {\n",
       "        vertical-align: middle;\n",
       "    }\n",
       "\n",
       "    .dataframe tbody tr th {\n",
       "        vertical-align: top;\n",
       "    }\n",
       "\n",
       "    .dataframe thead th {\n",
       "        text-align: right;\n",
       "    }\n",
       "</style>\n",
       "<table border=\"1\" class=\"dataframe\">\n",
       "  <thead>\n",
       "    <tr style=\"text-align: right;\">\n",
       "      <th></th>\n",
       "      <th>movie_id</th>\n",
       "      <th>title</th>\n",
       "      <th>overview</th>\n",
       "      <th>genres</th>\n",
       "      <th>keywords</th>\n",
       "      <th>vote_average</th>\n",
       "      <th>cast</th>\n",
       "      <th>crew</th>\n",
       "    </tr>\n",
       "  </thead>\n",
       "  <tbody>\n",
       "    <tr>\n",
       "      <th>0</th>\n",
       "      <td>19995</td>\n",
       "      <td>Avatar</td>\n",
       "      <td>In the 22nd century, a paraplegic Marine is di...</td>\n",
       "      <td>[Action, Adventure, Fantasy, Science Fiction]</td>\n",
       "      <td>[culture clash, future, space war, space colon...</td>\n",
       "      <td>7.2</td>\n",
       "      <td>[{\"cast_id\": 242, \"character\": \"Jake Sully\", \"...</td>\n",
       "      <td>[{\"credit_id\": \"52fe48009251416c750aca23\", \"de...</td>\n",
       "    </tr>\n",
       "    <tr>\n",
       "      <th>1</th>\n",
       "      <td>285</td>\n",
       "      <td>Pirates of the Caribbean: At World's End</td>\n",
       "      <td>Captain Barbossa, long believed to be dead, ha...</td>\n",
       "      <td>[Adventure, Fantasy, Action]</td>\n",
       "      <td>[ocean, drug abuse, exotic island, east india ...</td>\n",
       "      <td>6.9</td>\n",
       "      <td>[{\"cast_id\": 4, \"character\": \"Captain Jack Spa...</td>\n",
       "      <td>[{\"credit_id\": \"52fe4232c3a36847f800b579\", \"de...</td>\n",
       "    </tr>\n",
       "    <tr>\n",
       "      <th>2</th>\n",
       "      <td>206647</td>\n",
       "      <td>Spectre</td>\n",
       "      <td>A cryptic message from Bond’s past sends him o...</td>\n",
       "      <td>[Action, Adventure, Crime]</td>\n",
       "      <td>[spy, based on novel, secret agent, sequel, mi...</td>\n",
       "      <td>6.3</td>\n",
       "      <td>[{\"cast_id\": 1, \"character\": \"James Bond\", \"cr...</td>\n",
       "      <td>[{\"credit_id\": \"54805967c3a36829b5002c41\", \"de...</td>\n",
       "    </tr>\n",
       "    <tr>\n",
       "      <th>3</th>\n",
       "      <td>49026</td>\n",
       "      <td>The Dark Knight Rises</td>\n",
       "      <td>Following the death of District Attorney Harve...</td>\n",
       "      <td>[Action, Crime, Drama, Thriller]</td>\n",
       "      <td>[dc comics, crime fighter, terrorist, secret i...</td>\n",
       "      <td>7.6</td>\n",
       "      <td>[{\"cast_id\": 2, \"character\": \"Bruce Wayne / Ba...</td>\n",
       "      <td>[{\"credit_id\": \"52fe4781c3a36847f81398c3\", \"de...</td>\n",
       "    </tr>\n",
       "    <tr>\n",
       "      <th>4</th>\n",
       "      <td>49529</td>\n",
       "      <td>John Carter</td>\n",
       "      <td>John Carter is a war-weary, former military ca...</td>\n",
       "      <td>[Action, Adventure, Science Fiction]</td>\n",
       "      <td>[based on novel, mars, medallion, space travel...</td>\n",
       "      <td>6.1</td>\n",
       "      <td>[{\"cast_id\": 5, \"character\": \"John Carter\", \"c...</td>\n",
       "      <td>[{\"credit_id\": \"52fe479ac3a36847f813eaa3\", \"de...</td>\n",
       "    </tr>\n",
       "  </tbody>\n",
       "</table>\n",
       "</div>"
      ],
      "text/plain": [
       "   movie_id                                     title  \\\n",
       "0     19995                                    Avatar   \n",
       "1       285  Pirates of the Caribbean: At World's End   \n",
       "2    206647                                   Spectre   \n",
       "3     49026                     The Dark Knight Rises   \n",
       "4     49529                               John Carter   \n",
       "\n",
       "                                            overview  \\\n",
       "0  In the 22nd century, a paraplegic Marine is di...   \n",
       "1  Captain Barbossa, long believed to be dead, ha...   \n",
       "2  A cryptic message from Bond’s past sends him o...   \n",
       "3  Following the death of District Attorney Harve...   \n",
       "4  John Carter is a war-weary, former military ca...   \n",
       "\n",
       "                                          genres  \\\n",
       "0  [Action, Adventure, Fantasy, Science Fiction]   \n",
       "1                   [Adventure, Fantasy, Action]   \n",
       "2                     [Action, Adventure, Crime]   \n",
       "3               [Action, Crime, Drama, Thriller]   \n",
       "4           [Action, Adventure, Science Fiction]   \n",
       "\n",
       "                                            keywords  vote_average  \\\n",
       "0  [culture clash, future, space war, space colon...           7.2   \n",
       "1  [ocean, drug abuse, exotic island, east india ...           6.9   \n",
       "2  [spy, based on novel, secret agent, sequel, mi...           6.3   \n",
       "3  [dc comics, crime fighter, terrorist, secret i...           7.6   \n",
       "4  [based on novel, mars, medallion, space travel...           6.1   \n",
       "\n",
       "                                                cast  \\\n",
       "0  [{\"cast_id\": 242, \"character\": \"Jake Sully\", \"...   \n",
       "1  [{\"cast_id\": 4, \"character\": \"Captain Jack Spa...   \n",
       "2  [{\"cast_id\": 1, \"character\": \"James Bond\", \"cr...   \n",
       "3  [{\"cast_id\": 2, \"character\": \"Bruce Wayne / Ba...   \n",
       "4  [{\"cast_id\": 5, \"character\": \"John Carter\", \"c...   \n",
       "\n",
       "                                                crew  \n",
       "0  [{\"credit_id\": \"52fe48009251416c750aca23\", \"de...  \n",
       "1  [{\"credit_id\": \"52fe4232c3a36847f800b579\", \"de...  \n",
       "2  [{\"credit_id\": \"54805967c3a36829b5002c41\", \"de...  \n",
       "3  [{\"credit_id\": \"52fe4781c3a36847f81398c3\", \"de...  \n",
       "4  [{\"credit_id\": \"52fe479ac3a36847f813eaa3\", \"de...  "
      ]
     },
     "execution_count": 19,
     "metadata": {},
     "output_type": "execute_result"
    }
   ],
   "source": [
    "movies.head()"
   ]
  },
  {
   "cell_type": "code",
   "execution_count": 20,
   "id": "8742c68a-3795-4dbb-8780-fb7d73f38d8e",
   "metadata": {
    "colab": {
     "base_uri": "https://localhost:8080/",
     "height": 105
    },
    "id": "8742c68a-3795-4dbb-8780-fb7d73f38d8e",
    "outputId": "d4b495af-e24e-4ca7-d6d7-c16252cbdd53"
   },
   "outputs": [
    {
     "data": {
      "text/plain": [
       "'[{\"cast_id\": 242, \"character\": \"Jake Sully\", \"credit_id\": \"5602a8a7c3a3685532001c9a\", \"gender\": 2, \"id\": 65731, \"name\": \"Sam Worthington\", \"order\": 0}, {\"cast_id\": 3, \"character\": \"Neytiri\", \"credit_id\": \"52fe48009251416c750ac9cb\", \"gender\": 1, \"id\": 8691, \"name\": \"Zoe Saldana\", \"order\": 1}, {\"cast_id\": 25, \"character\": \"Dr. Grace Augustine\", \"credit_id\": \"52fe48009251416c750aca39\", \"gender\": 1, \"id\": 10205, \"name\": \"Sigourney Weaver\", \"order\": 2}, {\"cast_id\": 4, \"character\": \"Col. Quaritch\", \"credit_id\": \"52fe48009251416c750ac9cf\", \"gender\": 2, \"id\": 32747, \"name\": \"Stephen Lang\", \"order\": 3}, {\"cast_id\": 5, \"character\": \"Trudy Chacon\", \"credit_id\": \"52fe48009251416c750ac9d3\", \"gender\": 1, \"id\": 17647, \"name\": \"Michelle Rodriguez\", \"order\": 4}, {\"cast_id\": 8, \"character\": \"Selfridge\", \"credit_id\": \"52fe48009251416c750ac9e1\", \"gender\": 2, \"id\": 1771, \"name\": \"Giovanni Ribisi\", \"order\": 5}, {\"cast_id\": 7, \"character\": \"Norm Spellman\", \"credit_id\": \"52fe48009251416c750ac9dd\", \"gender\": 2, \"id\": 59231, \"name\": \"Joel David Moore\", \"order\": 6}, {\"cast_id\": 9, \"character\": \"Moat\", \"credit_id\": \"52fe48009251416c750ac9e5\", \"gender\": 1, \"id\": 30485, \"name\": \"CCH Pounder\", \"order\": 7}, {\"cast_id\": 11, \"character\": \"Eytukan\", \"credit_id\": \"52fe48009251416c750ac9ed\", \"gender\": 2, \"id\": 15853, \"name\": \"Wes Studi\", \"order\": 8}, {\"cast_id\": 10, \"character\": \"Tsu\\'Tey\", \"credit_id\": \"52fe48009251416c750ac9e9\", \"gender\": 2, \"id\": 10964, \"name\": \"Laz Alonso\", \"order\": 9}, {\"cast_id\": 12, \"character\": \"Dr. Max Patel\", \"credit_id\": \"52fe48009251416c750ac9f1\", \"gender\": 2, \"id\": 95697, \"name\": \"Dileep Rao\", \"order\": 10}, {\"cast_id\": 13, \"character\": \"Lyle Wainfleet\", \"credit_id\": \"52fe48009251416c750ac9f5\", \"gender\": 2, \"id\": 98215, \"name\": \"Matt Gerald\", \"order\": 11}, {\"cast_id\": 32, \"character\": \"Private Fike\", \"credit_id\": \"52fe48009251416c750aca5b\", \"gender\": 2, \"id\": 154153, \"name\": \"Sean Anthony Moran\", \"order\": 12}, {\"cast_id\": 33, \"character\": \"Cryo Vault Med Tech\", \"credit_id\": \"52fe48009251416c750aca5f\", \"gender\": 2, \"id\": 397312, \"name\": \"Jason Whyte\", \"order\": 13}, {\"cast_id\": 34, \"character\": \"Venture Star Crew Chief\", \"credit_id\": \"52fe48009251416c750aca63\", \"gender\": 2, \"id\": 42317, \"name\": \"Scott Lawrence\", \"order\": 14}, {\"cast_id\": 35, \"character\": \"Lock Up Trooper\", \"credit_id\": \"52fe48009251416c750aca67\", \"gender\": 2, \"id\": 986734, \"name\": \"Kelly Kilgour\", \"order\": 15}, {\"cast_id\": 36, \"character\": \"Shuttle Pilot\", \"credit_id\": \"52fe48009251416c750aca6b\", \"gender\": 0, \"id\": 1207227, \"name\": \"James Patrick Pitt\", \"order\": 16}, {\"cast_id\": 37, \"character\": \"Shuttle Co-Pilot\", \"credit_id\": \"52fe48009251416c750aca6f\", \"gender\": 0, \"id\": 1180936, \"name\": \"Sean Patrick Murphy\", \"order\": 17}, {\"cast_id\": 38, \"character\": \"Shuttle Crew Chief\", \"credit_id\": \"52fe48009251416c750aca73\", \"gender\": 2, \"id\": 1019578, \"name\": \"Peter Dillon\", \"order\": 18}, {\"cast_id\": 39, \"character\": \"Tractor Operator / Troupe\", \"credit_id\": \"52fe48009251416c750aca77\", \"gender\": 0, \"id\": 91443, \"name\": \"Kevin Dorman\", \"order\": 19}, {\"cast_id\": 40, \"character\": \"Dragon Gunship Pilot\", \"credit_id\": \"52fe48009251416c750aca7b\", \"gender\": 2, \"id\": 173391, \"name\": \"Kelson Henderson\", \"order\": 20}, {\"cast_id\": 41, \"character\": \"Dragon Gunship Gunner\", \"credit_id\": \"52fe48009251416c750aca7f\", \"gender\": 0, \"id\": 1207236, \"name\": \"David Van Horn\", \"order\": 21}, {\"cast_id\": 42, \"character\": \"Dragon Gunship Navigator\", \"credit_id\": \"52fe48009251416c750aca83\", \"gender\": 0, \"id\": 215913, \"name\": \"Jacob Tomuri\", \"order\": 22}, {\"cast_id\": 43, \"character\": \"Suit #1\", \"credit_id\": \"52fe48009251416c750aca87\", \"gender\": 0, \"id\": 143206, \"name\": \"Michael Blain-Rozgay\", \"order\": 23}, {\"cast_id\": 44, \"character\": \"Suit #2\", \"credit_id\": \"52fe48009251416c750aca8b\", \"gender\": 2, \"id\": 169676, \"name\": \"Jon Curry\", \"order\": 24}, {\"cast_id\": 46, \"character\": \"Ambient Room Tech\", \"credit_id\": \"52fe48009251416c750aca8f\", \"gender\": 0, \"id\": 1048610, \"name\": \"Luke Hawker\", \"order\": 25}, {\"cast_id\": 47, \"character\": \"Ambient Room Tech / Troupe\", \"credit_id\": \"52fe48009251416c750aca93\", \"gender\": 0, \"id\": 42288, \"name\": \"Woody Schultz\", \"order\": 26}, {\"cast_id\": 48, \"character\": \"Horse Clan Leader\", \"credit_id\": \"52fe48009251416c750aca97\", \"gender\": 2, \"id\": 68278, \"name\": \"Peter Mensah\", \"order\": 27}, {\"cast_id\": 49, \"character\": \"Link Room Tech\", \"credit_id\": \"52fe48009251416c750aca9b\", \"gender\": 0, \"id\": 1207247, \"name\": \"Sonia Yee\", \"order\": 28}, {\"cast_id\": 50, \"character\": \"Basketball Avatar / Troupe\", \"credit_id\": \"52fe48009251416c750aca9f\", \"gender\": 1, \"id\": 1207248, \"name\": \"Jahnel Curfman\", \"order\": 29}, {\"cast_id\": 51, \"character\": \"Basketball Avatar\", \"credit_id\": \"52fe48009251416c750acaa3\", \"gender\": 0, \"id\": 89714, \"name\": \"Ilram Choi\", \"order\": 30}, {\"cast_id\": 52, \"character\": \"Na\\'vi Child\", \"credit_id\": \"52fe48009251416c750acaa7\", \"gender\": 0, \"id\": 1207249, \"name\": \"Kyla Warren\", \"order\": 31}, {\"cast_id\": 53, \"character\": \"Troupe\", \"credit_id\": \"52fe48009251416c750acaab\", \"gender\": 0, \"id\": 1207250, \"name\": \"Lisa Roumain\", \"order\": 32}, {\"cast_id\": 54, \"character\": \"Troupe\", \"credit_id\": \"52fe48009251416c750acaaf\", \"gender\": 1, \"id\": 83105, \"name\": \"Debra Wilson\", \"order\": 33}, {\"cast_id\": 57, \"character\": \"Troupe\", \"credit_id\": \"52fe48009251416c750acabb\", \"gender\": 0, \"id\": 1207253, \"name\": \"Chris Mala\", \"order\": 34}, {\"cast_id\": 55, \"character\": \"Troupe\", \"credit_id\": \"52fe48009251416c750acab3\", \"gender\": 0, \"id\": 1207251, \"name\": \"Taylor Kibby\", \"order\": 35}, {\"cast_id\": 56, \"character\": \"Troupe\", \"credit_id\": \"52fe48009251416c750acab7\", \"gender\": 0, \"id\": 1207252, \"name\": \"Jodie Landau\", \"order\": 36}, {\"cast_id\": 58, \"character\": \"Troupe\", \"credit_id\": \"52fe48009251416c750acabf\", \"gender\": 0, \"id\": 1207254, \"name\": \"Julie Lamm\", \"order\": 37}, {\"cast_id\": 59, \"character\": \"Troupe\", \"credit_id\": \"52fe48009251416c750acac3\", \"gender\": 0, \"id\": 1207257, \"name\": \"Cullen B. Madden\", \"order\": 38}, {\"cast_id\": 60, \"character\": \"Troupe\", \"credit_id\": \"52fe48009251416c750acac7\", \"gender\": 0, \"id\": 1207259, \"name\": \"Joseph Brady Madden\", \"order\": 39}, {\"cast_id\": 61, \"character\": \"Troupe\", \"credit_id\": \"52fe48009251416c750acacb\", \"gender\": 0, \"id\": 1207262, \"name\": \"Frankie Torres\", \"order\": 40}, {\"cast_id\": 62, \"character\": \"Troupe\", \"credit_id\": \"52fe48009251416c750acacf\", \"gender\": 1, \"id\": 1158600, \"name\": \"Austin Wilson\", \"order\": 41}, {\"cast_id\": 63, \"character\": \"Troupe\", \"credit_id\": \"52fe48019251416c750acad3\", \"gender\": 1, \"id\": 983705, \"name\": \"Sara Wilson\", \"order\": 42}, {\"cast_id\": 64, \"character\": \"Troupe\", \"credit_id\": \"52fe48019251416c750acad7\", \"gender\": 0, \"id\": 1207263, \"name\": \"Tamica Washington-Miller\", \"order\": 43}, {\"cast_id\": 65, \"character\": \"Op Center Staff\", \"credit_id\": \"52fe48019251416c750acadb\", \"gender\": 1, \"id\": 1145098, \"name\": \"Lucy Briant\", \"order\": 44}, {\"cast_id\": 66, \"character\": \"Op Center Staff\", \"credit_id\": \"52fe48019251416c750acadf\", \"gender\": 2, \"id\": 33305, \"name\": \"Nathan Meister\", \"order\": 45}, {\"cast_id\": 67, \"character\": \"Op Center Staff\", \"credit_id\": \"52fe48019251416c750acae3\", \"gender\": 0, \"id\": 1207264, \"name\": \"Gerry Blair\", \"order\": 46}, {\"cast_id\": 68, \"character\": \"Op Center Staff\", \"credit_id\": \"52fe48019251416c750acae7\", \"gender\": 2, \"id\": 33311, \"name\": \"Matthew Chamberlain\", \"order\": 47}, {\"cast_id\": 69, \"character\": \"Op Center Staff\", \"credit_id\": \"52fe48019251416c750acaeb\", \"gender\": 0, \"id\": 1207265, \"name\": \"Paul Yates\", \"order\": 48}, {\"cast_id\": 70, \"character\": \"Op Center Duty Officer\", \"credit_id\": \"52fe48019251416c750acaef\", \"gender\": 0, \"id\": 1207266, \"name\": \"Wray Wilson\", \"order\": 49}, {\"cast_id\": 71, \"character\": \"Op Center Staff\", \"credit_id\": \"52fe48019251416c750acaf3\", \"gender\": 2, \"id\": 54492, \"name\": \"James Gaylyn\", \"order\": 50}, {\"cast_id\": 72, \"character\": \"Dancer\", \"credit_id\": \"52fe48019251416c750acaf7\", \"gender\": 0, \"id\": 1207267, \"name\": \"Melvin Leno Clark III\", \"order\": 51}, {\"cast_id\": 73, \"character\": \"Dancer\", \"credit_id\": \"52fe48019251416c750acafb\", \"gender\": 0, \"id\": 1207268, \"name\": \"Carvon Futrell\", \"order\": 52}, {\"cast_id\": 74, \"character\": \"Dancer\", \"credit_id\": \"52fe48019251416c750acaff\", \"gender\": 0, \"id\": 1207269, \"name\": \"Brandon Jelkes\", \"order\": 53}, {\"cast_id\": 75, \"character\": \"Dancer\", \"credit_id\": \"52fe48019251416c750acb03\", \"gender\": 0, \"id\": 1207270, \"name\": \"Micah Moch\", \"order\": 54}, {\"cast_id\": 76, \"character\": \"Dancer\", \"credit_id\": \"52fe48019251416c750acb07\", \"gender\": 0, \"id\": 1207271, \"name\": \"Hanniyah Muhammad\", \"order\": 55}, {\"cast_id\": 77, \"character\": \"Dancer\", \"credit_id\": \"52fe48019251416c750acb0b\", \"gender\": 0, \"id\": 1207272, \"name\": \"Christopher Nolen\", \"order\": 56}, {\"cast_id\": 78, \"character\": \"Dancer\", \"credit_id\": \"52fe48019251416c750acb0f\", \"gender\": 0, \"id\": 1207273, \"name\": \"Christa Oliver\", \"order\": 57}, {\"cast_id\": 79, \"character\": \"Dancer\", \"credit_id\": \"52fe48019251416c750acb13\", \"gender\": 0, \"id\": 1207274, \"name\": \"April Marie Thomas\", \"order\": 58}, {\"cast_id\": 80, \"character\": \"Dancer\", \"credit_id\": \"52fe48019251416c750acb17\", \"gender\": 0, \"id\": 1207275, \"name\": \"Bravita A. Threatt\", \"order\": 59}, {\"cast_id\": 81, \"character\": \"Mining Chief (uncredited)\", \"credit_id\": \"52fe48019251416c750acb1b\", \"gender\": 0, \"id\": 1207276, \"name\": \"Colin Bleasdale\", \"order\": 60}, {\"cast_id\": 82, \"character\": \"Veteran Miner (uncredited)\", \"credit_id\": \"52fe48019251416c750acb1f\", \"gender\": 0, \"id\": 107969, \"name\": \"Mike Bodnar\", \"order\": 61}, {\"cast_id\": 83, \"character\": \"Richard (uncredited)\", \"credit_id\": \"52fe48019251416c750acb23\", \"gender\": 0, \"id\": 1207278, \"name\": \"Matt Clayton\", \"order\": 62}, {\"cast_id\": 84, \"character\": \"Nav\\'i (uncredited)\", \"credit_id\": \"52fe48019251416c750acb27\", \"gender\": 1, \"id\": 147898, \"name\": \"Nicole Dionne\", \"order\": 63}, {\"cast_id\": 85, \"character\": \"Trooper (uncredited)\", \"credit_id\": \"52fe48019251416c750acb2b\", \"gender\": 0, \"id\": 1207280, \"name\": \"Jamie Harrison\", \"order\": 64}, {\"cast_id\": 86, \"character\": \"Trooper (uncredited)\", \"credit_id\": \"52fe48019251416c750acb2f\", \"gender\": 0, \"id\": 1207281, \"name\": \"Allan Henry\", \"order\": 65}, {\"cast_id\": 87, \"character\": \"Ground Technician (uncredited)\", \"credit_id\": \"52fe48019251416c750acb33\", \"gender\": 2, \"id\": 1207282, \"name\": \"Anthony Ingruber\", \"order\": 66}, {\"cast_id\": 88, \"character\": \"Flight Crew Mechanic (uncredited)\", \"credit_id\": \"52fe48019251416c750acb37\", \"gender\": 0, \"id\": 1207283, \"name\": \"Ashley Jeffery\", \"order\": 67}, {\"cast_id\": 14, \"character\": \"Samson Pilot\", \"credit_id\": \"52fe48009251416c750ac9f9\", \"gender\": 0, \"id\": 98216, \"name\": \"Dean Knowsley\", \"order\": 68}, {\"cast_id\": 89, \"character\": \"Trooper (uncredited)\", \"credit_id\": \"52fe48019251416c750acb3b\", \"gender\": 0, \"id\": 1201399, \"name\": \"Joseph Mika-Hunt\", \"order\": 69}, {\"cast_id\": 90, \"character\": \"Banshee (uncredited)\", \"credit_id\": \"52fe48019251416c750acb3f\", \"gender\": 0, \"id\": 236696, \"name\": \"Terry Notary\", \"order\": 70}, {\"cast_id\": 91, \"character\": \"Soldier (uncredited)\", \"credit_id\": \"52fe48019251416c750acb43\", \"gender\": 0, \"id\": 1207287, \"name\": \"Kai Pantano\", \"order\": 71}, {\"cast_id\": 92, \"character\": \"Blast Technician (uncredited)\", \"credit_id\": \"52fe48019251416c750acb47\", \"gender\": 0, \"id\": 1207288, \"name\": \"Logan Pithyou\", \"order\": 72}, {\"cast_id\": 93, \"character\": \"Vindum Raah (uncredited)\", \"credit_id\": \"52fe48019251416c750acb4b\", \"gender\": 0, \"id\": 1207289, \"name\": \"Stuart Pollock\", \"order\": 73}, {\"cast_id\": 94, \"character\": \"Hero (uncredited)\", \"credit_id\": \"52fe48019251416c750acb4f\", \"gender\": 0, \"id\": 584868, \"name\": \"Raja\", \"order\": 74}, {\"cast_id\": 95, \"character\": \"Ops Centreworker (uncredited)\", \"credit_id\": \"52fe48019251416c750acb53\", \"gender\": 0, \"id\": 1207290, \"name\": \"Gareth Ruck\", \"order\": 75}, {\"cast_id\": 96, \"character\": \"Engineer (uncredited)\", \"credit_id\": \"52fe48019251416c750acb57\", \"gender\": 0, \"id\": 1062463, \"name\": \"Rhian Sheehan\", \"order\": 76}, {\"cast_id\": 97, \"character\": \"Col. Quaritch\\'s Mech Suit (uncredited)\", \"credit_id\": \"52fe48019251416c750acb5b\", \"gender\": 0, \"id\": 60656, \"name\": \"T. J. Storm\", \"order\": 77}, {\"cast_id\": 98, \"character\": \"Female Marine (uncredited)\", \"credit_id\": \"52fe48019251416c750acb5f\", \"gender\": 0, \"id\": 1207291, \"name\": \"Jodie Taylor\", \"order\": 78}, {\"cast_id\": 99, \"character\": \"Ikran Clan Leader (uncredited)\", \"credit_id\": \"52fe48019251416c750acb63\", \"gender\": 1, \"id\": 1186027, \"name\": \"Alicia Vela-Bailey\", \"order\": 79}, {\"cast_id\": 100, \"character\": \"Geologist (uncredited)\", \"credit_id\": \"52fe48019251416c750acb67\", \"gender\": 0, \"id\": 1207292, \"name\": \"Richard Whiteside\", \"order\": 80}, {\"cast_id\": 101, \"character\": \"Na\\'vi (uncredited)\", \"credit_id\": \"52fe48019251416c750acb6b\", \"gender\": 0, \"id\": 103259, \"name\": \"Nikie Zambo\", \"order\": 81}, {\"cast_id\": 102, \"character\": \"Ambient Room Tech / Troupe\", \"credit_id\": \"52fe48019251416c750acb6f\", \"gender\": 1, \"id\": 42286, \"name\": \"Julene Renee\", \"order\": 82}]'"
      ]
     },
     "execution_count": 20,
     "metadata": {},
     "output_type": "execute_result"
    }
   ],
   "source": [
    "movies['cast'][0]"
   ]
  },
  {
   "cell_type": "code",
   "execution_count": 21,
   "id": "70c683f9-0e23-4126-9873-8de7827f0c88",
   "metadata": {
    "id": "70c683f9-0e23-4126-9873-8de7827f0c88"
   },
   "outputs": [],
   "source": [
    "def convert3(obj):\n",
    "    L = []\n",
    "    counter = 0\n",
    "    for i in ast.literal_eval(obj):\n",
    "        if counter != 3:\n",
    "            L.append(i['name'])\n",
    "            counter+=1\n",
    "        else:\n",
    "            break\n",
    "    return L"
   ]
  },
  {
   "cell_type": "code",
   "execution_count": 22,
   "id": "5a52fe85-8905-4e6a-86f5-082ca6da073f",
   "metadata": {
    "id": "5a52fe85-8905-4e6a-86f5-082ca6da073f"
   },
   "outputs": [],
   "source": [
    "movies['cast'] = movies['cast'].apply(convert3)"
   ]
  },
  {
   "cell_type": "code",
   "execution_count": 23,
   "id": "8c509adf-d8f8-4423-9523-baec5c8ba7a6",
   "metadata": {
    "colab": {
     "base_uri": "https://localhost:8080/",
     "height": 293
    },
    "id": "8c509adf-d8f8-4423-9523-baec5c8ba7a6",
    "outputId": "f407b158-d08b-44ae-cccf-786ef2b5d9cc"
   },
   "outputs": [
    {
     "data": {
      "text/html": [
       "<div>\n",
       "<style scoped>\n",
       "    .dataframe tbody tr th:only-of-type {\n",
       "        vertical-align: middle;\n",
       "    }\n",
       "\n",
       "    .dataframe tbody tr th {\n",
       "        vertical-align: top;\n",
       "    }\n",
       "\n",
       "    .dataframe thead th {\n",
       "        text-align: right;\n",
       "    }\n",
       "</style>\n",
       "<table border=\"1\" class=\"dataframe\">\n",
       "  <thead>\n",
       "    <tr style=\"text-align: right;\">\n",
       "      <th></th>\n",
       "      <th>movie_id</th>\n",
       "      <th>title</th>\n",
       "      <th>overview</th>\n",
       "      <th>genres</th>\n",
       "      <th>keywords</th>\n",
       "      <th>vote_average</th>\n",
       "      <th>cast</th>\n",
       "      <th>crew</th>\n",
       "    </tr>\n",
       "  </thead>\n",
       "  <tbody>\n",
       "    <tr>\n",
       "      <th>0</th>\n",
       "      <td>19995</td>\n",
       "      <td>Avatar</td>\n",
       "      <td>In the 22nd century, a paraplegic Marine is di...</td>\n",
       "      <td>[Action, Adventure, Fantasy, Science Fiction]</td>\n",
       "      <td>[culture clash, future, space war, space colon...</td>\n",
       "      <td>7.2</td>\n",
       "      <td>[Sam Worthington, Zoe Saldana, Sigourney Weaver]</td>\n",
       "      <td>[{\"credit_id\": \"52fe48009251416c750aca23\", \"de...</td>\n",
       "    </tr>\n",
       "    <tr>\n",
       "      <th>1</th>\n",
       "      <td>285</td>\n",
       "      <td>Pirates of the Caribbean: At World's End</td>\n",
       "      <td>Captain Barbossa, long believed to be dead, ha...</td>\n",
       "      <td>[Adventure, Fantasy, Action]</td>\n",
       "      <td>[ocean, drug abuse, exotic island, east india ...</td>\n",
       "      <td>6.9</td>\n",
       "      <td>[Johnny Depp, Orlando Bloom, Keira Knightley]</td>\n",
       "      <td>[{\"credit_id\": \"52fe4232c3a36847f800b579\", \"de...</td>\n",
       "    </tr>\n",
       "    <tr>\n",
       "      <th>2</th>\n",
       "      <td>206647</td>\n",
       "      <td>Spectre</td>\n",
       "      <td>A cryptic message from Bond’s past sends him o...</td>\n",
       "      <td>[Action, Adventure, Crime]</td>\n",
       "      <td>[spy, based on novel, secret agent, sequel, mi...</td>\n",
       "      <td>6.3</td>\n",
       "      <td>[Daniel Craig, Christoph Waltz, Léa Seydoux]</td>\n",
       "      <td>[{\"credit_id\": \"54805967c3a36829b5002c41\", \"de...</td>\n",
       "    </tr>\n",
       "    <tr>\n",
       "      <th>3</th>\n",
       "      <td>49026</td>\n",
       "      <td>The Dark Knight Rises</td>\n",
       "      <td>Following the death of District Attorney Harve...</td>\n",
       "      <td>[Action, Crime, Drama, Thriller]</td>\n",
       "      <td>[dc comics, crime fighter, terrorist, secret i...</td>\n",
       "      <td>7.6</td>\n",
       "      <td>[Christian Bale, Michael Caine, Gary Oldman]</td>\n",
       "      <td>[{\"credit_id\": \"52fe4781c3a36847f81398c3\", \"de...</td>\n",
       "    </tr>\n",
       "    <tr>\n",
       "      <th>4</th>\n",
       "      <td>49529</td>\n",
       "      <td>John Carter</td>\n",
       "      <td>John Carter is a war-weary, former military ca...</td>\n",
       "      <td>[Action, Adventure, Science Fiction]</td>\n",
       "      <td>[based on novel, mars, medallion, space travel...</td>\n",
       "      <td>6.1</td>\n",
       "      <td>[Taylor Kitsch, Lynn Collins, Samantha Morton]</td>\n",
       "      <td>[{\"credit_id\": \"52fe479ac3a36847f813eaa3\", \"de...</td>\n",
       "    </tr>\n",
       "  </tbody>\n",
       "</table>\n",
       "</div>"
      ],
      "text/plain": [
       "   movie_id                                     title  \\\n",
       "0     19995                                    Avatar   \n",
       "1       285  Pirates of the Caribbean: At World's End   \n",
       "2    206647                                   Spectre   \n",
       "3     49026                     The Dark Knight Rises   \n",
       "4     49529                               John Carter   \n",
       "\n",
       "                                            overview  \\\n",
       "0  In the 22nd century, a paraplegic Marine is di...   \n",
       "1  Captain Barbossa, long believed to be dead, ha...   \n",
       "2  A cryptic message from Bond’s past sends him o...   \n",
       "3  Following the death of District Attorney Harve...   \n",
       "4  John Carter is a war-weary, former military ca...   \n",
       "\n",
       "                                          genres  \\\n",
       "0  [Action, Adventure, Fantasy, Science Fiction]   \n",
       "1                   [Adventure, Fantasy, Action]   \n",
       "2                     [Action, Adventure, Crime]   \n",
       "3               [Action, Crime, Drama, Thriller]   \n",
       "4           [Action, Adventure, Science Fiction]   \n",
       "\n",
       "                                            keywords  vote_average  \\\n",
       "0  [culture clash, future, space war, space colon...           7.2   \n",
       "1  [ocean, drug abuse, exotic island, east india ...           6.9   \n",
       "2  [spy, based on novel, secret agent, sequel, mi...           6.3   \n",
       "3  [dc comics, crime fighter, terrorist, secret i...           7.6   \n",
       "4  [based on novel, mars, medallion, space travel...           6.1   \n",
       "\n",
       "                                               cast  \\\n",
       "0  [Sam Worthington, Zoe Saldana, Sigourney Weaver]   \n",
       "1     [Johnny Depp, Orlando Bloom, Keira Knightley]   \n",
       "2      [Daniel Craig, Christoph Waltz, Léa Seydoux]   \n",
       "3      [Christian Bale, Michael Caine, Gary Oldman]   \n",
       "4    [Taylor Kitsch, Lynn Collins, Samantha Morton]   \n",
       "\n",
       "                                                crew  \n",
       "0  [{\"credit_id\": \"52fe48009251416c750aca23\", \"de...  \n",
       "1  [{\"credit_id\": \"52fe4232c3a36847f800b579\", \"de...  \n",
       "2  [{\"credit_id\": \"54805967c3a36829b5002c41\", \"de...  \n",
       "3  [{\"credit_id\": \"52fe4781c3a36847f81398c3\", \"de...  \n",
       "4  [{\"credit_id\": \"52fe479ac3a36847f813eaa3\", \"de...  "
      ]
     },
     "execution_count": 23,
     "metadata": {},
     "output_type": "execute_result"
    }
   ],
   "source": [
    "movies.head()"
   ]
  },
  {
   "cell_type": "code",
   "execution_count": 24,
   "id": "ef5334e1-1abf-4e7c-9702-3bc508134532",
   "metadata": {
    "colab": {
     "base_uri": "https://localhost:8080/",
     "height": 105
    },
    "id": "ef5334e1-1abf-4e7c-9702-3bc508134532",
    "outputId": "966bfbc8-ea55-401a-8190-9de9ba981814"
   },
   "outputs": [
    {
     "data": {
      "text/plain": [
       "'[{\"credit_id\": \"52fe48009251416c750aca23\", \"department\": \"Editing\", \"gender\": 0, \"id\": 1721, \"job\": \"Editor\", \"name\": \"Stephen E. Rivkin\"}, {\"credit_id\": \"539c47ecc3a36810e3001f87\", \"department\": \"Art\", \"gender\": 2, \"id\": 496, \"job\": \"Production Design\", \"name\": \"Rick Carter\"}, {\"credit_id\": \"54491c89c3a3680fb4001cf7\", \"department\": \"Sound\", \"gender\": 0, \"id\": 900, \"job\": \"Sound Designer\", \"name\": \"Christopher Boyes\"}, {\"credit_id\": \"54491cb70e0a267480001bd0\", \"department\": \"Sound\", \"gender\": 0, \"id\": 900, \"job\": \"Supervising Sound Editor\", \"name\": \"Christopher Boyes\"}, {\"credit_id\": \"539c4a4cc3a36810c9002101\", \"department\": \"Production\", \"gender\": 1, \"id\": 1262, \"job\": \"Casting\", \"name\": \"Mali Finn\"}, {\"credit_id\": \"5544ee3b925141499f0008fc\", \"department\": \"Sound\", \"gender\": 2, \"id\": 1729, \"job\": \"Original Music Composer\", \"name\": \"James Horner\"}, {\"credit_id\": \"52fe48009251416c750ac9c3\", \"department\": \"Directing\", \"gender\": 2, \"id\": 2710, \"job\": \"Director\", \"name\": \"James Cameron\"}, {\"credit_id\": \"52fe48009251416c750ac9d9\", \"department\": \"Writing\", \"gender\": 2, \"id\": 2710, \"job\": \"Writer\", \"name\": \"James Cameron\"}, {\"credit_id\": \"52fe48009251416c750aca17\", \"department\": \"Editing\", \"gender\": 2, \"id\": 2710, \"job\": \"Editor\", \"name\": \"James Cameron\"}, {\"credit_id\": \"52fe48009251416c750aca29\", \"department\": \"Production\", \"gender\": 2, \"id\": 2710, \"job\": \"Producer\", \"name\": \"James Cameron\"}, {\"credit_id\": \"52fe48009251416c750aca3f\", \"department\": \"Writing\", \"gender\": 2, \"id\": 2710, \"job\": \"Screenplay\", \"name\": \"James Cameron\"}, {\"credit_id\": \"539c4987c3a36810ba0021a4\", \"department\": \"Art\", \"gender\": 2, \"id\": 7236, \"job\": \"Art Direction\", \"name\": \"Andrew Menzies\"}, {\"credit_id\": \"549598c3c3a3686ae9004383\", \"department\": \"Visual Effects\", \"gender\": 0, \"id\": 6690, \"job\": \"Visual Effects Producer\", \"name\": \"Jill Brooks\"}, {\"credit_id\": \"52fe48009251416c750aca4b\", \"department\": \"Production\", \"gender\": 1, \"id\": 6347, \"job\": \"Casting\", \"name\": \"Margery Simkin\"}, {\"credit_id\": \"570b6f419251417da70032fe\", \"department\": \"Art\", \"gender\": 2, \"id\": 6878, \"job\": \"Supervising Art Director\", \"name\": \"Kevin Ishioka\"}, {\"credit_id\": \"5495a0fac3a3686ae9004468\", \"department\": \"Sound\", \"gender\": 0, \"id\": 6883, \"job\": \"Music Editor\", \"name\": \"Dick Bernstein\"}, {\"credit_id\": \"54959706c3a3686af3003e81\", \"department\": \"Sound\", \"gender\": 0, \"id\": 8159, \"job\": \"Sound Effects Editor\", \"name\": \"Shannon Mills\"}, {\"credit_id\": \"54491d58c3a3680fb1001ccb\", \"department\": \"Sound\", \"gender\": 0, \"id\": 8160, \"job\": \"Foley\", \"name\": \"Dennie Thorpe\"}, {\"credit_id\": \"54491d6cc3a3680fa5001b2c\", \"department\": \"Sound\", \"gender\": 0, \"id\": 8163, \"job\": \"Foley\", \"name\": \"Jana Vance\"}, {\"credit_id\": \"52fe48009251416c750aca57\", \"department\": \"Costume & Make-Up\", \"gender\": 1, \"id\": 8527, \"job\": \"Costume Design\", \"name\": \"Deborah Lynn Scott\"}, {\"credit_id\": \"52fe48009251416c750aca2f\", \"department\": \"Production\", \"gender\": 2, \"id\": 8529, \"job\": \"Producer\", \"name\": \"Jon Landau\"}, {\"credit_id\": \"539c4937c3a36810ba002194\", \"department\": \"Art\", \"gender\": 0, \"id\": 9618, \"job\": \"Art Direction\", \"name\": \"Sean Haworth\"}, {\"credit_id\": \"539c49b6c3a36810c10020e6\", \"department\": \"Art\", \"gender\": 1, \"id\": 12653, \"job\": \"Set Decoration\", \"name\": \"Kim Sinclair\"}, {\"credit_id\": \"570b6f2f9251413a0e00020d\", \"department\": \"Art\", \"gender\": 1, \"id\": 12653, \"job\": \"Supervising Art Director\", \"name\": \"Kim Sinclair\"}, {\"credit_id\": \"54491a6c0e0a26748c001b19\", \"department\": \"Art\", \"gender\": 2, \"id\": 14350, \"job\": \"Set Designer\", \"name\": \"Richard F. Mays\"}, {\"credit_id\": \"56928cf4c3a3684cff0025c4\", \"department\": \"Production\", \"gender\": 1, \"id\": 20294, \"job\": \"Executive Producer\", \"name\": \"Laeta Kalogridis\"}, {\"credit_id\": \"52fe48009251416c750aca51\", \"department\": \"Costume & Make-Up\", \"gender\": 0, \"id\": 17675, \"job\": \"Costume Design\", \"name\": \"Mayes C. Rubeo\"}, {\"credit_id\": \"52fe48009251416c750aca11\", \"department\": \"Camera\", \"gender\": 2, \"id\": 18265, \"job\": \"Director of Photography\", \"name\": \"Mauro Fiore\"}, {\"credit_id\": \"5449194d0e0a26748f001b39\", \"department\": \"Art\", \"gender\": 0, \"id\": 42281, \"job\": \"Set Designer\", \"name\": \"Scott Herbertson\"}, {\"credit_id\": \"52fe48009251416c750aca05\", \"department\": \"Crew\", \"gender\": 0, \"id\": 42288, \"job\": \"Stunts\", \"name\": \"Woody Schultz\"}, {\"credit_id\": \"5592aefb92514152de0010f5\", \"department\": \"Costume & Make-Up\", \"gender\": 0, \"id\": 29067, \"job\": \"Makeup Artist\", \"name\": \"Linda DeVetta\"}, {\"credit_id\": \"5592afa492514152de00112c\", \"department\": \"Costume & Make-Up\", \"gender\": 0, \"id\": 29067, \"job\": \"Hairstylist\", \"name\": \"Linda DeVetta\"}, {\"credit_id\": \"54959ed592514130fc002e5d\", \"department\": \"Camera\", \"gender\": 2, \"id\": 33302, \"job\": \"Camera Operator\", \"name\": \"Richard Bluck\"}, {\"credit_id\": \"539c4891c3a36810ba002147\", \"department\": \"Art\", \"gender\": 2, \"id\": 33303, \"job\": \"Art Direction\", \"name\": \"Simon Bright\"}, {\"credit_id\": \"54959c069251417a81001f3a\", \"department\": \"Visual Effects\", \"gender\": 0, \"id\": 113145, \"job\": \"Visual Effects Supervisor\", \"name\": \"Richard Martin\"}, {\"credit_id\": \"54959a0dc3a3680ff5002c8d\", \"department\": \"Crew\", \"gender\": 2, \"id\": 58188, \"job\": \"Visual Effects Editor\", \"name\": \"Steve R. Moore\"}, {\"credit_id\": \"52fe48009251416c750aca1d\", \"department\": \"Editing\", \"gender\": 2, \"id\": 58871, \"job\": \"Editor\", \"name\": \"John Refoua\"}, {\"credit_id\": \"54491a4dc3a3680fc30018ca\", \"department\": \"Art\", \"gender\": 0, \"id\": 92359, \"job\": \"Set Designer\", \"name\": \"Karl J. Martin\"}, {\"credit_id\": \"52fe48009251416c750aca35\", \"department\": \"Camera\", \"gender\": 1, \"id\": 72201, \"job\": \"Director of Photography\", \"name\": \"Chiling Lin\"}, {\"credit_id\": \"52fe48009251416c750ac9ff\", \"department\": \"Crew\", \"gender\": 0, \"id\": 89714, \"job\": \"Stunts\", \"name\": \"Ilram Choi\"}, {\"credit_id\": \"54959c529251416e2b004394\", \"department\": \"Visual Effects\", \"gender\": 2, \"id\": 93214, \"job\": \"Visual Effects Supervisor\", \"name\": \"Steven Quale\"}, {\"credit_id\": \"54491edf0e0a267489001c37\", \"department\": \"Crew\", \"gender\": 1, \"id\": 122607, \"job\": \"Dialect Coach\", \"name\": \"Carla Meyer\"}, {\"credit_id\": \"539c485bc3a368653d001a3a\", \"department\": \"Art\", \"gender\": 2, \"id\": 132585, \"job\": \"Art Direction\", \"name\": \"Nick Bassett\"}, {\"credit_id\": \"539c4903c3a368653d001a74\", \"department\": \"Art\", \"gender\": 0, \"id\": 132596, \"job\": \"Art Direction\", \"name\": \"Jill Cormack\"}, {\"credit_id\": \"539c4967c3a368653d001a94\", \"department\": \"Art\", \"gender\": 0, \"id\": 132604, \"job\": \"Art Direction\", \"name\": \"Andy McLaren\"}, {\"credit_id\": \"52fe48009251416c750aca45\", \"department\": \"Crew\", \"gender\": 0, \"id\": 236696, \"job\": \"Motion Capture Artist\", \"name\": \"Terry Notary\"}, {\"credit_id\": \"54959e02c3a3680fc60027d2\", \"department\": \"Crew\", \"gender\": 2, \"id\": 956198, \"job\": \"Stunt Coordinator\", \"name\": \"Garrett Warren\"}, {\"credit_id\": \"54959ca3c3a3686ae300438c\", \"department\": \"Visual Effects\", \"gender\": 2, \"id\": 957874, \"job\": \"Visual Effects Supervisor\", \"name\": \"Jonathan Rothbart\"}, {\"credit_id\": \"570b6f519251412c74001b2f\", \"department\": \"Art\", \"gender\": 0, \"id\": 957889, \"job\": \"Supervising Art Director\", \"name\": \"Stefan Dechant\"}, {\"credit_id\": \"570b6f62c3a3680b77007460\", \"department\": \"Art\", \"gender\": 2, \"id\": 959555, \"job\": \"Supervising Art Director\", \"name\": \"Todd Cherniawsky\"}, {\"credit_id\": \"539c4a3ac3a36810da0021cc\", \"department\": \"Production\", \"gender\": 0, \"id\": 1016177, \"job\": \"Casting\", \"name\": \"Miranda Rivers\"}, {\"credit_id\": \"539c482cc3a36810c1002062\", \"department\": \"Art\", \"gender\": 0, \"id\": 1032536, \"job\": \"Production Design\", \"name\": \"Robert Stromberg\"}, {\"credit_id\": \"539c4b65c3a36810c9002125\", \"department\": \"Costume & Make-Up\", \"gender\": 2, \"id\": 1071680, \"job\": \"Costume Design\", \"name\": \"John Harding\"}, {\"credit_id\": \"54959e6692514130fc002e4e\", \"department\": \"Camera\", \"gender\": 0, \"id\": 1177364, \"job\": \"Steadicam Operator\", \"name\": \"Roberto De Angelis\"}, {\"credit_id\": \"539c49f1c3a368653d001aac\", \"department\": \"Costume & Make-Up\", \"gender\": 2, \"id\": 1202850, \"job\": \"Makeup Department Head\", \"name\": \"Mike Smithson\"}, {\"credit_id\": \"5495999ec3a3686ae100460c\", \"department\": \"Visual Effects\", \"gender\": 0, \"id\": 1204668, \"job\": \"Visual Effects Producer\", \"name\": \"Alain Lalanne\"}, {\"credit_id\": \"54959cdfc3a3681153002729\", \"department\": \"Visual Effects\", \"gender\": 0, \"id\": 1206410, \"job\": \"Visual Effects Supervisor\", \"name\": \"Lucas Salton\"}, {\"credit_id\": \"549596239251417a81001eae\", \"department\": \"Crew\", \"gender\": 0, \"id\": 1234266, \"job\": \"Post Production Supervisor\", \"name\": \"Janace Tashjian\"}, {\"credit_id\": \"54959c859251416e1e003efe\", \"department\": \"Visual Effects\", \"gender\": 0, \"id\": 1271932, \"job\": \"Visual Effects Supervisor\", \"name\": \"Stephen Rosenbaum\"}, {\"credit_id\": \"5592af28c3a368775a00105f\", \"department\": \"Costume & Make-Up\", \"gender\": 0, \"id\": 1310064, \"job\": \"Makeup Artist\", \"name\": \"Frankie Karena\"}, {\"credit_id\": \"539c4adfc3a36810e300203b\", \"department\": \"Costume & Make-Up\", \"gender\": 1, \"id\": 1319844, \"job\": \"Costume Supervisor\", \"name\": \"Lisa Lovaas\"}, {\"credit_id\": \"54959b579251416e2b004371\", \"department\": \"Visual Effects\", \"gender\": 0, \"id\": 1327028, \"job\": \"Visual Effects Supervisor\", \"name\": \"Jonathan Fawkner\"}, {\"credit_id\": \"539c48a7c3a36810b5001fa7\", \"department\": \"Art\", \"gender\": 0, \"id\": 1330561, \"job\": \"Art Direction\", \"name\": \"Robert Bavin\"}, {\"credit_id\": \"539c4a71c3a36810da0021e0\", \"department\": \"Costume & Make-Up\", \"gender\": 0, \"id\": 1330567, \"job\": \"Costume Supervisor\", \"name\": \"Anthony Almaraz\"}, {\"credit_id\": \"539c4a8ac3a36810ba0021e4\", \"department\": \"Costume & Make-Up\", \"gender\": 0, \"id\": 1330570, \"job\": \"Costume Supervisor\", \"name\": \"Carolyn M. Fenton\"}, {\"credit_id\": \"539c4ab6c3a36810da0021f0\", \"department\": \"Costume & Make-Up\", \"gender\": 0, \"id\": 1330574, \"job\": \"Costume Supervisor\", \"name\": \"Beth Koenigsberg\"}, {\"credit_id\": \"54491ab70e0a267480001ba2\", \"department\": \"Art\", \"gender\": 0, \"id\": 1336191, \"job\": \"Set Designer\", \"name\": \"Sam Page\"}, {\"credit_id\": \"544919d9c3a3680fc30018bd\", \"department\": \"Art\", \"gender\": 0, \"id\": 1339441, \"job\": \"Set Designer\", \"name\": \"Tex Kadonaga\"}, {\"credit_id\": \"54491cf50e0a267483001b0c\", \"department\": \"Editing\", \"gender\": 0, \"id\": 1352422, \"job\": \"Dialogue Editor\", \"name\": \"Kim Foscato\"}, {\"credit_id\": \"544919f40e0a26748c001b09\", \"department\": \"Art\", \"gender\": 0, \"id\": 1352962, \"job\": \"Set Designer\", \"name\": \"Tammy S. Lee\"}, {\"credit_id\": \"5495a115c3a3680ff5002d71\", \"department\": \"Crew\", \"gender\": 0, \"id\": 1357070, \"job\": \"Transportation Coordinator\", \"name\": \"Denny Caira\"}, {\"credit_id\": \"5495a12f92514130fc002e94\", \"department\": \"Crew\", \"gender\": 0, \"id\": 1357071, \"job\": \"Transportation Coordinator\", \"name\": \"James Waitkus\"}, {\"credit_id\": \"5495976fc3a36811530026b0\", \"department\": \"Sound\", \"gender\": 0, \"id\": 1360103, \"job\": \"Supervising Sound Editor\", \"name\": \"Addison Teague\"}, {\"credit_id\": \"54491837c3a3680fb1001c5a\", \"department\": \"Art\", \"gender\": 2, \"id\": 1376887, \"job\": \"Set Designer\", \"name\": \"C. Scott Baker\"}, {\"credit_id\": \"54491878c3a3680fb4001c9d\", \"department\": \"Art\", \"gender\": 0, \"id\": 1376888, \"job\": \"Set Designer\", \"name\": \"Luke Caska\"}, {\"credit_id\": \"544918dac3a3680fa5001ae0\", \"department\": \"Art\", \"gender\": 0, \"id\": 1376889, \"job\": \"Set Designer\", \"name\": \"David Chow\"}, {\"credit_id\": \"544919110e0a267486001b68\", \"department\": \"Art\", \"gender\": 0, \"id\": 1376890, \"job\": \"Set Designer\", \"name\": \"Jonathan Dyer\"}, {\"credit_id\": \"54491967c3a3680faa001b5e\", \"department\": \"Art\", \"gender\": 0, \"id\": 1376891, \"job\": \"Set Designer\", \"name\": \"Joseph Hiura\"}, {\"credit_id\": \"54491997c3a3680fb1001c8a\", \"department\": \"Art\", \"gender\": 0, \"id\": 1376892, \"job\": \"Art Department Coordinator\", \"name\": \"Rebecca Jellie\"}, {\"credit_id\": \"544919ba0e0a26748f001b42\", \"department\": \"Art\", \"gender\": 0, \"id\": 1376893, \"job\": \"Set Designer\", \"name\": \"Robert Andrew Johnson\"}, {\"credit_id\": \"54491b1dc3a3680faa001b8c\", \"department\": \"Art\", \"gender\": 0, \"id\": 1376895, \"job\": \"Assistant Art Director\", \"name\": \"Mike Stassi\"}, {\"credit_id\": \"54491b79c3a3680fbb001826\", \"department\": \"Art\", \"gender\": 0, \"id\": 1376897, \"job\": \"Construction Coordinator\", \"name\": \"John Villarino\"}, {\"credit_id\": \"54491baec3a3680fb4001ce6\", \"department\": \"Art\", \"gender\": 2, \"id\": 1376898, \"job\": \"Assistant Art Director\", \"name\": \"Jeffrey Wisniewski\"}, {\"credit_id\": \"54491d2fc3a3680fb4001d07\", \"department\": \"Editing\", \"gender\": 0, \"id\": 1376899, \"job\": \"Dialogue Editor\", \"name\": \"Cheryl Nardi\"}, {\"credit_id\": \"54491d86c3a3680fa5001b2f\", \"department\": \"Editing\", \"gender\": 0, \"id\": 1376901, \"job\": \"Dialogue Editor\", \"name\": \"Marshall Winn\"}, {\"credit_id\": \"54491d9dc3a3680faa001bb0\", \"department\": \"Sound\", \"gender\": 0, \"id\": 1376902, \"job\": \"Supervising Sound Editor\", \"name\": \"Gwendolyn Yates Whittle\"}, {\"credit_id\": \"54491dc10e0a267486001bce\", \"department\": \"Sound\", \"gender\": 0, \"id\": 1376903, \"job\": \"Sound Re-Recording Mixer\", \"name\": \"William Stein\"}, {\"credit_id\": \"54491f500e0a26747c001c07\", \"department\": \"Crew\", \"gender\": 0, \"id\": 1376909, \"job\": \"Choreographer\", \"name\": \"Lula Washington\"}, {\"credit_id\": \"549599239251412c4e002a2e\", \"department\": \"Visual Effects\", \"gender\": 0, \"id\": 1391692, \"job\": \"Visual Effects Producer\", \"name\": \"Chris Del Conte\"}, {\"credit_id\": \"54959d54c3a36831b8001d9a\", \"department\": \"Visual Effects\", \"gender\": 2, \"id\": 1391695, \"job\": \"Visual Effects Supervisor\", \"name\": \"R. Christopher White\"}, {\"credit_id\": \"54959bdf9251412c4e002a66\", \"department\": \"Visual Effects\", \"gender\": 0, \"id\": 1394070, \"job\": \"Visual Effects Supervisor\", \"name\": \"Dan Lemmon\"}, {\"credit_id\": \"5495971d92514132ed002922\", \"department\": \"Sound\", \"gender\": 0, \"id\": 1394129, \"job\": \"Sound Effects Editor\", \"name\": \"Tim Nielsen\"}, {\"credit_id\": \"5592b25792514152cc0011aa\", \"department\": \"Crew\", \"gender\": 0, \"id\": 1394286, \"job\": \"CG Supervisor\", \"name\": \"Michael Mulholland\"}, {\"credit_id\": \"54959a329251416e2b004355\", \"department\": \"Crew\", \"gender\": 0, \"id\": 1394750, \"job\": \"Visual Effects Editor\", \"name\": \"Thomas Nittmann\"}, {\"credit_id\": \"54959d6dc3a3686ae9004401\", \"department\": \"Visual Effects\", \"gender\": 0, \"id\": 1394755, \"job\": \"Visual Effects Supervisor\", \"name\": \"Edson Williams\"}, {\"credit_id\": \"5495a08fc3a3686ae300441c\", \"department\": \"Editing\", \"gender\": 0, \"id\": 1394953, \"job\": \"Digital Intermediate\", \"name\": \"Christine Carr\"}, {\"credit_id\": \"55402d659251413d6d000249\", \"department\": \"Visual Effects\", \"gender\": 0, \"id\": 1395269, \"job\": \"Visual Effects Supervisor\", \"name\": \"John Bruno\"}, {\"credit_id\": \"54959e7b9251416e1e003f3e\", \"department\": \"Camera\", \"gender\": 0, \"id\": 1398970, \"job\": \"Steadicam Operator\", \"name\": \"David Emmerichs\"}, {\"credit_id\": \"54959734c3a3686ae10045e0\", \"department\": \"Sound\", \"gender\": 0, \"id\": 1400906, \"job\": \"Sound Effects Editor\", \"name\": \"Christopher Scarabosio\"}, {\"credit_id\": \"549595dd92514130fc002d79\", \"department\": \"Production\", \"gender\": 0, \"id\": 1401784, \"job\": \"Production Supervisor\", \"name\": \"Jennifer Teves\"}, {\"credit_id\": \"549596009251413af70028cc\", \"department\": \"Production\", \"gender\": 0, \"id\": 1401785, \"job\": \"Production Manager\", \"name\": \"Brigitte Yorke\"}, {\"credit_id\": \"549596e892514130fc002d99\", \"department\": \"Sound\", \"gender\": 0, \"id\": 1401786, \"job\": \"Sound Effects Editor\", \"name\": \"Ken Fischer\"}, {\"credit_id\": \"549598229251412c4e002a1c\", \"department\": \"Crew\", \"gender\": 0, \"id\": 1401787, \"job\": \"Special Effects Coordinator\", \"name\": \"Iain Hutton\"}, {\"credit_id\": \"549598349251416e2b00432b\", \"department\": \"Crew\", \"gender\": 0, \"id\": 1401788, \"job\": \"Special Effects Coordinator\", \"name\": \"Steve Ingram\"}, {\"credit_id\": \"54959905c3a3686ae3004324\", \"department\": \"Visual Effects\", \"gender\": 0, \"id\": 1401789, \"job\": \"Visual Effects Producer\", \"name\": \"Joyce Cox\"}, {\"credit_id\": \"5495994b92514132ed002951\", \"department\": \"Visual Effects\", \"gender\": 0, \"id\": 1401790, \"job\": \"Visual Effects Producer\", \"name\": \"Jenny Foster\"}, {\"credit_id\": \"549599cbc3a3686ae1004613\", \"department\": \"Crew\", \"gender\": 0, \"id\": 1401791, \"job\": \"Visual Effects Editor\", \"name\": \"Christopher Marino\"}, {\"credit_id\": \"549599f2c3a3686ae100461e\", \"department\": \"Crew\", \"gender\": 0, \"id\": 1401792, \"job\": \"Visual Effects Editor\", \"name\": \"Jim Milton\"}, {\"credit_id\": \"54959a51c3a3686af3003eb5\", \"department\": \"Visual Effects\", \"gender\": 0, \"id\": 1401793, \"job\": \"Visual Effects Producer\", \"name\": \"Cyndi Ochs\"}, {\"credit_id\": \"54959a7cc3a36811530026f4\", \"department\": \"Crew\", \"gender\": 0, \"id\": 1401794, \"job\": \"Visual Effects Editor\", \"name\": \"Lucas Putnam\"}, {\"credit_id\": \"54959b91c3a3680ff5002cb4\", \"department\": \"Visual Effects\", \"gender\": 0, \"id\": 1401795, \"job\": \"Visual Effects Supervisor\", \"name\": \"Anthony \\'Max\\' Ivins\"}, {\"credit_id\": \"54959bb69251412c4e002a5f\", \"department\": \"Visual Effects\", \"gender\": 0, \"id\": 1401796, \"job\": \"Visual Effects Supervisor\", \"name\": \"John Knoll\"}, {\"credit_id\": \"54959cbbc3a3686ae3004391\", \"department\": \"Visual Effects\", \"gender\": 2, \"id\": 1401799, \"job\": \"Visual Effects Supervisor\", \"name\": \"Eric Saindon\"}, {\"credit_id\": \"54959d06c3a3686ae90043f6\", \"department\": \"Visual Effects\", \"gender\": 0, \"id\": 1401800, \"job\": \"Visual Effects Supervisor\", \"name\": \"Wayne Stables\"}, {\"credit_id\": \"54959d259251416e1e003f11\", \"department\": \"Visual Effects\", \"gender\": 0, \"id\": 1401801, \"job\": \"Visual Effects Supervisor\", \"name\": \"David Stinnett\"}, {\"credit_id\": \"54959db49251413af7002975\", \"department\": \"Visual Effects\", \"gender\": 0, \"id\": 1401803, \"job\": \"Visual Effects Supervisor\", \"name\": \"Guy Williams\"}, {\"credit_id\": \"54959de4c3a3681153002750\", \"department\": \"Crew\", \"gender\": 0, \"id\": 1401804, \"job\": \"Stunt Coordinator\", \"name\": \"Stuart Thorp\"}, {\"credit_id\": \"54959ef2c3a3680fc60027f2\", \"department\": \"Lighting\", \"gender\": 0, \"id\": 1401805, \"job\": \"Best Boy Electric\", \"name\": \"Giles Coburn\"}, {\"credit_id\": \"54959f07c3a3680fc60027f9\", \"department\": \"Camera\", \"gender\": 2, \"id\": 1401806, \"job\": \"Still Photographer\", \"name\": \"Mark Fellman\"}, {\"credit_id\": \"54959f47c3a3681153002774\", \"department\": \"Lighting\", \"gender\": 0, \"id\": 1401807, \"job\": \"Lighting Technician\", \"name\": \"Scott Sprague\"}, {\"credit_id\": \"54959f8cc3a36831b8001df2\", \"department\": \"Visual Effects\", \"gender\": 0, \"id\": 1401808, \"job\": \"Animation Director\", \"name\": \"Jeremy Hollobon\"}, {\"credit_id\": \"54959fa0c3a36831b8001dfb\", \"department\": \"Visual Effects\", \"gender\": 0, \"id\": 1401809, \"job\": \"Animation Director\", \"name\": \"Orlando Meunier\"}, {\"credit_id\": \"54959fb6c3a3686af3003f54\", \"department\": \"Visual Effects\", \"gender\": 0, \"id\": 1401810, \"job\": \"Animation Director\", \"name\": \"Taisuke Tanimura\"}, {\"credit_id\": \"54959fd2c3a36831b8001e02\", \"department\": \"Costume & Make-Up\", \"gender\": 0, \"id\": 1401812, \"job\": \"Set Costumer\", \"name\": \"Lilia Mishel Acevedo\"}, {\"credit_id\": \"54959ff9c3a3686ae300440c\", \"department\": \"Costume & Make-Up\", \"gender\": 0, \"id\": 1401814, \"job\": \"Set Costumer\", \"name\": \"Alejandro M. Hernandez\"}, {\"credit_id\": \"5495a0ddc3a3686ae10046fe\", \"department\": \"Editing\", \"gender\": 0, \"id\": 1401815, \"job\": \"Digital Intermediate\", \"name\": \"Marvin Hall\"}, {\"credit_id\": \"5495a1f7c3a3686ae3004443\", \"department\": \"Production\", \"gender\": 0, \"id\": 1401816, \"job\": \"Publicist\", \"name\": \"Judy Alley\"}, {\"credit_id\": \"5592b29fc3a36869d100002f\", \"department\": \"Crew\", \"gender\": 0, \"id\": 1418381, \"job\": \"CG Supervisor\", \"name\": \"Mike Perry\"}, {\"credit_id\": \"5592b23a9251415df8001081\", \"department\": \"Crew\", \"gender\": 0, \"id\": 1426854, \"job\": \"CG Supervisor\", \"name\": \"Andrew Morley\"}, {\"credit_id\": \"55491e1192514104c40002d8\", \"department\": \"Art\", \"gender\": 0, \"id\": 1438901, \"job\": \"Conceptual Design\", \"name\": \"Seth Engstrom\"}, {\"credit_id\": \"5525d5809251417276002b06\", \"department\": \"Crew\", \"gender\": 0, \"id\": 1447362, \"job\": \"Visual Effects Art Director\", \"name\": \"Eric Oliver\"}, {\"credit_id\": \"554427ca925141586500312a\", \"department\": \"Visual Effects\", \"gender\": 0, \"id\": 1447503, \"job\": \"Modeling\", \"name\": \"Matsune Suzuki\"}, {\"credit_id\": \"551906889251415aab001c88\", \"department\": \"Art\", \"gender\": 0, \"id\": 1447524, \"job\": \"Art Department Manager\", \"name\": \"Paul Tobin\"}, {\"credit_id\": \"5592af8492514152cc0010de\", \"department\": \"Costume & Make-Up\", \"gender\": 0, \"id\": 1452643, \"job\": \"Hairstylist\", \"name\": \"Roxane Griffin\"}, {\"credit_id\": \"553d3c109251415852001318\", \"department\": \"Lighting\", \"gender\": 0, \"id\": 1453938, \"job\": \"Lighting Artist\", \"name\": \"Arun Ram-Mohan\"}, {\"credit_id\": \"5592af4692514152d5001355\", \"department\": \"Costume & Make-Up\", \"gender\": 0, \"id\": 1457305, \"job\": \"Makeup Artist\", \"name\": \"Georgia Lockhart-Adams\"}, {\"credit_id\": \"5592b2eac3a36877470012a5\", \"department\": \"Crew\", \"gender\": 0, \"id\": 1466035, \"job\": \"CG Supervisor\", \"name\": \"Thrain Shadbolt\"}, {\"credit_id\": \"5592b032c3a36877450015f1\", \"department\": \"Crew\", \"gender\": 0, \"id\": 1483220, \"job\": \"CG Supervisor\", \"name\": \"Brad Alexander\"}, {\"credit_id\": \"5592b05592514152d80012f6\", \"department\": \"Crew\", \"gender\": 0, \"id\": 1483221, \"job\": \"CG Supervisor\", \"name\": \"Shadi Almassizadeh\"}, {\"credit_id\": \"5592b090c3a36877570010b5\", \"department\": \"Crew\", \"gender\": 0, \"id\": 1483222, \"job\": \"CG Supervisor\", \"name\": \"Simon Clutterbuck\"}, {\"credit_id\": \"5592b0dbc3a368774b00112c\", \"department\": \"Crew\", \"gender\": 0, \"id\": 1483223, \"job\": \"CG Supervisor\", \"name\": \"Graeme Demmocks\"}, {\"credit_id\": \"5592b0fe92514152db0010c1\", \"department\": \"Crew\", \"gender\": 0, \"id\": 1483224, \"job\": \"CG Supervisor\", \"name\": \"Adrian Fernandes\"}, {\"credit_id\": \"5592b11f9251415df8001059\", \"department\": \"Crew\", \"gender\": 0, \"id\": 1483225, \"job\": \"CG Supervisor\", \"name\": \"Mitch Gates\"}, {\"credit_id\": \"5592b15dc3a3687745001645\", \"department\": \"Crew\", \"gender\": 0, \"id\": 1483226, \"job\": \"CG Supervisor\", \"name\": \"Jerry Kung\"}, {\"credit_id\": \"5592b18e925141645a0004ae\", \"department\": \"Crew\", \"gender\": 0, \"id\": 1483227, \"job\": \"CG Supervisor\", \"name\": \"Andy Lomas\"}, {\"credit_id\": \"5592b1bfc3a368775d0010e7\", \"department\": \"Crew\", \"gender\": 0, \"id\": 1483228, \"job\": \"CG Supervisor\", \"name\": \"Sebastian Marino\"}, {\"credit_id\": \"5592b2049251415df8001078\", \"department\": \"Crew\", \"gender\": 0, \"id\": 1483229, \"job\": \"CG Supervisor\", \"name\": \"Matthias Menz\"}, {\"credit_id\": \"5592b27b92514152d800136a\", \"department\": \"Crew\", \"gender\": 0, \"id\": 1483230, \"job\": \"CG Supervisor\", \"name\": \"Sergei Nevshupov\"}, {\"credit_id\": \"5592b2c3c3a36869e800003c\", \"department\": \"Crew\", \"gender\": 0, \"id\": 1483231, \"job\": \"CG Supervisor\", \"name\": \"Philippe Rebours\"}, {\"credit_id\": \"5592b317c3a36877470012af\", \"department\": \"Crew\", \"gender\": 0, \"id\": 1483232, \"job\": \"CG Supervisor\", \"name\": \"Michael Takarangi\"}, {\"credit_id\": \"5592b345c3a36877470012bb\", \"department\": \"Crew\", \"gender\": 0, \"id\": 1483233, \"job\": \"CG Supervisor\", \"name\": \"David Weitzberg\"}, {\"credit_id\": \"5592b37cc3a368775100113b\", \"department\": \"Crew\", \"gender\": 0, \"id\": 1483234, \"job\": \"CG Supervisor\", \"name\": \"Ben White\"}, {\"credit_id\": \"573c8e2f9251413f5d000094\", \"department\": \"Crew\", \"gender\": 1, \"id\": 1621932, \"job\": \"Stunts\", \"name\": \"Min Windle\"}]'"
      ]
     },
     "execution_count": 24,
     "metadata": {},
     "output_type": "execute_result"
    }
   ],
   "source": [
    "movies['crew'][0]"
   ]
  },
  {
   "cell_type": "code",
   "execution_count": 25,
   "id": "cafbb23a-eea1-437d-946c-7cebdeabe9ce",
   "metadata": {
    "id": "cafbb23a-eea1-437d-946c-7cebdeabe9ce"
   },
   "outputs": [],
   "source": [
    "def fetch_director(obj):\n",
    "    L = []\n",
    "    for i in ast.literal_eval(obj):\n",
    "        if i['job'] == 'Director':\n",
    "            L.append(i['name'])\n",
    "            break\n",
    "    return L"
   ]
  },
  {
   "cell_type": "code",
   "execution_count": 26,
   "id": "b32b5e75-ddd2-484a-81dc-a214d751dd6e",
   "metadata": {
    "id": "b32b5e75-ddd2-484a-81dc-a214d751dd6e"
   },
   "outputs": [],
   "source": [
    "movies['crew'] = movies['crew'].apply(fetch_director)"
   ]
  },
  {
   "cell_type": "code",
   "execution_count": 27,
   "id": "eea72d89-f064-4e5e-ad8a-771a604e9941",
   "metadata": {
    "colab": {
     "base_uri": "https://localhost:8080/",
     "height": 293
    },
    "id": "eea72d89-f064-4e5e-ad8a-771a604e9941",
    "outputId": "b3081a4a-9981-4b0a-f68c-0a3ae7dbb4f9"
   },
   "outputs": [
    {
     "data": {
      "text/html": [
       "<div>\n",
       "<style scoped>\n",
       "    .dataframe tbody tr th:only-of-type {\n",
       "        vertical-align: middle;\n",
       "    }\n",
       "\n",
       "    .dataframe tbody tr th {\n",
       "        vertical-align: top;\n",
       "    }\n",
       "\n",
       "    .dataframe thead th {\n",
       "        text-align: right;\n",
       "    }\n",
       "</style>\n",
       "<table border=\"1\" class=\"dataframe\">\n",
       "  <thead>\n",
       "    <tr style=\"text-align: right;\">\n",
       "      <th></th>\n",
       "      <th>movie_id</th>\n",
       "      <th>title</th>\n",
       "      <th>overview</th>\n",
       "      <th>genres</th>\n",
       "      <th>keywords</th>\n",
       "      <th>vote_average</th>\n",
       "      <th>cast</th>\n",
       "      <th>crew</th>\n",
       "    </tr>\n",
       "  </thead>\n",
       "  <tbody>\n",
       "    <tr>\n",
       "      <th>0</th>\n",
       "      <td>19995</td>\n",
       "      <td>Avatar</td>\n",
       "      <td>In the 22nd century, a paraplegic Marine is di...</td>\n",
       "      <td>[Action, Adventure, Fantasy, Science Fiction]</td>\n",
       "      <td>[culture clash, future, space war, space colon...</td>\n",
       "      <td>7.2</td>\n",
       "      <td>[Sam Worthington, Zoe Saldana, Sigourney Weaver]</td>\n",
       "      <td>[James Cameron]</td>\n",
       "    </tr>\n",
       "    <tr>\n",
       "      <th>1</th>\n",
       "      <td>285</td>\n",
       "      <td>Pirates of the Caribbean: At World's End</td>\n",
       "      <td>Captain Barbossa, long believed to be dead, ha...</td>\n",
       "      <td>[Adventure, Fantasy, Action]</td>\n",
       "      <td>[ocean, drug abuse, exotic island, east india ...</td>\n",
       "      <td>6.9</td>\n",
       "      <td>[Johnny Depp, Orlando Bloom, Keira Knightley]</td>\n",
       "      <td>[Gore Verbinski]</td>\n",
       "    </tr>\n",
       "    <tr>\n",
       "      <th>2</th>\n",
       "      <td>206647</td>\n",
       "      <td>Spectre</td>\n",
       "      <td>A cryptic message from Bond’s past sends him o...</td>\n",
       "      <td>[Action, Adventure, Crime]</td>\n",
       "      <td>[spy, based on novel, secret agent, sequel, mi...</td>\n",
       "      <td>6.3</td>\n",
       "      <td>[Daniel Craig, Christoph Waltz, Léa Seydoux]</td>\n",
       "      <td>[Sam Mendes]</td>\n",
       "    </tr>\n",
       "    <tr>\n",
       "      <th>3</th>\n",
       "      <td>49026</td>\n",
       "      <td>The Dark Knight Rises</td>\n",
       "      <td>Following the death of District Attorney Harve...</td>\n",
       "      <td>[Action, Crime, Drama, Thriller]</td>\n",
       "      <td>[dc comics, crime fighter, terrorist, secret i...</td>\n",
       "      <td>7.6</td>\n",
       "      <td>[Christian Bale, Michael Caine, Gary Oldman]</td>\n",
       "      <td>[Christopher Nolan]</td>\n",
       "    </tr>\n",
       "    <tr>\n",
       "      <th>4</th>\n",
       "      <td>49529</td>\n",
       "      <td>John Carter</td>\n",
       "      <td>John Carter is a war-weary, former military ca...</td>\n",
       "      <td>[Action, Adventure, Science Fiction]</td>\n",
       "      <td>[based on novel, mars, medallion, space travel...</td>\n",
       "      <td>6.1</td>\n",
       "      <td>[Taylor Kitsch, Lynn Collins, Samantha Morton]</td>\n",
       "      <td>[Andrew Stanton]</td>\n",
       "    </tr>\n",
       "  </tbody>\n",
       "</table>\n",
       "</div>"
      ],
      "text/plain": [
       "   movie_id                                     title  \\\n",
       "0     19995                                    Avatar   \n",
       "1       285  Pirates of the Caribbean: At World's End   \n",
       "2    206647                                   Spectre   \n",
       "3     49026                     The Dark Knight Rises   \n",
       "4     49529                               John Carter   \n",
       "\n",
       "                                            overview  \\\n",
       "0  In the 22nd century, a paraplegic Marine is di...   \n",
       "1  Captain Barbossa, long believed to be dead, ha...   \n",
       "2  A cryptic message from Bond’s past sends him o...   \n",
       "3  Following the death of District Attorney Harve...   \n",
       "4  John Carter is a war-weary, former military ca...   \n",
       "\n",
       "                                          genres  \\\n",
       "0  [Action, Adventure, Fantasy, Science Fiction]   \n",
       "1                   [Adventure, Fantasy, Action]   \n",
       "2                     [Action, Adventure, Crime]   \n",
       "3               [Action, Crime, Drama, Thriller]   \n",
       "4           [Action, Adventure, Science Fiction]   \n",
       "\n",
       "                                            keywords  vote_average  \\\n",
       "0  [culture clash, future, space war, space colon...           7.2   \n",
       "1  [ocean, drug abuse, exotic island, east india ...           6.9   \n",
       "2  [spy, based on novel, secret agent, sequel, mi...           6.3   \n",
       "3  [dc comics, crime fighter, terrorist, secret i...           7.6   \n",
       "4  [based on novel, mars, medallion, space travel...           6.1   \n",
       "\n",
       "                                               cast                 crew  \n",
       "0  [Sam Worthington, Zoe Saldana, Sigourney Weaver]      [James Cameron]  \n",
       "1     [Johnny Depp, Orlando Bloom, Keira Knightley]     [Gore Verbinski]  \n",
       "2      [Daniel Craig, Christoph Waltz, Léa Seydoux]         [Sam Mendes]  \n",
       "3      [Christian Bale, Michael Caine, Gary Oldman]  [Christopher Nolan]  \n",
       "4    [Taylor Kitsch, Lynn Collins, Samantha Morton]     [Andrew Stanton]  "
      ]
     },
     "execution_count": 27,
     "metadata": {},
     "output_type": "execute_result"
    }
   ],
   "source": [
    "movies.head()"
   ]
  },
  {
   "cell_type": "code",
   "execution_count": 28,
   "id": "56bc7ec6-e8b2-47c8-b46c-d8cef7e4178d",
   "metadata": {
    "colab": {
     "base_uri": "https://localhost:8080/",
     "height": 35
    },
    "id": "56bc7ec6-e8b2-47c8-b46c-d8cef7e4178d",
    "outputId": "c6416169-58c8-4b47-e68d-fe1fa6a2246d"
   },
   "outputs": [
    {
     "data": {
      "text/plain": [
       "'In the 22nd century, a paraplegic Marine is dispatched to the moon Pandora on a unique mission, but becomes torn between following orders and protecting an alien civilization.'"
      ]
     },
     "execution_count": 28,
     "metadata": {},
     "output_type": "execute_result"
    }
   ],
   "source": [
    "movies['overview'][0]"
   ]
  },
  {
   "cell_type": "code",
   "execution_count": 29,
   "id": "b179e161-5797-4ca1-b4ce-31a7d379261d",
   "metadata": {
    "id": "b179e161-5797-4ca1-b4ce-31a7d379261d"
   },
   "outputs": [],
   "source": [
    "movies['overview'] = movies['overview'].apply(lambda x:x.split())"
   ]
  },
  {
   "cell_type": "code",
   "execution_count": 30,
   "id": "f523879f-58b5-450d-b248-05d5d891bf04",
   "metadata": {
    "colab": {
     "base_uri": "https://localhost:8080/",
     "height": 293
    },
    "id": "f523879f-58b5-450d-b248-05d5d891bf04",
    "outputId": "d0d667de-b0ab-491c-9ec6-c8cf5959d693"
   },
   "outputs": [
    {
     "data": {
      "text/html": [
       "<div>\n",
       "<style scoped>\n",
       "    .dataframe tbody tr th:only-of-type {\n",
       "        vertical-align: middle;\n",
       "    }\n",
       "\n",
       "    .dataframe tbody tr th {\n",
       "        vertical-align: top;\n",
       "    }\n",
       "\n",
       "    .dataframe thead th {\n",
       "        text-align: right;\n",
       "    }\n",
       "</style>\n",
       "<table border=\"1\" class=\"dataframe\">\n",
       "  <thead>\n",
       "    <tr style=\"text-align: right;\">\n",
       "      <th></th>\n",
       "      <th>movie_id</th>\n",
       "      <th>title</th>\n",
       "      <th>overview</th>\n",
       "      <th>genres</th>\n",
       "      <th>keywords</th>\n",
       "      <th>vote_average</th>\n",
       "      <th>cast</th>\n",
       "      <th>crew</th>\n",
       "    </tr>\n",
       "  </thead>\n",
       "  <tbody>\n",
       "    <tr>\n",
       "      <th>0</th>\n",
       "      <td>19995</td>\n",
       "      <td>Avatar</td>\n",
       "      <td>[In, the, 22nd, century,, a, paraplegic, Marin...</td>\n",
       "      <td>[Action, Adventure, Fantasy, Science Fiction]</td>\n",
       "      <td>[culture clash, future, space war, space colon...</td>\n",
       "      <td>7.2</td>\n",
       "      <td>[Sam Worthington, Zoe Saldana, Sigourney Weaver]</td>\n",
       "      <td>[James Cameron]</td>\n",
       "    </tr>\n",
       "    <tr>\n",
       "      <th>1</th>\n",
       "      <td>285</td>\n",
       "      <td>Pirates of the Caribbean: At World's End</td>\n",
       "      <td>[Captain, Barbossa,, long, believed, to, be, d...</td>\n",
       "      <td>[Adventure, Fantasy, Action]</td>\n",
       "      <td>[ocean, drug abuse, exotic island, east india ...</td>\n",
       "      <td>6.9</td>\n",
       "      <td>[Johnny Depp, Orlando Bloom, Keira Knightley]</td>\n",
       "      <td>[Gore Verbinski]</td>\n",
       "    </tr>\n",
       "    <tr>\n",
       "      <th>2</th>\n",
       "      <td>206647</td>\n",
       "      <td>Spectre</td>\n",
       "      <td>[A, cryptic, message, from, Bond’s, past, send...</td>\n",
       "      <td>[Action, Adventure, Crime]</td>\n",
       "      <td>[spy, based on novel, secret agent, sequel, mi...</td>\n",
       "      <td>6.3</td>\n",
       "      <td>[Daniel Craig, Christoph Waltz, Léa Seydoux]</td>\n",
       "      <td>[Sam Mendes]</td>\n",
       "    </tr>\n",
       "    <tr>\n",
       "      <th>3</th>\n",
       "      <td>49026</td>\n",
       "      <td>The Dark Knight Rises</td>\n",
       "      <td>[Following, the, death, of, District, Attorney...</td>\n",
       "      <td>[Action, Crime, Drama, Thriller]</td>\n",
       "      <td>[dc comics, crime fighter, terrorist, secret i...</td>\n",
       "      <td>7.6</td>\n",
       "      <td>[Christian Bale, Michael Caine, Gary Oldman]</td>\n",
       "      <td>[Christopher Nolan]</td>\n",
       "    </tr>\n",
       "    <tr>\n",
       "      <th>4</th>\n",
       "      <td>49529</td>\n",
       "      <td>John Carter</td>\n",
       "      <td>[John, Carter, is, a, war-weary,, former, mili...</td>\n",
       "      <td>[Action, Adventure, Science Fiction]</td>\n",
       "      <td>[based on novel, mars, medallion, space travel...</td>\n",
       "      <td>6.1</td>\n",
       "      <td>[Taylor Kitsch, Lynn Collins, Samantha Morton]</td>\n",
       "      <td>[Andrew Stanton]</td>\n",
       "    </tr>\n",
       "  </tbody>\n",
       "</table>\n",
       "</div>"
      ],
      "text/plain": [
       "   movie_id                                     title  \\\n",
       "0     19995                                    Avatar   \n",
       "1       285  Pirates of the Caribbean: At World's End   \n",
       "2    206647                                   Spectre   \n",
       "3     49026                     The Dark Knight Rises   \n",
       "4     49529                               John Carter   \n",
       "\n",
       "                                            overview  \\\n",
       "0  [In, the, 22nd, century,, a, paraplegic, Marin...   \n",
       "1  [Captain, Barbossa,, long, believed, to, be, d...   \n",
       "2  [A, cryptic, message, from, Bond’s, past, send...   \n",
       "3  [Following, the, death, of, District, Attorney...   \n",
       "4  [John, Carter, is, a, war-weary,, former, mili...   \n",
       "\n",
       "                                          genres  \\\n",
       "0  [Action, Adventure, Fantasy, Science Fiction]   \n",
       "1                   [Adventure, Fantasy, Action]   \n",
       "2                     [Action, Adventure, Crime]   \n",
       "3               [Action, Crime, Drama, Thriller]   \n",
       "4           [Action, Adventure, Science Fiction]   \n",
       "\n",
       "                                            keywords  vote_average  \\\n",
       "0  [culture clash, future, space war, space colon...           7.2   \n",
       "1  [ocean, drug abuse, exotic island, east india ...           6.9   \n",
       "2  [spy, based on novel, secret agent, sequel, mi...           6.3   \n",
       "3  [dc comics, crime fighter, terrorist, secret i...           7.6   \n",
       "4  [based on novel, mars, medallion, space travel...           6.1   \n",
       "\n",
       "                                               cast                 crew  \n",
       "0  [Sam Worthington, Zoe Saldana, Sigourney Weaver]      [James Cameron]  \n",
       "1     [Johnny Depp, Orlando Bloom, Keira Knightley]     [Gore Verbinski]  \n",
       "2      [Daniel Craig, Christoph Waltz, Léa Seydoux]         [Sam Mendes]  \n",
       "3      [Christian Bale, Michael Caine, Gary Oldman]  [Christopher Nolan]  \n",
       "4    [Taylor Kitsch, Lynn Collins, Samantha Morton]     [Andrew Stanton]  "
      ]
     },
     "execution_count": 30,
     "metadata": {},
     "output_type": "execute_result"
    }
   ],
   "source": [
    "movies.head()"
   ]
  },
  {
   "cell_type": "code",
   "execution_count": 31,
   "id": "309df882-c836-401b-9be6-9b8019cdd072",
   "metadata": {
    "id": "309df882-c836-401b-9be6-9b8019cdd072"
   },
   "outputs": [],
   "source": [
    "# Now remove the space between the word\n",
    "\n",
    "movies['genres'] = movies['genres'].apply(lambda x:[i.replace(\" \",\"\") for i in x])\n",
    "movies['keywords'] = movies['keywords'].apply(lambda x:[i.replace(\" \",\"\") for i in x])\n",
    "#movies['cast'] = movies['cast'].apply(lambda x:[i.replace(\" \",\"\") for i in x])\n",
    "#movies['crew'] = movies['crew'].apply(lambda x:[i.replace(\" \",\"\") for i in x])\n"
   ]
  },
  {
   "cell_type": "code",
   "execution_count": 32,
   "id": "dc40a914-0b1a-42ba-bde2-0a443abcbd9b",
   "metadata": {
    "colab": {
     "base_uri": "https://localhost:8080/",
     "height": 293
    },
    "id": "dc40a914-0b1a-42ba-bde2-0a443abcbd9b",
    "outputId": "ba06c78a-7fd5-4779-d6a9-f9716a201e77"
   },
   "outputs": [
    {
     "data": {
      "text/html": [
       "<div>\n",
       "<style scoped>\n",
       "    .dataframe tbody tr th:only-of-type {\n",
       "        vertical-align: middle;\n",
       "    }\n",
       "\n",
       "    .dataframe tbody tr th {\n",
       "        vertical-align: top;\n",
       "    }\n",
       "\n",
       "    .dataframe thead th {\n",
       "        text-align: right;\n",
       "    }\n",
       "</style>\n",
       "<table border=\"1\" class=\"dataframe\">\n",
       "  <thead>\n",
       "    <tr style=\"text-align: right;\">\n",
       "      <th></th>\n",
       "      <th>movie_id</th>\n",
       "      <th>title</th>\n",
       "      <th>overview</th>\n",
       "      <th>genres</th>\n",
       "      <th>keywords</th>\n",
       "      <th>vote_average</th>\n",
       "      <th>cast</th>\n",
       "      <th>crew</th>\n",
       "    </tr>\n",
       "  </thead>\n",
       "  <tbody>\n",
       "    <tr>\n",
       "      <th>0</th>\n",
       "      <td>19995</td>\n",
       "      <td>Avatar</td>\n",
       "      <td>[In, the, 22nd, century,, a, paraplegic, Marin...</td>\n",
       "      <td>[Action, Adventure, Fantasy, ScienceFiction]</td>\n",
       "      <td>[cultureclash, future, spacewar, spacecolony, ...</td>\n",
       "      <td>7.2</td>\n",
       "      <td>[Sam Worthington, Zoe Saldana, Sigourney Weaver]</td>\n",
       "      <td>[James Cameron]</td>\n",
       "    </tr>\n",
       "    <tr>\n",
       "      <th>1</th>\n",
       "      <td>285</td>\n",
       "      <td>Pirates of the Caribbean: At World's End</td>\n",
       "      <td>[Captain, Barbossa,, long, believed, to, be, d...</td>\n",
       "      <td>[Adventure, Fantasy, Action]</td>\n",
       "      <td>[ocean, drugabuse, exoticisland, eastindiatrad...</td>\n",
       "      <td>6.9</td>\n",
       "      <td>[Johnny Depp, Orlando Bloom, Keira Knightley]</td>\n",
       "      <td>[Gore Verbinski]</td>\n",
       "    </tr>\n",
       "    <tr>\n",
       "      <th>2</th>\n",
       "      <td>206647</td>\n",
       "      <td>Spectre</td>\n",
       "      <td>[A, cryptic, message, from, Bond’s, past, send...</td>\n",
       "      <td>[Action, Adventure, Crime]</td>\n",
       "      <td>[spy, basedonnovel, secretagent, sequel, mi6, ...</td>\n",
       "      <td>6.3</td>\n",
       "      <td>[Daniel Craig, Christoph Waltz, Léa Seydoux]</td>\n",
       "      <td>[Sam Mendes]</td>\n",
       "    </tr>\n",
       "    <tr>\n",
       "      <th>3</th>\n",
       "      <td>49026</td>\n",
       "      <td>The Dark Knight Rises</td>\n",
       "      <td>[Following, the, death, of, District, Attorney...</td>\n",
       "      <td>[Action, Crime, Drama, Thriller]</td>\n",
       "      <td>[dccomics, crimefighter, terrorist, secretiden...</td>\n",
       "      <td>7.6</td>\n",
       "      <td>[Christian Bale, Michael Caine, Gary Oldman]</td>\n",
       "      <td>[Christopher Nolan]</td>\n",
       "    </tr>\n",
       "    <tr>\n",
       "      <th>4</th>\n",
       "      <td>49529</td>\n",
       "      <td>John Carter</td>\n",
       "      <td>[John, Carter, is, a, war-weary,, former, mili...</td>\n",
       "      <td>[Action, Adventure, ScienceFiction]</td>\n",
       "      <td>[basedonnovel, mars, medallion, spacetravel, p...</td>\n",
       "      <td>6.1</td>\n",
       "      <td>[Taylor Kitsch, Lynn Collins, Samantha Morton]</td>\n",
       "      <td>[Andrew Stanton]</td>\n",
       "    </tr>\n",
       "  </tbody>\n",
       "</table>\n",
       "</div>"
      ],
      "text/plain": [
       "   movie_id                                     title  \\\n",
       "0     19995                                    Avatar   \n",
       "1       285  Pirates of the Caribbean: At World's End   \n",
       "2    206647                                   Spectre   \n",
       "3     49026                     The Dark Knight Rises   \n",
       "4     49529                               John Carter   \n",
       "\n",
       "                                            overview  \\\n",
       "0  [In, the, 22nd, century,, a, paraplegic, Marin...   \n",
       "1  [Captain, Barbossa,, long, believed, to, be, d...   \n",
       "2  [A, cryptic, message, from, Bond’s, past, send...   \n",
       "3  [Following, the, death, of, District, Attorney...   \n",
       "4  [John, Carter, is, a, war-weary,, former, mili...   \n",
       "\n",
       "                                         genres  \\\n",
       "0  [Action, Adventure, Fantasy, ScienceFiction]   \n",
       "1                  [Adventure, Fantasy, Action]   \n",
       "2                    [Action, Adventure, Crime]   \n",
       "3              [Action, Crime, Drama, Thriller]   \n",
       "4           [Action, Adventure, ScienceFiction]   \n",
       "\n",
       "                                            keywords  vote_average  \\\n",
       "0  [cultureclash, future, spacewar, spacecolony, ...           7.2   \n",
       "1  [ocean, drugabuse, exoticisland, eastindiatrad...           6.9   \n",
       "2  [spy, basedonnovel, secretagent, sequel, mi6, ...           6.3   \n",
       "3  [dccomics, crimefighter, terrorist, secretiden...           7.6   \n",
       "4  [basedonnovel, mars, medallion, spacetravel, p...           6.1   \n",
       "\n",
       "                                               cast                 crew  \n",
       "0  [Sam Worthington, Zoe Saldana, Sigourney Weaver]      [James Cameron]  \n",
       "1     [Johnny Depp, Orlando Bloom, Keira Knightley]     [Gore Verbinski]  \n",
       "2      [Daniel Craig, Christoph Waltz, Léa Seydoux]         [Sam Mendes]  \n",
       "3      [Christian Bale, Michael Caine, Gary Oldman]  [Christopher Nolan]  \n",
       "4    [Taylor Kitsch, Lynn Collins, Samantha Morton]     [Andrew Stanton]  "
      ]
     },
     "execution_count": 32,
     "metadata": {},
     "output_type": "execute_result"
    }
   ],
   "source": [
    "movies.head()"
   ]
  },
  {
   "cell_type": "code",
   "execution_count": 33,
   "id": "a7bec8a0-4546-4a80-acde-304b8ba39f79",
   "metadata": {
    "id": "a7bec8a0-4546-4a80-acde-304b8ba39f79"
   },
   "outputs": [],
   "source": [
    "movies['tags'] = movies['overview'] + movies['genres'] + movies['keywords'] + movies['cast'] + movies['crew']\n",
    "movies['actorsandactress'] = movies['cast']"
   ]
  },
  {
   "cell_type": "code",
   "execution_count": 34,
   "id": "e1b72075-58b2-4d7d-a8ec-0b4452bc6eab",
   "metadata": {
    "colab": {
     "base_uri": "https://localhost:8080/",
     "height": 310
    },
    "id": "e1b72075-58b2-4d7d-a8ec-0b4452bc6eab",
    "outputId": "e8a1457d-6b20-4a3e-83f4-6007c3d2f5a6"
   },
   "outputs": [
    {
     "data": {
      "text/html": [
       "<div>\n",
       "<style scoped>\n",
       "    .dataframe tbody tr th:only-of-type {\n",
       "        vertical-align: middle;\n",
       "    }\n",
       "\n",
       "    .dataframe tbody tr th {\n",
       "        vertical-align: top;\n",
       "    }\n",
       "\n",
       "    .dataframe thead th {\n",
       "        text-align: right;\n",
       "    }\n",
       "</style>\n",
       "<table border=\"1\" class=\"dataframe\">\n",
       "  <thead>\n",
       "    <tr style=\"text-align: right;\">\n",
       "      <th></th>\n",
       "      <th>movie_id</th>\n",
       "      <th>title</th>\n",
       "      <th>overview</th>\n",
       "      <th>genres</th>\n",
       "      <th>keywords</th>\n",
       "      <th>vote_average</th>\n",
       "      <th>cast</th>\n",
       "      <th>crew</th>\n",
       "      <th>tags</th>\n",
       "      <th>actorsandactress</th>\n",
       "    </tr>\n",
       "  </thead>\n",
       "  <tbody>\n",
       "    <tr>\n",
       "      <th>0</th>\n",
       "      <td>19995</td>\n",
       "      <td>Avatar</td>\n",
       "      <td>[In, the, 22nd, century,, a, paraplegic, Marin...</td>\n",
       "      <td>[Action, Adventure, Fantasy, ScienceFiction]</td>\n",
       "      <td>[cultureclash, future, spacewar, spacecolony, ...</td>\n",
       "      <td>7.2</td>\n",
       "      <td>[Sam Worthington, Zoe Saldana, Sigourney Weaver]</td>\n",
       "      <td>[James Cameron]</td>\n",
       "      <td>[In, the, 22nd, century,, a, paraplegic, Marin...</td>\n",
       "      <td>[Sam Worthington, Zoe Saldana, Sigourney Weaver]</td>\n",
       "    </tr>\n",
       "    <tr>\n",
       "      <th>1</th>\n",
       "      <td>285</td>\n",
       "      <td>Pirates of the Caribbean: At World's End</td>\n",
       "      <td>[Captain, Barbossa,, long, believed, to, be, d...</td>\n",
       "      <td>[Adventure, Fantasy, Action]</td>\n",
       "      <td>[ocean, drugabuse, exoticisland, eastindiatrad...</td>\n",
       "      <td>6.9</td>\n",
       "      <td>[Johnny Depp, Orlando Bloom, Keira Knightley]</td>\n",
       "      <td>[Gore Verbinski]</td>\n",
       "      <td>[Captain, Barbossa,, long, believed, to, be, d...</td>\n",
       "      <td>[Johnny Depp, Orlando Bloom, Keira Knightley]</td>\n",
       "    </tr>\n",
       "    <tr>\n",
       "      <th>2</th>\n",
       "      <td>206647</td>\n",
       "      <td>Spectre</td>\n",
       "      <td>[A, cryptic, message, from, Bond’s, past, send...</td>\n",
       "      <td>[Action, Adventure, Crime]</td>\n",
       "      <td>[spy, basedonnovel, secretagent, sequel, mi6, ...</td>\n",
       "      <td>6.3</td>\n",
       "      <td>[Daniel Craig, Christoph Waltz, Léa Seydoux]</td>\n",
       "      <td>[Sam Mendes]</td>\n",
       "      <td>[A, cryptic, message, from, Bond’s, past, send...</td>\n",
       "      <td>[Daniel Craig, Christoph Waltz, Léa Seydoux]</td>\n",
       "    </tr>\n",
       "    <tr>\n",
       "      <th>3</th>\n",
       "      <td>49026</td>\n",
       "      <td>The Dark Knight Rises</td>\n",
       "      <td>[Following, the, death, of, District, Attorney...</td>\n",
       "      <td>[Action, Crime, Drama, Thriller]</td>\n",
       "      <td>[dccomics, crimefighter, terrorist, secretiden...</td>\n",
       "      <td>7.6</td>\n",
       "      <td>[Christian Bale, Michael Caine, Gary Oldman]</td>\n",
       "      <td>[Christopher Nolan]</td>\n",
       "      <td>[Following, the, death, of, District, Attorney...</td>\n",
       "      <td>[Christian Bale, Michael Caine, Gary Oldman]</td>\n",
       "    </tr>\n",
       "    <tr>\n",
       "      <th>4</th>\n",
       "      <td>49529</td>\n",
       "      <td>John Carter</td>\n",
       "      <td>[John, Carter, is, a, war-weary,, former, mili...</td>\n",
       "      <td>[Action, Adventure, ScienceFiction]</td>\n",
       "      <td>[basedonnovel, mars, medallion, spacetravel, p...</td>\n",
       "      <td>6.1</td>\n",
       "      <td>[Taylor Kitsch, Lynn Collins, Samantha Morton]</td>\n",
       "      <td>[Andrew Stanton]</td>\n",
       "      <td>[John, Carter, is, a, war-weary,, former, mili...</td>\n",
       "      <td>[Taylor Kitsch, Lynn Collins, Samantha Morton]</td>\n",
       "    </tr>\n",
       "  </tbody>\n",
       "</table>\n",
       "</div>"
      ],
      "text/plain": [
       "   movie_id                                     title  \\\n",
       "0     19995                                    Avatar   \n",
       "1       285  Pirates of the Caribbean: At World's End   \n",
       "2    206647                                   Spectre   \n",
       "3     49026                     The Dark Knight Rises   \n",
       "4     49529                               John Carter   \n",
       "\n",
       "                                            overview  \\\n",
       "0  [In, the, 22nd, century,, a, paraplegic, Marin...   \n",
       "1  [Captain, Barbossa,, long, believed, to, be, d...   \n",
       "2  [A, cryptic, message, from, Bond’s, past, send...   \n",
       "3  [Following, the, death, of, District, Attorney...   \n",
       "4  [John, Carter, is, a, war-weary,, former, mili...   \n",
       "\n",
       "                                         genres  \\\n",
       "0  [Action, Adventure, Fantasy, ScienceFiction]   \n",
       "1                  [Adventure, Fantasy, Action]   \n",
       "2                    [Action, Adventure, Crime]   \n",
       "3              [Action, Crime, Drama, Thriller]   \n",
       "4           [Action, Adventure, ScienceFiction]   \n",
       "\n",
       "                                            keywords  vote_average  \\\n",
       "0  [cultureclash, future, spacewar, spacecolony, ...           7.2   \n",
       "1  [ocean, drugabuse, exoticisland, eastindiatrad...           6.9   \n",
       "2  [spy, basedonnovel, secretagent, sequel, mi6, ...           6.3   \n",
       "3  [dccomics, crimefighter, terrorist, secretiden...           7.6   \n",
       "4  [basedonnovel, mars, medallion, spacetravel, p...           6.1   \n",
       "\n",
       "                                               cast                 crew  \\\n",
       "0  [Sam Worthington, Zoe Saldana, Sigourney Weaver]      [James Cameron]   \n",
       "1     [Johnny Depp, Orlando Bloom, Keira Knightley]     [Gore Verbinski]   \n",
       "2      [Daniel Craig, Christoph Waltz, Léa Seydoux]         [Sam Mendes]   \n",
       "3      [Christian Bale, Michael Caine, Gary Oldman]  [Christopher Nolan]   \n",
       "4    [Taylor Kitsch, Lynn Collins, Samantha Morton]     [Andrew Stanton]   \n",
       "\n",
       "                                                tags  \\\n",
       "0  [In, the, 22nd, century,, a, paraplegic, Marin...   \n",
       "1  [Captain, Barbossa,, long, believed, to, be, d...   \n",
       "2  [A, cryptic, message, from, Bond’s, past, send...   \n",
       "3  [Following, the, death, of, District, Attorney...   \n",
       "4  [John, Carter, is, a, war-weary,, former, mili...   \n",
       "\n",
       "                                   actorsandactress  \n",
       "0  [Sam Worthington, Zoe Saldana, Sigourney Weaver]  \n",
       "1     [Johnny Depp, Orlando Bloom, Keira Knightley]  \n",
       "2      [Daniel Craig, Christoph Waltz, Léa Seydoux]  \n",
       "3      [Christian Bale, Michael Caine, Gary Oldman]  \n",
       "4    [Taylor Kitsch, Lynn Collins, Samantha Morton]  "
      ]
     },
     "execution_count": 34,
     "metadata": {},
     "output_type": "execute_result"
    }
   ],
   "source": [
    "movies.head()"
   ]
  },
  {
   "cell_type": "code",
   "execution_count": 54,
   "id": "79db743e-1796-498c-bdee-40edc7fd4152",
   "metadata": {
    "id": "79db743e-1796-498c-bdee-40edc7fd4152"
   },
   "outputs": [],
   "source": [
    "new_df = movies[['movie_id','title','tags','actorsandactress','vote_average']]"
   ]
  },
  {
   "cell_type": "code",
   "execution_count": 55,
   "id": "17823444-bf7e-42bb-bd4a-687d953e379d",
   "metadata": {
    "colab": {
     "base_uri": "https://localhost:8080/",
     "height": 423
    },
    "id": "17823444-bf7e-42bb-bd4a-687d953e379d",
    "outputId": "45eb07b9-b60b-49f5-9425-5e8fa65b5d6e"
   },
   "outputs": [
    {
     "data": {
      "text/html": [
       "<div>\n",
       "<style scoped>\n",
       "    .dataframe tbody tr th:only-of-type {\n",
       "        vertical-align: middle;\n",
       "    }\n",
       "\n",
       "    .dataframe tbody tr th {\n",
       "        vertical-align: top;\n",
       "    }\n",
       "\n",
       "    .dataframe thead th {\n",
       "        text-align: right;\n",
       "    }\n",
       "</style>\n",
       "<table border=\"1\" class=\"dataframe\">\n",
       "  <thead>\n",
       "    <tr style=\"text-align: right;\">\n",
       "      <th></th>\n",
       "      <th>movie_id</th>\n",
       "      <th>title</th>\n",
       "      <th>tags</th>\n",
       "      <th>actorsandactress</th>\n",
       "      <th>vote_average</th>\n",
       "    </tr>\n",
       "  </thead>\n",
       "  <tbody>\n",
       "    <tr>\n",
       "      <th>0</th>\n",
       "      <td>19995</td>\n",
       "      <td>Avatar</td>\n",
       "      <td>[In, the, 22nd, century,, a, paraplegic, Marin...</td>\n",
       "      <td>[Sam Worthington, Zoe Saldana, Sigourney Weaver]</td>\n",
       "      <td>7.2</td>\n",
       "    </tr>\n",
       "    <tr>\n",
       "      <th>1</th>\n",
       "      <td>285</td>\n",
       "      <td>Pirates of the Caribbean: At World's End</td>\n",
       "      <td>[Captain, Barbossa,, long, believed, to, be, d...</td>\n",
       "      <td>[Johnny Depp, Orlando Bloom, Keira Knightley]</td>\n",
       "      <td>6.9</td>\n",
       "    </tr>\n",
       "    <tr>\n",
       "      <th>2</th>\n",
       "      <td>206647</td>\n",
       "      <td>Spectre</td>\n",
       "      <td>[A, cryptic, message, from, Bond’s, past, send...</td>\n",
       "      <td>[Daniel Craig, Christoph Waltz, Léa Seydoux]</td>\n",
       "      <td>6.3</td>\n",
       "    </tr>\n",
       "    <tr>\n",
       "      <th>3</th>\n",
       "      <td>49026</td>\n",
       "      <td>The Dark Knight Rises</td>\n",
       "      <td>[Following, the, death, of, District, Attorney...</td>\n",
       "      <td>[Christian Bale, Michael Caine, Gary Oldman]</td>\n",
       "      <td>7.6</td>\n",
       "    </tr>\n",
       "    <tr>\n",
       "      <th>4</th>\n",
       "      <td>49529</td>\n",
       "      <td>John Carter</td>\n",
       "      <td>[John, Carter, is, a, war-weary,, former, mili...</td>\n",
       "      <td>[Taylor Kitsch, Lynn Collins, Samantha Morton]</td>\n",
       "      <td>6.1</td>\n",
       "    </tr>\n",
       "    <tr>\n",
       "      <th>...</th>\n",
       "      <td>...</td>\n",
       "      <td>...</td>\n",
       "      <td>...</td>\n",
       "      <td>...</td>\n",
       "      <td>...</td>\n",
       "    </tr>\n",
       "    <tr>\n",
       "      <th>4804</th>\n",
       "      <td>9367</td>\n",
       "      <td>El Mariachi</td>\n",
       "      <td>[El, Mariachi, just, wants, to, play, his, gui...</td>\n",
       "      <td>[Carlos Gallardo, Jaime de Hoyos, Peter Marqua...</td>\n",
       "      <td>6.6</td>\n",
       "    </tr>\n",
       "    <tr>\n",
       "      <th>4805</th>\n",
       "      <td>72766</td>\n",
       "      <td>Newlyweds</td>\n",
       "      <td>[A, newlywed, couple's, honeymoon, is, upended...</td>\n",
       "      <td>[Edward Burns, Kerry Bishé, Marsha Dietlein]</td>\n",
       "      <td>5.9</td>\n",
       "    </tr>\n",
       "    <tr>\n",
       "      <th>4806</th>\n",
       "      <td>231617</td>\n",
       "      <td>Signed, Sealed, Delivered</td>\n",
       "      <td>[\"Signed,, Sealed,, Delivered\", introduces, a,...</td>\n",
       "      <td>[Eric Mabius, Kristin Booth, Crystal Lowe]</td>\n",
       "      <td>7.0</td>\n",
       "    </tr>\n",
       "    <tr>\n",
       "      <th>4807</th>\n",
       "      <td>126186</td>\n",
       "      <td>Shanghai Calling</td>\n",
       "      <td>[When, ambitious, New, York, attorney, Sam, is...</td>\n",
       "      <td>[Daniel Henney, Eliza Coupe, Bill Paxton]</td>\n",
       "      <td>5.7</td>\n",
       "    </tr>\n",
       "    <tr>\n",
       "      <th>4808</th>\n",
       "      <td>25975</td>\n",
       "      <td>My Date with Drew</td>\n",
       "      <td>[Ever, since, the, second, grade, when, he, fi...</td>\n",
       "      <td>[Drew Barrymore, Brian Herzlinger, Corey Feldman]</td>\n",
       "      <td>6.3</td>\n",
       "    </tr>\n",
       "  </tbody>\n",
       "</table>\n",
       "<p>4806 rows × 5 columns</p>\n",
       "</div>"
      ],
      "text/plain": [
       "      movie_id                                     title  \\\n",
       "0        19995                                    Avatar   \n",
       "1          285  Pirates of the Caribbean: At World's End   \n",
       "2       206647                                   Spectre   \n",
       "3        49026                     The Dark Knight Rises   \n",
       "4        49529                               John Carter   \n",
       "...        ...                                       ...   \n",
       "4804      9367                               El Mariachi   \n",
       "4805     72766                                 Newlyweds   \n",
       "4806    231617                 Signed, Sealed, Delivered   \n",
       "4807    126186                          Shanghai Calling   \n",
       "4808     25975                         My Date with Drew   \n",
       "\n",
       "                                                   tags  \\\n",
       "0     [In, the, 22nd, century,, a, paraplegic, Marin...   \n",
       "1     [Captain, Barbossa,, long, believed, to, be, d...   \n",
       "2     [A, cryptic, message, from, Bond’s, past, send...   \n",
       "3     [Following, the, death, of, District, Attorney...   \n",
       "4     [John, Carter, is, a, war-weary,, former, mili...   \n",
       "...                                                 ...   \n",
       "4804  [El, Mariachi, just, wants, to, play, his, gui...   \n",
       "4805  [A, newlywed, couple's, honeymoon, is, upended...   \n",
       "4806  [\"Signed,, Sealed,, Delivered\", introduces, a,...   \n",
       "4807  [When, ambitious, New, York, attorney, Sam, is...   \n",
       "4808  [Ever, since, the, second, grade, when, he, fi...   \n",
       "\n",
       "                                       actorsandactress  vote_average  \n",
       "0      [Sam Worthington, Zoe Saldana, Sigourney Weaver]           7.2  \n",
       "1         [Johnny Depp, Orlando Bloom, Keira Knightley]           6.9  \n",
       "2          [Daniel Craig, Christoph Waltz, Léa Seydoux]           6.3  \n",
       "3          [Christian Bale, Michael Caine, Gary Oldman]           7.6  \n",
       "4        [Taylor Kitsch, Lynn Collins, Samantha Morton]           6.1  \n",
       "...                                                 ...           ...  \n",
       "4804  [Carlos Gallardo, Jaime de Hoyos, Peter Marqua...           6.6  \n",
       "4805       [Edward Burns, Kerry Bishé, Marsha Dietlein]           5.9  \n",
       "4806         [Eric Mabius, Kristin Booth, Crystal Lowe]           7.0  \n",
       "4807          [Daniel Henney, Eliza Coupe, Bill Paxton]           5.7  \n",
       "4808  [Drew Barrymore, Brian Herzlinger, Corey Feldman]           6.3  \n",
       "\n",
       "[4806 rows x 5 columns]"
      ]
     },
     "execution_count": 55,
     "metadata": {},
     "output_type": "execute_result"
    }
   ],
   "source": [
    "new_df"
   ]
  },
  {
   "cell_type": "code",
   "execution_count": 56,
   "id": "f92b4216-2a27-4f00-8c82-5f696af8a2b8",
   "metadata": {
    "colab": {
     "base_uri": "https://localhost:8080/"
    },
    "id": "f92b4216-2a27-4f00-8c82-5f696af8a2b8",
    "outputId": "39eda3b8-887c-4bbe-8c7f-8e05779ef55e"
   },
   "outputs": [
    {
     "name": "stderr",
     "output_type": "stream",
     "text": [
      "C:\\Users\\USER\\AppData\\Local\\Temp\\ipykernel_12036\\2757324940.py:2: SettingWithCopyWarning: \n",
      "A value is trying to be set on a copy of a slice from a DataFrame.\n",
      "Try using .loc[row_indexer,col_indexer] = value instead\n",
      "\n",
      "See the caveats in the documentation: https://pandas.pydata.org/pandas-docs/stable/user_guide/indexing.html#returning-a-view-versus-a-copy\n",
      "  new_df['tags'] = new_df['tags'].apply(lambda x: \" \".join(x))\n",
      "C:\\Users\\USER\\AppData\\Local\\Temp\\ipykernel_12036\\2757324940.py:3: SettingWithCopyWarning: \n",
      "A value is trying to be set on a copy of a slice from a DataFrame.\n",
      "Try using .loc[row_indexer,col_indexer] = value instead\n",
      "\n",
      "See the caveats in the documentation: https://pandas.pydata.org/pandas-docs/stable/user_guide/indexing.html#returning-a-view-versus-a-copy\n",
      "  new_df['actorsandactress'] = new_df['actorsandactress'].apply(lambda x: \" \".join(x))\n"
     ]
    }
   ],
   "source": [
    "# Convert the tag column into string\n",
    "new_df['tags'] = new_df['tags'].apply(lambda x: \" \".join(x))\n",
    "new_df['actorsandactress'] = new_df['actorsandactress'].apply(lambda x: \" \".join(x))"
   ]
  },
  {
   "cell_type": "code",
   "execution_count": 57,
   "id": "1112e169-0ba4-4dfe-9fdc-dadc0da31a57",
   "metadata": {
    "colab": {
     "base_uri": "https://localhost:8080/",
     "height": 206
    },
    "id": "1112e169-0ba4-4dfe-9fdc-dadc0da31a57",
    "outputId": "589b3c0c-83b7-4baa-bf22-5d75703fdb06"
   },
   "outputs": [
    {
     "data": {
      "text/html": [
       "<div>\n",
       "<style scoped>\n",
       "    .dataframe tbody tr th:only-of-type {\n",
       "        vertical-align: middle;\n",
       "    }\n",
       "\n",
       "    .dataframe tbody tr th {\n",
       "        vertical-align: top;\n",
       "    }\n",
       "\n",
       "    .dataframe thead th {\n",
       "        text-align: right;\n",
       "    }\n",
       "</style>\n",
       "<table border=\"1\" class=\"dataframe\">\n",
       "  <thead>\n",
       "    <tr style=\"text-align: right;\">\n",
       "      <th></th>\n",
       "      <th>movie_id</th>\n",
       "      <th>title</th>\n",
       "      <th>tags</th>\n",
       "      <th>actorsandactress</th>\n",
       "      <th>vote_average</th>\n",
       "    </tr>\n",
       "  </thead>\n",
       "  <tbody>\n",
       "    <tr>\n",
       "      <th>0</th>\n",
       "      <td>19995</td>\n",
       "      <td>Avatar</td>\n",
       "      <td>In the 22nd century, a paraplegic Marine is di...</td>\n",
       "      <td>Sam Worthington Zoe Saldana Sigourney Weaver</td>\n",
       "      <td>7.2</td>\n",
       "    </tr>\n",
       "    <tr>\n",
       "      <th>1</th>\n",
       "      <td>285</td>\n",
       "      <td>Pirates of the Caribbean: At World's End</td>\n",
       "      <td>Captain Barbossa, long believed to be dead, ha...</td>\n",
       "      <td>Johnny Depp Orlando Bloom Keira Knightley</td>\n",
       "      <td>6.9</td>\n",
       "    </tr>\n",
       "    <tr>\n",
       "      <th>2</th>\n",
       "      <td>206647</td>\n",
       "      <td>Spectre</td>\n",
       "      <td>A cryptic message from Bond’s past sends him o...</td>\n",
       "      <td>Daniel Craig Christoph Waltz Léa Seydoux</td>\n",
       "      <td>6.3</td>\n",
       "    </tr>\n",
       "    <tr>\n",
       "      <th>3</th>\n",
       "      <td>49026</td>\n",
       "      <td>The Dark Knight Rises</td>\n",
       "      <td>Following the death of District Attorney Harve...</td>\n",
       "      <td>Christian Bale Michael Caine Gary Oldman</td>\n",
       "      <td>7.6</td>\n",
       "    </tr>\n",
       "    <tr>\n",
       "      <th>4</th>\n",
       "      <td>49529</td>\n",
       "      <td>John Carter</td>\n",
       "      <td>John Carter is a war-weary, former military ca...</td>\n",
       "      <td>Taylor Kitsch Lynn Collins Samantha Morton</td>\n",
       "      <td>6.1</td>\n",
       "    </tr>\n",
       "  </tbody>\n",
       "</table>\n",
       "</div>"
      ],
      "text/plain": [
       "   movie_id                                     title  \\\n",
       "0     19995                                    Avatar   \n",
       "1       285  Pirates of the Caribbean: At World's End   \n",
       "2    206647                                   Spectre   \n",
       "3     49026                     The Dark Knight Rises   \n",
       "4     49529                               John Carter   \n",
       "\n",
       "                                                tags  \\\n",
       "0  In the 22nd century, a paraplegic Marine is di...   \n",
       "1  Captain Barbossa, long believed to be dead, ha...   \n",
       "2  A cryptic message from Bond’s past sends him o...   \n",
       "3  Following the death of District Attorney Harve...   \n",
       "4  John Carter is a war-weary, former military ca...   \n",
       "\n",
       "                               actorsandactress  vote_average  \n",
       "0  Sam Worthington Zoe Saldana Sigourney Weaver           7.2  \n",
       "1     Johnny Depp Orlando Bloom Keira Knightley           6.9  \n",
       "2      Daniel Craig Christoph Waltz Léa Seydoux           6.3  \n",
       "3      Christian Bale Michael Caine Gary Oldman           7.6  \n",
       "4    Taylor Kitsch Lynn Collins Samantha Morton           6.1  "
      ]
     },
     "execution_count": 57,
     "metadata": {},
     "output_type": "execute_result"
    }
   ],
   "source": [
    "new_df.head()"
   ]
  },
  {
   "cell_type": "code",
   "execution_count": 58,
   "id": "62a21946-38cb-4bc4-96e2-c0498fc80cd0",
   "metadata": {
    "id": "62a21946-38cb-4bc4-96e2-c0498fc80cd0"
   },
   "outputs": [],
   "source": [
    "import nltk"
   ]
  },
  {
   "cell_type": "code",
   "execution_count": 59,
   "id": "aca9e992-fe1b-4586-bc08-62f8480dcbcc",
   "metadata": {
    "id": "aca9e992-fe1b-4586-bc08-62f8480dcbcc"
   },
   "outputs": [],
   "source": [
    "from nltk.stem.porter import PorterStemmer\n",
    "ps = PorterStemmer()"
   ]
  },
  {
   "cell_type": "code",
   "execution_count": 60,
   "id": "87ba0cfd-55eb-4ed1-8bf9-1a7a2819206b",
   "metadata": {
    "id": "87ba0cfd-55eb-4ed1-8bf9-1a7a2819206b"
   },
   "outputs": [],
   "source": [
    "def stem(text):\n",
    "    y = []\n",
    "\n",
    "    for i in text.split():\n",
    "        y.append(ps.stem(i))\n",
    "\n",
    "    return \" \".join(y)"
   ]
  },
  {
   "cell_type": "code",
   "execution_count": 61,
   "id": "3258d516-ad1e-4ec2-9b51-021fa43474d7",
   "metadata": {
    "colab": {
     "base_uri": "https://localhost:8080/"
    },
    "id": "3258d516-ad1e-4ec2-9b51-021fa43474d7",
    "outputId": "1c795a74-531d-4594-bfde-859c944c3b3f"
   },
   "outputs": [
    {
     "name": "stderr",
     "output_type": "stream",
     "text": [
      "C:\\Users\\USER\\AppData\\Local\\Temp\\ipykernel_12036\\3213734980.py:1: SettingWithCopyWarning: \n",
      "A value is trying to be set on a copy of a slice from a DataFrame.\n",
      "Try using .loc[row_indexer,col_indexer] = value instead\n",
      "\n",
      "See the caveats in the documentation: https://pandas.pydata.org/pandas-docs/stable/user_guide/indexing.html#returning-a-view-versus-a-copy\n",
      "  new_df['tags'] = new_df['tags'].apply(stem)\n"
     ]
    }
   ],
   "source": [
    "new_df['tags'] = new_df['tags'].apply(stem)"
   ]
  },
  {
   "cell_type": "code",
   "execution_count": null,
   "id": "cd50bd11-ff81-45ae-b935-836df51c5f57",
   "metadata": {
    "id": "cd50bd11-ff81-45ae-b935-836df51c5f57"
   },
   "outputs": [],
   "source": []
  },
  {
   "cell_type": "code",
   "execution_count": 62,
   "id": "388a728d-448f-4de8-b06c-6995ec0bfc13",
   "metadata": {
    "colab": {
     "base_uri": "https://localhost:8080/",
     "height": 70
    },
    "id": "388a728d-448f-4de8-b06c-6995ec0bfc13",
    "outputId": "09eb58cf-12fc-4c85-c569-1da914e32286"
   },
   "outputs": [
    {
     "data": {
      "text/plain": [
       "'in the 22nd century, a parapleg marin is dispatch to the moon pandora on a uniqu mission, but becom torn between follow order and protect an alien civilization. action adventur fantasi sciencefict cultureclash futur spacewar spacecoloni societi spacetravel futurist romanc space alien tribe alienplanet cgi marin soldier battl loveaffair antiwar powerrel mindandsoul 3d sam worthington zoe saldana sigourney weaver jame cameron'"
      ]
     },
     "execution_count": 62,
     "metadata": {},
     "output_type": "execute_result"
    }
   ],
   "source": [
    "new_df['tags'][0]"
   ]
  },
  {
   "cell_type": "code",
   "execution_count": 63,
   "id": "73187f34-0541-4f46-8584-9f4f46e32cd4",
   "metadata": {
    "colab": {
     "base_uri": "https://localhost:8080/"
    },
    "id": "73187f34-0541-4f46-8584-9f4f46e32cd4",
    "outputId": "4f783586-a090-435b-ccac-b57ad197cc6b"
   },
   "outputs": [
    {
     "name": "stderr",
     "output_type": "stream",
     "text": [
      "C:\\Users\\USER\\AppData\\Local\\Temp\\ipykernel_12036\\1677942678.py:2: SettingWithCopyWarning: \n",
      "A value is trying to be set on a copy of a slice from a DataFrame.\n",
      "Try using .loc[row_indexer,col_indexer] = value instead\n",
      "\n",
      "See the caveats in the documentation: https://pandas.pydata.org/pandas-docs/stable/user_guide/indexing.html#returning-a-view-versus-a-copy\n",
      "  new_df['tags'] = new_df['tags'].apply(lambda x:x.lower())\n"
     ]
    }
   ],
   "source": [
    "# tags column convert it to lower case\n",
    "new_df['tags'] = new_df['tags'].apply(lambda x:x.lower())"
   ]
  },
  {
   "cell_type": "code",
   "execution_count": 64,
   "id": "0852bc5b-ceff-4997-b797-92d74658f6d0",
   "metadata": {
    "colab": {
     "base_uri": "https://localhost:8080/",
     "height": 206
    },
    "id": "0852bc5b-ceff-4997-b797-92d74658f6d0",
    "outputId": "4280d671-067e-406d-85eb-1b2784919d36",
    "scrolled": true
   },
   "outputs": [
    {
     "data": {
      "text/html": [
       "<div>\n",
       "<style scoped>\n",
       "    .dataframe tbody tr th:only-of-type {\n",
       "        vertical-align: middle;\n",
       "    }\n",
       "\n",
       "    .dataframe tbody tr th {\n",
       "        vertical-align: top;\n",
       "    }\n",
       "\n",
       "    .dataframe thead th {\n",
       "        text-align: right;\n",
       "    }\n",
       "</style>\n",
       "<table border=\"1\" class=\"dataframe\">\n",
       "  <thead>\n",
       "    <tr style=\"text-align: right;\">\n",
       "      <th></th>\n",
       "      <th>movie_id</th>\n",
       "      <th>title</th>\n",
       "      <th>tags</th>\n",
       "      <th>actorsandactress</th>\n",
       "      <th>vote_average</th>\n",
       "    </tr>\n",
       "  </thead>\n",
       "  <tbody>\n",
       "    <tr>\n",
       "      <th>0</th>\n",
       "      <td>19995</td>\n",
       "      <td>Avatar</td>\n",
       "      <td>in the 22nd century, a parapleg marin is dispa...</td>\n",
       "      <td>Sam Worthington Zoe Saldana Sigourney Weaver</td>\n",
       "      <td>7.2</td>\n",
       "    </tr>\n",
       "    <tr>\n",
       "      <th>1</th>\n",
       "      <td>285</td>\n",
       "      <td>Pirates of the Caribbean: At World's End</td>\n",
       "      <td>captain barbossa, long believ to be dead, ha c...</td>\n",
       "      <td>Johnny Depp Orlando Bloom Keira Knightley</td>\n",
       "      <td>6.9</td>\n",
       "    </tr>\n",
       "    <tr>\n",
       "      <th>2</th>\n",
       "      <td>206647</td>\n",
       "      <td>Spectre</td>\n",
       "      <td>a cryptic messag from bond’ past send him on a...</td>\n",
       "      <td>Daniel Craig Christoph Waltz Léa Seydoux</td>\n",
       "      <td>6.3</td>\n",
       "    </tr>\n",
       "    <tr>\n",
       "      <th>3</th>\n",
       "      <td>49026</td>\n",
       "      <td>The Dark Knight Rises</td>\n",
       "      <td>follow the death of district attorney harvey d...</td>\n",
       "      <td>Christian Bale Michael Caine Gary Oldman</td>\n",
       "      <td>7.6</td>\n",
       "    </tr>\n",
       "    <tr>\n",
       "      <th>4</th>\n",
       "      <td>49529</td>\n",
       "      <td>John Carter</td>\n",
       "      <td>john carter is a war-weary, former militari ca...</td>\n",
       "      <td>Taylor Kitsch Lynn Collins Samantha Morton</td>\n",
       "      <td>6.1</td>\n",
       "    </tr>\n",
       "  </tbody>\n",
       "</table>\n",
       "</div>"
      ],
      "text/plain": [
       "   movie_id                                     title  \\\n",
       "0     19995                                    Avatar   \n",
       "1       285  Pirates of the Caribbean: At World's End   \n",
       "2    206647                                   Spectre   \n",
       "3     49026                     The Dark Knight Rises   \n",
       "4     49529                               John Carter   \n",
       "\n",
       "                                                tags  \\\n",
       "0  in the 22nd century, a parapleg marin is dispa...   \n",
       "1  captain barbossa, long believ to be dead, ha c...   \n",
       "2  a cryptic messag from bond’ past send him on a...   \n",
       "3  follow the death of district attorney harvey d...   \n",
       "4  john carter is a war-weary, former militari ca...   \n",
       "\n",
       "                               actorsandactress  vote_average  \n",
       "0  Sam Worthington Zoe Saldana Sigourney Weaver           7.2  \n",
       "1     Johnny Depp Orlando Bloom Keira Knightley           6.9  \n",
       "2      Daniel Craig Christoph Waltz Léa Seydoux           6.3  \n",
       "3      Christian Bale Michael Caine Gary Oldman           7.6  \n",
       "4    Taylor Kitsch Lynn Collins Samantha Morton           6.1  "
      ]
     },
     "execution_count": 64,
     "metadata": {},
     "output_type": "execute_result"
    }
   ],
   "source": [
    "new_df.head()"
   ]
  },
  {
   "cell_type": "code",
   "execution_count": 65,
   "id": "485fc707-5ab6-4669-a6dc-fcd7898bfc90",
   "metadata": {
    "id": "485fc707-5ab6-4669-a6dc-fcd7898bfc90"
   },
   "outputs": [],
   "source": [
    "# Text Vectorization"
   ]
  },
  {
   "cell_type": "code",
   "execution_count": 66,
   "id": "ac08bae6-8e46-4e93-b1a4-aa0a43785498",
   "metadata": {
    "id": "ac08bae6-8e46-4e93-b1a4-aa0a43785498"
   },
   "outputs": [],
   "source": [
    "from sklearn.feature_extraction.text import CountVectorizer\n",
    "\n",
    "cv = CountVectorizer(max_features=5000, stop_words='english')\n"
   ]
  },
  {
   "cell_type": "code",
   "execution_count": 67,
   "id": "4b0b5d37-3bce-4d54-a2b6-bfc4280f6511",
   "metadata": {
    "id": "4b0b5d37-3bce-4d54-a2b6-bfc4280f6511"
   },
   "outputs": [],
   "source": [
    "vectors = cv.fit_transform(new_df['tags']).toarray()"
   ]
  },
  {
   "cell_type": "code",
   "execution_count": 68,
   "id": "47f948aa-9c4f-4996-9581-fa983f25a117",
   "metadata": {
    "colab": {
     "base_uri": "https://localhost:8080/"
    },
    "id": "47f948aa-9c4f-4996-9581-fa983f25a117",
    "outputId": "8d1376f5-89e8-4910-ccf2-3ffc844cf72c"
   },
   "outputs": [
    {
     "data": {
      "text/plain": [
       "array([[0, 0, 0, ..., 0, 0, 0],\n",
       "       [0, 0, 0, ..., 0, 0, 0],\n",
       "       [0, 0, 0, ..., 0, 0, 0],\n",
       "       ...,\n",
       "       [0, 0, 0, ..., 0, 0, 0],\n",
       "       [0, 0, 0, ..., 0, 0, 0],\n",
       "       [0, 0, 0, ..., 0, 0, 0]], dtype=int64)"
      ]
     },
     "execution_count": 68,
     "metadata": {},
     "output_type": "execute_result"
    }
   ],
   "source": [
    "vectors"
   ]
  },
  {
   "cell_type": "code",
   "execution_count": 69,
   "id": "a1eea5e1-36b1-4bae-86b0-1e6f72857a8e",
   "metadata": {
    "colab": {
     "base_uri": "https://localhost:8080/"
    },
    "id": "a1eea5e1-36b1-4bae-86b0-1e6f72857a8e",
    "outputId": "7e042961-60e0-47c6-bb67-81e87362d980"
   },
   "outputs": [
    {
     "data": {
      "text/plain": [
       "array([0, 0, 0, ..., 0, 0, 0], dtype=int64)"
      ]
     },
     "execution_count": 69,
     "metadata": {},
     "output_type": "execute_result"
    }
   ],
   "source": [
    "vectors[0]"
   ]
  },
  {
   "cell_type": "code",
   "execution_count": 70,
   "id": "3d217967-29b6-49a1-bfb2-3cd7e42dfba1",
   "metadata": {
    "id": "3d217967-29b6-49a1-bfb2-3cd7e42dfba1",
    "scrolled": true
   },
   "outputs": [],
   "source": [
    "feature_names = cv.get_feature_names_out()"
   ]
  },
  {
   "cell_type": "code",
   "execution_count": 71,
   "id": "c7ca443d-603a-4526-92a4-96dbb7699da5",
   "metadata": {
    "colab": {
     "base_uri": "https://localhost:8080/"
    },
    "id": "c7ca443d-603a-4526-92a4-96dbb7699da5",
    "outputId": "452c946d-f900-4d8b-8d94-9bad7549fb52"
   },
   "outputs": [
    {
     "name": "stdout",
     "output_type": "stream",
     "text": [
      "['000', '007', '10', '100', '11', '12', '13', '14', '15', '16', '17', '18', '18th', '19', '1910', '1920', '1930', '1940', '1950', '1950s', '1960', '1960s', '1970', '1970s', '1980', '1985', '1990', '19th', '19thcenturi', '20', '200', '2009', '20th', '24', '25', '30', '300', '3d', '40', '50', '500', '60', '70', 'aaron', 'abandon', 'abbi', 'abduct', 'abigail', 'abil', 'abl', 'aboard', 'abov', 'abraham', 'abus', 'academ', 'academi', 'accept', 'access', 'accid', 'accident', 'acclaim', 'accompani', 'accomplish', 'account', 'accus', 'ace', 'achiev', 'act', 'action', 'actionhero', 'activ', 'activist', 'activities', 'actor', 'actress', 'actual', 'adam', 'adapt', 'add', 'addict', 'adjust', 'admir', 'admit', 'adolesc', 'adopt', 'ador', 'adrian', 'adrien', 'adult', 'adulteri', 'adulthood', 'advanc', 'adventur', 'adventure', 'advertis', 'advic', 'advis', 'affair', 'affect', 'affleck', 'afghanistan', 'africa', 'african', 'africanamerican', 'aftercreditssting', 'afterlif', 'aftermath', 'ag', 'age', 'agediffer', 'agency', 'agenda', 'agent', 'agents', 'aggress', 'ago', 'agre', 'ahead', 'aid', 'aidan', 'ail', 'aim', 'air', 'airplan', 'airplanecrash', 'airport', 'aka', 'al', 'alabama', 'alan', 'alaska', 'alba', 'albert', 'alcatraz', 'alcohol', 'alec', 'alejandro', 'alex', 'alexand', 'alexandra', 'alexi', 'alfr', 'ali', 'alic', 'alice', 'alicia', 'alien', 'alieninvas', 'alienlife', 'aliens', 'alik', 'alison', 'aliv', 'alive', 'allan', 'allen', 'alli', 'allianc', 'allison', 'allow', 'alon', 'alongsid', 'alpha', 'alreadi', 'alter', 'altern', 'alway', 'alyssa', 'alzheimer', 'amanda', 'amateur', 'amaz', 'ambassador', 'amber', 'ambit', 'ambiti', 'ambul', 'ambush', 'america', 'american', 'americanabroad', 'americanfootbal', 'ami', 'amid', 'amidst', 'amnesia', 'amp', 'amsterdam', 'amus', 'amusementpark', 'amy', 'ana', 'analyst', 'anarchiccomedi', 'ancient', 'ancientrom', 'ancientworld', 'anderson', 'andi', 'andrea', 'andrew', 'android', 'andré', 'andy', 'ang', 'angarano', 'angel', 'angela', 'angeles', 'angelina', 'anger', 'angri', 'ani', 'anim', 'animalattack', 'animalhorror', 'animals', 'aniston', 'ann', 'anna', 'annabel', 'anne', 'annett', 'anni', 'annie', 'announc', 'annual', 'anonym', 'anoth', 'answer', 'ant', 'antholog', 'anthoni', 'anthropomorph', 'anti', 'antihero', 'antoin', 'anton', 'antonio', 'anyon', 'anyth', 'apart', 'apartheid', 'apartment', 'ape', 'apocalyps', 'apocalypt', 'appar', 'appear', 'appl', 'appleg', 'appoint', 'appreci', 'apprentic', 'approach', 'april', 'arab', 'arch', 'archaeologist', 'archer', 'architect', 'arctic', 'area', 'aren', 'arena', 'argument', 'aris', 'aristocrat', 'arkin', 'arm', 'armi', 'armor', 'armsdeal', 'armstrong', 'army', 'arnold', 'arquett', 'arrang', 'arrangedmarriag', 'arrest', 'arriv', 'arrog', 'art', 'arthur', 'artifact', 'artifici', 'artificialintellig', 'artist', 'ash', 'ashley', 'ashton', 'asia', 'asid', 'ask', 'aspir', 'assassin', 'assault', 'assembl', 'assign', 'assist', 'assistant', 'associ', 'assum', 'asteroid', 'astin', 'astronaut', 'asylum', 'athlet', 'atkin', 'atom', 'atomicbomb', 'attack', 'attacks', 'attempt', 'attend', 'attent', 'attitud', 'attorney', 'attract', 'auction', 'audienc', 'audit', 'audrey', 'august', 'aunt', 'austin', 'australia', 'australian', 'author', 'autism', 'auto', 'aveng', 'averag', 'avoid', 'await', 'awaken', 'award', 'away', 'awkward', 'awri', 'awry', 'ax', 'aykroyd', 'babe', 'babi', 'baby', 'bachchan', 'bachelor', 'backdrop', 'background', 'backpack', 'bacon', 'bad', 'bag', 'bahama', 'bail', 'bailey', 'baker', 'balanc', 'baldwin', 'bale', 'ball', 'ballet', 'balloon', 'bana', 'band', 'bandera', 'bandit', 'bangkok', 'banish', 'bank', 'banker', 'bankrobb', 'bankrobberi', 'bar', 'barbara', 'bardem', 'bare', 'bargain', 'barn', 'barney', 'baron', 'barri', 'barrymor', 'bart', 'bas', 'base', 'basebal', 'basedoncomicbook', 'basedongraphicnovel', 'basedonnovel', 'basedonplay', 'basedonstagemus', 'basedontrueev', 'basedontruestori', 'basedontvseri', 'basedonvideogam', 'basedonyoungadultnovel', 'basement', 'basing', 'basketbal', 'bassett', 'bate', 'bateman', 'batman', 'battl', 'battle', 'battlefield', 'bay', 'beach', 'bean', 'bear', 'beard', 'beast', 'beat', 'beatti', 'beauti', 'beautiful', 'beautifulwoman', 'beauty', 'becam', 'becaus', 'beck', 'becker', 'becki', 'beckinsal', 'becom', 'becominganadult', 'bed', 'bedroom', 'bee', 'beer', 'befor', 'befriend', 'began', 'begin', 'begins', 'behavior', 'belief', 'believ', 'bell', 'bella', 'bello', 'belong', 'belov', 'ben', 'bend', 'bene', 'beneath', 'benefit', 'benicio', 'benjamin', 'bennett', 'bent', 'bentley', 'berg', 'bergman', 'berlin', 'bernal', 'berni', 'berri', 'best', 'bestfriend', 'bet', 'beth', 'betray', 'bett', 'bettani', 'better', 'betti', 'beverli', 'bibl', 'biel', 'big', 'bigg', 'bigger', 'biggest', 'biker', 'bikini', 'billi', 'billionair', 'biographi', 'biolog', 'bird', 'birth', 'birthday', 'bisexu', 'bishop', 'bit', 'bite', 'bitter', 'bizarr', 'black', 'blackmag', 'blackmail', 'blackpeopl', 'blade', 'blair', 'blake', 'blame', 'blanchett', 'bledel', 'blend', 'blind', 'bliss', 'block', 'blond', 'blood', 'bloodi', 'bloodsplatt', 'bloodthirsti', 'bloom', 'blow', 'blue', 'blunt', 'board', 'boardingschool', 'boat', 'bob', 'bobbi', 'bodi', 'body', 'bodyguard', 'bold', 'bollywood', 'bomb', 'bond', 'bone', 'bonham', 'bonni', 'book', 'booth', 'border', 'bore', 'boredom', 'born', 'boss', 'boston', 'bosworth', 'botch', 'bound', 'boundari', 'bounti', 'bountyhunt', 'bower', 'bowman', 'box', 'boxer', 'boy', 'boyd', 'boyfriend', 'boyl', 'boys', 'brad', 'bradford', 'bradley', 'brain', 'branagh', 'brand', 'brando', 'brandon', 'bratt', 'brave', 'braveri', 'brazil', 'brazilian', 'break', 'breakdown', 'breast', 'breath', 'breed', 'brenda', 'brendan', 'brent', 'breslin', 'brett', 'brian', 'bride', 'bridesmaid', 'bridg', 'bridget', 'brie', 'brief', 'brien', 'bright', 'brilliant', 'bring', 'brink', 'britain', 'british', 'britishsecretservic', 'britt', 'brittani', 'broadbent', 'broadcast', 'broadway', 'broderick', 'brodi', 'broke', 'broken', 'broker', 'brolin', 'brook', 'brooklyn', 'broom', 'brosnan', 'brothel', 'brother', 'brotherbrotherrelationship', 'brothers', 'brothersisterrelationship', 'brought', 'brown', 'bruce', 'bruno', 'brutal', 'bryan', 'bryce', 'bu', 'buck', 'bud', 'buddi', 'buddy', 'buddycomedi', 'budget', 'build', 'building', 'built', 'bullet', 'bulli', 'bullock', 'bumbl', 'bunni', 'burglar', 'buri', 'burk', 'burn', 'burstyn', 'burt', 'burton', 'buscemi', 'bush', 'busi', 'business', 'businessman', 'bust', 'butcher', 'butler', 'butt', 'buy', 'buzz', 'byrn', 'caan', 'cabin', 'cabl', 'caesar', 'cage', 'cain', 'cairo', 'cal', 'california', 'calvin', 'camcord', 'came', 'camera', 'cameraman', 'cameron', 'camp', 'campaign', 'campbel', 'campbell', 'campu', 'canada', 'canadian', 'cancer', 'candi', 'candid', 'canin', 'cannib', 'cannon', 'capabl', 'capit', 'capt', 'captain', 'captiv', 'captur', 'car', 'caraccid', 'carchas', 'carcrash', 'card', 'care', 'career', 'carefre', 'carel', 'caretak', 'carey', 'cari', 'caribbean', 'carjourney', 'carl', 'carla', 'carlo', 'carmen', 'carol', 'carolin', 'carolina', 'carpent', 'carrac', 'carradin', 'carrey', 'carri', 'carrie', 'carrol', 'cartel', 'carter', 'cartoon', 'case', 'casey', 'cash', 'casino', 'cassidi', 'cast', 'castl', 'castle', 'cat', 'cataclysm', 'catastroph', 'catch', 'cate', 'catherin', 'cathol', 'catholic', 'cattl', 'caught', 'caus', 'cavalri', 'cave', 'caviezel', 'cedric', 'celebr', 'cellphon', 'cemeteri', 'center', 'central', 'centuri', 'centuries', 'century', 'certain', 'chad', 'chain', 'chainsaw', 'challeng', 'chamber', 'champion', 'championship', 'chan', 'chanc', 'chance', 'chang', 'change', 'changes', 'chao', 'chaos', 'chaotic', 'chapter', 'charact', 'character', 'characters', 'charg', 'charismat', 'charl', 'charli', 'charlie', 'charliz', 'charlott', 'charm', 'chart', 'chase', 'chastain', 'chauffeur', 'chazz', 'cheadl', 'cheat', 'check', 'cheerlead', 'chef', 'chelsea', 'chemic', 'chen', 'cher', 'cheryl', 'chestnut', 'chevi', 'chicago', 'chicken', 'chief', 'child', 'childabus', 'childhero', 'childhood', 'children', 'chill', 'china', 'chines', 'chip', 'chipmunk', 'chiwetel', 'chloe', 'chloë', 'chocol', 'choic', 'choice', 'choos', 'chopra', 'chosen', 'chow', 'chri', 'christ', 'christensen', 'christian', 'christin', 'christina', 'christma', 'christmas', 'christmasparti', 'christoph', 'chronicl', 'chuck', 'church', 'cia', 'ciarán', 'cigarettesmok', 'cillian', 'cinema', 'circl', 'circu', 'circuit', 'circumst', 'citi', 'citizen', 'city', 'civil', 'civilian', 'civilwar', 'claim', 'clair', 'clan', 'clark', 'clash', 'class', 'classic', 'classmat', 'classroom', 'claud', 'claudia', 'clay', 'clean', 'clear', 'clerk', 'client', 'cliff', 'climat', 'climb', 'clint', 'clive', 'clock', 'clone', 'clooney', 'close', 'closer', 'cloud', 'clown', 'club', 'clue', 'clueless', 'clutch', 'coach', 'coast', 'cocain', 'code', 'codi', 'coen', 'coffin', 'cohen', 'col', 'cold', 'coldwar', 'cole', 'coleman', 'colin', 'collaps', 'colleagu', 'collect', 'collector', 'colleg', 'college', 'collett', 'collid', 'collin', 'collis', 'colonel', 'coloni', 'color', 'colorado', 'columbu', 'coma', 'combat', 'combin', 'come', 'comeback', 'comed', 'comedi', 'comedian', 'comedy', 'comet', 'comfort', 'comic', 'coming', 'comingofag', 'comingout', 'command', 'commando', 'commerci', 'commit', 'common', 'commun', 'community', 'compani', 'companion', 'company', 'compet', 'competit', 'competition', 'complet', 'complex', 'complic', 'compos', 'comput', 'computerviru', 'conan', 'concern', 'concert', 'condit', 'confess', 'confid', 'confin', 'conflict', 'confront', 'confus', 'congress', 'conman', 'connect', 'connel', 'connelli', 'conneri', 'conni', 'connor', 'conquer', 'conrad', 'consequ', 'consequences', 'conserv', 'consid', 'conspir', 'conspiraci', 'conspiracy', 'constant', 'constantli', 'construct', 'consum', 'contact', 'contain', 'contemporari', 'contend', 'contest', 'continu', 'contract', 'control', 'controversi', 'convent', 'convers', 'convict', 'convinc', 'cook', 'cool', 'cooper', 'cop', 'cope', 'coppola', 'cops', 'corbin', 'core', 'corey', 'corner', 'corp', 'corpor', 'corporation', 'corps', 'corrupt', 'cost', 'costa', 'costner', 'costum', 'couldn', 'counselor', 'count', 'countess', 'countless', 'countri', 'country', 'countryhous', 'countrymus', 'countrysid', 'coup', 'coupl', 'couple', 'courag', 'cours', 'court', 'courtcas', 'courteney', 'courtney', 'courtroom', 'cousin', 'cover', 'covert', 'cow', 'cowardli', 'cowboy', 'cox', 'coyot', 'crab', 'crack', 'craft', 'craig', 'crane', 'crash', 'crave', 'craven', 'crawford', 'crazi', 'creat', 'creation', 'creativ', 'creator', 'creatur', 'creature', 'creatures', 'credit', 'creepi', 'crew', 'cri', 'crime', 'crimefight', 'crimes', 'crimin', 'criminal', 'criminals', 'crisi', 'crisis', 'critic', 'crocodil', 'cronenberg', 'crook', 'cross', 'crow', 'crowd', 'crown', 'crudup', 'cruel', 'cruelti', 'cruis', 'crusad', 'crush', 'cruz', 'crystal', 'cuba', 'cube', 'culkin', 'culmin', 'cult', 'cultfilm', 'cultur', 'culture', 'cultureclash', 'cum', 'cun', 'cup', 'cure', 'current', 'curs', 'curse', 'curti', 'cusack', 'custodi', 'custom', 'cut', 'cuttingthecord', 'cyberpunk', 'cyborg', 'cynic', 'cyru', 'dad', 'dafo', 'daili', 'dakota', 'dale', 'damag', 'damien', 'damm', 'damon', 'dan', 'dana', 'danc', 'dancer', 'dane', 'danger', 'daniel', 'danni', 'danny', 'dano', 'dant', 'dare', 'dark', 'darkcomedi', 'darkest', 'darnel', 'darren', 'daryl', 'dash', 'date', 'daughter', 'dave', 'davi', 'david', 'davidson', 'dawn', 'dawson', 'dax', 'day', 'daydream', 'days', 'dc', 'dccomic', 'dea', 'dead', 'deadli', 'deaf', 'deal', 'dealer', 'dean', 'death', 'deathofafriend', 'deathpenalti', 'deborah', 'debt', 'debut', 'decad', 'decapit', 'deceas', 'deceit', 'decept', 'decid', 'decis', 'declar', 'dedic', 'deed', 'deep', 'deeper', 'deepli', 'defeat', 'defend', 'defens', 'defi', 'del', 'delight', 'deliv', 'deliveri', 'delus', 'demand', 'demi', 'demon', 'demonicpossess', 'demons', 'dench', 'deni', 'denis', 'denni', 'dentist', 'denzel', 'depart', 'depend', 'depict', 'depp', 'depress', 'depth', 'deputi', 'derang', 'derek', 'dern', 'descend', 'deschanel', 'describ', 'desert', 'design', 'desir', 'desk', 'desol', 'despair', 'desper', 'despit', 'destin', 'destini', 'destiny', 'destroy', 'destroyed', 'destruct', 'destruction', 'detect', 'detective', 'determin', 'detroit', 'devast', 'develop', 'devic', 'devil', 'devis', 'devito', 'devon', 'devot', 'diabol', 'dialogu', 'diamond', 'dian', 'diana', 'diari', 'diaz', 'dicaprio', 'dick', 'dictat', 'did', 'didn', 'die', 'died', 'diego', 'dies', 'diesel', 'differ', 'different', 'difficult', 'dig', 'dilemma', 'dillon', 'diner', 'dinner', 'dinosaur', 'dire', 'direct', 'director', 'dirt', 'dirti', 'dirtycop', 'disabl', 'disappear', 'disappears', 'disast', 'disaster', 'disastr', 'discov', 'discoveri', 'diseas', 'disease', 'disfigur', 'disgrac', 'disguis', 'dishonesti', 'disillus', 'disney', 'disord', 'dispatch', 'disrupt', 'distant', 'district', 'distrust', 'disturb', 'ditch', 'diva', 'dive', 'divid', 'divis', 'divorc', 'divorce', 'dj', 'dna', 'doc', 'doctor', 'document', 'documentari', 'doe', 'doesn', 'dog', 'doll', 'dollar', 'dolphin', 'dom', 'domest', 'domin', 'don', 'donald', 'donnel', 'donner', 'donni', 'donovan', 'doom', 'door', 'dorff', 'dorothi', 'doubl', 'double', 'doublecross', 'doublelif', 'doubt', 'doug', 'dougla', 'downey', 'dr', 'dracula', 'drag', 'dragon', 'drake', 'drama', 'dramat', 'draw', 'drawn', 'dread', 'dream', 'dreams', 'dress', 'drew', 'dreyfuss', 'drift', 'drifter', 'drink', 'drive', 'driven', 'driver', 'drop', 'drown', 'drug', 'drugabus', 'drugaddict', 'drugdeal', 'druglord', 'drugs', 'drugsmuggl', 'drugtraff', 'drunk', 'drunken', 'du', 'dualident', 'duchovni', 'dude', 'duel', 'duff', 'dugan', 'duke', 'dump', 'duncan', 'dunn', 'dunst', 'duo', 'duplass', 'dure', 'duringcreditssting', 'dustin', 'dutch', 'duti', 'duval', 'dwarv', 'dwayn', 'dyinganddeath', 'dylan', 'dynam', 'dysfunct', 'dysfunctionalfamili', 'dystopia', 'dystopicfutur', 'eager', 'earl', 'earli', 'earlier', 'earn', 'earth', 'earthquak', 'easi', 'east', 'eastwood', 'eat', 'eccentr', 'eckhart', 'econom', 'economi', 'ed', 'eddi', 'edg', 'edgar', 'edgerton', 'editor', 'educ', 'edward', 'effect', 'effort', 'efron', 'egg', 'ego', 'egoyan', 'egypt', 'egyptian', 'eisenberg', 'ejiofor', 'el', 'elabor', 'elba', 'elderli', 'elect', 'element', 'elena', 'elev', 'elia', 'elijah', 'elimin', 'elisabeth', 'elit', 'elite', 'eliza', 'elizabeth', 'ell', 'ella', 'ellen', 'elli', 'elliot', 'elliott', 'els', 'elud', 'elus', 'elv', 'elvi', 'elw', 'embark', 'embassi', 'embroil', 'emerg', 'emigr', 'emil', 'emili', 'emilio', 'emma', 'emmanuel', 'emmerich', 'emot', 'emperor', 'empir', 'empire', 'employ', 'employe', 'employer', 'enabl', 'enchant', 'encount', 'encourag', 'end', 'endless', 'endoftheworld', 'endur', 'enemi', 'enemies', 'enemy', 'energi', 'enforc', 'engag', 'engin', 'england', 'english', 'englund', 'enigmat', 'enjoy', 'enlist', 'enorm', 'enrol', 'ensemblecast', 'ensu', 'ensues', 'ensur', 'entangl', 'enter', 'enterpris', 'entertain', 'entir', 'entiti', 'environ', 'environment', 'epic', 'epidem', 'episod', 'epp', 'equal', 'era', 'eric', 'erin', 'ernest', 'erotic', 'erupt', 'escap', 'escapad', 'escape', 'escort', 'especi', 'espionag', 'establish', 'estat', 'esther', 'estrang', 'etern', 'ethan', 'ethic', 'eugen', 'europ', 'european', 'eva', 'evacu', 'evad', 'evan', 'eve', 'event', 'events', 'eventu', 'everett', 'everi', 'everybodi', 'everyday', 'everyon', 'everyth', 'evid', 'evil', 'evolut', 'evolv', 'ewan', 'ex', 'exact', 'exactli', 'examin', 'exchang', 'excit', 'exclus', 'execut', 'exercis', 'exhibit', 'exil', 'exist', 'existence', 'existenti', 'exorc', 'exot', 'exoticisland', 'expect', 'expected', 'expedit', 'experi', 'experienc', 'experiment', 'expert', 'explain', 'explod', 'exploit', 'explor', 'explos', 'expos', 'extra', 'extramaritalaffair', 'extraordinari', 'extraterrestri', 'extraterrestrialtechnolog', 'extrem', 'extremeviol', 'eye', 'eyes', 'fabl', 'fac', 'face', 'facil', 'fact', 'faction', 'factori', 'fade', 'fail', 'fairi', 'fairytal', 'faith', 'fake', 'falcon', 'fall', 'fallen', 'fallinginlov', 'fals', 'falseident', 'falselyaccus', 'fame', 'famili', 'families', 'family', 'familyrelationship', 'famk', 'famou', 'fan', 'fangvamp', 'fantasi', 'fantast', 'fantasyworld', 'far', 'farewel', 'fari', 'farm', 'farmer', 'farmiga', 'farrel', 'farrelli', 'fascin', 'fashion', 'fassbend', 'fast', 'faster', 'fat', 'fatal', 'fate', 'father', 'fatherdaughterrelationship', 'fathersonrelationship', 'favor', 'favorit', 'favreau', 'fay', 'fbi', 'fbiagent', 'fear', 'fearless', 'fearsom', 'featur', 'feder', 'feel', 'feet', 'feldman', 'fellow', 'femal', 'female', 'femalefriendship', 'femalenud', 'femaleprotagonist', 'fend', 'ferguson', 'fernando', 'ferrel', 'festiv', 'festival', 'feud', 'fi', 'fiancé', 'fiction', 'fictionalplac', 'field', 'fienn', 'fierc', 'fifth', 'fight', 'fighter', 'figur', 'file', 'film', 'filmdirector', 'filmmak', 'filmproduc', 'films', 'final', 'financ', 'financi', 'finch', 'fincher', 'fine', 'finish', 'finn', 'firm', 'firth', 'fish', 'fishburn', 'fisher', 'fisherman', 'fishoutofwat', 'fistfight', 'fit', 'fix', 'flame', 'flashback', 'flat', 'flee', 'fleme', 'flesh', 'fletcher', 'fli', 'flight', 'fling', 'flint', 'flirt', 'flood', 'florida', 'flower', 'flyingsauc', 'flynn', 'focu', 'focus', 'foe', 'foil', 'foley', 'folk', 'follow', 'fonda', 'food', 'foot', 'footag', 'footbal', 'footchas', 'forbidden', 'forbiddenlov', 'forc', 'force', 'forces', 'ford', 'foreign', 'forest', 'forev', 'forever', 'forg', 'forget', 'forgiv', 'form', 'formid', 'formula', 'forster', 'forsyth', 'fort', 'fortun', 'fortune', 'fortunetel', 'forward', 'foster', 'fought', 'foundfootag', 'fourth', 'fox', 'foxx', 'frake', 'frame', 'franc', 'france', 'franci', 'francisco', 'franco', 'frank', 'frankenstein', 'franki', 'franklin', 'frantic', 'françoi', 'fraser', 'fratern', 'fraud', 'freak', 'frear', 'fred', 'freddi', 'free', 'freedom', 'freeman', 'freez', 'french', 'frequent', 'fresh', 'freshman', 'friend', 'friendli', 'friends', 'friendship', 'frighten', 'frog', 'frontier', 'frost', 'frozen', 'frustrat', 'fu', 'fuel', 'fugit', 'fulfil', 'fulli', 'fun', 'fund', 'funer', 'funeral', 'fuqua', 'furiou', 'futur', 'future', 'futurist', 'ga', 'gabriel', 'gadget', 'gael', 'gain', 'galaxi', 'galifianaki', 'gambl', 'gambler', 'game', 'games', 'gandhi', 'gang', 'gangster', 'garag', 'garcia', 'garcía', 'garden', 'garfield', 'gari', 'garner', 'garrett', 'garri', 'gasstat', 'gate', 'gather', 'gave', 'gavin', 'gay', 'gayrelationship', 'gellar', 'gene', 'gener', 'general', 'generation', 'genet', 'geniu', 'genius', 'gentl', 'geoffrey', 'georg', 'george', 'georgia', 'gerard', 'gere', 'german', 'germani', 'germany', 'getaway', 'ghetto', 'ghost', 'giamatti', 'giant', 'giantrobot', 'gibson', 'gift', 'gig', 'gil', 'gilbert', 'gilliam', 'gillian', 'gina', 'giovanni', 'girl', 'girlfriend', 'girls', 'given', 'glamor', 'glass', 'gleeson', 'glen', 'glenn', 'global', 'globe', 'glori', 'glover', 'goal', 'god', 'goe', 'gold', 'goldberg', 'goldblum', 'golden', 'goldi', 'golf', 'gomez', 'gone', 'gong', 'gonzález', 'good', 'goodman', 'goodvsevil', 'gordon', 'gore', 'gorgeou', 'gorilla', 'gosl', 'gossip', 'got', 'gotham', 'gothamc', 'govern', 'government', 'governor', 'grace', 'grade', 'gradual', 'graduat', 'graham', 'grand', 'grandfath', 'grandfather', 'grandmoth', 'grandmother', 'grant', 'grave', 'gray', 'great', 'greater', 'greatest', 'greec', 'greed', 'greedi', 'greek', 'green', 'greg', 'gregori', 'grew', 'grief', 'griev', 'griffin', 'griffith', 'grim', 'grint', 'grip', 'grisli', 'gross', 'ground', 'group', 'groupoffriend', 'grow', 'growingup', 'grown', 'gruesom', 'gu', 'guard', 'guardian', 'guerrilla', 'guest', 'gugino', 'guid', 'guilt', 'guitar', 'gun', 'gunfight', 'gunman', 'gunsling', 'guru', 'guy', 'guys', 'gwyneth', 'gyllenha', 'gypsi', 'ha', 'hack', 'hacker', 'hackman', 'haden', 'hader', 'hair', 'hal', 'haley', 'half', 'hall', 'halloween', 'hallström', 'hallucin', 'hamilton', 'hammer', 'han', 'hancock', 'hand', 'handl', 'hands', 'handsom', 'handtohandcombat', 'hang', 'hank', 'hannah', 'hanson', 'happen', 'happi', 'happili', 'happiness', 'happy', 'hara', 'harass', 'harbor', 'hard', 'harden', 'hardi', 'hardwick', 'harlem', 'harlin', 'harmoni', 'harold', 'harrelson', 'harri', 'harriet', 'harrison', 'harry', 'harsh', 'hart', 'hartnett', 'harvard', 'harvey', 'hasn', 'hatch', 'hate', 'hathaway', 'haunt', 'hauntedhous', 'haven', 'havoc', 'hawaii', 'hawk', 'hawkin', 'hay', 'hayden', 'hayek', 'haze', 'head', 'headey', 'heal', 'health', 'hear', 'heard', 'heart', 'heartbreak', 'heat', 'heath', 'heather', 'heaven', 'heavili', 'heavymet', 'height', 'heigl', 'heir', 'heiress', 'heist', 'held', 'helen', 'helena', 'helicopt', 'hell', 'helm', 'help', 'hemsworth', 'henchmen', 'henderson', 'henri', 'henson', 'herek', 'herman', 'hero', 'heroes', 'heroic', 'heroin', 'heroism', 'hewitt', 'hewlett', 'hi', 'hick', 'hidden', 'hiddencamera', 'hide', 'high', 'higher', 'highest', 'highland', 'highli', 'highschool', 'highschoolsport', 'highschoolstud', 'highway', 'hijack', 'hike', 'hilari', 'hill', 'himalaya', 'hind', 'hip', 'hippi', 'hire', 'hiroyuki', 'hirsch', 'histor', 'histori', 'historicalfigur', 'history', 'hit', 'hitchcock', 'hitchhik', 'hitman', 'ho', 'hockey', 'hoffman', 'hold', 'holden', 'hole', 'holi', 'holiday', 'holland', 'holli', 'hollywood', 'holm', 'home', 'homeinvas', 'homeland', 'homeless', 'homelessperson', 'hometown', 'homicid', 'homosexu', 'honey', 'honeymoon', 'hong', 'hongkong', 'honor', 'hood', 'hoodlum', 'hook', 'hooper', 'hop', 'hope', 'hopelessli', 'hopkin', 'hopper', 'hord', 'horribl', 'horrif', 'horrifi', 'horror', 'hors', 'horserac', 'hoskin', 'hospit', 'hospital', 'host', 'hostag', 'hostage', 'hostil', 'hot', 'hotel', 'hotelroom', 'hour', 'hous', 'house', 'housewif', 'houston', 'howard', 'howev', 'hudgen', 'hudson', 'huge', 'hugh', 'hugo', 'human', 'humananimalrelationship', 'humanity', 'humankind', 'humans', 'humili', 'humor', 'hundr', 'hunger', 'hungri', 'hunt', 'hunter', 'hurley', 'hurt', 'husband', 'hustler', 'huston', 'hutcherson', 'hutton', 'hypnosi', 'hypnot', 'hyun', 'iain', 'ian', 'ice', 'icon', 'idea', 'ideal', 'idealist', 'ident', 'identity', 'idol', 'idyl', 'ignit', 'ignor', 'ii', 'iii', 'il', 'ill', 'illeg', 'illegaldrug', 'illegalimmigr', 'illegalprostitut', 'illness', 'imag', 'imagin', 'imaginari', 'imagined', 'imax', 'immedi', 'immens', 'immigr', 'immort', 'impact', 'imperi', 'imperson', 'implic', 'import', 'imposs', 'impostor', 'impress', 'imprison', 'inadvert', 'incest', 'incid', 'includ', 'increas', 'increasingli', 'incred', 'independ', 'independentfilm', 'indi', 'india', 'indian', 'indiana', 'indianlead', 'individu', 'industri', 'industry', 'inexplic', 'infam', 'infant', 'infect', 'infidel', 'infiltr', 'influenc', 'inform', 'inhabit', 'inherit', 'initi', 'inject', 'injur', 'injuri', 'inmat', 'inner', 'innoc', 'insan', 'insecur', 'insid', 'insight', 'insist', 'insomnia', 'inspector', 'inspir', 'instal', 'instant', 'instantli', 'instead', 'instinct', 'institution', 'instructor', 'insur', 'insurg', 'intellig', 'intend', 'intens', 'intent', 'intergalact', 'intern', 'internet', 'interpret', 'interrog', 'interspeciesrom', 'intertwin', 'interview', 'intim', 'intoler', 'intrigu', 'introduc', 'invad', 'invas', 'invent', 'inventor', 'invest', 'investig', 'invis', 'invit', 'involv', 'iowa', 'ira', 'iran', 'iranian', 'iraq', 'ireland', 'iren', 'irish', 'iron', 'isaac', 'isabel', 'islam', 'island', 'isn', 'isol', 'isra', 'israel', 'issu', 'itali', 'italian', 'ivan', 'ivori', 'jack', 'jacki', 'jackman', 'jackson', 'jacob', 'jacqu', 'jada', 'jade', 'jai', 'jail', 'jaim', 'jake', 'jame', 'james', 'jami', 'jan', 'jane', 'janet', 'janssen', 'japan', 'japanes', 'jare', 'jason', 'jaum', 'javier', 'jay', 'jazz', 'jealousi', 'jean', 'jeann', 'jedi', 'jeff', 'jeffrey', 'jenkin', 'jenna', 'jenni', 'jennif', 'jeremi', 'jerri', 'jersey', 'jerusalem', 'jess', 'jessica', 'jesu', 'jesus', 'jesuschrist', 'jet', 'jew', 'jewel', 'jewish', 'jigsaw', 'jill', 'jim', 'jimmi', 'jimmy', 'jin', 'joan', 'joaquin', 'job', 'jock', 'jodi', 'joe', 'joel', 'joey', 'johansson', 'john', 'johnni', 'johnny', 'johnson', 'johnston', 'join', 'joli', 'jon', 'jonah', 'jonathan', 'jone', 'jones', 'jonni', 'jordan', 'jordana', 'joseph', 'josh', 'joshua', 'josé', 'journal', 'journalist', 'journey', 'jovovich', 'joy', 'jr', 'juan', 'judd', 'jude', 'judg', 'judi', 'judith', 'juli', 'julia', 'julian', 'juliann', 'juliet', 'juliett', 'juliu', 'jump', 'jung', 'jungl', 'junior', 'junki', 'just', 'justic', 'justice', 'justin', 'kane', 'kang', 'kansa', 'kapoor', 'karat', 'karen', 'kari', 'karl', 'kasdan', 'kat', 'kate', 'katherin', 'kathi', 'kathleen', 'kathryn', 'kati', 'katniss', 'katrina', 'kaufman', 'kay', 'keanu', 'keaton', 'keenen', 'keener', 'keira', 'keitel', 'keith', 'kelley', 'kelli', 'kelly', 'ken', 'kendrick', 'kennedi', 'kenneth', 'kenni', 'kerri', 'kevin', 'key', 'kgb', 'khan', 'kick', 'kid', 'kidman', 'kidnap', 'kidnapp', 'kidnapped', 'kids', 'kidsandfamili', 'kiefer', 'kill', 'killed', 'killer', 'killerrobot', 'killers', 'kilmer', 'kim', 'kimberli', 'kind', 'king', 'kingdom', 'kingpin', 'kingsley', 'kinnear', 'kirbi', 'kirk', 'kirsten', 'kiss', 'kit', 'kitchen', 'klein', 'kline', 'knew', 'knife', 'knight', 'knightley', 'knock', 'know', 'knowledg', 'known', 'knoxvil', 'kong', 'korea', 'korean', 'kotea', 'krasinski', 'kri', 'kristen', 'kristin', 'kristofferson', 'krueger', 'kruger', 'kumar', 'kung', 'kungfu', 'kuni', 'kurt', 'kutcher', 'kyle', 'la', 'lab', 'labeouf', 'labor', 'laboratori', 'lack', 'ladi', 'ladykil', 'laid', 'lake', 'lambert', 'lanc', 'land', 'landscap', 'lane', 'lang', 'languag', 'lapd', 'lara', 'larg', 'larger', 'largest', 'larri', 'larson', 'laser', 'lasergun', 'lass', 'lasvega', 'late', 'later', 'latest', 'latifah', 'laugh', 'launch', 'laura', 'lauren', 'laurenc', 'laurent', 'lauri', 'lavish', 'law', 'lawman', 'lawrenc', 'lawyer', 'lax', 'lay', 'le', 'lea', 'lead', 'leader', 'leagu', 'learn', 'leav', 'led', 'ledger', 'lee', 'left', 'leg', 'legaci', 'legal', 'legend', 'legendari', 'legends', 'legion', 'leguizamo', 'leigh', 'lemmon', 'lena', 'length', 'leo', 'leon', 'leonard', 'leonardo', 'leoni', 'lerman', 'lesbian', 'lesbianrelationship', 'lesli', 'lesson', 'lester', 'let', 'lethal', 'letter', 'level', 'levi', 'levinson', 'levitt', 'lewi', 'lgbt', 'li', 'liam', 'liar', 'liber', 'lie', 'lieuten', 'lif', 'life', 'lifeanddeath', 'lifelong', 'lifestyl', 'lifetim', 'lift', 'light', 'lightn', 'lik', 'like', 'lili', 'lilli', 'limit', 'lin', 'lincoln', 'linda', 'lindsay', 'line', 'lines', 'link', 'linklat', 'linney', 'lion', 'liotta', 'lisa', 'list', 'liter', 'literatur', 'littl', 'littleboy', 'liu', 'liv', 'live', 'lives', 'living', 'liz', 'lizzi', 'll', 'lloyd', 'lo', 'loan', 'local', 'locat', 'lock', 'logan', 'lohan', 'lola', 'lolita', 'london', 'londonengland', 'lone', 'loneli', 'loner', 'long', 'longer', 'longtim', 'look', 'loop', 'loos', 'loose', 'loot', 'lopez', 'lord', 'lori', 'lorrain', 'losangel', 'lose', 'loser', 'loss', 'lossofbroth', 'lossofchild', 'lossoffamili', 'lossoffath', 'lossofhusband', 'lossoflov', 'lossofmoth', 'lossofpar', 'lossofson', 'lost', 'lot', 'lou', 'loui', 'louis', 'louisiana', 'lov', 'love', 'loveatfirstsight', 'lovelett', 'loveofone', 'lover', 'loves', 'lovesick', 'lovetriangl', 'low', 'loyal', 'loyalti', 'lt', 'luc', 'luca', 'luci', 'luck', 'lucki', 'lucy', 'lui', 'luke', 'lure', 'lurk', 'lust', 'luxuri', 'lynch', 'lynn', 'ma', 'mac', 'macdonald', 'macdowel', 'machin', 'machine', 'machinegun', 'maci', 'mad', 'madam', 'madden', 'madea', 'madelin', 'madison', 'madsen', 'mafia', 'magazin', 'maggi', 'magic', 'magician', 'maguir', 'maid', 'mail', 'main', 'maintain', 'major', 'mak', 'make', 'malcolm', 'male', 'malefemalerelationship', 'malefriendship', 'malenud', 'malkovich', 'mall', 'malon', 'man', 'manag', 'manager', 'mandi', 'mangold', 'manhattan', 'manhunt', 'mani', 'maniac', 'manipul', 'mankind', 'mann', 'manner', 'mansion', 'manufactur', 'manvsmachin', 'map', 'mar', 'mara', 'marc', 'march', 'marcia', 'marco', 'marcu', 'margaret', 'mari', 'maria', 'marijuana', 'marilyn', 'marin', 'mario', 'marion', 'marisa', 'mark', 'market', 'marlon', 'marri', 'marriag', 'marriage', 'marriagecrisi', 'marriagepropos', 'married', 'marriedcoupl', 'marsden', 'marsh', 'marshal', 'martha', 'marti', 'martial', 'martialart', 'martian', 'martin', 'martinez', 'marvelcinematicunivers', 'marvelcom', 'marvin', 'mary', 'mask', 'mason', 'mass', 'massacr', 'massiv', 'massmurd', 'master', 'mastermind', 'masturb', 'match', 'mate', 'materi', 'mathemat', 'mathematician', 'mathieu', 'matrix', 'matt', 'matter', 'matthew', 'matur', 'mauric', 'max', 'maya', 'mayb', 'mayhem', 'mayor', 'maze', 'mcadam', 'mcavoy', 'mcbride', 'mccall', 'mccarthi', 'mcclane', 'mcconaughey', 'mccormack', 'mcdermott', 'mcdonald', 'mcgregor', 'mckay', 'mckellen', 'mctiernan', 'meadow', 'mean', 'meanwhil', 'meat', 'mechan', 'media', 'medic', 'medicin', 'mediev', 'meet', 'meg', 'mega', 'megan', 'mekhi', 'mel', 'melani', 'melissa', 'melvin', 'member', 'memoir', 'memori', 'men', 'menac', 'mend', 'mental', 'mentor', 'mephisto', 'mercenari', 'mere', 'mermaid', 'meryl', 'messag', 'met', 'metal', 'meteor', 'method', 'metro', 'mexican', 'mexicanstandoff', 'mexico', 'meyer', 'mia', 'miami', 'michael', 'michel', 'michigan', 'mick', 'mickey', 'mid', 'middl', 'middle', 'middleag', 'middleeast', 'midler', 'midlifecrisi', 'midst', 'midwest', 'miguel', 'mike', 'mila', 'mild', 'mile', 'miley', 'militari', 'milla', 'miller', 'million', 'millionair', 'milo', 'mind', 'miner', 'minist', 'minni', 'minor', 'minut', 'mira', 'miracl', 'miracul', 'miranda', 'mirren', 'mirror', 'misadventur', 'mischiev', 'miser', 'misfit', 'mismatch', 'miss', 'missil', 'missing', 'missingperson', 'mission', 'missionofmurd', 'mississippi', 'mistak', 'mistaken', 'mistakenident', 'mistakenli', 'mistress', 'mitch', 'mitchel', 'mix', 'mob', 'mobster', 'mockumentari', 'model', 'modern', 'mole', 'molina', 'molli', 'mom', 'moment', 'monaghan', 'money', 'monica', 'monk', 'monkey', 'monro', 'monster', 'monstrou', 'montana', 'month', 'moon', 'moonlight', 'moor', 'moore', 'moral', 'moretz', 'morgan', 'morgu', 'mormon', 'morn', 'morri', 'mors', 'mortal', 'mortensen', 'mortim', 'morton', 'moscow', 'mose', 'moseley', 'moss', 'mostli', 'motel', 'mother', 'motherdaughterrelationship', 'motherrol', 'mothersonrelationship', 'motion', 'motiv', 'motor', 'motorcycl', 'mount', 'mountain', 'mous', 'mouth', 'movement', 'movi', 'movie', 'movies', 'moviestar', 'mr', 'mulligan', 'multi', 'multipl', 'multiplestorylin', 'mumblecor', 'mumblegor', 'murder', 'murdered', 'murderer', 'murderhunt', 'murphi', 'murray', 'muse', 'museum', 'music', 'musicband', 'musician', 'musket', 'muslim', 'mut', 'mutant', 'mutat', 'mutini', 'mutual', 'myer', 'mysteri', 'mystery', 'mystic', 'myth', 'mythic', 'mytholog', 'naiv', 'nam', 'nanci', 'nanni', 'naomi', 'narcot', 'narrat', 'nasa', 'nasti', 'natali', 'natasha', 'nate', 'nathan', 'nation', 'nativ', 'nativeamerican', 'natur', 'nature', 'navi', 'navig', 'nazi', 'nazigermani', 'neal', 'near', 'nearbi', 'nearli', 'necessari', 'ned', 'need', 'neeson', 'nefari', 'negoti', 'neighbor', 'neighborhood', 'neil', 'neill', 'nelson', 'nemesis', 'neo', 'nephew', 'nerd', 'nerdi', 'network', 'nevada', 'neve', 'new', 'newborn', 'newfound', 'newident', 'newjersey', 'newli', 'newlov', 'newlyw', 'newman', 'newmexico', 'news', 'newspap', 'newton', 'newyear', 'newyork', 'newyorkc', 'nia', 'nice', 'nichol', 'nichola', 'nicholson', 'nick', 'nicol', 'nicola', 'niec', 'niece', 'nielsen', 'nigel', 'nighi', 'night', 'nightclub', 'nightmar', 'nightmare', 'nightstand', 'nikki', 'nimoy', 'ninja', 'niro', 'noah', 'nobl', 'noir', 'nolan', 'nolt', 'non', 'nora', 'normal', 'norman', 'north', 'northern', 'norton', 'noth', 'notic', 'notori', 'novel', 'novelist', 'nowher', 'noyc', 'nuclear', 'nuclearmissil', 'nuditi', 'number', 'numer', 'nun', 'nurs', 'nypd', 'object', 'observ', 'obsess', 'obsession', 'obstacl', 'obtain', 'occasion', 'occult', 'occup', 'occupi', 'occur', 'ocean', 'odd', 'oddbal', 'odds', 'odyssey', 'oedekerk', 'offer', 'offic', 'office', 'officer', 'offici', 'ohio', 'oil', 'old', 'older', 'oldman', 'oliv', 'olivi', 'olivia', 'olymp', 'olympicgam', 'olyph', 'omar', 'onc', 'onli', 'onlin', 'ontherun', 'open', 'oper', 'opera', 'operation', 'opportun', 'oppos', 'opposit', 'oppress', 'orc', 'order', 'ordinari', 'oregon', 'organ', 'organization', 'organizedcrim', 'origin', 'orlando', 'orlean', 'orphan', 'orphanag', 'orphanage', 'orson', 'oscar', 'oscaraward', 'osment', 'otherworldli', 'outback', 'outbreak', 'outcast', 'outerspac', 'outlaw', 'outrag', 'outsid', 'outwit', 'overcom', 'overrun', 'overthrow', 'overwhelm', 'owen', 'owl', 'owner', 'oxford', 'oz', 'pacif', 'pacino', 'pack', 'packag', 'pact', 'page', 'pageant', 'paid', 'paig', 'pain', 'paint', 'painter', 'pair', 'pal', 'palma', 'palmer', 'palminteri', 'paltrow', 'pam', 'pan', 'panic', 'paper', 'parallel', 'parallelworld', 'paranoia', 'paranoid', 'paranorm', 'parent', 'parents', 'parentskidsrelationship', 'pari', 'paris', 'park', 'parker', 'parodi', 'parol', 'parti', 'particip', 'particularli', 'partner', 'partners', 'partnership', 'party', 'pass', 'passeng', 'passion', 'past', 'pastor', 'pat', 'path', 'patient', 'patriarch', 'patric', 'patricia', 'patrick', 'patriot', 'patrol', 'patti', 'patton', 'paul', 'paula', 'pawn', 'paxton', 'pay', 'payn', 'peac', 'peace', 'pearc', 'pearl', 'peasant', 'peck', 'peet', 'pegg', 'penguin', 'penn', 'pennsylvania', 'penélop', 'peopl', 'people', 'pepper', 'perabo', 'perez', 'perfect', 'perform', 'peril', 'period', 'perioddrama', 'perkin', 'perri', 'person', 'persuad', 'pesci', 'pet', 'pete', 'peter', 'petersen', 'petri', 'petti', 'peyton', 'peña', 'pfeiffer', 'phil', 'philadelphia', 'philip', 'philipp', 'phillip', 'phillipp', 'philosoph', 'philosophi', 'phoenix', 'phone', 'photo', 'photograph', 'photographi', 'physic', 'pianist', 'piano', 'pick', 'pictur', 'picture', 'piec', 'pierc', 'pierr', 'pig', 'pike', 'pilot', 'pimp', 'pine', 'pink', 'pinkett', 'pinocchio', 'piper', 'pirat', 'pistol', 'pit', 'pitt', 'place', 'plagu', 'plan', 'plane', 'planet', 'plannedmurd', 'plans', 'plant', 'plantat', 'play', 'playboy', 'player', 'playwright', 'pleasur', 'plenti', 'plot', 'plummer', 'plung', 'po', 'poet', 'poetri', 'point', 'poison', 'poker', 'polanski', 'polar', 'polic', 'police', 'policebrut', 'policechas', 'policeman', 'policeoffic', 'policeoper', 'polish', 'polit', 'politician', 'polli', 'pooh', 'pool', 'poor', 'pop', 'popstar', 'popul', 'popular', 'porn', 'pornographi', 'port', 'portal', 'porter', 'portman', 'portrait', 'portray', 'pose', 'posit', 'possess', 'possibl', 'post', 'posttraumaticstressdisord', 'pot', 'potenti', 'potter', 'poverti', 'pow', 'power', 'poweroutag', 'powers', 'practic', 'prank', 'pratt', 'prayer', 'pre', 'preacher', 'preciou', 'predat', 'predict', 'pregnanc', 'pregnancyandbirth', 'pregnant', 'prehistor', 'prejudic', 'premonit', 'prepar', 'prequel', 'presenc', 'present', 'presid', 'president', 'presidenti', 'presidentialelect', 'press', 'pressur', 'preston', 'presum', 'pretend', 'pretti', 'prevent', 'previou', 'prey', 'price', 'pride', 'priest', 'prime', 'princ', 'prince', 'princess', 'princip', 'prinz', 'prison', 'prisonersofwar', 'privat', 'privatedetect', 'prize', 'pro', 'problem', 'problems', 'process', 'prodigi', 'produc', 'product', 'production', 'profession', 'professor', 'profil', 'profit', 'program', 'project', 'prom', 'promin', 'promis', 'promot', 'prompt', 'properti', 'propheci', 'propos', 'prosecut', 'prospect', 'prostitut', 'protect', 'protest', 'prove', 'provid', 'psychiatr', 'psychiatrist', 'psychic', 'psycholog', 'psychologist', 'psychopath', 'psychot', 'pub', 'puberti', 'public', 'publish', 'pull', 'pullman', 'punish', 'punk', 'puppet', 'puppi', 'purchas', 'pure', 'purpos', 'pursu', 'pursuit', 'push', 'quaid', 'quarantin', 'quarterback', 'queen', 'quentin', 'quest', 'question', 'quick', 'quickli', 'quiet', 'quinn', 'quirki', 'quit', 'rabbit', 'race', 'raceagainsttim', 'racehors', 'racer', 'rachael', 'rachel', 'racial', 'racism', 'radcliff', 'radiat', 'radic', 'radio', 'rag', 'rage', 'rageandh', 'raid', 'railroad', 'raimi', 'rain', 'rais', 'raja', 'ralli', 'ralph', 'rami', 'rampag', 'ramsey', 'ranch', 'randal', 'randi', 'ranger', 'rank', 'ransom', 'rapaport', 'rape', 'rapidli', 'rapmus', 'rapper', 'rare', 'rat', 'rate', 'ratner', 'ravag', 'raw', 'ray', 'raymond', 'rea', 'reach', 'reaction', 'read', 'readi', 'real', 'realis', 'realiti', 'reality', 'realiz', 'realli', 'realm', 'reaper', 'reason', 'rebecca', 'rebel', 'rebelli', 'rebellion', 'reboot', 'rebuild', 'receiv', 'recent', 'reckless', 'reclaim', 'reclus', 'reconcil', 'reconnect', 'record', 'recov', 'recreat', 'recruit', 'red', 'redempt', 'redemption', 'redford', 'redgrav', 'rediscov', 'redneck', 'reed', 'reel', 'rees', 'reev', 'reflect', 'refug', 'refus', 'regain', 'regim', 'regina', 'regret', 'regular', 'reid', 'reign', 'reilli', 'reiner', 'reitman', 'reject', 'rekindl', 'rel', 'relat', 'relationship', 'relationshipproblem', 'relationships', 'releas', 'relentless', 'reli', 'religi', 'religion', 'religionandsupernatur', 'reloc', 'reluct', 'reluctantli', 'remain', 'remak', 'remark', 'rememb', 'remind', 'remot', 'rene', 'renegad', 'renni', 'reno', 'renown', 'rent', 'rené', 'repair', 'repay', 'replac', 'report', 'reporter', 'repres', 'repress', 'reput', 'request', 'requir', 'rescu', 'research', 'resid', 'resist', 'resistance', 'resolv', 'resort', 'resourc', 'resources', 'respect', 'respons', 'rest', 'restaur', 'restaurant', 'restor', 'result', 'results', 'resurfac', 'resurrect', 'retel', 'retir', 'retreat', 'retriev', 'return', 'reunion', 'reunit', 'reveal', 'revealed', 'revel', 'reveng', 'revenge', 'reviv', 'revolut', 'revolutionari', 'revolv', 'reward', 'reynold', 'rhi', 'ricci', 'rich', 'richard', 'richardson', 'rick', 'ricki', 'rid', 'riddl', 'ride', 'ridley', 'rifl', 'rig', 'right', 'rightandjustic', 'riley', 'ring', 'riot', 'rip', 'ripley', 'rise', 'risk', 'ritchi', 'rival', 'rivalri', 'river', 'roach', 'road', 'roadmovi', 'roadtrip', 'roam', 'rob', 'robber', 'robberi', 'robbi', 'robbin', 'robert', 'robin', 'robinson', 'robot', 'rock', 'rockandrol', 'rocket', 'rocki', 'rockstar', 'rockwel', 'rod', 'roddi', 'rodney', 'rodrigo', 'rodriguez', 'rogen', 'roger', 'rogu', 'roland', 'role', 'roll', 'roman', 'romanc', 'romance', 'romano', 'romant', 'romanticcomedi', 'rome', 'romeo', 'romero', 'ron', 'ronni', 'roof', 'rooki', 'room', 'roommat', 'rooney', 'root', 'rosario', 'rose', 'ross', 'roth', 'rough', 'round', 'rourk', 'routin', 'row', 'rowan', 'roy', 'royal', 'royalti', 'rubi', 'rudd', 'ruffalo', 'rugrat', 'ruin', 'rule', 'rumor', 'run', 'runaway', 'runner', 'rupert', 'rural', 'ruralset', 'rush', 'russel', 'russell', 'russia', 'russian', 'russo', 'ruth', 'ruthless', 'ryan', 'ryder', 'sabotag', 'sacrific', 'sad', 'sadism', 'sadist', 'safe', 'safeti', 'safety', 'saga', 'said', 'sail', 'sailor', 'saldana', 'sale', 'salesman', 'salli', 'salma', 'sam', 'samantha', 'samuel', 'samurai', 'san', 'sand', 'sander', 'sandi', 'sandler', 'sandra', 'sanfrancisco', 'sant', 'santa', 'santaclau', 'sara', 'sarah', 'sarandon', 'sarsgaard', 'satan', 'satellit', 'satir', 'satisfi', 'savag', 'save', 'savingtheworld', 'say', 'sbook', 'scam', 'scandal', 'scare', 'scari', 'scarlett', 'scene', 'schedul', 'scheme', 'schizophrenia', 'schneider', 'scholarship', 'school', 'schoolteach', 'schreiber', 'schumach', 'schwarzenegg', 'sci', 'scienc', 'sciencefict', 'scientif', 'scientist', 'score', 'scorses', 'scotland', 'scott', 'scottish', 'scout', 'scrambl', 'scream', 'screen', 'screenwrit', 'script', 'scubadiv', 'sdailylif', 'sea', 'seagal', 'seal', 'sean', 'seann', 'search', 'seasid', 'season', 'seattl', 'sebastian', 'second', 'secret', 'secretag', 'secretari', 'secretident', 'secretintelligenceservic', 'secretli', 'secretlov', 'secretmiss', 'secretorgan', 'secrets', 'secretservic', 'secretsocieti', 'section', 'secur', 'securityguard', 'seduc', 'seduct', 'seek', 'seemingli', 'seen', 'segel', 'seiz', 'sel', 'self', 'selfsacrific', 'sell', 'selma', 'semi', 'senat', 'send', 'senior', 'sens', 'sensat', 'sensit', 'sent', 'sentenc', 'seo', 'separ', 'sequel', 'sergeant', 'sergio', 'seri', 'serial', 'serialkil', 'series', 'seriesofmurd', 'seriou', 'serv', 'servant', 'servic', 'service', 'session', 'set', 'seth', 'settl', 'settler', 'sev', 'seven', 'sever', 'sevigni', 'sewer', 'sex', 'sexaddict', 'sexi', 'sexual', 'sexualabus', 'sexualobsess', 'seyfri', 'seymour', 'shadi', 'shadow', 'shadowi', 'shadyac', 'shah', 'shake', 'shaken', 'shakespear', 'shakespeare', 'shane', 'shanghai', 'shankman', 'shannon', 'shannyn', 'shape', 'share', 'shark', 'sharkattack', 'sharon', 'sharp', 'shatner', 'shatter', 'shaw', 'shawn', 'sheen', 'shelley', 'shelter', 'shelton', 'shepard', 'shepherd', 'sheridan', 'sheriff', 'sherman', 'shi', 'shia', 'shield', 'shift', 'ship', 'shipwreck', 'shirley', 'shock', 'shoe', 'shoot', 'shootout', 'shop', 'short', 'shot', 'shotgun', 'showdown', 'shower', 'shrek', 'shue', 'shut', 'shuttl', 'shyamalan', 'shyness', 'sibl', 'sick', 'sid', 'sidekick', 'sidney', 'sienna', 'sight', 'sign', 'signal', 'sigourney', 'silenc', 'silent', 'silver', 'similar', 'simmon', 'simon', 'simpl', 'simpli', 'simpson', 'simultan', 'sin', 'sinc', 'sing', 'singer', 'singh', 'singl', 'single', 'singlefath', 'singlemoth', 'singlepar', 'singleton', 'sinis', 'sinist', 'sir', 'sister', 'sisters', 'sistersisterrelationship', 'sit', 'site', 'sittingonatoilet', 'situat', 'situation', 'size', 'skarsgård', 'skateboard', 'skeleton', 'skeptic', 'ski', 'skill', 'skull', 'sky', 'skyscrap', 'slacker', 'slapstick', 'slasher', 'slater', 'slaughter', 'slave', 'slaveri', 'slavery', 'sleazi', 'sleep', 'sleepi', 'sleepwalk', 'slif', 'slowli', 'slum', 'small', 'smalltown', 'smart', 'smash', 'smith', 'smitten', 'smoke', 'smuggl', 'smuggler', 'smurf', 'snake', 'snatch', 'snipe', 'sniper', 'snow', 'snowstorm', 'snyder', 'soccer', 'social', 'societi', 'society', 'sociopath', 'soderbergh', 'sofia', 'solar', 'sold', 'soldier', 'soldiers', 'sole', 'solomon', 'solv', 'someon', 'someth', 'sometim', 'somewhat', 'somewher', 'son', 'song', 'songwrit', 'soon', 'sophi', 'sorcer', 'sorcerer', 'sorceri', 'soror', 'sort', 'sorvino', 'sossamon', 'soul', 'sound', 'soundtrack', 'sour', 'south', 'southafrica', 'southern', 'southernusa', 'soviet', 'space', 'spacecraft', 'spacemarin', 'spacemiss', 'spaceopera', 'spaceship', 'spacetravel', 'spacey', 'spain', 'span', 'spanish', 'spark', 'speak', 'speci', 'special', 'specialist', 'spectacular', 'speech', 'speed', 'spell', 'spencer', 'spend', 'spent', 'spi', 'spider', 'spielberg', 'spike', 'spin', 'spiral', 'spirit', 'spiritu', 'spite', 'spoof', 'sport', 'spot', 'spotlight', 'spread', 'spring', 'squad', 'st', 'staci', 'stadium', 'staff', 'stage', 'stahl', 'stak', 'stake', 'stalk', 'stalker', 'stallon', 'stamp', 'stan', 'stand', 'stanley', 'stanton', 'star', 'stardom', 'stark', 'start', 'state', 'states', 'statham', 'station', 'statu', 'stay', 'steal', 'steampunk', 'steel', 'stella', 'step', 'stepfath', 'stephen', 'stepmoth', 'stern', 'steve', 'steven', 'stewart', 'stick', 'stile', 'stiller', 'stir', 'stock', 'stockbrok', 'stolen', 'stone', 'stoneag', 'stoner', 'stop', 'stopmot', 'store', 'stori', 'stories', 'storm', 'story', 'straight', 'strain', 'strand', 'strang', 'stranger', 'strategi', 'stray', 'streep', 'street', 'streetgang', 'streets', 'streisand', 'strength', 'stress', 'stretch', 'strict', 'strike', 'strikes', 'strip', 'stripclub', 'stripper', 'strive', 'strong', 'struggl', 'stuart', 'stuck', 'student', 'studi', 'studio', 'stumbl', 'stun', 'stunt', 'stupid', 'style', 'sub', 'subject', 'submachinegun', 'submarin', 'subsequ', 'suburb', 'suburban', 'suburbia', 'subway', 'succeed', 'success', 'successful', 'successor', 'sudden', 'suddenli', 'sue', 'suffer', 'suggest', 'suicid', 'suicideattempt', 'suit', 'suitor', 'sullivan', 'summer', 'summon', 'sun', 'sung', 'sunglass', 'super', 'superhero', 'superhuman', 'superhumanstrength', 'superman', 'supermarket', 'supernatur', 'supernaturalpow', 'superpow', 'superstar', 'supervillain', 'suppli', 'support', 'suppos', 'suppress', 'suppressedpast', 'sure', 'surf', 'surfac', 'surface', 'surfer', 'surgeon', 'surpris', 'surreal', 'surround', 'surveil', 'surviv', 'survival', 'survive', 'survivor', 'susan', 'suspect', 'suspens', 'suspici', 'suspicion', 'sutherland', 'swank', 'sweep', 'sweet', 'sweetheart', 'swimmingpool', 'swing', 'switch', 'sword', 'swordandsorceri', 'swordfight', 'swordplay', 'sydney', 'sylvest', 'symbol', 'tabl', 'tabloid', 'tactic', 'tag', 'tail', 'tak', 'taken', 'tale', 'talent', 'talk', 'talkinganim', 'tall', 'tank', 'tap', 'tape', 'tara', 'tarantino', 'target', 'task', 'tast', 'tate', 'tattoo', 'tatum', 'taxi', 'taxidriv', 'tay', 'taylor', 'teach', 'teacher', 'team', 'tear', 'tech', 'technolog', 'ted', 'teen', 'teenag', 'teenagecrush', 'teenagegirl', 'teenager', 'teencomedi', 'teenmovi', 'telekinesi', 'telepathi', 'teleport', 'televis', 'tell', 'templ', 'tens', 'tension', 'terenc', 'teri', 'term', 'termin', 'terminalil', 'terrenc', 'terri', 'terribl', 'terrier', 'terrifi', 'territori', 'terror', 'terrorist', 'tess', 'test', 'tested', 'texa', 'texas', 'th', 'thailand', 'thandi', 'thank', 'thanksgiv', 'theater', 'theatremilieu', 'theft', 'theme', 'themselv', 'theori', 'therapist', 'theresa', 'theron', 'thi', 'thief', 'thiev', 'thing', 'things', 'think', 'thirst', 'thirti', 'thoma', 'thompson', 'thor', 'thornton', 'thought', 'thousand', 'threat', 'threaten', 'thrill', 'thriller', 'throne', 'throw', 'thrown', 'thrust', 'thu', 'thug', 'thurman', 'thwart', 'ticket', 'tie', 'tiger', 'till', 'tim', 'timberlak', 'time', 'timeless', 'times', 'timetravel', 'timothi', 'tina', 'tini', 'tire', 'titan', 'titl', 'tobey', 'tobi', 'today', 'todd', 'togeth', 'tokyo', 'told', 'tom', 'tomei', 'tommi', 'tong', 'toni', 'took', 'torment', 'torn', 'tornado', 'toro', 'toronto', 'tortur', 'total', 'touch', 'tough', 'toughest', 'tour', 'tourist', 'tournament', 'tower', 'town', 'toxic', 'toy', 'toycomestolif', 'traci', 'track', 'trade', 'trader', 'tradit', 'traffic', 'traffick', 'tragedi', 'tragedy', 'tragic', 'trail', 'train', 'trainer', 'traitor', 'transfer', 'transform', 'transit', 'transplant', 'transport', 'trap', 'trauma', 'traumat', 'travel', 'travi', 'travolta', 'treacher', 'treasur', 'treasurehunt', 'treat', 'treatment', 'tree', 'trek', 'trevor', 'trey', 'tri', 'trial', 'triangl', 'tribe', 'trick', 'trigger', 'trio', 'trip', 'triumph', 'troop', 'tropic', 'troubl', 'trouble', 'troy', 'truck', 'trucker', 'true', 'truli', 'trust', 'truth', 'tucker', 'tunnel', 'turbul', 'turmoil', 'turn', 'turned', 'turner', 'turtl', 'turturro', 'tv', 'tvmovi', 'tvshow', 'tvstation', 'twenti', 'twin', 'twinbroth', 'twist', 'tycoon', 'tyler', 'type', 'typic', 'tyrann', 'téa', 'ufo', 'ugli', 'ulrich', 'ultim', 'ultra', 'uma', 'unabl', 'unawar', 'uncl', 'uncle', 'unconvent', 'uncov', 'undead', 'undercov', 'undercoverag', 'undercovercop', 'underdog', 'undergo', 'underground', 'understand', 'underwat', 'underworld', 'unemploy', 'unexpect', 'unexpectedli', 'unexplain', 'unfold', 'unforgett', 'unfortun', 'unfortunately', 'unhappi', 'unimagin', 'union', 'uniqu', 'unit', 'univers', 'universe', 'university', 'unknown', 'unleash', 'unlik', 'unlock', 'unorthodox', 'unpreced', 'unravel', 'unsimulatedsex', 'unsoci', 'unstabl', 'unstopp', 'unsuspect', 'unusu', 'unveil', 'unwit', 'unwittingli', 'upcom', 'upper', 'upperclass', 'upris', 'upset', 'upsid', 'uptight', 'urban', 'urg', 'usa', 'usapresid', 'use', 'usual', 'utah', 'vacat', 'vacation', 'val', 'valentin', 'valentine', 'valeri', 'valley', 'valu', 'valuabl', 'vampir', 'vampire', 'vampires', 'van', 'vandal', 'vanessa', 'vanish', 'varieti', 'variou', 'vast', 'vatican', 'vaughn', 'vault', 'vega', 'vegas', 'vegetarian', 'veng', 'vengeanc', 'vengeance', 'venic', 'ventur', 'vera', 'verg', 'veri', 'vernon', 'version', 'verylittledialogu', 'vet', 'veteran', 'vice', 'viciou', 'vicki', 'victim', 'victims', 'victor', 'victori', 'victoria', 'video', 'videogam', 'vienna', 'vietnam', 'vietnamveteran', 'vietnamwar', 'view', 'viggo', 'vigilant', 'vike', 'villag', 'village', 'villain', 'vin', 'vinc', 'vincent', 'vineyard', 'violenc', 'violence', 'violent', 'virgin', 'virginia', 'virtual', 'virtualr', 'viru', 'vision', 'visit', 'visitor', 'visual', 'vivica', 'vlad', 'voic', 'voice', 'voight', 'volcano', 'volunt', 'vomit', 'von', 'voodoo', 'vow', 'voyag', 'voyeur', 'wa', 'wade', 'wage', 'wager', 'wahlberg', 'wait', 'waitress', 'wake', 'walk', 'walken', 'walker', 'wall', 'wallac', 'wallet', 'walsh', 'walt', 'walter', 'waltz', 'wan', 'wander', 'wang', 'want', 'war', 'warcrim', 'ward', 'warden', 'warehous', 'warlock', 'warlord', 'warm', 'warn', 'warner', 'warondrug', 'warren', 'warrior', 'wars', 'wash', 'washington', 'washingtond', 'wast', 'watch', 'water', 'watson', 'watt', 'wave', 'way', 'wayan', 'wayn', 'ways', 'weak', 'wealth', 'wealthi', 'weapon', 'wear', 'weather', 'weav', 'weaver', 'web', 'wed', 'wedding', 'week', 'weekend', 'weird', 'weisz', 'weitz', 'welcom', 'wendi', 'went', 'werewolf', 'werner', 'wesley', 'west', 'western', 'whale', 'whatev', 'wheelchair', 'whi', 'whip', 'whisk', 'whitak', 'white', 'whitehous', 'whoopi', 'wick', 'widow', 'wield', 'wif', 'wife', 'wifehusbandrelationship', 'wiig', 'wild', 'wilder', 'wilderness', 'wildli', 'wilkinson', 'willem', 'willi', 'william', 'wilson', 'win', 'wind', 'window', 'wine', 'wing', 'winner', 'winona', 'winslet', 'winston', 'winter', 'wipe', 'wise', 'wish', 'wit', 'witch', 'witherspoon', 'wizard', 'wolf', 'wolfgang', 'woman', 'womandirector', 'womanrel', 'women', 'won', 'wonder', 'wong', 'woo', 'wood', 'woodi', 'woods', 'word', 'work', 'workahol', 'worker', 'workers', 'working', 'world', 'worlds', 'worldwari', 'worldwarii', 'worldwid', 'worri', 'wors', 'worse', 'worship', 'worst', 'worth', 'wound', 'wreak', 'wrestl', 'wrestler', 'wretch', 'wright', 'write', 'writer', 'written', 'wrong', 'wwii', 'xavier', 'xenophobia', 'yacht', 'yakuza', 'yard', 'year', 'yearn', 'years', 'yelchin', 'yellow', 'york', 'yorker', 'young', 'youngadult', 'younger', 'youngest', 'youngster', 'youth', 'yun', 'zac', 'zach', 'zachari', 'zack', 'zahn', 'zealand', 'zebra', 'zellweg', 'zemecki', 'zeta', 'zeu', 'zhang', 'ziyi', 'zoe', 'zombi', 'zombies', 'zone', 'zoo', 'zooey', 'zucker', 'zwick']\n"
     ]
    }
   ],
   "source": [
    "feature_names_list = list(feature_names)\n",
    "print(feature_names_list)\n"
   ]
  },
  {
   "cell_type": "code",
   "execution_count": 72,
   "id": "60adcb09-98fd-48b7-8a39-c06770c5a683",
   "metadata": {
    "colab": {
     "base_uri": "https://localhost:8080/",
     "height": 35
    },
    "id": "60adcb09-98fd-48b7-8a39-c06770c5a683",
    "outputId": "fc83226e-1e59-4a16-f0ce-1474c05747ec"
   },
   "outputs": [
    {
     "data": {
      "text/plain": [
       "'danc'"
      ]
     },
     "execution_count": 72,
     "metadata": {},
     "output_type": "execute_result"
    }
   ],
   "source": [
    "ps.stem('dancing')"
   ]
  },
  {
   "cell_type": "code",
   "execution_count": 73,
   "id": "e39708cf-2ab7-4398-b3fc-44256473a097",
   "metadata": {
    "colab": {
     "base_uri": "https://localhost:8080/",
     "height": 52
    },
    "id": "e39708cf-2ab7-4398-b3fc-44256473a097",
    "outputId": "d2c75df5-aec7-47af-ff49-4cdc29dfdffb"
   },
   "outputs": [
    {
     "data": {
      "text/plain": [
       "'in the 22nd century, a parapleg marin is dispatch to the moon pandora on a uniqu mission, but becom torn between follow order and protect an alien civilization. action adventur fantasi sciencefict cultureclash futur spacewar spacecoloni societi spacetravel futurist romanc space alien tribe alienplanet cgi marin soldier battl loveaffair antiwar powerrel mindandsoul 3d samworthington zoesaldana sigourneyweav jamescameron'"
      ]
     },
     "execution_count": 73,
     "metadata": {},
     "output_type": "execute_result"
    }
   ],
   "source": [
    "stem('In the 22nd century, a paraplegic Marine is dispatched to the moon Pandora on a unique mission, but becomes torn between following orders and protecting an alien civilization. Action Adventure Fantasy ScienceFiction cultureclash future spacewar spacecolony society spacetravel futuristic romance space alien tribe alienplanet cgi marine soldier battle loveaffair antiwar powerrelations mindandsoul 3d SamWorthington ZoeSaldana SigourneyWeaver JamesCameron')"
   ]
  },
  {
   "cell_type": "code",
   "execution_count": 74,
   "id": "00d0fba2-ad5c-411f-b87b-1de8ef0c449f",
   "metadata": {
    "id": "00d0fba2-ad5c-411f-b87b-1de8ef0c449f"
   },
   "outputs": [],
   "source": [
    "from sklearn.metrics.pairwise import cosine_similarity"
   ]
  },
  {
   "cell_type": "code",
   "execution_count": 75,
   "id": "a87f5fd7-1f48-4549-9749-112277f31491",
   "metadata": {
    "id": "a87f5fd7-1f48-4549-9749-112277f31491"
   },
   "outputs": [],
   "source": [
    "similarity = cosine_similarity(vectors)"
   ]
  },
  {
   "cell_type": "markdown",
   "id": "u9ECYEfTSi5b",
   "metadata": {
    "id": "u9ECYEfTSi5b"
   },
   "source": [
    "# t-SNE test"
   ]
  },
  {
   "cell_type": "markdown",
   "id": "8Wogd6ezs63F",
   "metadata": {
    "id": "8Wogd6ezs63F"
   },
   "source": [
    "t-SNE (t-Distributed Stochastic Neighbor Embedding), on the other hand, is a non-linear technique that focuses on preserving the local structure of the data. It converts high-dimensional Euclidean distances between points into conditional probabilities that represent similarities. The algorithm then tries to minimize the divergence between these probabilities in the high-dimensional and low-dimensional space, which often results in a more meaningful representation for data with complex structures."
   ]
  },
  {
   "cell_type": "code",
   "execution_count": null,
   "id": "nCNClnU_oZ03",
   "metadata": {
    "colab": {
     "base_uri": "https://localhost:8080/",
     "height": 356
    },
    "id": "nCNClnU_oZ03",
    "outputId": "5cc59567-6210-4b53-b584-0928bd8fd4fd"
   },
   "outputs": [],
   "source": [
    "import plotly.graph_objects as go\n",
    "from sklearn.manifold import TSNE\n",
    "tsne = TSNE(n_components = 3, perplexity=30, learning_rate=200 )\n",
    "out_tsne = tsne.fit_transform(similarity)"
   ]
  },
  {
   "cell_type": "code",
   "execution_count": null,
   "id": "A2_Qn3YQw6tE",
   "metadata": {
    "colab": {
     "base_uri": "https://localhost:8080/",
     "height": 141
    },
    "id": "A2_Qn3YQw6tE",
    "outputId": "c63fc039-851b-4420-cc6d-4e2eff949b4f"
   },
   "outputs": [],
   "source": [
    "np.save('tsne_output.npy', out_tsne)"
   ]
  },
  {
   "cell_type": "code",
   "execution_count": 249,
   "id": "rqn7WUJK-nLU",
   "metadata": {
    "id": "rqn7WUJK-nLU"
   },
   "outputs": [],
   "source": [
    "import plotly.graph_objects as go\n",
    "out_tsne = np.load('tsne_output.npy')"
   ]
  },
  {
   "cell_type": "code",
   "execution_count": 252,
   "id": "4vpIVke0uEIB",
   "metadata": {
    "colab": {
     "base_uri": "https://localhost:8080/",
     "height": 542
    },
    "id": "4vpIVke0uEIB",
    "outputId": "e86efa47-4343-45b8-c4b8-9efd73bd68b2"
   },
   "outputs": [
    {
     "data": {
      "text/html": [
       "<html>\n",
       "<head><meta charset=\"utf-8\" /></head>\n",
       "<body>\n",
       "    <div>            <script src=\"https://cdnjs.cloudflare.com/ajax/libs/mathjax/2.7.5/MathJax.js?config=TeX-AMS-MML_SVG\"></script><script type=\"text/javascript\">if (window.MathJax && window.MathJax.Hub && window.MathJax.Hub.Config) {window.MathJax.Hub.Config({SVG: {font: \"STIX-Web\"}});}</script>                <script type=\"text/javascript\">window.PlotlyConfig = {MathJaxConfig: 'local'};</script>\n",
       "        <script charset=\"utf-8\" src=\"https://cdn.plot.ly/plotly-2.24.1.min.js\"></script>                <div id=\"0a25879a-3a70-48ae-b450-a95a1eaf5662\" class=\"plotly-graph-div\" style=\"height:525px; width:100%;\"></div>            <script type=\"text/javascript\">                                    window.PLOTLYENV=window.PLOTLYENV || {};                                    if (document.getElementById(\"0a25879a-3a70-48ae-b450-a95a1eaf5662\")) {                    Plotly.newPlot(                        \"0a25879a-3a70-48ae-b450-a95a1eaf5662\",                        [{\"marker\":{\"opacity\":0.8,\"size\":5},\"mode\":\"markers\",\"x\":[-10.204087257385254,-9.481685638427734,-2.4042675495147705,0.2548275291919708,11.679523468017578,5.1373515129089355,-15.334393501281738,7.603973388671875,10.669312477111816,-8.32906436920166,13.53110122680664,13.757895469665527,9.210436820983887,-7.317148685455322,-8.562254905700684,-12.494524955749512,-8.670702934265137,9.56244945526123,18.260801315307617,-8.942246437072754,27.732173919677734,14.43000316619873,-9.812505722045898,-11.40875244140625,7.880938529968262,6.346689224243164,-9.38160228729248,11.754907608032227,-6.4071879386901855,-2.941253900527954,12.11742877960205,-8.644142150878906,-11.880672454833984,-7.7391438484191895,-16.448165893554688,9.749443054199219,6.30301570892334,-12.044200897216797,5.059537410736084,7.285122871398926,16.640108108520508,-8.115272521972656,-16.951171875,3.9584383964538574,18.41839027404785,8.218311309814453,-9.653674125671387,8.735712051391602,8.429819107055664,10.137002944946289,-9.841225624084473,-10.927201271057129,6.221386909484863,7.641347408294678,-15.181550025939941,-13.840885162353516,-8.025261878967285,-18.6226749420166,8.541367530822754,4.960789203643799,27.878244400024414,-9.537671089172363,10.117754936218262,-12.1912202835083,4.097447395324707,5.937809467315674,9.509900093078613,-13.850375175476074,-8.612211227416992,23.036781311035156,-9.96827507019043,14.539313316345215,-7.6189494132995605,-16.519559860229492,-12.307411193847656,5.816032886505127,-4.886788845062256,-1.0654629468917847,-4.195921897888184,20.93995475769043,1.5224511623382568,8.28792667388916,7.326261520385742,8.710606575012207,2.995742082595825,-8.358489990234375,13.901480674743652,-13.845830917358398,-12.020617485046387,4.610306739807129,-15.179482460021973,-10.935591697692871,11.584035873413086,-7.726602554321289,-10.596061706542969,3.003925323486328,13.799153327941895,0.6863797903060913,7.223213195800781,-1.612787127494812,-10.216120719909668,-7.959883213043213,-11.378110885620117,16.912294387817383,2.566023111343384,-11.079316139221191,8.273738861083984,-8.620448112487793,-6.219428539276123,-12.28723430633545,3.7823619842529297,-9.403977394104004,15.673073768615723,16.192289352416992,11.461441993713379,19.611614227294922,-0.0012330166064202785,-12.857365608215332,9.630754470825195,13.386955261230469,-15.647504806518555,8.715154647827148,8.958094596862793,-7.523026943206787,8.517655372619629,7.386184215545654,7.853532314300537,8.140612602233887,-4.841563701629639,12.436747550964355,16.039743423461914,-10.626786231994629,13.016031265258789,13.894156455993652,-4.76392936706543,8.706269264221191,9.454059600830078,14.894451141357422,8.423818588256836,10.974525451660156,19.871217727661133,7.097512245178223,9.304217338562012,9.204700469970703,7.081043720245361,12.183971405029297,-15.92473316192627,7.321873664855957,-10.55101490020752,10.743353843688965,4.79659366607666,-8.863039016723633,16.781423568725586,10.177094459533691,-11.884058952331543,8.72240924835205,1.5662243366241455,3.16886830329895,-8.700265884399414,-7.386011600494385,-11.39693546295166,-10.31916332244873,-8.195332527160645,-8.498392105102539,14.893533706665039,5.868982791900635,-4.801177024841309,9.810493469238281,-7.225179672241211,-9.671765327453613,-3.629842758178711,21.424354553222656,-2.9639101028442383,7.177994251251221,7.425839900970459,-11.89099407196045,-0.9023087620735168,-16.52593231201172,9.76978588104248,-13.684392929077148,7.6945109367370605,7.975841045379639,20.640241622924805,-12.173962593078613,-12.525300025939941,13.503891944885254,-7.031661510467529,8.708113670349121,-4.782140254974365,10.082557678222656,7.3612446784973145,-12.052458763122559,0.8791191577911377,27.532760620117188,6.362429141998291,-14.33560848236084,16.356338500976562,26.589202880859375,-6.089919567108154,-9.167879104614258,-8.542560577392578,-4.924665927886963,9.559355735778809,7.675169467926025,-1.7249213457107544,11.691349029541016,20.805932998657227,12.658297538757324,-8.471325874328613,-6.11908483505249,-3.0520827770233154,-18.572799682617188,10.442621231079102,9.76904010772705,-4.607921123504639,-6.871559143066406,3.4749245643615723,18.974756240844727,8.698699951171875,-10.199125289916992,-12.20573616027832,14.154790878295898,7.597175598144531,-10.0383882522583,1.9651340246200562,14.685318946838379,-10.529593467712402,-10.338841438293457,11.341875076293945,-10.041988372802734,14.657044410705566,-16.412824630737305,13.648563385009766,-9.19523811340332,-13.431674003601074,13.845579147338867,3.592135190963745,9.142552375793457,6.65173864364624,5.063791275024414,6.482198238372803,6.911800861358643,-7.829685688018799,-11.548392295837402,9.668992042541504,7.182168960571289,18.785634994506836,16.970020294189453,3.640338897705078,-8.301456451416016,-2.7595129013061523,-17.1328067779541,7.281343460083008,-7.821293830871582,-14.792304039001465,-15.681904792785645,-13.381349563598633,5.808410167694092,-18.55531120300293,-4.590091228485107,-11.091815948486328,4.837243556976318,11.143278121948242,-10.023846626281738,21.313884735107422,-17.440759658813477,2.1148362159729004,3.2595419883728027,9.961991310119629,-17.058683395385742,12.715410232543945,6.1860575675964355,7.635012626647949,5.867404460906982,24.099567413330078,-2.026643753051758,10.810928344726562,19.20449447631836,-7.320162773132324,4.003532886505127,13.763452529907227,3.8445053100585938,24.895092010498047,-0.20721307396888733,12.481431007385254,7.187830924987793,13.512694358825684,5.415078639984131,-5.596864700317383,15.02932357788086,-3.180966854095459,6.081301689147949,16.999156951904297,6.200815200805664,-11.258718490600586,-1.2259694337844849,1.2274950742721558,1.3824630975723267,-7.355367660522461,3.180133581161499,5.5848708152771,0.014932314865291119,8.057303428649902,-3.3539068698883057,18.522798538208008,-13.912074089050293,17.358888626098633,5.9907546043396,-1.3933830261230469,9.58321475982666,7.327723026275635,5.813024520874023,7.937073707580566,27.764362335205078,-1.0556797981262207,-10.610029220581055,17.47994613647461,0.2328072190284729,14.869818687438965,-9.506693840026855,-7.657954216003418,-17.51354217529297,-6.697333335876465,-9.668701171875,-14.580552101135254,-13.330714225769043,-2.160547971725464,-5.825904846191406,15.105252265930176,-8.677375793457031,-8.842751502990723,9.889482498168945,-3.1727778911590576,-2.8436715602874756,-6.055922031402588,19.775108337402344,-12.25706958770752,4.7755279541015625,-9.420211791992188,21.15696907043457,-8.309479713439941,8.605145454406738,-11.332862854003906,14.436690330505371,-5.349239349365234,-6.888570785522461,-3.890012264251709,-17.483293533325195,-15.827020645141602,-5.3170695304870605,-6.762433052062988,-4.628332614898682,-14.690139770507812,-11.483236312866211,-4.323894500732422,10.848174095153809,-1.7664697170257568,10.028009414672852,-14.388887405395508,10.241548538208008,3.945528984069824,13.578200340270996,-7.714753150939941,6.495418548583984,21.647886276245117,-6.456118583679199,-7.0024638175964355,-2.1156108379364014,9.031022071838379,-3.0707733631134033,-5.804612159729004,6.235123634338379,14.225788116455078,-14.214936256408691,13.949131965637207,-14.927492141723633,-1.2769883871078491,-5.757636547088623,-3.063462495803833,10.654500961303711,16.257068634033203,-12.991852760314941,-2.9730331897735596,12.79699420928955,-4.8936767578125,-16.823570251464844,13.481986999511719,18.742219924926758,17.58448600769043,-4.699485778808594,-15.644423484802246,-9.292135238647461,-4.762234687805176,-17.88020896911621,-9.3160982131958,-16.284502029418945,7.378744125366211,-14.424790382385254,4.2712507247924805,-15.725276947021484,-13.906038284301758,-7.122889041900635,15.00312614440918,7.437662124633789,-1.6119970083236694,9.211618423461914,8.369866371154785,-3.0571343898773193,10.225284576416016,27.863718032836914,-5.105250835418701,-11.830163955688477,-6.398594856262207,-11.81948471069336,-12.320433616638184,-6.9098381996154785,17.017526626586914,-21.06339454650879,-17.699926376342773,5.60222053527832,6.1534552574157715,5.085296630859375,-8.906691551208496,22.822675704956055,-4.546627998352051,7.396656513214111,-12.298796653747559,-13.806434631347656,3.185962438583374,-18.548198699951172,-17.143192291259766,8.456334114074707,-1.8679158687591553,8.816286087036133,-5.162863731384277,-17.12861442565918,21.457094192504883,-8.052206993103027,18.040103912353516,17.47014617919922,-7.897609710693359,9.789158821105957,-1.9199366569519043,23.868366241455078,15.09915542602539,16.882490158081055,13.045775413513184,-3.9209277629852295,18.596202850341797,4.070978164672852,24.234731674194336,-8.686326026916504,-4.217245101928711,6.3585429191589355,-3.0246284008026123,7.5678629875183105,3.7962286472320557,-10.149853706359863,8.911126136779785,-15.155684471130371,19.055782318115234,-13.818037986755371,14.856490135192871,-7.797849655151367,-19.536293029785156,-17.074581146240234,-11.07393741607666,7.462952136993408,6.7728166580200195,19.42144775390625,13.820135116577148,23.470232009887695,-7.708757400512695,-16.602516174316406,8.385848045349121,12.590983390808105,6.961746692657471,9.04295825958252,-5.620522975921631,-13.168632507324219,-11.21573543548584,7.055469036102295,28.195100784301758,-11.292702674865723,-4.3295698165893555,8.937713623046875,14.572620391845703,-7.062392711639404,14.171221733093262,-7.991425037384033,-7.757145881652832,18.6290225982666,21.3002986907959,25.391130447387695,8.105006217956543,14.26740837097168,21.601581573486328,-1.1973590850830078,8.546341896057129,15.651391983032227,6.120516300201416,-15.490281105041504,-11.022801399230957,9.052406311035156,6.325978755950928,-3.4020161628723145,-16.61238670349121,-10.89035701751709,7.695159912109375,-15.63821029663086,-0.056351438164711,-8.146203994750977,15.383393287658691,-4.717848777770996,-13.954181671142578,-14.361921310424805,-17.04132080078125,-6.74057149887085,19.72385025024414,-1.6154272556304932,-20.716846466064453,17.345643997192383,-19.474699020385742,-4.603229999542236,8.599030494689941,-15.484262466430664,-13.73189640045166,-16.29053497314453,-0.8107424378395081,5.943448066711426,25.372032165527344,-8.972723007202148,-18.950572967529297,-16.67900276184082,-10.699921607971191,14.982070922851562,-6.178012371063232,1.2636487483978271,18.501007080078125,-13.754262924194336,7.96842098236084,-12.003138542175293,-0.9286689162254333,15.618638038635254,2.0875372886657715,17.752540588378906,-14.511625289916992,-3.2363264560699463,-4.623003959655762,-14.195873260498047,-15.196260452270508,21.040639877319336,9.410091400146484,2.2126247882843018,-18.881103515625,15.023981094360352,4.5318989753723145,22.42048454284668,-17.056798934936523,10.189576148986816,20.401992797851562,-4.154341220855713,18.62428855895996,9.792431831359863,-5.854443073272705,-14.088094711303711,-16.89657974243164,16.012836456298828,8.175358772277832,-14.99927806854248,-5.152512073516846,2.9330458641052246,9.101441383361816,-3.7321746349334717,-0.8513579368591309,21.567567825317383,18.380929946899414,-10.885653495788574,-17.06837272644043,-7.11986780166626,-6.280517101287842,-8.045999526977539,5.106086730957031,27.999948501586914,12.325359344482422,15.96230411529541,3.9623894691467285,-5.372933864593506,-7.982560634613037,11.216282844543457,0.9543659090995789,22.538423538208008,19.431011199951172,7.405506134033203,8.377610206604004,-10.348052978515625,-8.83149528503418,-3.2558302879333496,-17.198732376098633,22.80515480041504,6.9188737869262695,10.618538856506348,7.408982753753662,-5.844645977020264,-12.15062427520752,-15.634628295898438,-6.347136497497559,11.736741065979004,-3.6268694400787354,4.392581939697266,28.4479923248291,0.019599957391619682,-2.7342095375061035,8.315953254699707,13.778831481933594,7.622564315795898,-17.670167922973633,14.938231468200684,-8.351122856140137,-18.07272720336914,-2.575188636779785,2.351104259490967,0.003145576221868396,5.282082557678223,-2.2090134620666504,-8.47226333618164,-6.40114164352417,-8.015451431274414,0.39404019713401794,8.697709083557129,15.89235782623291,-14.826249122619629,-3.3228259086608887,4.283189296722412,-7.7810773849487305,4.989184856414795,21.756425857543945,-15.065936088562012,-14.898383140563965,5.947981834411621,20.29055404663086,15.777002334594727,2.5191490650177,-6.349164962768555,13.992780685424805,7.824192047119141,10.004136085510254,8.605511665344238,-5.705657005310059,19.4942626953125,1.9555954933166504,9.816813468933105,15.832940101623535,-13.424750328063965,-3.6047043800354004,-5.881289958953857,15.748133659362793,-10.933761596679688,-9.512903213500977,1.043565273284912,4.544887065887451,-12.650443077087402,-8.085659980773926,4.006477355957031,20.08898162841797,8.19770622253418,-0.46506184339523315,-7.778836250305176,10.676519393920898,-2.839850664138794,-8.923033714294434,-5.38007116317749,3.697208881378174,17.581697463989258,-12.410423278808594,1.3135157823562622,6.649621963500977,2.831273317337036,3.5641696453094482,5.074458599090576,3.24218487739563,11.157214164733887,22.497756958007812,8.070690155029297,-6.091941833496094,-3.376509666442871,9.258103370666504,5.522124767303467,5.346958637237549,-18.08761978149414,-6.4232378005981445,-10.15929126739502,6.616904258728027,10.202814102172852,7.903426647186279,-3.1402878761291504,-4.1228718757629395,30.004459381103516,7.1324076652526855,-20.259971618652344,-8.349860191345215,7.663161277770996,4.596974849700928,-17.185436248779297,-14.189990043640137,-16.161893844604492,21.042377471923828,-19.257076263427734,3.8953025341033936,-4.040477752685547,23.823945999145508,25.18744659423828,5.334860324859619,-3.458508253097534,6.661722660064697,8.182076454162598,24.971174240112305,-3.5121803283691406,-7.158473491668701,6.8209004402160645,-2.709395408630371,-9.610504150390625,-12.188390731811523,2.0882749557495117,1.4649736881256104,-19.126575469970703,-10.946488380432129,23.188610076904297,-11.505511283874512,20.747865676879883,14.742505073547363,7.159265518188477,5.736846923828125,-7.3359694480896,13.969555854797363,-7.7221455574035645,-2.957420825958252,0.12236881256103516,-3.447984218597412,0.20424439013004303,-12.109220504760742,2.500441789627075,16.429325103759766,7.858522891998291,-14.77808666229248,-8.797684669494629,11.85106086730957,19.66774559020996,-13.682149887084961,11.091486930847168,15.903117179870605,-12.682268142700195,13.866918563842773,7.394192695617676,6.198925971984863,6.6890034675598145,-12.65225601196289,15.180399894714355,17.941654205322266,0.24640382826328278,7.245932579040527,-2.499962568283081,1.329042673110962,-14.874603271484375,9.11034107208252,-11.77735710144043,7.188032150268555,1.6788241863250732,-2.102128028869629,9.024907112121582,-5.354039669036865,18.81488609313965,-8.561090469360352,5.548666954040527,2.3298490047454834,-8.404285430908203,15.090739250183105,1.9632264375686646,-12.430606842041016,-3.3690743446350098,10.573362350463867,8.911956787109375,8.570086479187012,-14.415963172912598,13.99473762512207,6.9147114753723145,8.054635047912598,-7.078243732452393,16.36314582824707,-6.167828559875488,23.66084098815918,-24.402767181396484,16.487857818603516,-12.832201957702637,8.848541259765625,-10.744150161743164,19.475078582763672,-16.078908920288086,-16.222061157226562,-11.036005020141602,5.084416389465332,7.969732761383057,6.056904315948486,1.381729245185852,-4.63143253326416,-9.968032836914062,9.362931251525879,-1.7172911167144775,11.613758087158203,23.708271026611328,-17.110090255737305,12.534605026245117,-8.804228782653809,12.30373477935791,16.750795364379883,10.278568267822266,-14.759843826293945,-18.200162887573242,0.725788950920105,-17.56371307373047,13.68707275390625,15.588242530822754,-10.265366554260254,19.57634735107422,21.540739059448242,-4.177712440490723,20.945125579833984,13.503741264343262,-4.115758895874023,10.807168006896973,-2.3022243976593018,-5.88559103012085,-16.02355194091797,-10.573455810546875,1.208403468132019,16.2423095703125,-7.818953990936279,-15.499933242797852,-9.608298301696777,-13.31577205657959,-1.823606252670288,1.473060965538025,13.914976119995117,-13.185399055480957,16.312816619873047,5.902766704559326,4.7264404296875,10.153321266174316,12.266889572143555,-5.033592700958252,2.21621036529541,23.4376277923584,-8.925374984741211,-2.4021236896514893,-10.914839744567871,15.74413013458252,-3.2241203784942627,26.139699935913086,12.21960735321045,-10.268158912658691,-7.647727012634277,-2.9924230575561523,-6.73122501373291,-3.5117297172546387,-2.3989241123199463,-8.802578926086426,-0.4340415298938751,23.92328453063965,25.877456665039062,21.498443603515625,-9.036433219909668,6.555485725402832,6.908506870269775,6.056113243103027,-14.294600486755371,-15.125900268554688,2.617877721786499,3.3497228622436523,0.11207544803619385,16.006057739257812,-10.125517845153809,8.885488510131836,10.804636001586914,13.753376960754395,8.615191459655762,-15.71664047241211,-9.44382381439209,17.727108001708984,-11.525758743286133,3.5488781929016113,4.3799309730529785,-10.801153182983398,-4.988720893859863,20.181804656982422,-7.505405902862549,4.234601020812988,6.682089328765869,12.012226104736328,-2.7216944694519043,-14.679705619812012,15.850874900817871,2.546825647354126,22.383892059326172,21.80095863342285,11.495512008666992,15.973209381103516,-16.40340805053711,3.490121841430664,-6.4203104972839355,-7.403834819793701,4.198833465576172,-8.66988754272461,9.8421049118042,-20.29983901977539,-10.754554748535156,-5.04746675491333,10.590256690979004,6.963178634643555,5.233283996582031,19.8330078125,3.4023337364196777,24.42152976989746,19.734786987304688,14.528993606567383,-4.805607318878174,12.240818977355957,-19.473108291625977,14.757568359375,4.449082374572754,-1.0632545948028564,-4.068537712097168,-6.6073689460754395,7.824183464050293,7.856978416442871,-15.154788970947266,-14.526806831359863,-4.756320476531982,-5.97652530670166,-4.164018630981445,20.440391540527344,-2.160388708114624,2.6569933891296387,22.848520278930664,2.7358508110046387,6.511276721954346,2.0578269958496094,12.609560012817383,-10.741225242614746,10.794425010681152,-21.895566940307617,6.312839508056641,-6.548953056335449,-7.471785068511963,-21.193496704101562,24.743322372436523,-4.88895320892334,-10.83103084564209,-14.369401931762695,5.869093894958496,-6.1500983238220215,9.195928573608398,-1.3771098852157593,-10.66165542602539,13.698936462402344,12.00864315032959,5.670490264892578,-18.067792892456055,-5.688713073730469,-3.384572982788086,13.837714195251465,24.696401596069336,-10.1948823928833,-7.461579322814941,-7.474828243255615,4.335598945617676,4.332528114318848,8.711069107055664,5.235926151275635,-1.8663647174835205,6.311843395233154,-12.554564476013184,-5.905735015869141,12.195324897766113,-3.575625419616699,-9.493541717529297,10.02188777923584,-3.872190237045288,-1.9288697242736816,3.5902109146118164,6.823303699493408,7.036418437957764,10.1968355178833,-15.752233505249023,-5.901724815368652,-0.32164913415908813,-2.5084228515625,7.6058349609375,4.28571081161499,-5.947691917419434,16.537145614624023,-17.15431022644043,-12.0851469039917,13.881596565246582,15.51599407196045,-0.21373020112514496,-6.469127655029297,9.253650665283203,-15.534589767456055,4.244014739990234,6.993346214294434,-3.921489953994751,23.22666358947754,5.170557975769043,-2.7200160026550293,-14.080559730529785,-10.237080574035645,-2.635188102722168,12.648290634155273,11.793793678283691,10.158283233642578,23.48546600341797,-15.764062881469727,14.255231857299805,20.743915557861328,-12.813722610473633,16.351398468017578,-8.883886337280273,9.358327865600586,13.166439056396484,-5.429528713226318,9.666878700256348,7.233040809631348,-15.141016006469727,12.534008026123047,-16.596282958984375,-16.082805633544922,-2.646841287612915,-7.690492630004883,9.046058654785156,-0.5421391725540161,25.423646926879883,-1.4208916425704956,2.0659501552581787,-17.90435791015625,17.349899291992188,-12.755298614501953,7.68613862991333,17.127927780151367,-8.752950668334961,-1.912545919418335,-4.645653247833252,-8.399559020996094,9.832152366638184,-15.80136489868164,18.515993118286133,9.7029447555542,-5.436448574066162,-17.41510581970215,7.099974632263184,-2.515244483947754,3.8815972805023193,-6.715112686157227,7.322305202484131,-15.148048400878906,-11.051234245300293,8.363632202148438,-8.370071411132812,-4.900728225708008,13.478204727172852,-5.405910015106201,24.650171279907227,6.168519020080566,19.362712860107422,-10.842695236206055,-19.107986450195312,-5.179250240325928,-1.6417156457901,10.680472373962402,-1.5642820596694946,8.549899101257324,-8.78998851776123,20.947437286376953,-11.435135841369629,-15.354568481445312,-6.594664573669434,-0.9752035140991211,-4.658466339111328,7.179178714752197,23.687002182006836,-12.611176490783691,-2.1603238582611084,-17.055835723876953,-6.876662731170654,19.322172164916992,22.01020622253418,12.307271003723145,-7.281432151794434,2.8282835483551025,20.394926071166992,4.9023895263671875,-6.565732955932617,11.044949531555176,5.070303440093994,7.570560455322266,-11.91007137298584,-3.0326995849609375,15.438813209533691,4.459004878997803,-1.5769022703170776,-4.782662868499756,5.892590522766113,14.061325073242188,0.39732789993286133,-3.4266769886016846,-2.8694896697998047,21.991859436035156,-5.876397609710693,12.93310832977295,-14.249327659606934,25.19281768798828,28.072595596313477,4.9539337158203125,-8.859955787658691,-11.126110076904297,-16.85189437866211,19.470544815063477,16.086078643798828,-7.696896553039551,8.605816841125488,-22.29998779296875,-4.819985389709473,-8.391709327697754,-7.627228736877441,-16.76712417602539,14.248210906982422,-8.76508903503418,0.29149961471557617,9.367533683776855,23.530792236328125,5.210562229156494,-11.180188179016113,9.060054779052734,-4.00088357925415,28.51070213317871,12.557625770568848,8.634193420410156,14.650788307189941,-7.171398162841797,7.134461402893066,6.005550861358643,-16.580322265625,20.027067184448242,9.606856346130371,-10.365311622619629,-1.4607943296432495,7.97667932510376,-9.807007789611816,-4.4202799797058105,7.62123966217041,6.054116249084473,7.3588666915893555,2.852902889251709,-18.829133987426758,-13.875192642211914,10.086986541748047,-8.938907623291016,-13.12199592590332,-9.081093788146973,-13.614269256591797,11.508052825927734,-16.493484497070312,-6.977991580963135,-4.5449323654174805,17.39997100830078,-15.138036727905273,12.615257263183594,-21.055469512939453,14.377833366394043,4.624440670013428,16.898395538330078,-2.1392462253570557,1.698478102684021,21.48299217224121,-13.974574089050293,-2.1896796226501465,-11.559331893920898,17.609710693359375,5.098945140838623,-14.288731575012207,0.05096978694200516,10.510041236877441,19.374399185180664,11.85665512084961,-9.947803497314453,-9.772834777832031,13.63959789276123,20.652114868164062,8.685846328735352,14.895456314086914,-5.0235772132873535,-16.422277450561523,-12.36746883392334,29.00396156311035,-2.277729034423828,-8.800264358520508,-4.484612464904785,24.060749053955078,-8.539501190185547,-4.225675106048584,-4.392568588256836,-17.19034767150879,-13.090275764465332,-2.8791069984436035,-4.329704284667969,2.8576409816741943,-15.232767105102539,-10.6595458984375,-19.229429244995117,11.607081413269043,7.298450469970703,18.39827537536621,19.383922576904297,-12.634979248046875,12.756275177001953,-13.82144832611084,-15.734233856201172,-5.576632499694824,-10.57183837890625,-12.255228996276855,-8.288704872131348,-8.751548767089844,-16.137544631958008,17.44735336303711,12.427801132202148,16.93866729736328,-11.013208389282227,14.551249504089355,5.436379432678223,12.628064155578613,-0.20798631012439728,-16.05902671813965,-0.6798279285430908,9.177168846130371,-7.349167346954346,18.853239059448242,-13.7206449508667,-5.070275783538818,7.479246139526367,-2.816800832748413,-1.7807915210723877,26.083106994628906,29.461624145507812,14.856561660766602,-2.688037633895874,-5.182027816772461,-4.459746360778809,22.51506996154785,21.846282958984375,-6.206351280212402,8.717934608459473,14.697576522827148,-9.830263137817383,21.83193016052246,-14.404943466186523,-19.549015045166016,27.25706672668457,-3.0975100994110107,-3.429530382156372,1.3772859573364258,7.860530376434326,-5.527775764465332,-15.68486213684082,2.6702394485473633,-7.773371696472168,-8.704670906066895,-9.217891693115234,3.8440494537353516,13.958163261413574,-13.77330207824707,16.37652587890625,11.17612361907959,19.251943588256836,11.631143569946289,24.762704849243164,6.181334018707275,3.0188183784484863,-6.300602436065674,1.5423721075057983,-7.579998016357422,-0.5461681485176086,8.9059476852417,9.388754844665527,9.106778144836426,13.372295379638672,10.008936882019043,-19.122007369995117,-18.637516021728516,-7.332603454589844,-5.3069539070129395,6.4234538078308105,-17.055517196655273,8.71416187286377,-15.043838500976562,17.09644317626953,-17.8050537109375,-11.169516563415527,-7.19570779800415,13.856834411621094,-4.337434768676758,-13.469741821289062,21.216670989990234,10.975404739379883,-12.733031272888184,8.82961654663086,-10.449666023254395,18.278446197509766,-7.370536804199219,7.735927581787109,-13.606682777404785,-3.745530843734741,1.5406649112701416,-11.78371524810791,20.652698516845703,11.844217300415039,0.7056247591972351,-13.246988296508789,0.5677675604820251,-18.205801010131836,-2.2715163230895996,-11.498435974121094,10.561124801635742,19.011520385742188,19.098581314086914,-7.053231716156006,-15.461723327636719,3.2259631156921387,-6.367145538330078,6.111886501312256,-13.502717018127441,-6.570969581604004,-3.3977959156036377,5.618856430053711,6.21542501449585,12.438743591308594,-7.512077808380127,20.53557586669922,-2.8210017681121826,7.743518829345703,-1.3486499786376953,17.926591873168945,1.4052737951278687,11.511528968811035,-3.809816598892212,7.1652326583862305,8.305448532104492,-1.8063242435455322,-3.5214552879333496,6.068411827087402,6.364992141723633,-19.541851043701172,2.78275728225708,5.50597620010376,16.671485900878906,16.680809020996094,-11.081219673156738,-11.077674865722656,18.606271743774414,-6.722170352935791,-6.643440246582031,-11.6080322265625,-11.395132064819336,22.842382431030273,-11.024751663208008,-12.766127586364746,8.819483757019043,12.551048278808594,4.338473796844482,-21.0834903717041,5.534543037414551,5.472091197967529,-3.3157060146331787,-12.879964828491211,7.858320713043213,-10.441192626953125,11.677888870239258,1.0291523933410645,14.775350570678711,-6.780088424682617,-14.651280403137207,3.6728174686431885,-13.904623985290527,-18.095022201538086,-4.928160190582275,-4.313288688659668,-18.369552612304688,-19.79579734802246,12.500709533691406,7.207197189331055,-18.76958465576172,-14.532662391662598,9.555628776550293,-10.552590370178223,12.212074279785156,17.696271896362305,-3.4089462757110596,7.156525135040283,-14.767485618591309,7.4536285400390625,-13.736655235290527,-18.94695472717285,8.587127685546875,1.9640984535217285,-4.369587421417236,-13.476848602294922,-6.7992329597473145,27.533292770385742,-0.9597779512405396,21.01045799255371,6.864245891571045,13.150829315185547,6.071662902832031,3.8569905757904053,18.221168518066406,9.939197540283203,-2.0465304851531982,7.08001184463501,-13.768805503845215,16.14345359802246,-3.469461679458618,-15.390116691589355,-2.0224390029907227,18.188190460205078,7.165489196777344,6.530348300933838,-10.00418472290039,5.410346508026123,-21.788713455200195,-0.899232029914856,-7.317821025848389,22.797286987304688,4.664772033691406,19.982891082763672,-17.16866683959961,-9.17923355102539,10.554890632629395,2.956620216369629,7.882216930389404,-16.503868103027344,29.245996475219727,-6.91139554977417,-7.878171443939209,-4.051512241363525,16.12466812133789,7.68491268157959,2.4215238094329834,-4.105347633361816,23.562082290649414,-11.380026817321777,-1.4900784492492676,11.927899360656738,24.221342086791992,15.390268325805664,8.006961822509766,-1.6846156120300293,-0.027018291875720024,-7.742030143737793,4.2039055824279785,3.066132068634033,10.37808609008789,-8.857903480529785,14.655247688293457,4.036168098449707,5.216292858123779,-10.467089653015137,-5.357540130615234,-7.126228332519531,12.092584609985352,13.855148315429688,-7.660060882568359,12.49591064453125,0.17566584050655365,16.50618553161621,20.060970306396484,-3.5871078968048096,4.746612548828125,6.220279216766357,-11.339498519897461,21.315465927124023,-8.698613166809082,-12.772745132446289,-2.3329551219940186,16.27263069152832,8.852588653564453,-7.047715663909912,0.49783578515052795,-5.826045036315918,11.782782554626465,-8.39252758026123,4.162027835845947,-18.648168563842773,8.37173080444336,-5.681258201599121,12.625018119812012,22.356964111328125,-17.889142990112305,-17.31511878967285,-13.780479431152344,-14.225051879882812,5.179194927215576,2.020979881286621,5.53578519821167,9.512202262878418,-5.700803756713867,1.4620752334594727,9.748380661010742,19.971263885498047,-13.699048042297363,7.561942100524902,5.207752704620361,8.495176315307617,-5.269166946411133,-10.46644115447998,15.151683807373047,6.899744510650635,1.80213463306427,11.599530220031738,7.9768781661987305,7.012928485870361,-3.234929084777832,17.460683822631836,-9.95748233795166,14.955940246582031,-12.68952465057373,22.793241500854492,9.69801139831543,-0.5579114556312561,21.0224609375,-6.632477283477783,13.857134819030762,-6.95652961730957,-20.138166427612305,22.73283576965332,24.63646125793457,8.9520845413208,-3.95646333694458,10.584417343139648,-17.896604537963867,12.890557289123535,-3.9763944149017334,-5.335063457489014,16.704238891601562,3.7495663166046143,-5.008914470672607,-2.12178373336792,5.670572280883789,-19.622581481933594,-13.939521789550781,-11.527708053588867,-16.738826751708984,4.280627250671387,-13.17813777923584,21.159425735473633,-1.865041971206665,20.191980361938477,6.525489807128906,-5.0860915184021,-16.99300193786621,-17.081890106201172,8.44772720336914,11.304250717163086,3.970944881439209,18.526851654052734,28.365102767944336,8.41028881072998,-7.011449337005615,10.018864631652832,8.81342601776123,-10.343915939331055,12.710935592651367,-1.6644304990768433,-20.956771850585938,-6.434600830078125,-21.354143142700195,7.083605766296387,-16.41758155822754,-15.141228675842285,15.551952362060547,12.857369422912598,12.636048316955566,13.79738998413086,9.462904930114746,7.378183841705322,6.848079204559326,14.149104118347168,-3.3768162727355957,15.449821472167969,-7.6846818923950195,-9.039167404174805,-0.9078938961029053,-16.436687469482422,6.848791122436523,-9.482893943786621,0.39165592193603516,23.968303680419922,-9.384102821350098,-4.734216690063477,-4.719077110290527,-16.627809524536133,-14.199918746948242,13.62636947631836,-10.97140884399414,-11.687341690063477,6.128579139709473,-9.608646392822266,-13.207184791564941,3.4100944995880127,-4.491825103759766,-12.67876148223877,13.61874008178711,-7.4931135177612305,15.733466148376465,4.710180759429932,23.578462600708008,-11.970316886901855,-2.8404946327209473,17.397218704223633,-16.982894897460938,-21.844833374023438,10.252630233764648,-13.874598503112793,-7.5045294761657715,-3.1554222106933594,16.305278778076172,1.1288429498672485,6.111383438110352,-10.889974594116211,-16.09817886352539,-7.272630214691162,-3.7355763912200928,-10.193172454833984,-4.4065656661987305,22.73202133178711,-7.475240230560303,-5.689750671386719,-10.87927532196045,-1.3114285469055176,-7.654404163360596,26.078100204467773,-10.363764762878418,5.648769855499268,4.391016960144043,-4.434709072113037,16.76058006286621,19.112472534179688,2.243621826171875,-3.474851608276367,-10.247282028198242,-5.198404312133789,-6.160317897796631,12.847354888916016,8.506733894348145,-13.233814239501953,-17.396949768066406,21.19900131225586,-11.374215126037598,-3.690194606781006,-2.343992233276367,6.421013832092285,3.293463706970215,8.383631706237793,2.3970859050750732,-6.403033256530762,10.163336753845215,6.0184407234191895,-5.230607509613037,-1.7651890516281128,-4.440860271453857,6.181460380554199,13.330522537231445,19.88579750061035,-1.7323602437973022,-1.1686897277832031,-16.80917739868164,-1.999179482460022,-8.49170970916748,-5.614347457885742,10.77381706237793,2.210120439529419,-14.91977596282959,-16.486513137817383,15.639562606811523,-19.088911056518555,-11.74166488647461,22.02411651611328,16.711891174316406,-15.772857666015625,-16.916166305541992,-5.7032623291015625,-10.146309852600098,4.613117218017578,18.023576736450195,-9.725325584411621,-11.989950180053711,-7.805310249328613,15.249035835266113,-0.5551866292953491,-11.778931617736816,-6.749753475189209,4.791004657745361,-19.57118034362793,-5.400991439819336,23.203128814697266,-10.166905403137207,-10.819483757019043,-18.789432525634766,3.589104652404785,-4.647648334503174,-6.275972366333008,-20.980976104736328,6.961609840393066,-14.500593185424805,20.17986488342285,4.845337867736816,-16.758567810058594,-16.024253845214844,-16.6722412109375,-7.7582268714904785,9.420402526855469,-0.5636551976203918,20.696613311767578,10.373750686645508,-1.6840465068817139,11.928566932678223,25.236486434936523,9.707025527954102,0.4983283281326294,-13.541492462158203,-13.3663330078125,-8.149971008300781,14.582584381103516,-15.48730182647705,-10.608504295349121,-2.736438035964966,-20.67991828918457,8.102588653564453,-14.49827766418457,-6.628066062927246,19.808517456054688,5.005192756652832,-2.8171885013580322,18.744464874267578,-1.7040454149246216,21.385740280151367,-5.729820251464844,-8.428545951843262,10.161337852478027,-7.397109508514404,-8.858941078186035,5.0230607986450195,7.569956302642822,-3.073969841003418,-16.986907958984375,20.91155242919922,-6.933915138244629,6.625709056854248,-2.4663093090057373,-2.6058483123779297,6.695178985595703,3.3484513759613037,-3.1328320503234863,-11.323799133300781,11.308991432189941,-7.967652320861816,-1.9788949489593506,-4.411552906036377,-7.534841060638428,2.742311954498291,16.53745460510254,-5.435463905334473,-1.921485424041748,25.285690307617188,-0.5119876861572266,-15.190498352050781,15.409528732299805,-18.531999588012695,4.80026912689209,17.58779525756836,6.093078136444092,20.067092895507812,9.594016075134277,-8.948161125183105,2.5380427837371826,-2.9694526195526123,0.3028751015663147,-8.654257774353027,-12.643318176269531,-11.151082992553711,0.6985803842544556,22.925682067871094,16.184127807617188,13.632081985473633,-1.258509874343872,12.658487319946289,-7.0453643798828125,-13.737536430358887,11.959773063659668,-2.6912522315979004,11.506044387817383,-8.17638111114502,17.755455017089844,-15.286437034606934,-9.427033424377441,-15.778247833251953,21.214458465576172,0.5034425258636475,16.81218147277832,3.3787648677825928,25.621253967285156,5.913571357727051,27.93543815612793,18.587322235107422,5.720852851867676,-7.217235088348389,-0.48837777972221375,4.537505149841309,-6.001211643218994,9.41728401184082,-12.356321334838867,-7.579522132873535,-11.984116554260254,-3.555054187774658,16.982524871826172,-5.931308269500732,-10.619909286499023,7.87042760848999,5.542696475982666,15.131609916687012,-8.57759952545166,-8.49848747253418,-16.328943252563477,-19.46058464050293,-19.042848587036133,15.54572868347168,0.8310301303863525,0.24049614369869232,-11.5863676071167,13.98674201965332,-9.557714462280273,9.122222900390625,-7.641038417816162,1.1582508087158203,22.42766571044922,7.905845642089844,-5.037841320037842,-6.764340400695801,10.414647102355957,14.354615211486816,10.359989166259766,24.5367488861084,9.85778522491455,-7.0428147315979,22.95083236694336,-15.514941215515137,-13.244278907775879,9.502645492553711,-6.336325645446777,-0.6950192451477051,-16.717565536499023,-15.615178108215332,3.5744094848632812,1.4412058591842651,-12.629154205322266,-11.532601356506348,16.647676467895508,12.73132038116455,-4.922486305236816,19.597564697265625,11.90428638458252,-7.2521071434021,-0.08491618931293488,15.261137008666992,-5.538082122802734,-21.569446563720703,4.153409004211426,15.485071182250977,12.81625747680664,8.748019218444824,22.267702102661133,23.265716552734375,-18.92026138305664,18.85691261291504,-5.270496845245361,-4.629119396209717,-18.520401000976562,-5.1063666343688965,-9.144364356994629,17.301883697509766,-8.058050155639648,-3.1745355129241943,-1.9118068218231201,7.379730224609375,-9.999893188476562,15.70755672454834,22.677474975585938,-19.201725006103516,7.03943395614624,-13.543169021606445,10.321048736572266,-6.595643520355225,-8.511825561523438,-6.075370788574219,7.927069187164307,16.85745620727539,19.724821090698242,17.99012565612793,4.959516525268555,13.251703262329102,-9.699978828430176,15.27865219116211,11.942586898803711,-11.378150939941406,-3.9783060550689697,-6.329562664031982,-2.85664439201355,21.876869201660156,-12.554572105407715,12.280546188354492,-4.445544719696045,2.100872278213501,18.418344497680664,-3.088151216506958,4.049485683441162,-1.8187437057495117,11.87348461151123,8.77992057800293,10.124095916748047,-1.5151023864746094,9.106358528137207,-9.954368591308594,-9.08256721496582,-16.997238159179688,-0.8657681345939636,-10.551806449890137,25.070524215698242,-2.470243215560913,-4.38556432723999,9.770918846130371,-1.9003506898880005,-13.630500793457031,16.955873489379883,-11.824504852294922,16.913875579833984,14.820565223693848,21.78079605102539,-6.850285053253174,-4.518458843231201,-15.540492057800293,-17.457595825195312,18.585012435913086,19.52143669128418,3.3286755084991455,6.061067581176758,4.96002721786499,-6.274113655090332,-5.225637435913086,3.5275726318359375,11.166300773620605,-11.116511344909668,-0.1409452259540558,-15.838862419128418,14.905242919921875,11.01905632019043,-20.78766632080078,-5.564340114593506,-7.143772602081299,10.67817211151123,-18.915443420410156,-7.836478233337402,-15.474817276000977,14.364957809448242,-5.238399028778076,-16.171968460083008,6.402812957763672,-13.431097984313965,-3.430471181869507,9.607124328613281,-15.235245704650879,-15.827750205993652,22.872936248779297,-17.24609375,-13.117475509643555,-6.960127353668213,26.3972225189209,15.174866676330566,-20.305517196655273,9.627197265625,-9.257094383239746,-6.767642498016357,-11.591812133789062,11.003397941589355,-7.999366283416748,5.42329216003418,-16.051013946533203,10.026878356933594,-3.978549003601074,21.976497650146484,-8.242476463317871,-7.076338768005371,-4.721354007720947,6.484665393829346,-4.2943243980407715,-4.203362464904785,15.827144622802734,5.553593635559082,14.555533409118652,-3.015925168991089,25.059720993041992,-11.815505981445312,-5.051137924194336,1.480811357498169,-9.581988334655762,5.573084354400635,15.766185760498047,12.84700870513916,6.214970111846924,19.060380935668945,11.68057918548584,25.19569206237793,-5.03191614151001,27.09033203125,4.0410566329956055,-6.327718734741211,-0.09056086093187332,15.279440879821777,28.03528594970703,-3.415985107421875,-3.7207071781158447,12.260035514831543,-3.494415044784546,3.9744880199432373,12.204340934753418,2.649867296218872,-12.207361221313477,13.316875457763672,-2.0169153213500977,-17.55425262451172,-4.624615669250488,-1.8699666261672974,-16.451644897460938,26.0636043548584,9.08133316040039,-15.539541244506836,6.3757758140563965,12.082152366638184,6.644120693206787,16.766342163085938,0.1645791381597519,17.625850677490234,2.9084815979003906,3.3546669483184814,16.844682693481445,-7.7427263259887695,-5.301778793334961,-5.374045372009277,3.5971670150756836,12.631610870361328,3.4128358364105225,-0.810391366481781,-6.240352153778076,7.331832408905029,22.475919723510742,14.23645305633545,-5.6330389976501465,-17.512706756591797,-5.71088981628418,-10.581114768981934,-18.65119171142578,17.684974670410156,-9.430941581726074,-5.81767463684082,18.639516830444336,16.66546630859375,-5.910069942474365,-8.47089672088623,-3.975661277770996,16.1497745513916,17.021608352661133,-7.772894382476807,19.471479415893555,-16.481945037841797,-8.3311767578125,-7.799282073974609,20.611064910888672,-6.219505786895752,-9.059072494506836,-7.452351093292236,-16.872665405273438,4.838845729827881,6.848273754119873,-11.181796073913574,-9.185324668884277,-15.51992416381836,-6.518697738647461,-12.137520790100098,-20.27724838256836,17.86223030090332,7.617122173309326,-11.871339797973633,19.016277313232422,8.215888023376465,-3.200470209121704,19.19482421875,12.717365264892578,6.719728469848633,-4.542640686035156,18.917116165161133,23.242446899414062,-1.1201542615890503,-18.162506103515625,21.900732040405273,-11.521929740905762,-4.284654140472412,7.540760517120361,25.248355865478516,-4.853702068328857,-15.719939231872559,-8.102171897888184,9.188385009765625,-11.243022918701172,-3.0502936840057373,7.561726093292236,-8.578083038330078,-10.138954162597656,-13.429512977600098,17.035348892211914,6.36248779296875,-0.9916684627532959,11.54971981048584,-22.3629150390625,-5.210257053375244,-5.393037796020508,-8.971473693847656,-9.693419456481934,-9.621578216552734,-7.639580726623535,-17.732473373413086,-3.7063705921173096,2.984534740447998,3.7902185916900635,-8.24111270904541,-15.606614112854004,5.019160270690918,0.046084221452474594,8.071209907531738,24.852018356323242,-8.543726921081543,-4.930145740509033,5.3801798820495605,23.834392547607422,-20.13019371032715,13.970094680786133,-9.569418907165527,-0.13728433847427368,-3.404264211654663,6.624074935913086,-17.895492553710938,-10.166956901550293,15.165909767150879,-15.934406280517578,-5.556280612945557,-7.062376499176025,-18.81377601623535,-2.305537700653076,-2.6901962757110596,-4.389171600341797,1.2094427347183228,7.814560890197754,15.66301441192627,-7.116919040679932,-6.921500205993652,6.1001410484313965,9.958033561706543,6.460483074188232,23.801563262939453,13.75585651397705,20.130647659301758,-7.297487735748291,5.4109883308410645,-15.527803421020508,-8.084367752075195,-9.067955017089844,11.74125862121582,20.01217269897461,5.956882476806641,10.801843643188477,24.724695205688477,-8.956026077270508,2.9606130123138428,-1.8308892250061035,-1.4125313758850098,-10.789546012878418,1.876885175704956,-6.511864185333252,-14.899096488952637,-7.143558502197266,13.112041473388672,6.597583770751953,-16.503990173339844,-4.487512111663818,4.1858696937561035,11.451839447021484,9.850275993347168,-16.10912322998047,20.831703186035156,-8.132580757141113,8.107017517089844,10.44031047821045,-7.723546981811523,-0.13458067178726196,-3.46677565574646,4.448173999786377,4.845487594604492,-4.41224479675293,-15.60059642791748,9.57600212097168,25.410320281982422,-16.317766189575195,9.351184844970703,10.644603729248047,-20.187477111816406,-11.39374828338623,-4.448673725128174,-13.218071937561035,-15.315424919128418,-16.904582977294922,-3.2390565872192383,18.960004806518555,-17.726280212402344,-15.87691879272461,26.63364028930664,17.432905197143555,2.4861035346984863,-5.319793701171875,14.949979782104492,-17.368436813354492,6.921620845794678,9.00186824798584,3.0718936920166016,15.956098556518555,15.591849327087402,18.541048049926758,-5.417014122009277,27.51591682434082,-15.20528793334961,3.1014342308044434,-17.85344123840332,11.623861312866211,20.0030460357666,-15.695523262023926,-6.16658353805542,0.2925545275211334,9.036262512207031,-18.104490280151367,-7.193336486816406,13.108990669250488,-4.0046844482421875,-1.9687559604644775,-12.579373359680176,18.950302124023438,13.803034782409668,10.428936004638672,8.414231300354004,-4.334182262420654,2.004580497741699,20.44255256652832,-2.216759443283081,8.502281188964844,9.778050422668457,-18.723251342773438,12.587667465209961,-3.6733713150024414,-2.714024782180786,-4.939073085784912,0.6244580149650574,6.262118339538574,-22.144893646240234,6.134428024291992,-19.702960968017578,-9.261767387390137,11.778429985046387,0.4678603410720825,22.51082992553711,-9.048377990722656,-7.3619184494018555,-7.825855731964111,13.77721881866455,-15.8639497756958,3.5203752517700195,7.083754539489746,-12.563224792480469,-11.899591445922852,12.90788459777832,19.13443374633789,-8.057425498962402,7.824362754821777,-14.39538288116455,-5.828423500061035,27.494712829589844,-9.844969749450684,-13.73106861114502,-16.20822525024414,0.09720222651958466,-5.344289302825928,12.72640323638916,-13.133993148803711,-6.793309211730957,16.7960147857666,8.313491821289062,-17.73537826538086,7.219473838806152,20.388818740844727,6.303930759429932,-19.136343002319336,8.264317512512207,-4.845125675201416,19.854965209960938,-8.114930152893066,13.478821754455566,15.426170349121094,15.907559394836426,-10.559281349182129,-15.207752227783203,13.278000831604004,6.688992977142334,5.872198104858398,-6.466975688934326,-19.24603843688965,-9.412135124206543,0.06819315254688263,-9.81060791015625,22.171653747558594,-8.934744834899902,1.4134812355041504,5.575469970703125,7.810998439788818,-11.108264923095703,-0.4090555012226105,3.054316759109497,10.410048484802246,7.6821513175964355,24.241899490356445,19.45881462097168,22.936939239501953,-17.25656509399414,8.682814598083496,8.34646987915039,-15.271882057189941,-19.272581100463867,9.774491310119629,16.09169578552246,-4.409104824066162,24.110530853271484,25.43317413330078,15.48879623413086,-3.765324354171753,17.374109268188477,12.384639739990234,16.445253372192383,24.730104446411133,-16.576332092285156,-8.604454040527344,14.388179779052734,11.45269775390625,16.41631317138672,8.48546314239502,11.180410385131836,-8.495363235473633,-0.8264331817626953,-8.722146987915039,24.26739501953125,-7.542903423309326,9.555023193359375,-14.4933500289917,4.446764945983887,0.6062448024749756,-14.972770690917969,15.373156547546387,23.567285537719727,-15.948318481445312,-5.2642340660095215,0.14827126264572144,16.95757293701172,3.7561397552490234,-13.387234687805176,11.59512996673584,-8.648517608642578,-7.529994964599609,2.31805419921875,-20.706098556518555,-5.5131754875183105,16.065366744995117,-11.766725540161133,-17.093050003051758,4.36570930480957,3.836770534515381,8.884961128234863,9.998347282409668,2.4002065658569336,-5.907337665557861,-10.095314979553223,-15.9736328125,-9.347432136535645,-14.05803108215332,-8.701864242553711,-16.32354164123535,11.808980941772461,-16.923622131347656,-18.110145568847656,-6.408608436584473,-9.943717956542969,25.33441162109375,-19.168386459350586,13.783913612365723,-6.108131408691406,7.320815086364746,-9.448684692382812,14.268858909606934,-2.178255558013916,-16.533626556396484,-11.921753883361816,-4.064103126525879,-10.821599006652832,-20.62152671813965,28.59362030029297,-4.663578510284424,1.9225622415542603,-13.705699920654297,-15.459491729736328,-15.61524772644043,5.318297863006592,-10.463590621948242,6.566554546356201,-4.493342876434326,-10.281965255737305,14.943593978881836,-15.95637035369873,-3.992429256439209,11.397419929504395,9.270710945129395,-13.645907402038574,-11.894452095031738,0.5487731099128723,-5.569701194763184,-2.9904141426086426,4.614905834197998,10.859884262084961,-3.321683168411255,-17.655000686645508,4.999371528625488,4.68627405166626,-18.744770050048828,-12.358407974243164,25.35511589050293,-20.347139358520508,-8.195501327514648,-8.333767890930176,-10.112421035766602,-11.99458122253418,-14.150071144104004,24.011375427246094,16.306861877441406,-2.6521379947662354,-10.916228294372559,18.408367156982422,-6.4869489669799805,17.0347843170166,10.463151931762695,6.456532955169678,-10.528478622436523,15.036033630371094,6.0871992111206055,-8.794351577758789,-6.478936672210693,-23.17875099182129,4.641637325286865,6.437714099884033,11.359164237976074,-7.97615909576416,-14.823840141296387,4.924892902374268,15.675739288330078,28.29520034790039,-6.597245216369629,-15.59982967376709,16.680442810058594,-17.243724822998047,21.275245666503906,8.989435195922852,5.303032398223877,-9.28385066986084,-2.1264734268188477,-3.322998523712158,17.232376098632812,-18.531463623046875,-6.20231294631958,26.106462478637695,-14.548421859741211,12.632613182067871,7.539546489715576,4.24664831161499,10.795833587646484,-5.05569314956665,24.121667861938477,-3.3195254802703857,24.0614013671875,-21.008861541748047,6.394099235534668,21.10551643371582,-4.459660053253174,15.983295440673828,3.9405622482299805,5.841238975524902,15.659334182739258,12.013615608215332,-15.759613037109375,10.53641414642334,-3.4540040493011475,8.308470726013184,4.502155303955078,-22.117334365844727,-13.728643417358398,-19.03423309326172,-8.898489952087402,12.169465065002441,12.058334350585938,-6.726867198944092,8.089677810668945,-7.372156620025635,-0.35438990592956543,11.891719818115234,-8.599770545959473,5.799350738525391,6.126886367797852,1.802479863166809,-19.54403305053711,20.324548721313477,-23.917713165283203,-12.269859313964844,-13.426918983459473,6.1137166023254395,-21.678916931152344,-0.6481742262840271,5.679129123687744,-5.873237133026123,6.654411792755127,-8.970945358276367,15.716229438781738,-0.9822359681129456,-0.3220694959163666,-5.640477657318115,-16.99200439453125,-9.921235084533691,-14.572297096252441,-2.5762689113616943,1.3588453531265259,-18.551565170288086,-14.283467292785645,-5.361889362335205,-9.401667594909668,-3.381995677947998,-11.993618965148926,25.151432037353516,-16.163705825805664,-10.512137413024902,-5.882329940795898,13.196846008300781,-18.416032791137695,13.11189079284668,7.579995632171631,3.0519216060638428,-4.4294915199279785,-11.592144012451172,-10.797119140625,-3.437589645385742,3.8796756267547607,-9.66920280456543,-13.445222854614258,-1.1703580617904663,4.274587631225586,8.138657569885254,-4.912313461303711,1.60492742061615,9.336891174316406,-3.143407106399536,2.0719518661499023,24.67659568786621,-13.812164306640625,-14.509894371032715,-8.326254844665527,27.623676300048828,-11.517908096313477,-9.736830711364746,-3.531996011734009,10.928120613098145,13.286704063415527,15.683984756469727,12.730633735656738,-16.781940460205078,4.479264259338379,25.294286727905273,-16.742643356323242,15.006983757019043,-12.743600845336914,-12.23572826385498,-8.423957824707031,9.70455551147461,-3.8783271312713623,12.166319847106934,-16.746986389160156,-12.773116111755371,-10.779324531555176,10.337784767150879,-5.342330455780029,10.665417671203613,7.139927387237549,-20.184062957763672,7.261955261230469,-14.533676147460938,-4.656376838684082,19.11301612854004,8.296712875366211,12.236666679382324,-7.198437690734863,-5.171330451965332,-7.7595930099487305,18.369169235229492,-6.972041606903076,-0.5177279710769653,-2.8638157844543457,-5.447606086730957,-5.427500247955322,-4.78019905090332,-3.190361499786377,8.658414840698242,-10.859979629516602,-6.013079643249512,-4.641632556915283,2.221775531768799,4.168213367462158,-6.660358905792236,9.317193031311035,2.8244411945343018,3.4425249099731445,17.457460403442383,-2.5034842491149902,15.507220268249512,-2.621126651763916,27.936391830444336,-2.52500581741333,27.727676391601562,-8.240243911743164,20.76873779296875,9.220309257507324,18.18235206604004,13.093997955322266,15.747925758361816,-7.429470539093018,-2.8654046058654785,8.182893753051758,13.41357421875,-6.645098686218262,-5.815888404846191,11.978311538696289,15.307290077209473,12.5344877243042,-1.1360893249511719,1.7960972785949707,-18.706762313842773,-9.36120891571045,18.28538703918457,-2.579726219177246,-7.56149435043335,20.884878158569336,4.605576992034912,-19.973127365112305,-1.8916844129562378,-12.787612915039062,-7.977999687194824,19.21143341064453,16.141788482666016,-6.779249668121338,-5.8780412673950195,22.561870574951172,-5.814438819885254,-16.85816192626953,12.250441551208496,3.0859475135803223,16.24298858642578,-13.555093765258789,-5.674727439880371,15.813676834106445,-14.42713737487793,-4.674284934997559,-16.364225387573242,-19.669878005981445,28.340604782104492,-6.229148864746094,-5.0554070472717285,-4.493919372558594,7.346839427947998,-7.426882743835449,15.144539833068848,-17.430736541748047,14.790633201599121,21.54073143005371,12.165572166442871,3.76303768157959,-4.67720365524292,2.22011399269104,-8.337018013000488,13.054603576660156,-7.097814083099365,-5.2506279945373535,-7.809110641479492,-4.7076311111450195,-21.421627044677734,5.578023910522461,6.408018112182617,7.5334553718566895,16.07577896118164,17.901926040649414,-3.008134603500366,14.51875114440918,12.793061256408691,11.620621681213379,-4.728643417358398,-5.740585803985596,-16.62698745727539,11.802313804626465,-8.033841133117676,-14.220254898071289,4.181571006774902,-19.230670928955078,-13.2285737991333,-7.09734582901001,-19.499889373779297,-13.574559211730957,-4.677412986755371,2.2072317600250244,13.64533519744873,-3.870814323425293,-16.48625946044922,25.20611572265625,-2.8901846408843994,9.68526840209961,-3.2304329872131348,-0.9489758610725403,-8.115215301513672,-10.064482688903809,-14.82387924194336,-14.026749610900879,-6.0134429931640625,4.796377182006836,23.38690948486328,-15.051668167114258,18.778535842895508,5.949097156524658,-4.343949794769287,11.91804313659668,-9.17166519165039,15.216205596923828,18.956140518188477,9.487555503845215,23.843154907226562,16.23404884338379,27.79881477355957,13.77847671508789,-9.526419639587402,-5.859342098236084,-4.9623541831970215,-3.9514222145080566,-5.581033229827881,13.003031730651855,6.307984352111816,20.19752311706543,-10.32340145111084,-7.908965587615967,6.342426300048828,-6.527544975280762,3.8279545307159424,7.6342291831970215,16.717327117919922,-3.7697508335113525,19.673845291137695,17.180932998657227,-0.2449430227279663,13.576191902160645,-6.03455114364624,14.90374755859375,-6.191669464111328,-7.8115739822387695,-3.6268792152404785,17.504512786865234,24.075519561767578,1.0535798072814941,3.7170016765594482,-5.789183616638184,21.954570770263672,9.11934757232666,12.855549812316895,-15.434804916381836,14.844038963317871,-3.9852564334869385,8.576473236083984,-9.161622047424316,-19.946950912475586,-3.1951091289520264,-9.21815299987793,-14.124366760253906,19.573118209838867,6.530853748321533,4.5729193687438965,10.261139869689941,6.028126239776611,-4.839186191558838,11.095240592956543,-12.951160430908203,-11.618990898132324,-16.28643226623535,-9.376371383666992,-15.574821472167969,8.204764366149902,-7.7552618980407715,-20.079648971557617,4.612372875213623,-5.829300880432129,-9.118292808532715,-4.432982444763184,8.062361717224121,-18.60342025756836,10.52287769317627,-2.8962559700012207,-15.396278381347656,-6.557507038116455,-3.6812992095947266,9.900237083435059,-13.665560722351074,-0.1579681783914566,-6.154648780822754,7.972142696380615,-3.3666675090789795,-11.47827434539795,13.794472694396973,-21.61614418029785,9.444490432739258,-22.214094161987305,13.648077964782715,-6.565641403198242,14.7853422164917,16.558563232421875,-10.58678913116455,-11.134391784667969,-7.2100653648376465,-5.280248165130615,14.725167274475098,4.434533596038818,-20.88762092590332,28.284423828125,5.0714430809021,9.9691162109375,-6.110580921173096,-13.97142505645752,9.524480819702148,-9.4005126953125,-2.0710885524749756,22.92073631286621,18.91742515563965,-16.873748779296875,-11.70203971862793,-3.6170153617858887,14.972770690917969,27.898643493652344,6.9939470291137695,11.73939323425293,-6.57244348526001,16.5853271484375,-5.495921611785889,-1.07060706615448,12.938161849975586,10.47284984588623,-9.5982084274292,13.214277267456055,22.227752685546875,-17.136667251586914,14.399099349975586,-1.1542726755142212,-6.754054069519043,-4.3562798500061035,15.67444896697998,-18.859922409057617,17.66880989074707,-4.67385196685791,1.516264796257019,13.63856315612793,-14.185327529907227,8.46596908569336,-13.902880668640137,-3.938612461090088,20.30710220336914,3.984572172164917,-11.994796752929688,-2.6496806144714355,9.085175514221191,-6.304900169372559,2.45318865776062,-20.660564422607422,-9.186906814575195,22.165306091308594,-7.492470741271973,1.4250328540802002,-17.087793350219727,10.655035972595215,-11.491144180297852,25.25192642211914,-1.509860634803772,-5.407007217407227,-18.647354125976562,-16.02005958557129,-2.7992868423461914,-3.1899023056030273,13.228992462158203,9.084202766418457,-12.696698188781738,-16.640169143676758,-3.251847267150879,-7.987340450286865,6.871272087097168,16.360111236572266,19.265705108642578,-3.7708802223205566,6.17694091796875,6.329098224639893,22.98059844970703,-11.376729965209961,-16.96815299987793,15.80063247680664,1.460357666015625,-6.030023574829102,-21.08465576171875,-17.045372009277344,29.588245391845703,-1.8087594509124756,-6.240365028381348,15.733097076416016,10.75503921508789,16.624563217163086,-10.698343276977539,-0.9328736066818237,5.904380798339844,7.377134323120117,29.909833908081055,-2.037241220474243,2.396888256072998,20.65789794921875,-8.844023704528809,-4.283876419067383,-4.2303667068481445,19.000869750976562,15.303162574768066,-7.241477012634277,-13.289030075073242,15.651335716247559,18.782007217407227,7.653470993041992,-5.420681476593018,-12.569973945617676,4.884669780731201,0.4860514998435974,-17.584856033325195,10.195647239685059,10.035944938659668,15.856327056884766,26.551115036010742,-21.10195541381836,8.002181053161621,24.069887161254883,2.375619411468506,8.744525909423828,-4.342653274536133,-6.355125427246094,4.2553486824035645,20.754100799560547,-8.191534042358398,6.391845703125,-9.460315704345703,-22.357397079467773,-15.98476791381836,-8.269039154052734,19.589757919311523,-9.451656341552734,25.896108627319336,-5.829070568084717,-9.28764820098877,-21.368976593017578,-5.836906909942627,-11.601351737976074,-9.048961639404297,7.660027503967285,-13.119084358215332,-6.220355033874512,-4.512009620666504,-5.696384906768799,12.480206489562988,8.848409652709961,16.141841888427734,-7.725775718688965,-6.521913528442383,-13.23083782196045,15.184417724609375,-14.92588996887207,-17.05637550354004,-7.535608291625977,-6.415737152099609,-15.515207290649414,2.4589173793792725,-4.461874961853027,-2.5419037342071533,10.10889720916748,-13.284527778625488,11.851916313171387,6.60160493850708,-12.896042823791504,21.78997039794922,6.588031768798828,-12.723355293273926,-10.827961921691895,-12.16268253326416,-0.6205024123191833,-4.465909004211426,-6.580056667327881,-15.644207954406738,6.43211555480957,-15.630655288696289,-6.923840045928955,-3.1441383361816406,-12.711221694946289,-6.500286102294922,14.229048728942871,24.115741729736328,-10.931785583496094,-18.025157928466797,-5.00491189956665,7.979587078094482,-17.99970817565918,11.832139015197754,9.501301765441895,-5.414729595184326,19.711408615112305,11.626370429992676,24.707868576049805,7.030209541320801,13.690725326538086,11.480437278747559,9.711950302124023,-12.143449783325195,20.204328536987305,-1.6020563840866089,12.6513032913208,6.4884257316589355,-12.526252746582031,14.960071563720703,13.868781089782715,3.5234663486480713,15.782307624816895,28.136322021484375,-7.2109293937683105,-5.158256530761719,11.495680809020996,11.674715042114258,-5.294151306152344,-5.41298770904541,-5.154354095458984,-3.3424506187438965,10.379298210144043,9.446877479553223,-8.944723129272461,-5.26922082901001,11.64901065826416,5.852534770965576,24.151473999023438,15.772273063659668,29.221965789794922,-2.022909641265869,27.881898880004883,5.980221271514893,-2.3861243724823,-5.472620487213135,22.05225372314453,-16.773109436035156,-7.037072658538818,5.1166229248046875,-14.056419372558594,8.629677772521973,9.873078346252441,20.617433547973633,-9.066783905029297,23.755199432373047,19.98503303527832,17.512638092041016,22.30655860900879,-9.786937713623047,18.329755783081055,-21.563386917114258,19.317665100097656,-1.6111589670181274,-10.987417221069336,-2.5388541221618652,2.95068621635437,8.019038200378418,-11.210533142089844,18.91286277770996,-15.173309326171875,-11.695761680603027,21.001453399658203,-6.409274578094482,-18.02422332763672,-18.679231643676758,-3.962665557861328,-4.606563568115234,-5.151933670043945,-5.184864044189453,-15.315442085266113,11.958233833312988,8.834206581115723,5.1608405113220215,-11.5949125289917,-14.738956451416016,-6.4959001541137695,9.219663619995117,-15.48459243774414,-10.37086009979248,-6.6896562576293945,11.247210502624512,10.284430503845215,-6.53120231628418,5.475858211517334,-6.82907247543335,6.790290832519531,-4.012996196746826,-14.699687004089355,0.47950220108032227,-13.534326553344727,-9.577962875366211,-5.367676258087158,-15.908552169799805,14.622011184692383,-1.0761404037475586,-8.816632270812988,16.30279541015625,-7.692644119262695,8.85477066040039,19.664527893066406,-10.02615737915039,6.830509662628174,-14.121885299682617,-5.2595062255859375,-3.3974952697753906,-22.863027572631836,27.532882690429688,-6.539486408233643,27.47609519958496,0.4608413279056549,-12.310383796691895,-12.348276138305664,-13.37661361694336,7.373010158538818,-3.838820219039917,-2.373326301574707,-17.616540908813477,0.4118288457393646,13.8214111328125,4.057403564453125,-7.26492977142334,24.648773193359375,1.4529080390930176,-5.920047283172607,17.55281639099121,9.526535987854004,-10.939552307128906,-4.750690460205078,11.7687406539917,11.337079048156738,15.398552894592285,-0.4216728210449219,-15.762913703918457,1.6278904676437378,11.790781021118164,25.70911407470703,-7.476531982421875,-4.437507629394531,-3.4598922729492188,0.811795175075531,-16.083303451538086,5.078496932983398,-4.081454277038574,-6.9768805503845215,8.00046157836914,-12.228460311889648,15.277509689331055,-0.7678118944168091,-8.940899848937988,10.554386138916016,-9.538350105285645,10.224493980407715,-22.904897689819336,-13.326708793640137,-12.798958778381348,-20.145647048950195,-14.873588562011719,6.995214939117432,-21.90328598022461,20.861303329467773,-20.560983657836914,-13.3046875,8.449453353881836,1.2937334775924683,17.30364990234375,21.238500595092773,27.923959732055664,4.932238578796387,16.913061141967773,12.28915023803711,-17.13640785217285,-7.966746807098389,-20.13084602355957,2.8910012245178223,6.288100242614746,-15.407020568847656,18.264564514160156,-21.3173770904541,-16.100828170776367,7.886173248291016,-5.011137008666992,-5.783754825592041,-9.910869598388672,-10.73642635345459,-5.763527870178223,6.074760437011719,17.038726806640625,15.68161392211914,-8.057194709777832,-18.702558517456055,9.823526382446289,15.94396686553955,-9.433939933776855,-2.770949602127075,-4.591975212097168,-7.9260149002075195,-3.272639751434326,-11.626476287841797,-12.84887409210205,24.051570892333984,-9.509523391723633,-5.855032444000244,-1.5142600536346436,7.350987434387207,-12.25604248046875,-21.817209243774414,-11.020785331726074,10.330957412719727,-21.096500396728516,19.857460021972656,-13.69916820526123,-12.24168872833252,6.962966442108154,21.04290771484375,-3.8672401905059814,9.468425750732422,5.360097885131836,15.906413078308105,-9.790717124938965,-4.764785289764404,11.018292427062988,-5.490080833435059,-9.873416900634766,12.65524959564209,-16.4302921295166,-5.929684162139893,5.64353609085083,4.211606502532959,7.654924392700195,3.927114963531494,-8.056360244750977,12.50933837890625,26.212997436523438,2.3717105388641357,-1.5332571268081665,24.955455780029297,-6.444027423858643,7.8275227546691895,4.220993995666504,8.887365341186523,23.24955177307129,11.273396492004395,-15.657443046569824,-11.63021183013916,-7.167487144470215,-4.00538444519043,21.018131256103516,8.089683532714844,23.29043960571289,-8.369629859924316,-5.199950695037842,24.112842559814453,1.2082111835479736,19.287691116333008,-16.742944717407227,-3.365952968597412,-10.343634605407715,-4.16505241394043,2.267374277114868,12.46806812286377,-8.768081665039062,-1.0784881114959717,5.145593643188477,-14.425374984741211,5.562721252441406,-7.264221668243408,-18.765708923339844,-6.070314884185791,5.516310691833496,8.209287643432617,-7.196467876434326,-4.010494232177734,17.005596160888672,-10.503044128417969,21.782724380493164,-6.7116265296936035,-8.327466011047363,25.57660675048828,7.908471584320068,13.99219036102295,-11.853211402893066,17.60411834716797,13.202237129211426,10.537633895874023,-5.956396579742432,-2.4074759483337402,19.901762008666992,5.810981750488281,-18.301124572753906,-4.2517409324646,6.418356418609619,-1.2805274724960327,-8.878849029541016,-2.730468273162842,10.234549522399902,-8.354273796081543,-10.992466926574707,-13.198347091674805,21.65869903564453,4.555602550506592,-5.476224899291992,2.0601253509521484,-10.37808895111084,17.727127075195312,23.606510162353516,12.177227973937988,1.1913472414016724,-10.968286514282227,17.585678100585938,15.752676963806152,19.456729888916016,-11.163393020629883,3.6552517414093018,-18.461288452148438,6.6237006187438965,29.01314926147461,-7.054089546203613,16.10357093811035,24.51104164123535,24.174888610839844,28.160200119018555,8.467146873474121,-8.687261581420898,-5.434006214141846,2.7021071910858154,-19.8573055267334,-2.015214443206787,1.841482400894165,7.4067864418029785,25.80519676208496,27.169044494628906,-20.593698501586914,29.551572799682617,12.864251136779785,-2.351172924041748,-3.3255302906036377,-6.346953868865967,8.014561653137207,6.162306785583496,8.562418937683105,15.045483589172363,-1.5996044874191284,-6.824523448944092,13.906225204467773,1.9735690355300903,-12.727405548095703,-16.61087417602539,-11.69526481628418,10.576129913330078,-16.879621505737305,-3.7086989879608154,-0.7432292699813843,-8.209853172302246,11.510213851928711,-1.9028617143630981,-10.202386856079102,0.2693386375904083,-4.081047534942627,25.729177474975586,-7.2486724853515625,0.9229888319969177,25.298158645629883,-7.4232964515686035,-13.214585304260254,-10.6743745803833,-6.940054893493652,4.517275810241699,-8.209677696228027,-10.961686134338379,-2.476722240447998,-10.157740592956543,-10.188570976257324,20.59724998474121,17.172542572021484,-2.419783353805542,-1.1632717847824097,-7.425931930541992,-5.634191513061523,-6.79165506362915,7.797314643859863,17.19715118408203,-7.769638538360596,-9.198433876037598,22.21804428100586,-20.62636375427246,-18.598966598510742,-15.032125473022461,3.3611650466918945,-10.115347862243652,4.158777236938477,-14.812811851501465,6.767023086547852,-15.066749572753906,-18.887653350830078,-9.080836296081543,19.8785457611084,13.860047340393066,11.691155433654785,12.359833717346191,15.604907989501953,-15.056276321411133,-19.22509765625,-9.515482902526855,-14.80724811553955,13.997035026550293,-7.880732536315918,-14.938218116760254,-11.020541191101074,-10.812288284301758,2.1452584266662598,20.372974395751953,-0.9669646620750427,-6.603121280670166,-14.50832462310791,-2.3730313777923584,-11.059466361999512,10.505681037902832,-16.936126708984375,-3.03584361076355,7.003633975982666,-20.9921932220459,-0.3003038465976715,-5.359604358673096,16.623336791992188,29.52886390686035,3.809945583343506,-15.017301559448242,18.903329849243164,-3.3882954120635986,-3.3868753910064697,-6.448964595794678,-5.366331577301025,14.269170761108398,6.821015357971191,1.2648192644119263,12.722851753234863,7.566003799438477,17.624143600463867,-6.032385349273682,-4.662526607513428,-2.7724244594573975,9.818160057067871,11.436479568481445,-8.938998222351074,-18.07687759399414,-13.833023071289062,-3.670078754425049,11.725259780883789,23.935853958129883,-0.3436656892299652,7.457219123840332,-5.0909624099731445,-9.096428871154785,14.569100379943848,-11.259143829345703,16.400318145751953,4.612869739532471,-20.565765380859375,1.2679952383041382,-0.3364807069301605,10.536357879638672,-16.22983169555664,-4.86747932434082,-7.8210835456848145,2.8751461505889893,-7.14760684967041,-8.912723541259766,-16.91352653503418,-4.607388019561768,-3.054389476776123,10.20106315612793,8.854497909545898,18.173748016357422,-12.594223022460938,-6.738097667694092,-6.535303115844727,-15.367767333984375,-15.405355453491211,17.42841911315918,-3.9194722175598145,-3.8845155239105225,-2.823518991470337,28.149503707885742,-4.096574306488037,15.233131408691406,15.099648475646973,-6.891368865966797,10.054142951965332,-16.540071487426758,-7.780027866363525,-2.402754783630371,0.8852786421775818,26.521455764770508,-9.391571998596191,9.85804557800293,10.220207214355469,-5.850433349609375,12.54051399230957,-4.076712131500244,13.403621673583984,-7.700826644897461,-14.852374076843262,-13.303147315979004,11.785300254821777,15.258770942687988,-9.645760536193848,-6.651593208312988,11.891448974609375,-21.537479400634766,-6.1010308265686035,2.7985990047454834,22.371259689331055,13.544882774353027,-3.9865167140960693,0.5593547224998474,24.019277572631836,-5.047872543334961,-16.519906997680664,15.506381034851074,16.87040901184082,-17.681804656982422,19.987552642822266,8.700308799743652,15.889376640319824,-8.286614418029785,21.858837127685547,3.8900747299194336,-9.316353797912598,-10.487053871154785,-0.5092437267303467,7.221707344055176,-6.7492289543151855,16.300426483154297,0.6715888381004333,0.983877420425415,-4.183088302612305,4.717794895172119,-1.031982183456421,-5.260955333709717,23.047229766845703,-7.687005519866943,21.119251251220703,-10.087669372558594,-9.409051895141602,-5.733778476715088,14.117616653442383,-13.708905220031738,-6.047381401062012,-6.246779918670654,27.5885009765625,11.803772926330566,-17.010343551635742,-5.201774597167969,3.612807035446167,5.317492961883545,7.818947792053223,-6.5701422691345215,26.802040100097656,14.844371795654297,-4.663474082946777,-4.355738639831543,-16.34787368774414,26.422090530395508,-5.450273036956787,-16.44736671447754,-6.067347049713135,12.716487884521484,-16.222993850708008,-12.953248023986816,6.960742950439453,-5.287014007568359,-6.155087471008301,-19.89727783203125,-5.390707969665527,-2.3651316165924072,28.416316986083984,24.449195861816406,-3.801732063293457,25.9505558013916,-2.0652999877929688,-3.275212526321411,-7.314932823181152,-4.676228046417236,-10.022732734680176,17.855453491210938,25.351282119750977,-4.581852436065674,11.677680015563965,-12.02413272857666,21.5751953125,21.587060928344727,2.9585764408111572,2.9555976390838623,-20.871063232421875,-7.137341022491455,23.89129638671875,15.059565544128418,-9.12681770324707,-8.92210865020752,-4.6194071769714355,8.58971881866455,-7.833099842071533,1.6482436656951904,-22.49262237548828,-8.066895484924316,-16.159536361694336,29.1400089263916,10.827910423278809,14.730071067810059,-15.185284614562988,6.957981109619141,16.723407745361328,1.7807420492172241,-0.05264054238796234,28.973909378051758,-6.229506015777588,-22.281835556030273,-11.325281143188477,28.671772003173828,17.77547836303711,9.090859413146973,-7.6918230056762695,-13.454827308654785,9.767961502075195,10.952948570251465,-8.84300422668457,22.693090438842773,8.15892505645752,-10.30776596069336,16.148557662963867,23.27078628540039,-6.650301456451416,-15.79195499420166,20.069913864135742,24.097026824951172,-7.724591255187988,24.560998916625977,5.281771659851074,-10.16943645477295,-0.9208856225013733,-9.783257484436035,-22.160717010498047,19.701068878173828,-6.499645233154297,-1.7375221252441406,-6.907876491546631,18.254573822021484,-7.920294761657715,6.614261150360107,-19.500553131103516,-4.500837326049805,-14.072444915771484,15.291193008422852,12.103360176086426,-11.924546241760254,1.8466562032699585,-12.441547393798828,7.259418487548828,0.2242795079946518,-7.171927452087402,0.9708783030509949,-3.382455348968506,-9.626508712768555,4.871853828430176,-23.180431365966797,-17.550992965698242,3.22853684425354,6.920889854431152,9.244866371154785,13.58099365234375,26.145843505859375,0.4982183277606964,5.502760887145996,15.316459655761719,-6.458977222442627,-16.92677116394043,-8.086960792541504,-7.814919948577881,18.415067672729492,5.038168907165527,-13.450716018676758,-12.963679313659668,-8.178117752075195,-13.750971794128418,8.856398582458496,-10.315502166748047,0.38175538182258606,4.166704177856445,-22.032724380493164,19.71407127380371,-8.11235523223877,-7.16993522644043,-5.015231132507324,-8.353023529052734,2.9427337646484375,-10.42628288269043,-8.384082794189453,15.616683959960938,-16.77347183227539,15.88559627532959,20.625383377075195,15.663141250610352,5.044737339019775,18.734203338623047,-10.068340301513672,-5.921169281005859,17.862308502197266,-11.612614631652832,3.0616884231567383,18.42333984375,-12.476035118103027,-8.592462539672852,-11.450946807861328,11.92475700378418,-17.48934555053711,14.649991035461426,-9.711759567260742,22.43756103515625,-8.987422943115234,-11.272061347961426,-11.718088150024414,-10.462385177612305,11.385376930236816,10.833243370056152,12.70753002166748,20.949153900146484,-2.0955119132995605,5.177419662475586,-12.824294090270996,2.6448135375976562,-19.873004913330078,5.699649810791016,-2.8947367668151855,1.306102991104126,7.328912258148193,4.130789756774902,-7.479602336883545,-7.07716703414917,20.015748977661133,-0.04038525000214577,18.920045852661133,28.158123016357422,-4.760528564453125,-0.5972211956977844,7.556632041931152,14.27454948425293,-15.016982078552246,22.075889587402344,21.903715133666992,-8.07936954498291,-11.82225227355957,-15.0499267578125,-13.9967622756958,28.051761627197266,18.75609016418457,14.111910820007324,-6.425381660461426,2.948042631149292,20.476333618164062,-9.38203239440918,-16.19447898864746,-5.952715873718262,8.587712287902832,10.359509468078613,-15.283987998962402,18.18108367919922,-10.41873836517334,9.805523872375488,10.82695198059082,5.1458587646484375,12.882830619812012,-18.4164981842041,-8.521960258483887,-0.9950339198112488,15.630813598632812,-5.052829265594482,1.0766292810440063,1.573090672492981,-2.136155843734741,-10.28857135772705,-9.827492713928223,-14.588193893432617,21.972476959228516,21.16532325744629,-10.834514617919922,2.9263782501220703,23.336318969726562,11.90184211730957,-4.661956787109375,-13.783754348754883,-14.128087043762207,19.634666442871094,-1.7893081903457642,12.881746292114258,-2.073199510574341,-5.868132591247559,-1.6391972303390503,23.114458084106445,4.230490207672119,-13.697258949279785,18.8179931640625,1.835114598274231,15.321452140808105,1.502409815788269,17.691879272460938,-14.250954627990723,-3.8125646114349365,-4.0928497314453125,14.74899673461914,10.803231239318848,7.447543621063232,-4.179689884185791,-5.225755214691162,-0.5927558541297913,27.141740798950195,11.560037612915039,17.280187606811523,7.354384422302246,11.064874649047852,-7.758896827697754,4.564951419830322,-6.973019123077393,2.5713889598846436,14.99820327758789,-1.3434016704559326,14.816654205322266,-8.620182037353516,-17.66054344177246,-4.217594146728516,10.374128341674805,12.422416687011719,-7.0542449951171875,10.255744934082031,-9.757672309875488,7.770633220672607,-11.246919631958008,7.483511447906494,-11.356842041015625,-4.189165115356445,-6.523940086364746,21.722759246826172,10.382458686828613,25.753774642944336,-12.621478080749512,9.603301048278809,7.425924301147461,-8.831005096435547,4.553732872009277,-16.688804626464844,-8.995633125305176,11.790543556213379,0.5000805854797363,-5.433773040771484,-14.856837272644043,-8.160916328430176,12.38333511352539,-7.742852687835693,-4.785579681396484,3.9832465648651123,18.049575805664062,18.414623260498047,-15.573552131652832,-6.982517242431641,21.50218963623047,17.6972599029541,-7.546062469482422,-9.773122787475586,-5.8802170753479,19.964500427246094,-13.94507122039795,15.98705768585205,-10.472356796264648,11.855754852294922,6.576515197753906,18.25945281982422,12.952164649963379,-1.3644437789916992,-19.958309173583984,7.046334743499756,-11.933523178100586,4.59645414352417,-5.834811210632324,20.49862289428711,15.126863479614258,10.710650444030762,29.094362258911133,-6.301202774047852,10.266444206237793,-4.271579265594482,-6.656397342681885,-8.874563217163086,-18.045978546142578,-8.96889591217041,-19.547985076904297,-16.29933738708496,-18.5384464263916,-6.366103172302246,15.80281925201416,-1.5408172607421875,27.01301383972168,-14.123486518859863,23.131492614746094,-8.668661117553711,-11.7723388671875,12.756677627563477,-9.723817825317383,5.670458793640137,-18.515010833740234,13.77160930633545,1.5428873300552368,2.6791000366210938,-12.770499229431152,-6.448981285095215,-5.511419296264648,-8.262948989868164,12.563358306884766,0.04502272605895996,20.37050437927246,-7.775712966918945,11.311178207397461,18.569795608520508,-13.113452911376953,17.76312255859375,-12.357001304626465,-1.1713981628417969,22.15538787841797,-8.890327453613281,10.204218864440918,-16.767484664916992,0.19378849864006042,-14.944361686706543,19.969348907470703,-10.472269058227539,-12.444136619567871,19.772634506225586,14.309864044189453,-12.773734092712402,-11.687939643859863,8.212630271911621,-4.068136215209961,8.249066352844238,3.3899760246276855,14.470654487609863,-6.614774703979492,19.855104446411133,11.267572402954102,-14.16277027130127,-6.471469879150391,6.78076696395874,-11.148393630981445,-15.41770076751709,16.975584030151367,-22.98627281188965,-8.77674674987793,-15.762130737304688,10.857278823852539,-9.385322570800781,2.4686520099639893,-16.94605255126953,-6.9067230224609375,28.784996032714844,-6.669815540313721,13.263334274291992,-12.297009468078613,-15.059781074523926,-1.4728187322616577,26.53695297241211,-1.6942564249038696,-9.605791091918945,-15.492897987365723,-6.205135345458984,-8.039584159851074,2.055032730102539,-12.680492401123047,-15.52996826171875,0.499656617641449,-2.370267629623413,10.855411529541016,-19.737682342529297,-21.833599090576172,-14.265518188476562,-5.92186164855957,-4.374241828918457,-13.739415168762207,-11.075163841247559,16.870445251464844,-9.883500099182129,-16.579511642456055,-5.441110610961914,-3.3690950870513916,-15.262372970581055,-2.8893415927886963,-6.118837356567383,-15.264140129089355,-17.063243865966797,-7.8787994384765625,-8.463011741638184,0.163996160030365,-2.1192665100097656,10.416661262512207,-1.5391465425491333,-6.29449987411499,0.7817793488502502,17.454387664794922,-13.932112693786621,16.044601440429688,12.939492225646973,25.435667037963867,22.8702392578125,-1.4845296144485474,-12.81491470336914,-4.66270637512207,-8.788241386413574,-8.989646911621094,-2.6152615547180176,13.367003440856934,-9.0266695022583,-14.89605712890625,-9.782215118408203,-17.800392150878906,5.361856460571289,-7.086592197418213,19.291913986206055,10.77916431427002,-12.640914916992188,7.0700860023498535,-5.629266262054443,4.468483924865723,-3.886016607284546,-4.542847156524658,22.373014450073242,-3.933358907699585,-6.970824241638184,-4.6700439453125,-9.839277267456055,-5.2113566398620605,9.33337688446045,-10.373777389526367,23.283342361450195,8.043238639831543,-12.352314949035645,28.26673126220703,-4.667670249938965,24.10641098022461,-3.915550708770752,-11.976340293884277,-14.555364608764648,-11.033858299255371,1.264090895652771,19.459121704101562,-13.337879180908203,-8.448545455932617,-13.363421440124512,-4.498678207397461,-11.680051803588867,8.10984992980957,-4.593064785003662,-20.192392349243164,-6.495905876159668,19.9715576171875,-22.588674545288086,19.508527755737305,16.231365203857422,15.497392654418945,-16.564294815063477,-7.677679061889648,-3.4191925525665283,14.251616477966309,2.369626760482788,-15.656916618347168,-17.217100143432617,8.068111419677734,23.168991088867188,15.527226448059082,-8.01104736328125,-8.041132926940918,-10.976602554321289,-3.5116188526153564,-22.768199920654297,19.988142013549805,6.0954718589782715,-10.28037166595459,21.960329055786133,-4.27042818069458,8.884982109069824,11.023463249206543,27.00609016418457,11.094508171081543,0.35266903042793274,3.4651894569396973,24.703968048095703,-20.533971786499023,11.988468170166016,-11.715429306030273,21.620820999145508,17.60912322998047,17.882556915283203,-11.727558135986328,-7.178734302520752,12.499669075012207,-0.83167964220047,-7.310208797454834,25.291732788085938,-8.223432540893555,-5.926370620727539,-2.372159242630005,24.67729949951172,-11.039732933044434,18.09082794189453,22.04949188232422,-11.224061012268066,-0.1678023636341095,12.671006202697754,-6.017035007476807,21.3077335357666,-4.94970703125,4.179702281951904,-3.91465425491333,-2.682295083999634,-12.292877197265625,-13.859076499938965,-6.171845436096191,-13.717679023742676,-17.1057071685791,12.397014617919922,14.097246170043945,20.821271896362305,13.540763854980469,13.119156837463379,-23.273473739624023,-10.808792114257812,7.521475315093994,-3.529414176940918,-3.7101290225982666,-11.654261589050293,9.105934143066406,-10.968220710754395,8.264552116394043,0.5852250456809998,8.310799598693848,-10.447343826293945,13.297595977783203,9.727914810180664,17.744976043701172,23.648534774780273,-13.120424270629883,-9.773943901062012,10.462227821350098,17.01382827758789,-10.349380493164062,-6.711724281311035,-8.054203033447266,2.5573887825012207,-6.1046881675720215,-9.394904136657715,28.905254364013672,-13.473522186279297,-18.90522003173828,-13.25105094909668,8.665253639221191,-9.18956470489502,12.60002613067627,-18.962783813476562,20.360706329345703,11.119588851928711,2.4982810020446777,24.131704330444336,-6.506196022033691,7.968785762786865,0.8895564079284668,-12.743581771850586,12.869916915893555,-17.63717269897461,19.36089515686035,-6.258376121520996,13.265481948852539,-8.638957977294922,-12.699515342712402,21.960535049438477,8.982292175292969,-22.092090606689453,-6.096492290496826,6.458993911743164,2.726778507232666,-15.99467658996582,23.098127365112305,-7.852267265319824,4.510173797607422,13.586522102355957,-6.110966205596924,29.121055603027344,-9.933902740478516,-22.55429458618164,-14.072373390197754,16.259794235229492,16.81009864807129,-4.375892639160156,-14.071053504943848,22.157943725585938,-0.41545194387435913,-4.375953674316406,-6.46955680847168,-13.613576889038086,3.396895408630371,-13.173202514648438,5.356283187866211,-0.45666515827178955,-7.7422332763671875,-2.264932155609131,10.931106567382812,6.9813947677612305,10.463168144226074,11.000295639038086,26.530529022216797,1.9296506643295288,-9.779979705810547,-21.636491775512695,2.7971067428588867,-8.65921688079834,-7.96414852142334,-15.403042793273926,21.66674041748047,-7.179687976837158,-7.793973445892334,0.3945108950138092,20.20536231994629,0.32970622181892395,-9.851905822753906,-13.48426628112793,-4.5922722816467285,-3.033397912979126,-10.172452926635742,-7.233637809753418,1.800441026687622,-10.89570426940918,-11.256152153015137,-6.255987167358398,-9.235983848571777,-3.5654733180999756,0.7840240001678467,-19.694807052612305,20.759153366088867,-3.1487317085266113,-6.417587757110596,-9.43851089477539,-5.96069860458374,29.147233963012695,-15.61606502532959,-13.296516418457031,21.34369659423828,-6.393343448638916,-5.0516486167907715,13.003475189208984,-16.42877197265625,8.125856399536133,18.727556228637695,-14.42386245727539,19.041772842407227,14.748108863830566,-9.86225700378418,-13.376092910766602,-17.850637435913086,21.943864822387695,4.2479448318481445,-14.740795135498047,-15.143936157226562,18.74394416809082,-0.5601898431777954,-3.4002490043640137,-4.461541175842285,-13.245125770568848,2.6987459659576416,-6.632957458496094,22.693693161010742,6.587355613708496,3.6856963634490967,-9.532625198364258,-12.999207496643066,-9.435443878173828,5.003157615661621,-7.9829421043396,6.888159275054932,-11.615467071533203,24.846818923950195,-9.819083213806152,-11.197440147399902,-7.255125522613525,11.056904792785645,-7.105905055999756,-6.578490734100342,-4.651864528656006,-3.5670716762542725,-12.749418258666992,3.0036962032318115,-15.110845565795898,-4.386172294616699,20.491804122924805,13.386683464050293,-12.574844360351562,-2.0612950325012207,-12.370333671569824,-8.95421028137207,-4.7288360595703125,-15.946500778198242,-10.128497123718262,-15.602497100830078,-7.460661888122559,-8.181218147277832,-12.770066261291504,-7.8672919273376465,15.17383098602295,17.31940460205078,7.794189929962158,-7.018459320068359,6.594563961029053,-7.0869903564453125,-17.45359230041504,-4.615790367126465,5.369081974029541,26.05341911315918,26.447917938232422,29.7202205657959,16.830961227416992,-11.004873275756836,-12.500523567199707,-15.623261451721191,-6.042848587036133,-15.784780502319336,-0.15274539589881897,-12.981539726257324,10.332069396972656,-6.9574103355407715,-12.237659454345703,10.261031150817871,-12.010783195495605,3.9246840476989746,8.473658561706543,-7.843734264373779,-15.388277053833008,11.789982795715332,18.13136863708496,12.437799453735352,-14.283352851867676,-6.956929683685303,9.078034400939941,17.694711685180664,20.036422729492188,-20.16817855834961,-8.264097213745117,11.564189910888672,1.8281774520874023,25.295307159423828,13.391295433044434,3.6250932216644287,-2.4351565837860107,-14.981548309326172,-13.17489242553711,-7.33885383605957,-4.498324394226074,-14.00004768371582,-17.882505416870117,1.7454150915145874,-12.067221641540527,-9.57809829711914,-6.114893913269043,-13.960244178771973,11.030052185058594,3.3749518394470215,10.297654151916504,15.249407768249512,-6.937624454498291,-5.573439598083496,11.686112403869629,15.764803886413574,-17.218809127807617,-8.187145233154297,-13.247697830200195,7.302318096160889,-6.798251152038574,-7.2240424156188965,-3.922567367553711,-6.937963485717773,-1.9525338411331177,16.01616096496582,19.062179565429688,-7.270663261413574,29.54768180847168,-16.71782112121582,-8.437137603759766,23.83255386352539,17.698415756225586,26.186819076538086,19.43227195739746,-5.3170166015625,-1.9128316640853882,-3.939411163330078,-7.043531894683838,24.072067260742188,-10.431251525878906,-11.75729751586914,-8.861939430236816,2.4776318073272705,25.898775100708008,18.57033920288086,12.859855651855469,-21.790231704711914,4.528554439544678,-14.385235786437988,-7.207921028137207,-11.062396049499512,-9.929828643798828,-9.883355140686035,9.749807357788086,-5.100192070007324,-10.025188446044922,11.62533187866211,29.648815155029297,-2.291644811630249,-11.091779708862305,-0.7978978157043457,-12.25019645690918,-13.273316383361816,-13.851858139038086,7.266790390014648,-6.494037628173828,-12.406601905822754,26.647823333740234,-6.830144882202148,15.141480445861816,10.196734428405762,-12.393638610839844,-12.529511451721191,-13.201849937438965,-11.12997055053711,11.455068588256836,-5.81107234954834,6.482478618621826,-11.727231979370117,-15.439375877380371,-16.001726150512695,5.3532514572143555,0.771772027015686,-4.635143280029297,-7.738772869110107,-14.764386177062988,-18.92611312866211,-11.048140525817871,-3.5438127517700195,-17.921972274780273,-15.02424144744873,-7.357718467712402,29.846357345581055,12.253087043762207,-5.937958717346191,-14.79798412322998,-3.8925185203552246,25.615217208862305,-1.332269549369812,-10.48271369934082,17.788341522216797,21.01715850830078,-13.9902925491333,-13.500703811645508,-8.230700492858887,-8.978585243225098,-10.78410530090332,-15.044296264648438,30.085241317749023,-5.150803089141846,-4.441858768463135,16.180641174316406,-13.83358097076416,-5.993102073669434,24.858125686645508,-6.102084159851074,-15.04589557647705,0.4619823098182678,-14.438360214233398,7.04445219039917,5.8819146156311035,-1.2671575546264648,-8.494834899902344,12.987626075744629,-2.4813623428344727,15.31698989868164,22.953771591186523,-22.786497116088867,-11.768712997436523,-15.428119659423828,-6.230841636657715,12.022577285766602,-12.035395622253418,-5.8741631507873535,-22.9371280670166,17.060606002807617,-4.618872165679932,-4.860259532928467,14.674683570861816,15.710331916809082,-15.849137306213379,24.11042022705078,-15.509485244750977,-10.418097496032715,2.1191389560699463,-7.126928329467773,15.62881851196289,4.252032279968262,-5.132771015167236,-6.411190986633301,-20.218704223632812,-17.96385383605957,7.468329429626465,-12.863713264465332,-11.06500244140625,15.857307434082031,9.869104385375977,22.328645706176758,17.066993713378906,-14.144102096557617,-13.445849418640137,12.858960151672363,-1.2281371355056763,-16.272340774536133,16.818584442138672,-13.424087524414062,-22.37858772277832,-14.870354652404785,-15.72745132446289,-10.914365768432617,19.44951820373535,22.16934585571289,-3.9007108211517334,-7.159801959991455,-7.153791904449463,-13.048164367675781,10.156570434570312,-12.975943565368652,-14.930240631103516,-8.860404968261719,-13.42078971862793,2.1657817363739014,20.192716598510742,21.379304885864258,10.73084831237793,-10.966403007507324,-17.162748336791992,6.039703845977783,-15.449914932250977,-8.56884765625,-11.31340503692627,-19.125797271728516,-4.990485191345215,-7.1314167976379395,-4.497377395629883,-6.387637615203857,-4.363069534301758,8.11722469329834,-12.00904369354248,-14.533197402954102,13.823880195617676,-5.847549915313721,3.469618558883667,-5.572092056274414,-13.509785652160645,-6.498855113983154,17.835805892944336,-12.562302589416504,-8.417537689208984,24.6217098236084,-18.811552047729492,-21.846328735351562,-3.429443597793579,10.714520454406738,-12.422079086303711,-6.041078090667725,-9.146773338317871,-14.053763389587402,23.360450744628906,-9.205718994140625,1.8306455612182617,-4.817460060119629,-12.43592357635498,23.391643524169922,-1.2226216793060303,-4.800831317901611,-9.459537506103516,-17.11191177368164,10.072168350219727,-6.034741401672363,-7.898679733276367,-2.6671013832092285,-6.361927509307861,-1.7249481678009033,-23.22832489013672,25.906654357910156,-9.807579040527344,-6.210198879241943,19.368337631225586,-18.814823150634766,-10.490668296813965,-3.980556011199951,-12.038715362548828,4.453856468200684,26.854171752929688,-16.102930068969727,20.214197158813477,-12.68832015991211,-10.609959602355957,22.54584312438965,-11.698314666748047,-12.947653770446777,8.08548355102539,26.94004249572754,2.172642707824707,8.157045364379883,1.5525686740875244,21.976360321044922,-7.737082481384277,13.633284568786621,21.91054344177246,-14.472188949584961,2.7491824626922607,-9.662712097167969,-12.658215522766113,4.532320022583008,-1.1937074661254883,0.8332152962684631,-6.972127914428711,-9.173089981079102,7.381045818328857,-10.5574369430542,-2.007002115249634,-3.931964635848999,-4.120123863220215,-9.146998405456543,-1.2539629936218262,-4.881266117095947,9.997699737548828,-14.244222640991211,-15.035957336425781,-10.111186027526855,-7.4013352394104,0.34493377804756165,13.098004341125488,21.36956214904785,10.137542724609375,-5.923398494720459,-12.554160118103027,-6.4375152587890625,6.317897796630859,-18.470552444458008,-12.487665176391602,-14.31953239440918,-12.48466682434082,-12.511348724365234,6.979550361633301,11.690540313720703,1.5910874605178833,11.760035514831543,9.357025146484375,-8.060397148132324,-3.2338907718658447,5.522938251495361,-9.664876937866211,-11.18021011352539,21.854257583618164,21.003576278686523,13.435050964355469,13.659868240356445,-21.384906768798828,20.971120834350586,17.15897560119629,-10.269488334655762,-8.010549545288086,-0.8205527067184448,2.48152756690979,9.728501319885254,-14.773205757141113,-11.35710620880127,-4.832956314086914,-14.311544418334961,25.6619873046875,-13.177985191345215,9.671770095825195,-16.60184097290039,21.994503021240234,19.301654815673828,-9.133151054382324,-11.870351791381836,-7.866138935089111,-13.861468315124512,-5.884990692138672,11.01417064666748,-8.74057388305664,19.227985382080078,-4.937553882598877,-14.413750648498535,19.227313995361328,12.603907585144043,-7.582202911376953,-12.128005981445312,-8.855732917785645,-19.34946632385254,-4.38755989074707,16.960424423217773,-2.251012086868286,12.365243911743164,-15.355545043945312,-7.62261438369751,-9.555919647216797,2.814289093017578,12.660828590393066,-15.488504409790039,-3.4932587146759033,-16.171064376831055,-3.341137409210205,-6.905166149139404,17.2797794342041,26.75224494934082,10.177083969116211,-18.04113006591797,23.114240646362305,-15.277758598327637,23.963706970214844,-9.729202270507812,21.796045303344727,-7.175494194030762,-14.428157806396484,-7.710723876953125,-12.421077728271484,-6.539005279541016,-5.582590103149414,24.50595474243164,-2.503816604614258,-8.86762809753418,-22.050365447998047,13.058563232421875,-3.9523262977600098,19.46847915649414,21.732362747192383,-15.76134967803955,-9.178848266601562,13.420443534851074,1.5300335884094238],\"y\":[-16.42540740966797,-10.480419158935547,-15.786197662353516,-6.78100061416626,-7.980797290802002,-5.4222941398620605,-7.928515911102295,-8.244189262390137,-3.5573713779449463,-13.368203163146973,-6.835330486297607,-7.087619304656982,-6.866862773895264,-9.64277458190918,-16.78089141845703,-9.575113296508789,-14.540379524230957,-6.880599021911621,-1.7469732761383057,-10.246909141540527,-2.912322759628296,-0.8315116167068481,-9.523702621459961,-9.41690731048584,-0.9152438640594482,0.616611123085022,-14.727494239807129,-8.230962753295898,-16.41176414489746,-18.067867279052734,-6.895388603210449,-14.483642578125,-8.046611785888672,-15.388381004333496,-7.7191619873046875,-8.505184173583984,-7.668011665344238,-8.8973388671875,-4.986072063446045,-7.813732624053955,-0.9077252149581909,-17.143821716308594,-3.4946556091308594,-8.623940467834473,-5.40041971206665,-2.886692523956299,-13.538177490234375,-5.232584476470947,-4.389195442199707,8.161308288574219,-13.001620292663574,-13.666726112365723,-7.666764736175537,-5.301712989807129,-6.1941351890563965,-2.7286274433135986,-16.631919860839844,-3.3805694580078125,-2.078209638595581,-7.73625373840332,-1.0048586130142212,-15.835025787353516,-8.306694030761719,-9.040643692016602,-7.632203102111816,-4.624345302581787,2.290494203567505,-12.011873245239258,-14.316187858581543,0.986095130443573,-0.0404093973338604,-6.123887062072754,-14.150696754455566,-3.5912821292877197,-13.140613555908203,-7.8757452964782715,-19.535730361938477,7.7517499923706055,1.8472092151641846,-5.3541789054870605,-3.182013511657715,-4.4431281089782715,-3.133831739425659,10.7324857711792,-2.152529716491699,-14.86367416381836,0.030181853100657463,-11.328099250793457,-4.529054641723633,1.3238204717636108,-8.269194602966309,-17.059925079345703,-3.705016851425171,-16.203079223632812,-14.904592514038086,-3.7786314487457275,-7.091284275054932,-5.249074935913086,-5.699892044067383,-13.774374008178711,12.083374977111816,-16.23444938659668,-13.525972366333008,3.88777756690979,-3.219358444213867,-8.919258117675781,-0.5409886240959167,-10.479907035827637,-16.026569366455078,-7.919297695159912,6.0643086433410645,-14.98367977142334,-0.028185272589325905,-4.130640029907227,-3.499396324157715,-5.625809192657471,-7.363168716430664,-2.9847421646118164,2.101999521255493,-6.803595542907715,-6.5501508712768555,-1.3638485670089722,-9.260459899902344,-14.828063011169434,-1.3830026388168335,-5.271075248718262,-7.56160831451416,-10.509757041931152,-16.344993591308594,-7.877462863922119,0.0262883510440588,-3.351297378540039,-4.4178242683410645,1.0900737047195435,-16.395662307739258,-2.56343150138855,1.0748252868652344,-2.797873020172119,-6.3380608558654785,-9.684880256652832,-6.4867658615112305,-2.193748712539673,-0.30776506662368774,-3.53804874420166,-2.8206944465637207,0.39819422364234924,-5.798727512359619,-8.809844017028809,-0.9103285670280457,-8.147013664245605,-0.968737006187439,-11.709819793701172,-1.2434155941009521,-8.742321968078613,-6.263962268829346,2.41111421585083,0.5700860023498535,-1.5781186819076538,-17.61421775817871,-11.952895164489746,-7.020949840545654,-6.369446754455566,-8.269843101501465,-14.445174217224121,-5.711581707000732,-2.058415412902832,-19.612163543701172,-0.2675780653953552,-17.277973175048828,-14.805130958557129,-18.046550750732422,-2.0350401401519775,14.332497596740723,1.8591047525405884,-8.32476806640625,-8.806785583496094,-2.403970956802368,-7.046552658081055,0.9411802291870117,-4.443234443664551,-4.222413063049316,-0.32728955149650574,-5.448118686676025,-12.910571098327637,-5.083077907562256,-4.9005560874938965,3.843578338623047,-6.146190166473389,-16.453683853149414,3.704955816268921,-7.073914051055908,-8.67624282836914,5.67153787612915,-3.7692134380340576,-0.56034916639328,-2.650813102722168,0.5517996549606323,-1.9568119049072266,3.752976179122925,-10.385817527770996,-15.726816177368164,-15.932467460632324,-0.14254912734031677,-8.741756439208984,-13.866710662841797,-9.61724853515625,-4.30698299407959,-6.475370407104492,-11.316241264343262,-17.794937133789062,-12.241395950317383,1.6592302322387695,-11.227035522460938,-8.725469589233398,6.611091136932373,-14.309366226196289,-1.4395556449890137,-4.964119911193848,-7.711278915405273,-0.5513960719108582,-15.995759010314941,-1.1300435066223145,-2.929609537124634,-13.794601440429688,-7.647858142852783,-4.063618183135986,17.820453643798828,-0.8037248253822327,-7.8787617683410645,-13.284955978393555,-5.89401912689209,-2.3046159744262695,-7.061888217926025,-14.50361156463623,-5.908895492553711,0.2349075824022293,2.695596694946289,-0.5406892895698547,-2.294321060180664,0.1869998425245285,-8.365412712097168,-2.1382272243499756,-16.03860092163086,-1.6922796964645386,-4.713999271392822,-9.395210266113281,1.0717077255249023,-4.866050720214844,-5.8035359382629395,-15.842386245727539,7.166518688201904,0.5650184750556946,0.7102044820785522,-7.734134674072266,-3.7908425331115723,-8.031517028808594,-15.641440391540527,-1.6919448375701904,-3.1303915977478027,-16.19063377380371,-15.581631660461426,-8.197214126586914,-6.357480049133301,-1.2015845775604248,0.8317014575004578,-1.926331639289856,-7.668303489685059,9.33877944946289,0.5137722492218018,-7.711154937744141,-0.5144832730293274,-9.197416305541992,9.200031280517578,-6.05779504776001,-1.0377477407455444,-16.588247299194336,-3.5488760471343994,-5.680001735687256,-16.750303268432617,-8.598556518554688,-4.6318464279174805,-3.0929882526397705,-4.796389102935791,-5.334129810333252,5.971454620361328,0.26236528158187866,-6.672059059143066,2.3143062591552734,1.5902937650680542,0.5760775208473206,-16.460315704345703,-9.084716796875,-3.5785229206085205,-1.9321496486663818,-6.280355930328369,-1.7688157558441162,-7.433548450469971,-0.8181089758872986,9.138385772705078,-4.4285759925842285,-9.762073516845703,-4.0030951499938965,-2.7740108966827393,-12.272664070129395,-4.154243469238281,-10.91327953338623,-1.475458025932312,-6.850347518920898,-13.829611778259277,0.29318416118621826,-1.4396729469299316,1.0597866773605347,-2.3970260620117188,-2.2591593265533447,-6.406726837158203,-11.29780101776123,-1.9232382774353027,4.161360740661621,0.387625515460968,-0.37265416979789734,-7.592802047729492,1.5909343957901,-17.33513069152832,18.141788482666016,-3.264934778213501,-5.726040840148926,12.646663665771484,2.3643956184387207,-2.8882362842559814,-10.547358512878418,-10.413870811462402,-4.426226615905762,-15.004361152648926,-4.531210422515869,-15.568177223205566,-6.293520927429199,-7.778469562530518,-8.448610305786133,-6.474011421203613,-3.4045238494873047,-10.195165634155273,-3.413050651550293,-17.508272171020508,1.3216948509216309,-14.423887252807617,2.6970572471618652,-7.034252643585205,-2.3538260459899902,-4.150136947631836,11.033317565917969,3.3411104679107666,-3.6079916954040527,-7.764269828796387,-1.8034493923187256,-4.873746395111084,-10.399371147155762,-17.278240203857422,3.6056883335113525,-10.53686809539795,0.9515761733055115,11.33388900756836,1.7663832902908325,-1.0142172574996948,0.679207444190979,-0.6439348459243774,1.1590688228607178,-18.997037887573242,-14.704876899719238,-2.9628286361694336,-15.080345153808594,3.1791670322418213,-10.26720142364502,-7.282797813415527,-14.746932983398438,-0.9931254982948303,1.5653294324874878,-5.258606910705566,-0.5050817728042603,-3.2479093074798584,-5.201686382293701,6.3675384521484375,-2.520479202270508,4.500243663787842,-0.5863301157951355,0.37240177392959595,-3.0453929901123047,-6.603605270385742,-5.567845821380615,-4.681276798248291,-15.37163257598877,-3.251800537109375,12.470409393310547,-16.314266204833984,-4.528050422668457,2.8284034729003906,12.121576309204102,-4.9768147468566895,14.93463134765625,-5.575933456420898,-8.172618865966797,-15.856457710266113,-6.00933837890625,-5.520980358123779,-1.8580853939056396,10.66717529296875,-5.956589698791504,4.476369380950928,8.840639114379883,-5.29345703125,0.7854076623916626,11.874053001403809,-0.8676577806472778,-18.60361099243164,11.792752265930176,1.507899284362793,-14.200526237487793,8.744440078735352,0.5444863438606262,-1.6995174884796143,-6.433426856994629,-6.702704429626465,-6.985560417175293,-14.164325714111328,0.6750654578208923,-15.454915046691895,-7.413202285766602,-12.81131649017334,-0.6119697093963623,-4.429786682128906,-5.1520209312438965,-6.955327033996582,1.7815388441085815,2.2300548553466797,-1.7935885190963745,10.419224739074707,-5.543050765991211,8.520761489868164,1.190525770187378,8.934369087219238,-3.5424540042877197,15.020142555236816,2.6224398612976074,-14.55553150177002,1.136000633239746,-7.047427654266357,8.753592491149902,-7.909430027008057,-18.24765968322754,0.5714799761772156,-8.973196983337402,-0.24309052526950836,-16.9018497467041,13.72276782989502,0.5976349115371704,-5.971158504486084,-4.597199440002441,11.293211936950684,0.2093532681465149,0.8100549578666687,-6.1241774559021,8.66024112701416,-11.179201126098633,-1.6653474569320679,14.351118087768555,-0.5990684032440186,3.0834596157073975,-14.838479042053223,-5.027841567993164,-7.398003101348877,-3.3171212673187256,6.714485168457031,-1.2535547018051147,0.08487515896558762,2.2746853828430176,0.5869800448417664,-0.6653093695640564,-11.851390838623047,-2.4755544662475586,-14.447471618652344,-6.532039165496826,-13.441960334777832,2.3337204456329346,0.07761114835739136,-14.294381141662598,0.39781486988067627,6.330724239349365,-6.125527858734131,-17.49993133544922,-1.99961256980896,-8.642289161682129,-18.980735778808594,-1.2837307453155518,7.884930610656738,1.1225454807281494,4.285888671875,-6.962635517120361,1.0696778297424316,-13.601842880249023,-6.9572649002075195,3.5381317138671875,-7.343807697296143,-10.044493675231934,-18.424747467041016,-1.4601445198059082,-0.9035201072692871,-13.05703353881836,-4.331311225891113,-16.73227882385254,-9.285771369934082,-7.558420658111572,-5.278138637542725,-14.578680992126465,-6.958346843719482,-14.93392562866211,-5.160118103027344,12.07226848602295,6.22737979888916,-15.178500175476074,-1.7314473390579224,-13.518561363220215,7.819406986236572,8.40475845336914,-0.6169524788856506,-17.406391143798828,9.388596534729004,-3.9867658615112305,7.686287879943848,6.801138877868652,-3.914541006088257,-2.4731478691101074,-4.803284645080566,0.8966447710990906,3.179032325744629,-2.852299928665161,9.713671684265137,5.649107456207275,15.392824172973633,-0.4133467376232147,-6.64829158782959,-12.410818099975586,-0.6678622961044312,-15.30614948272705,-6.850435733795166,-0.9220882058143616,-3.069396495819092,-5.319223403930664,-4.245805263519287,-13.882074356079102,-14.399752616882324,-14.760127067565918,-7.379543781280518,0.09989405423402786,9.944494247436523,-5.133845329284668,3.4165384769439697,0.5029282569885254,9.508139610290527,-1.3591086864471436,-3.2895960807800293,7.263940811157227,-0.4113040268421173,2.247537136077881,-6.894919395446777,2.2563300132751465,-7.398910045623779,-2.7826597690582275,-3.232719659805298,6.652182579040527,-9.224444389343262,-4.639339923858643,-18.212825775146484,1.4754564762115479,-0.3228110373020172,-14.573062896728516,-13.63906478881836,-3.0472114086151123,-3.6836938858032227,-16.84642219543457,4.190882682800293,-6.370974540710449,-15.522732734680176,-17.71523666381836,-8.535274505615234,-1.5871281623840332,-3.3688607215881348,-0.3133600950241089,1.5380595922470093,-18.95741844177246,2.957958698272705,-1.5902953147888184,-5.731569766998291,-2.712751865386963,0.4955940246582031,10.123756408691406,-2.136840343475342,-16.04351806640625,-2.854132890701294,-10.89477252960205,9.110803604125977,-1.1427030563354492,-9.271940231323242,-9.639902114868164,-7.490737438201904,-16.97911262512207,-4.5457844734191895,-6.4967451095581055,-3.7238340377807617,-9.481513023376465,-14.325739860534668,-9.801445960998535,-3.180509567260742,-3.0373990535736084,15.306200981140137,-6.433709144592285,-2.4070379734039307,-0.07075417786836624,2.92262601852417,5.243676662445068,-1.5688834190368652,4.717187404632568,-1.20736825466156,-3.1148433685302734,-2.874652862548828,5.81705379486084,-9.696009635925293,13.314817428588867,-17.517139434814453,-11.591883659362793,3.43516206741333,-5.921933174133301,6.644372463226318,-4.770832061767578,-6.154143810272217,9.951216697692871,-14.500211715698242,0.3396940529346466,-0.4833108186721802,8.109522819519043,12.11571979522705,4.378599166870117,-3.5671274662017822,6.469666957855225,3.4727842807769775,-16.851308822631836,-6.727439880371094,-2.65278697013855,3.408982276916504,-1.7380479574203491,9.256118774414062,5.688473224639893,0.8660232424736023,6.987660884857178,8.032798767089844,10.087671279907227,-11.877972602844238,-13.061210632324219,6.870334148406982,-14.627157211303711,-15.307672500610352,-8.9563627243042,-3.810065746307373,-10.594442367553711,-0.6298168301582336,5.156132221221924,2.806241035461426,-0.9096153378486633,-4.998311519622803,2.013842821121216,-5.139366149902344,-14.533034324645996,10.54013729095459,0.332376092672348,-1.3967924118041992,-1.6027419567108154,-11.346282958984375,-2.734562635421753,0.8600587248802185,-1.5440983772277832,-1.77493155002594,3.2472972869873047,1.9908908605575562,10.681374549865723,1.5627399682998657,-1.2439348697662354,-2.526581287384033,9.306516647338867,2.229618549346924,-6.816378593444824,10.022985458374023,-2.3881938457489014,-3.686826705932617,-0.7447877526283264,1.1075797080993652,-4.133074760437012,-3.5129973888397217,-16.940263748168945,-6.373477458953857,0.25639963150024414,3.2940526008605957,-1.8647184371948242,3.286597967147827,2.5846149921417236,-5.676290512084961,7.544482231140137,-4.521772384643555,8.464524269104004,-1.8926981687545776,-3.85041880607605,-7.7762908935546875,8.983206748962402,4.980823040008545,-5.1596903800964355,5.450218677520752,11.870621681213379,-7.120034217834473,-7.000069618225098,-5.361758232116699,-3.124824047088623,-15.125136375427246,8.12496566772461,-4.7445502281188965,4.546186447143555,-6.015375137329102,-6.996982097625732,-6.496125221252441,-3.0912439823150635,4.687466144561768,-1.7682253122329712,-12.348958969116211,1.0195021629333496,2.1366987228393555,-8.356733322143555,-9.20819091796875,10.225263595581055,-1.7167669534683228,1.1414570808410645,-19.659692764282227,-3.3312206268310547,15.556905746459961,-14.875373840332031,-15.306966781616211,-5.743330001831055,-0.7302716374397278,6.281676292419434,-4.3615827560424805,-0.05597434565424919,-5.770473957061768,-6.627038955688477,-0.6920920014381409,2.2859771251678467,-6.89094877243042,7.039749622344971,6.987067222595215,-7.923618316650391,-0.19442898035049438,-6.7395243644714355,7.033912658691406,5.6685638427734375,-6.241699695587158,-6.0435614585876465,4.594829082489014,-8.097614288330078,-7.474192142486572,5.99367094039917,1.2631956338882446,7.188417434692383,2.1811976432800293,-4.01424503326416,-10.360628128051758,-3.2390358448028564,-19.288265228271484,2.0111467838287354,2.8527655601501465,2.4211161136627197,-4.294734477996826,-18.389476776123047,9.018461227416992,-2.6836698055267334,-5.136526584625244,-3.6882145404815674,8.087756156921387,-5.807591438293457,-2.903576135635376,-1.3099607229232788,-1.0812795162200928,10.868816375732422,-6.973065376281738,-6.154660701751709,0.5935273766517639,11.8247652053833,-1.2714425325393677,0.8265232443809509,6.515684127807617,13.560861587524414,-7.996265411376953,18.462596893310547,1.1351112127304077,5.900184154510498,2.3422837257385254,-14.65286636352539,2.470463752746582,-2.6484124660491943,4.362472057342529,-3.9008774757385254,8.515626907348633,-11.587977409362793,10.30104923248291,12.45793342590332,-7.782323360443115,6.293322563171387,4.1173224449157715,6.086154937744141,12.556355476379395,-7.324888229370117,8.193236351013184,10.788920402526855,-0.2707565426826477,9.078699111938477,-2.448387861251831,2.7940714359283447,2.4417331218719482,-7.002646446228027,17.00819969177246,-5.962622165679932,1.3324440717697144,-5.4259562492370605,-3.5452611446380615,7.622878551483154,-11.361525535583496,4.279116153717041,-15.156810760498047,4.267861366271973,1.578465461730957,-0.8662182092666626,-2.847785234451294,1.362001895904541,-10.313486099243164,-4.550093173980713,-17.246915817260742,8.063006401062012,-15.347243309020996,-2.775052785873413,3.093492269515991,3.7470059394836426,-6.956844329833984,-2.048217296600342,4.628147602081299,3.680265188217163,0.3517897427082062,-4.220407485961914,-5.058652877807617,-4.070078372955322,13.346541404724121,11.215193748474121,-12.59669017791748,-1.1284477710723877,-14.583785057067871,-0.6238784790039062,0.5799898505210876,-3.4796340465545654,10.490543365478516,3.068197011947632,10.18628978729248,-17.007707595825195,-10.087668418884277,1.8385032415390015,-15.028487205505371,-6.35502815246582,4.0660600662231445,2.536292791366577,-16.45563316345215,1.9061938524246216,-1.9695483446121216,-8.121996879577637,-8.57116413116455,8.975492477416992,-6.979765892028809,-3.1032211780548096,3.7903287410736084,-6.070443630218506,-18.43514633178711,-1.4088202714920044,9.375823020935059,-4.598682403564453,-1.8126775026321411,10.148213386535645,10.227323532104492,8.562569618225098,-1.6292738914489746,3.0934388637542725,7.515809059143066,19.604578018188477,-0.5021669864654541,-5.91314172744751,-2.0073704719543457,7.085702896118164,0.15666669607162476,2.6148738861083984,15.270857810974121,-3.179511070251465,-5.206996917724609,-2.134009838104248,5.106049537658691,4.472273349761963,8.314532279968262,6.540307998657227,4.522726058959961,5.314217567443848,-18.278799057006836,3.811025381088257,7.814947605133057,1.7649004459381104,10.43936538696289,7.71789026260376,-0.7871931195259094,9.723441123962402,6.025001049041748,7.5329132080078125,-4.527573108673096,-6.140415668487549,-5.966451168060303,2.1562929153442383,-7.642621040344238,5.166882038116455,-6.66138219833374,11.312041282653809,-0.9382500052452087,1.7762126922607422,4.291971683502197,-5.59243106842041,-18.446483612060547,-17.50471305847168,-5.725069999694824,-1.1463090181350708,-5.712834358215332,-1.4530318975448608,-18.44021224975586,-11.734453201293945,-2.3991150856018066,-6.5220046043396,-2.1337146759033203,-2.4292476177215576,-2.539478063583374,-1.5840858221054077,-6.522497653961182,1.1010873317718506,-2.2206971645355225,-10.3079833984375,3.8155739307403564,6.332767486572266,-7.4685444831848145,-15.63265609741211,3.8186089992523193,0.5735019445419312,-0.8840693235397339,-17.46700668334961,-13.376628875732422,14.7855224609375,-5.418618679046631,-14.601940155029297,-5.649211883544922,-1.9904413223266602,19.979148864746094,-6.8622727394104,11.280832290649414,-5.049501419067383,-2.456294536590576,-5.185200214385986,-7.3775129318237305,-6.760758876800537,-5.641661167144775,16.885543823242188,-19.51631736755371,-19.4858341217041,4.040842056274414,4.038703441619873,-6.89649772644043,-6.695894718170166,-5.087498188018799,-9.574789047241211,-7.495349407196045,10.60871696472168,-2.2754595279693604,-6.471980094909668,1.2604808807373047,-7.7849578857421875,-14.092631340026855,-15.32096004486084,0.4026016891002655,5.140451908111572,-5.966223239898682,-5.223546981811523,-0.030236562713980675,10.031625747680664,6.744414806365967,-12.730057716369629,-5.028477191925049,-8.074313163757324,9.816274642944336,6.207229137420654,1.4877517223358154,4.249578952789307,7.2562785148620605,-7.502501487731934,-15.875186920166016,-17.362279891967773,-0.30872148275375366,7.233660697937012,-3.1542251110076904,-5.65280818939209,10.83471965789795,-5.353989124298096,-6.571598052978516,-3.1941747665405273,-13.294953346252441,0.1829737275838852,-15.588177680969238,3.1603305339813232,0.09815730899572372,10.654707908630371,0.8772490620613098,9.189070701599121,-10.769261360168457,-5.344550132751465,6.929431438446045,5.730591773986816,4.980977535247803,-1.2164146900177002,6.991351127624512,18.50025749206543,-8.873226165771484,0.37651658058166504,-2.9754509925842285,-0.913171648979187,10.813445091247559,8.995331764221191,-15.802412033081055,-17.304080963134766,-3.4776856899261475,0.6127558350563049,-0.04137053340673447,-4.266988754272461,3.5353024005889893,-4.4206414222717285,-6.944005012512207,3.0864226818084717,-0.3450630009174347,-1.4300282001495361,16.681827545166016,-6.089147567749023,-3.3184762001037598,13.246986389160156,-7.269015312194824,8.52159309387207,-6.4347052574157715,-7.357285022735596,13.148569107055664,1.6488885879516602,7.164942264556885,-10.068204879760742,5.457408905029297,3.642627239227295,-10.672773361206055,5.474765300750732,16.85274887084961,0.10893316566944122,-16.155786514282227,-14.908308982849121,11.014432907104492,14.249368667602539,2.289069652557373,-0.3217619061470032,12.403624534606934,-13.365287780761719,-1.8024216890335083,10.623385429382324,-15.44383430480957,-4.342068195343018,-4.226766586303711,-6.2158989906311035,0.8220859169960022,-1.318430781364441,-14.986974716186523,8.755396842956543,9.917866706848145,-15.56765365600586,-16.236591339111328,-7.587607383728027,0.006198559422045946,-4.96731424331665,-6.534022331237793,4.565603733062744,-14.047979354858398,5.184026718139648,0.15677927434444427,-2.5394020080566406,-14.896222114562988,4.043487548828125,1.1275932788848877,-6.428111553192139,1.0548487901687622,9.510113716125488,-5.996581554412842,-2.870753765106201,-3.8927652835845947,-2.603924512863159,-7.09594202041626,-5.066679000854492,-2.9840919971466064,-14.801427841186523,-2.513692617416382,-2.3944590091705322,0.4666230380535126,-12.671797752380371,-4.593705177307129,2.082756757736206,16.391414642333984,-9.228689193725586,14.585628509521484,-3.635920286178589,-0.8000956177711487,-6.2988810539245605,1.4138773679733276,18.908653259277344,-2.9108564853668213,5.747117519378662,6.489393711090088,2.8160133361816406,9.44531536102295,7.4495673179626465,-6.4074320793151855,17.698320388793945,-5.47601318359375,1.0940207242965698,-7.024163246154785,-12.72554874420166,-13.060591697692871,0.3420945107936859,-5.694971084594727,-1.3256492614746094,6.629826545715332,0.39771682024002075,-15.909213066101074,-1.9617596864700317,3.5408670902252197,-0.702487051486969,-0.15728968381881714,0.5137845277786255,-1.353578805923462,-7.27146053314209,3.4674243927001953,1.3264122009277344,-8.065485954284668,17.93269157409668,-6.09666109085083,0.7100179195404053,-15.539899826049805,9.121467590332031,-1.851487636566162,-5.409449577331543,3.89342999458313,-0.804916262626648,-2.0998737812042236,-12.562285423278809,3.9352800846099854,15.163285255432129,3.657193183898926,-13.702512741088867,-2.517098903656006,2.4119341373443604,-10.308698654174805,10.094818115234375,5.157764434814453,-4.623015880584717,5.180309295654297,-0.14808157086372375,5.565842151641846,1.052156686782837,0.9818782806396484,4.293767929077148,-14.081897735595703,-5.01217794418335,2.6616251468658447,12.068808555603027,-2.7662322521209717,3.632673740386963,0.5653642416000366,3.2094476222991943,9.4899263381958,-2.709414482116699,-1.8656542301177979,-5.718344211578369,3.8032150268554688,17.597808837890625,-3.093998908996582,-7.520920276641846,-7.718584060668945,-6.285694122314453,-7.361005783081055,-6.2840142250061035,2.3531720638275146,-5.127865791320801,-3.512510299682617,-16.811357498168945,-17.570640563964844,7.671568870544434,-3.5935966968536377,13.478354454040527,-6.390976905822754,14.147555351257324,9.016595840454102,5.861837387084961,-3.2159483432769775,-14.174137115478516,0.6458448767662048,-7.878988265991211,-18.048511505126953,-4.505056858062744,8.828008651733398,9.455731391906738,-1.6384621858596802,1.6710872650146484,-11.917169570922852,-8.632975578308105,6.680490493774414,4.966559886932373,14.701750755310059,-15.635141372680664,7.029146671295166,12.340909004211426,14.688167572021484,1.5425851345062256,4.10501766204834,-8.01919174194336,-0.684502363204956,12.984941482543945,5.092724800109863,-9.695793151855469,8.773455619812012,-9.77784538269043,5.834691047668457,-4.537930965423584,-0.3343508243560791,11.870620727539062,4.35542631149292,-11.819238662719727,-0.38971346616744995,6.476251602172852,-7.868879318237305,12.915314674377441,-5.637596607208252,0.5424678325653076,-10.267292976379395,-3.4121813774108887,5.696075916290283,5.318175792694092,-6.465090751647949,-6.305180072784424,2.0104379653930664,-0.09707655757665634,-0.20287679135799408,20.618484497070312,4.594672679901123,12.36009407043457,3.676140069961548,0.07615719735622406,9.38948917388916,18.759742736816406,-6.9429192543029785,-7.642205238342285,0.5871893763542175,6.11074161529541,-4.550420761108398,-13.704471588134766,-19.002805709838867,-18.353572845458984,-3.950561761856079,2.101524829864502,-16.34300422668457,5.493142127990723,-0.7436752915382385,-3.599717617034912,-5.169238567352295,-3.0327253341674805,-5.906548500061035,-1.7592476606369019,11.342024803161621,2.269385814666748,-7.497970104217529,-4.499659538269043,0.3843974173069,-1.4246107339859009,-6.111530780792236,-2.6841962337493896,10.697157859802246,-1.071373701095581,-2.7919719219207764,-17.240297317504883,8.311676025390625,-2.001462936401367,-0.9243242144584656,-0.8554795980453491,10.333102226257324,9.00998592376709,-1.7573602199554443,-7.09217643737793,-17.780107498168945,1.8756277561187744,11.494855880737305,-8.687451362609863,1.498811960220337,-1.9351074695587158,7.083191394805908,0.5684934258460999,11.934205055236816,0.5600281357765198,-15.71076488494873,-4.06289529800415,5.921379089355469,5.318736553192139,0.495254784822464,-18.15802001953125,-6.2424235343933105,-8.288243293762207,-12.054430961608887,-9.482090950012207,5.840895175933838,13.422725677490234,5.934715270996094,-13.187270164489746,2.966202735900879,-5.444209575653076,7.251628875732422,11.856978416442871,-2.0325138568878174,1.7653326988220215,3.4424142837524414,1.3151532411575317,10.624293327331543,2.144827127456665,15.491950035095215,-2.977524518966675,1.0776822566986084,2.252763271331787,-19.365171432495117,-5.579818248748779,-17.730371475219727,0.7277649641036987,7.188792705535889,-4.511643886566162,0.18344099819660187,11.75606632232666,6.185070514678955,8.963112831115723,-2.432403802871704,-4.874761581420898,17.553800582885742,-1.869799017906189,4.858242034912109,4.023712158203125,0.8954748511314392,0.8899474740028381,-8.522485733032227,-8.517518997192383,-3.232513189315796,-3.235104560852051,-0.21355104446411133,3.3779499530792236,5.659595489501953,-4.404378414154053,4.401821613311768,0.6231610178947449,13.033105850219727,-15.628104209899902,3.5582363605499268,-8.550945281982422,6.212925434112549,1.0640699863433838,10.017325401306152,10.921040534973145,-5.172293663024902,-2.9755947589874268,10.132030487060547,-16.31330680847168,-13.867392539978027,-7.435007095336914,-0.7079669833183289,3.8318161964416504,-3.121927499771118,5.813858985900879,10.415416717529297,-0.7733643651008606,12.921565055847168,4.035318374633789,2.1061336994171143,2.935262441635132,-7.497814178466797,3.781750440597534,-1.7652733325958252,11.645383834838867,-7.44886589050293,-13.786772727966309,-12.776177406311035,0.4377106726169586,-11.184683799743652,-5.039815425872803,14.507582664489746,10.111400604248047,-0.8243998885154724,-2.286741018295288,-8.866544723510742,4.473118305206299,6.202340126037598,-15.491524696350098,12.350252151489258,-0.03205644711852074,-5.029238700866699,1.6406627893447876,-11.675482749938965,-5.120069980621338,8.245064735412598,-4.234442234039307,10.517553329467773,-7.76890754699707,-6.367753505706787,-6.842920303344727,-0.5257700681686401,-3.83726167678833,-4.117387771606445,-1.9946093559265137,-1.2699166536331177,-6.9889702796936035,0.2719697952270508,8.422030448913574,-1.0228726863861084,-4.40879487991333,0.37475770711898804,-14.858602523803711,3.0157876014709473,-0.97841477394104,-5.301031112670898,4.9967041015625,-0.649605929851532,-16.231901168823242,-7.528526782989502,-0.9354357719421387,-2.0476267337799072,4.420087814331055,0.35168731212615967,-7.403414726257324,9.804067611694336,-18.318138122558594,2.463168144226074,-8.635316848754883,-3.9852681159973145,-6.745411396026611,-5.325305938720703,-2.742401599884033,-1.3253979682922363,-2.1989924907684326,4.979867935180664,1.5938034057617188,-7.888359069824219,-7.261693477630615,-10.645120620727539,-7.257809638977051,7.395283222198486,6.993595600128174,7.334624767303467,2.671802043914795,-6.764142036437988,-8.599318504333496,4.953946590423584,12.57422924041748,14.011375427246094,0.8444390892982483,-7.288705348968506,-3.05692982673645,16.343286514282227,-1.4268542528152466,7.513614654541016,4.410593032836914,2.1958673000335693,3.543466091156006,2.351456642150879,-7.531012058258057,3.609391212463379,-2.813624620437622,-20.080760955810547,9.267606735229492,-15.102925300598145,-5.555002212524414,-7.950685501098633,7.036494255065918,-8.162996292114258,13.226655006408691,-6.410214900970459,-14.915908813476562,2.7335808277130127,1.842355728149414,4.491180419921875,10.116109848022461,0.39895519614219666,5.768174171447754,-0.7504082918167114,9.3172607421875,0.5104985237121582,-11.80037784576416,6.629350662231445,-3.259246349334717,4.458517551422119,-0.06474363058805466,-19.34089469909668,-3.4819583892822266,-3.9411699771881104,4.948883056640625,-0.07149263471364975,4.312557697296143,-4.529845237731934,-6.406076908111572,-14.930094718933105,9.475746154785156,3.3259084224700928,-6.422840595245361,-5.515007972717285,2.5645945072174072,5.80950403213501,7.039146900177002,9.31688404083252,-3.5220894813537598,-9.22412395477295,-1.4485846757888794,15.952537536621094,4.600738525390625,-8.653038024902344,7.087969779968262,1.1338376998901367,-16.86353874206543,6.9826836585998535,-3.874204635620117,0.6501774787902832,-7.250493049621582,-0.5738473534584045,2.0376815795898438,8.488430976867676,10.235615730285645,9.265888214111328,2.225094795227051,-13.264238357543945,8.882051467895508,0.3849927484989166,4.804682731628418,-14.080710411071777,6.907190322875977,4.669795036315918,-0.8663891553878784,-4.286402702331543,13.316043853759766,3.3963687419891357,-7.875368595123291,-14.947760581970215,0.5949292182922363,-5.856565475463867,1.588226318359375,4.6797919273376465,16.06011962890625,11.411602020263672,6.546146392822266,0.4589376449584961,9.378822326660156,8.31501579284668,4.236839294433594,-0.11176908761262894,11.51259708404541,-17.691547393798828,10.662796020507812,6.338872909545898,17.2368221282959,8.84635066986084,-16.51776123046875,1.0267750024795532,15.274271011352539,3.9396958351135254,-1.4084151983261108,8.88690185546875,9.098910331726074,-0.4660087823867798,2.6493144035339355,7.9104485511779785,-7.098991870880127,6.4658989906311035,3.46589732170105,-8.065756797790527,-0.1616310030221939,12.151004791259766,3.721018075942993,12.598127365112305,14.814380645751953,-13.216233253479004,3.4978983402252197,-1.1737804412841797,5.0204243659973145,-4.247618198394775,4.441901206970215,-14.90697956085205,15.780660629272461,12.288432121276855,5.654059410095215,-6.667821407318115,8.66687297821045,-10.729483604431152,-15.122993469238281,4.758784294128418,4.364433765411377,-11.599827766418457,4.845260143280029,-16.517724990844727,-12.981468200683594,10.990127563476562,-5.637569904327393,4.025556564331055,-2.8748340606689453,-1.583179235458374,-15.675060272216797,-5.738494873046875,8.476293563842773,-7.765586853027344,7.308095455169678,9.204902648925781,7.125219345092773,10.266698837280273,-19.488054275512695,1.1136646270751953,-6.942345142364502,-7.2968668937683105,15.542028427124023,5.388937950134277,12.376065254211426,-5.984045028686523,-11.936166763305664,-12.572125434875488,-6.7235212326049805,1.5901106595993042,-0.012790549546480179,16.646068572998047,-14.325573921203613,5.723526954650879,-2.5714080333709717,-19.148069381713867,1.8403691053390503,-5.6345930099487305,-19.659238815307617,8.348146438598633,4.8815693855285645,3.3177683353424072,10.554631233215332,-4.470346450805664,-3.692232847213745,-17.820829391479492,-7.977956771850586,-1.9123015403747559,13.471485137939453,-3.6207900047302246,1.338635802268982,-9.767181396484375,15.441666603088379,-3.425443410873413,-5.947737693786621,11.818467140197754,2.8983519077301025,-5.776180744171143,9.824726104736328,-7.1038947105407715,-0.03191893920302391,13.298386573791504,10.570016860961914,-15.655036926269531,-2.5759012699127197,-2.657153844833374,4.837740898132324,-4.948980808258057,-15.269108772277832,-4.646503925323486,6.531656265258789,-3.1829845905303955,9.364786148071289,-4.3095293045043945,-3.575134038925171,-4.4026360511779785,5.093106746673584,4.894363880157471,6.254664897918701,-3.8917558193206787,0.36694982647895813,6.446369171142578,9.498785018920898,1.9562666416168213,2.9341816902160645,19.052412033081055,6.401358604431152,-3.289402723312378,12.370170593261719,5.6063761711120605,-10.310224533081055,1.206763505935669,-13.816157341003418,13.051487922668457,-10.947530746459961,-8.078995704650879,3.4895212650299072,12.73880386352539,4.538637638092041,5.0256829261779785,-12.10359001159668,2.069455623626709,-4.580214500427246,15.659076690673828,-16.197294235229492,3.382723093032837,-8.137606620788574,12.048674583435059,-7.131580352783203,3.070297956466675,-7.477291584014893,-1.389760971069336,8.904505729675293,2.6223349571228027,-1.611682653427124,-6.5647358894348145,-0.16049811244010925,9.481280326843262,-5.063011646270752,-2.6797633171081543,-5.482579708099365,-6.33482551574707,-4.20512056350708,-5.401800155639648,15.914883613586426,11.847114562988281,0.9579555988311768,-1.6661847829818726,-16.875690460205078,13.518817901611328,-0.9625192284584045,2.4618754386901855,16.892013549804688,-14.164713859558105,-3.9295573234558105,-4.606134414672852,-18.10368537902832,8.688234329223633,7.176997184753418,8.749707221984863,-0.7791067957878113,14.122028350830078,-2.1422977447509766,-17.47625160217285,19.774152755737305,-6.7320356369018555,8.231755256652832,15.343663215637207,4.267361640930176,7.1571221351623535,-0.13847880065441132,-6.9728569984436035,2.945787191390991,-0.5360261797904968,5.03049898147583,-7.413531303405762,10.586444854736328,-7.212375164031982,-3.963372230529785,-13.370530128479004,-14.07239818572998,2.965144157409668,-2.477043867111206,-3.552734851837158,0.8718942403793335,13.372488021850586,-14.421014785766602,1.4088752269744873,0.6694995760917664,8.894613265991211,-0.6410287618637085,3.0034430027008057,6.585819721221924,9.68087387084961,-7.550751686096191,-0.045586030930280685,0.14736595749855042,16.441068649291992,-1.4449830055236816,-8.140314102172852,3.9777958393096924,-13.40738296508789,-11.03184986114502,-0.08629213273525238,-3.6607980728149414,-5.786561489105225,8.164007186889648,-4.252206325531006,-2.986483335494995,-1.756569743156433,-1.7419695854187012,10.354936599731445,-0.48789289593696594,-14.843219757080078,3.987926959991455,-12.520376205444336,-6.9624104499816895,-11.577187538146973,6.854227542877197,12.97791576385498,-2.8401026725769043,-2.832956552505493,-4.1291351318359375,2.0471179485321045,2.480602741241455,2.715423345565796,-1.294431209564209,2.3570914268493652,-10.030695915222168,14.674626350402832,-1.4431878328323364,10.91469669342041,7.648377418518066,-2.6321136951446533,1.4218493700027466,-20.372446060180664,-11.080677032470703,-7.973886966705322,-1.4452407360076904,-14.364928245544434,-3.9771571159362793,-5.754620552062988,-4.926979064941406,0.7836946249008179,18.02874183654785,11.295636177062988,0.18350832164287567,1.6953685283660889,10.384087562561035,-1.1528006792068481,-12.671588897705078,-6.51046895980835,-12.27184009552002,7.747859954833984,1.951521635055542,5.857044219970703,11.024454116821289,-3.7768335342407227,-2.99927020072937,5.787402629852295,-1.126901626586914,-10.927978515625,1.7441595792770386,-4.669147968292236,0.9751286506652832,-0.44722965359687805,-7.4705729484558105,-0.9019548892974854,2.09875750541687,-7.796267509460449,-6.353446960449219,-1.5805511474609375,11.411920547485352,-15.22469425201416,7.968053817749023,10.080730438232422,4.418522834777832,6.650669097900391,13.935826301574707,-16.84842872619629,10.202147483825684,-6.7904462814331055,3.7098443508148193,6.5804667472839355,2.723601818084717,-16.678964614868164,-5.102988243103027,4.946408748626709,9.432992935180664,3.1139392852783203,2.502246379852295,13.308692932128906,2.495286226272583,7.698660850524902,0.5703567862510681,-1.5455306768417358,0.4259159564971924,-3.1932778358459473,14.234453201293945,13.67974853515625,4.481205463409424,9.15536880493164,4.606288433074951,9.327230453491211,14.377168655395508,-19.230512619018555,-2.3761143684387207,-8.335502624511719,18.631628036499023,4.691457748413086,-6.159116744995117,-4.030108451843262,6.387662410736084,-9.249177932739258,4.393791198730469,-17.163686752319336,-4.627310276031494,17.041658401489258,-2.6665327548980713,7.827913761138916,-5.800570487976074,1.9051119089126587,-6.149593353271484,2.1855897903442383,-15.391729354858398,-0.4256477653980255,4.706820011138916,-18.50882911682129,1.357155203819275,7.646063804626465,4.454184055328369,-2.5377824306488037,12.13840389251709,-2.190234422683716,-3.14705228805542,1.1560221910476685,1.3462094068527222,-5.198401927947998,0.9328887462615967,-2.4926304817199707,11.697002410888672,-2.8077712059020996,9.842134475708008,-13.97400951385498,1.5211009979248047,-2.4386110305786133,1.2336279153823853,14.040348052978516,6.75375509262085,-2.0656375885009766,-2.8091328144073486,-5.395724296569824,-11.107430458068848,9.677491188049316,9.204607963562012,-5.569163799285889,2.9092419147491455,13.449382781982422,5.82026481628418,-4.549779891967773,1.1365282535552979,11.276455879211426,4.2350616455078125,-9.881452560424805,-6.849729061126709,-6.262340068817139,-4.229846477508545,4.044633388519287,-7.396321773529053,-7.469521522521973,12.270883560180664,0.4350956082344055,-4.713900566101074,2.1011605262756348,-12.410948753356934,0.7151193618774414,10.127253532409668,3.8823962211608887,5.81289005279541,3.7902982234954834,12.000038146972656,-14.620835304260254,10.92928409576416,3.549136161804199,7.052718162536621,4.3528151512146,1.2174780368804932,-4.12261962890625,14.0219087600708,-0.5663946866989136,-7.022824287414551,9.195673942565918,9.926499366760254,9.421319961547852,4.715744972229004,4.422855377197266,-3.790839195251465,-9.353282928466797,8.791640281677246,-5.049694538116455,-3.0505454540252686,-0.5430185794830322,3.6017022132873535,-13.454476356506348,4.169436454772949,4.221812725067139,-14.390512466430664,3.3322556018829346,-9.02241039276123,11.907350540161133,11.033349990844727,-5.181130409240723,-2.53286075592041,14.731832504272461,2.1077494621276855,-16.060209274291992,-5.913296222686768,4.208012580871582,2.8196120262145996,7.634930610656738,-8.290267944335938,-7.7000226974487305,5.619993686676025,-0.8435894250869751,19.455913543701172,9.765995979309082,1.999305248260498,-14.378580093383789,1.8395090103149414,-1.2103089094161987,-2.003751754760742,8.564608573913574,11.211852073669434,2.3837099075317383,-0.20704741775989532,9.958905220031738,-2.315188407897949,2.2756872177124023,1.9089245796203613,-9.854214668273926,7.445418834686279,0.028691932559013367,-12.684395790100098,-3.088191270828247,11.085948944091797,11.115008354187012,5.011953353881836,6.192834377288818,-3.4861273765563965,7.165801048278809,3.412341356277466,-2.4742844104766846,0.5896227955818176,-2.8626229763031006,9.38885498046875,4.3187761306762695,-4.856934547424316,-3.4072818756103516,7.68433952331543,-10.05240535736084,-9.493473052978516,10.9991455078125,6.188574314117432,-16.59737205505371,5.460254669189453,2.151914596557617,5.614956855773926,0.5392053723335266,2.6366565227508545,-17.972970962524414,-14.572652816772461,0.12768656015396118,11.185300827026367,-4.791365623474121,-6.304813861846924,11.314779281616211,-4.110546588897705,0.23443876206874847,7.078171253204346,-15.561118125915527,2.90791392326355,11.780638694763184,-3.9032771587371826,12.064077377319336,7.9310102462768555,0.26334890723228455,6.2485761642456055,-6.097527503967285,-1.4535828828811646,-13.785072326660156,13.841197967529297,13.292991638183594,7.342533588409424,-4.351873874664307,16.649831771850586,5.454705715179443,4.171356201171875,-19.14981460571289,-10.29422664642334,-1.3491936922073364,1.4841234683990479,-16.95952033996582,3.9698433876037598,5.508317947387695,-6.1618828773498535,7.197946071624756,-1.032077431678772,-16.083580017089844,-4.991910457611084,-10.708645820617676,11.643549919128418,7.7180609703063965,2.930182933807373,-6.611381530761719,3.3851265907287598,6.216709136962891,1.1161128282546997,11.879773139953613,1.1620886325836182,13.674062728881836,9.087900161743164,10.189409255981445,9.956324577331543,8.381974220275879,-14.720723152160645,-1.441657543182373,2.25866961479187,-6.670580863952637,5.222275257110596,-1.6134804487228394,-2.884373664855957,-5.589765548706055,-7.106177806854248,-12.7857084274292,4.290248394012451,-3.5796284675598145,-1.3144810199737549,-4.725062370300293,-17.881595611572266,17.606138229370117,-2.6688129901885986,6.827434539794922,-7.053353309631348,-3.1304402351379395,5.51854944229126,2.2553975582122803,3.5879368782043457,16.109764099121094,1.6148005723953247,-2.784503221511841,-17.276382446289062,-4.724635124206543,-1.993229627609253,9.468963623046875,2.9376704692840576,-7.062639236450195,-17.805587768554688,4.515608310699463,0.6136302947998047,-2.57403302192688,0.44846224784851074,4.252652645111084,-16.762035369873047,-0.6270912885665894,-3.6470963954925537,4.9740400314331055,9.84732723236084,-7.3384199142456055,0.3265717625617981,-14.018292427062988,-11.74428939819336,8.517746925354004,13.012748718261719,-12.69931697845459,-0.11241500079631805,-7.5212554931640625,-17.14055633544922,11.481244087219238,-0.5907284021377563,10.059965133666992,-5.033820629119873,1.0338960886001587,-4.800960540771484,-2.5551066398620605,7.72244930267334,14.141287803649902,15.203537940979004,7.5959272384643555,9.708656311035156,7.519404888153076,2.8700690269470215,2.2806315422058105,9.099080085754395,-17.031583786010742,-6.412042140960693,-7.030355453491211,18.19033432006836,2.48270845413208,0.8689844608306885,3.674335479736328,-2.2138826847076416,-4.970892429351807,1.36087965965271,16.940296173095703,2.1654205322265625,7.112749099731445,-6.077696800231934,-1.149742603302002,-3.2132914066314697,2.9422616958618164,14.519444465637207,-16.934974670410156,8.226078987121582,-6.341707706451416,7.23928689956665,6.410567760467529,-2.178535223007202,9.616012573242188,-7.103361129760742,12.32469654083252,-7.4185566902160645,1.8983491659164429,-0.8161018490791321,9.782707214355469,12.604915618896484,-14.358695030212402,17.45159339904785,7.228728771209717,2.2607908248901367,9.945075988769531,6.330276012420654,-6.710252285003662,-0.3505273759365082,-0.03724946081638336,-1.680108666419983,-0.05680706724524498,0.5281122922897339,20.256025314331055,7.510339260101318,-5.8089518547058105,5.626433849334717,0.2256363183259964,-19.4183406829834,-2.3447890281677246,-0.2022678703069687,8.233968734741211,4.262020587921143,-3.2380855083465576,-7.1526994705200195,5.022717475891113,-9.848381996154785,7.770467758178711,-0.8429016470909119,-6.117941379547119,3.7826671600341797,4.710248947143555,4.708311557769775,-6.472987174987793,10.293556213378906,1.7220743894577026,-8.950886726379395,6.234072685241699,5.31516170501709,-5.59861421585083,2.1228182315826416,2.481689929962158,-17.955293655395508,4.804174900054932,-6.953919887542725,-6.487422943115234,9.566646575927734,-2.7902579307556152,3.5697543621063232,-7.290210723876953,-8.229933738708496,12.265458106994629,1.6927930116653442,-3.7122714519500732,-3.643311023712158,0.39184457063674927,-6.626935005187988,-1.819002389907837,-3.385228157043457,-0.30602747201919556,2.1097333431243896,-5.625964164733887,3.4060983657836914,-12.2387056350708,-13.545463562011719,10.38608169555664,-4.420354843139648,0.9365411996841431,7.601864814758301,-7.078545570373535,6.572336196899414,-13.205366134643555,-12.626392364501953,-5.856344699859619,-0.07026832550764084,-17.305971145629883,13.364319801330566,-1.2821056842803955,12.045849800109863,4.91183614730835,-6.1901140213012695,4.6028571128845215,-15.479215621948242,-6.829222202301025,-9.07944393157959,-1.3797607421875,2.408390998840332,10.036785125732422,11.60726547241211,5.29027795791626,1.3141018152236938,0.3422602415084839,-5.74412202835083,9.445657730102539,5.583676815032959,-9.545486450195312,11.299187660217285,-12.111756324768066,-10.630512237548828,4.497508525848389,11.05134105682373,-0.5855635404586792,2.5580008029937744,10.922242164611816,5.491643905639648,6.828305244445801,-9.133488655090332,-6.316883563995361,1.2823166847229004,-19.27931022644043,11.045965194702148,7.399445533752441,6.074862957000732,3.5210492610931396,8.291731834411621,3.3650643825531006,-8.955778121948242,3.998626232147217,-16.612783432006836,7.677989959716797,19.709251403808594,-2.074324369430542,19.276561737060547,8.538681030273438,11.195929527282715,-4.888065338134766,7.834995746612549,-1.8139716386795044,-10.66726303100586,0.8409121036529541,5.370663642883301,-0.889136552810669,-5.753589630126953,1.8422545194625854,2.1086294651031494,-7.304897308349609,9.907814025878906,-7.311506748199463,1.9644290208816528,5.744073390960693,-4.127003192901611,-2.681504011154175,0.6929537653923035,4.2558112144470215,2.8170788288116455,4.136124610900879,-1.0880719423294067,-2.290344476699829,-4.010036945343018,-9.05543327331543,0.9945573806762695,4.646659851074219,-2.410527229309082,19.478487014770508,8.032259941101074,-4.153162479400635,5.8664727210998535,9.82498836517334,2.430119276046753,-3.3017401695251465,-13.751259803771973,-13.735624313354492,-0.7861464619636536,10.03812026977539,1.4826297760009766,14.380501747131348,10.482536315917969,4.053079605102539,-13.15917682647705,-9.678855895996094,-4.065577030181885,0.6078788638114929,2.4951958656311035,-4.261317729949951,-6.0176005363464355,11.386468887329102,-12.196725845336914,-8.639409065246582,-13.567097663879395,-13.117512702941895,-2.621058464050293,8.495231628417969,9.196015357971191,-9.304730415344238,9.29554557800293,-3.7634408473968506,10.147873878479004,-5.54503870010376,7.528524398803711,-7.5739617347717285,-2.5265321731567383,-8.10196304321289,-17.97507667541504,7.978000640869141,-14.247091293334961,2.3429157733917236,15.499155044555664,3.594658136367798,-11.762757301330566,0.8751567006111145,10.064709663391113,3.466517210006714,-14.142658233642578,2.107478141784668,1.0490169525146484,8.729423522949219,-10.10534954071045,3.4760422706604004,5.7744221687316895,6.788361549377441,9.763935089111328,5.757837772369385,17.04047393798828,-3.1395914554595947,-15.391166687011719,-0.23183967173099518,-2.039825439453125,-3.5663301944732666,0.9330936670303345,-13.594151496887207,9.050924301147461,6.34932804107666,-6.689707279205322,0.8846043944358826,-5.7624406814575195,4.714884281158447,-8.737771987915039,6.02734375,-10.180631637573242,-5.447537899017334,2.8157031536102295,-2.375317096710205,-8.648508071899414,-15.566967964172363,-4.443793773651123,16.430492401123047,12.048288345336914,0.778315544128418,8.093135833740234,13.997695922851562,10.428476333618164,1.9382106065750122,6.2093400955200195,4.34450101852417,14.662418365478516,-0.40285804867744446,4.526209354400635,12.983084678649902,16.317256927490234,-18.438941955566406,16.708091735839844,-15.052830696105957,1.3552030324935913,-0.764850378036499,16.620193481445312,0.9176387190818787,5.111155986785889,-2.923752784729004,8.267489433288574,-4.9494194984436035,0.46024563908576965,16.87190818786621,8.212952613830566,0.04482487216591835,14.46376895904541,-1.4589979648590088,1.1261351108551025,0.9500584006309509,8.268733024597168,9.397418975830078,20.268510818481445,1.8813540935516357,1.3442938327789307,-10.97225284576416,3.6421685218811035,-18.57616424560547,8.671524047851562,8.361495018005371,3.211996555328369,-4.549373626708984,5.046997547149658,-8.825484275817871,12.553317070007324,10.928647994995117,-4.9780473709106445,6.164092540740967,-2.6234800815582275,4.1083173751831055,-0.3779281973838806,15.318594932556152,4.3160481452941895,-5.888569355010986,2.977889060974121,10.113848686218262,8.72762680053711,-0.5902661681175232,-4.917418003082275,0.37342169880867004,0.8414349555969238,0.4756832420825958,-0.7638756632804871,14.273036003112793,10.412445068359375,-0.9534172415733337,0.1711626797914505,3.477384328842163,1.1482901573181152,1.7803311347961426,9.389107704162598,4.908318042755127,-3.01102614402771,11.290633201599121,0.7132212519645691,6.914133548736572,-1.3848686218261719,-15.493284225463867,0.3766189217567444,6.439273357391357,2.706880569458008,6.855060577392578,11.034478187561035,12.40152359008789,-2.8723623752593994,-14.390838623046875,2.4763057231903076,10.344167709350586,5.12246036529541,-1.2515113353729248,0.6996659636497498,0.886492908000946,-18.28752326965332,6.88275146484375,-7.67827033996582,6.866401672363281,-3.6392688751220703,-4.261859893798828,14.299581527709961,2.7294607162475586,19.559852600097656,-1.073608160018921,-2.9691152572631836,7.113350868225098,-9.604809761047363,11.469501495361328,-14.62778377532959,-1.1599678993225098,5.25505256652832,-6.221363544464111,7.600022792816162,16.80324935913086,-14.38277816772461,0.5939702987670898,17.558076858520508,17.838172912597656,-4.554289817810059,4.3563551902771,-18.14618682861328,-5.6567816734313965,6.651877403259277,-0.796280562877655,9.013784408569336,5.849629878997803,-3.4175329208374023,3.895273208618164,-16.973848342895508,-13.537492752075195,13.35254192352295,-3.3516345024108887,1.483471155166626,9.158329963684082,-5.413161754608154,-3.367114782333374,-7.6554856300354,-6.218372821807861,0.46123576164245605,-3.6142141819000244,-14.190934181213379,-2.8444085121154785,-0.6092135310173035,-4.4904632568359375,0.32170552015304565,-12.550307273864746,0.7534496188163757,17.835725784301758,6.235355377197266,-12.18579387664795,0.10610608011484146,3.520251512527466,4.540328502655029,13.672342300415039,-6.685702800750732,-5.074308395385742,4.424060344696045,-10.120335578918457,3.5873894691467285,9.286015510559082,3.930983066558838,5.197291374206543,-7.46564245223999,-0.6344703435897827,11.294421195983887,0.8876609802246094,18.98788070678711,16.177047729492188,3.5323922634124756,9.220464706420898,5.556196689605713,8.07091999053955,-2.148232936859131,4.831738471984863,11.208405494689941,-18.479970932006836,-4.764667510986328,9.665083885192871,0.583662748336792,-13.434270858764648,-4.106079578399658,16.58761215209961,7.986968994140625,12.17386531829834,4.3156914710998535,-15.133359909057617,0.41022080183029175,17.54389190673828,-11.82410717010498,-4.668969631195068,0.9474956393241882,2.0084428787231445,-17.045166015625,-1.4070340394973755,2.395224094390869,-3.038311243057251,-5.602589130401611,-5.547830104827881,-1.6344609260559082,-5.539515972137451,-4.299747467041016,9.941752433776855,-5.750996112823486,9.072091102600098,2.8908960819244385,6.849670886993408,-2.269744396209717,-16.388423919677734,-4.177742958068848,-6.011074066162109,1.3019216060638428,11.753278732299805,12.843547821044922,12.41802978515625,3.134971857070923,3.074282646179199,-11.115389823913574,3.0192389488220215,10.824077606201172,-0.5478355884552002,7.375173091888428,6.179815292358398,-6.181273460388184,4.233316898345947,-1.5706162452697754,-12.854048728942871,3.834225654602051,-17.14826774597168,-13.788666725158691,7.541102886199951,-2.4181697368621826,-1.0447273254394531,7.507601737976074,-5.600691795349121,9.894120216369629,-0.658051073551178,7.113306045532227,-15.127004623413086,-9.772566795349121,3.8154232501983643,-15.533321380615234,2.362619161605835,4.2008442878723145,5.696449279785156,-4.656200408935547,9.595016479492188,13.67894458770752,8.880111694335938,-16.29642105102539,2.9650659561157227,8.465719223022461,3.566988229751587,-1.0497900247573853,9.735700607299805,-4.651553630828857,12.3697509765625,-2.263615846633911,-20.025150299072266,5.9519147872924805,12.632133483886719,11.510107040405273,3.698306083679199,7.878759860992432,1.9790568351745605,-11.157755851745605,5.244202136993408,3.0286126136779785,4.210637092590332,14.224929809570312,10.485787391662598,14.659201622009277,11.251678466796875,6.07244348526001,3.442517042160034,2.740196704864502,-4.676148414611816,-1.2780909538269043,5.302222728729248,-5.90419340133667,8.574638366699219,3.1986899375915527,-1.1025938987731934,-2.991501569747925,-0.5725057721138,8.335415840148926,-13.303886413574219,3.16056752204895,0.892508864402771,-2.2441699504852295,6.223038673400879,10.636475563049316,16.62408447265625,-1.0089694261550903,1.915310263633728,-6.3698201179504395,-2.3389923572540283,3.7695178985595703,15.762730598449707,-0.06356383860111237,-5.019205093383789,14.899964332580566,0.6351268291473389,-13.311420440673828,-7.1236443519592285,-2.625084161758423,15.246562004089355,9.947126388549805,-11.197932243347168,11.320104598999023,2.476189136505127,-1.583296298980713,12.152168273925781,-1.9303667545318604,4.21082067489624,-10.855402946472168,8.08987808227539,-1.4370616674423218,4.015462398529053,9.706058502197266,1.8534880876541138,2.1607751846313477,5.818150520324707,-0.9515886306762695,10.955084800720215,12.426149368286133,-7.432692527770996,9.01540756225586,8.094596862792969,14.990583419799805,-10.145873069763184,2.9271864891052246,6.961431503295898,-13.62549877166748,1.4854278564453125,8.980481147766113,-12.736318588256836,2.4550182819366455,-5.753051280975342,8.62367057800293,0.5536949634552002,6.9700093269348145,5.855340003967285,-11.209982872009277,10.042819023132324,-2.572523355484009,-5.143610954284668,-8.961298942565918,-14.986367225646973,9.927633285522461,9.744330406188965,1.4118359088897705,9.785016059875488,2.8482141494750977,-0.43272271752357483,8.187337875366211,-2.4276957511901855,11.529837608337402,-8.550358772277832,-0.6439089179039001,3.5725653171539307,-1.1932122707366943,-16.159160614013672,8.324943542480469,14.281637191772461,-2.1099791526794434,10.286104202270508,5.53756046295166,-7.812516689300537,6.239452838897705,-9.173102378845215,-5.09732723236084,-16.26411247253418,9.222275733947754,-0.16376298666000366,5.798126220703125,4.157665252685547,-1.8650773763656616,8.041701316833496,0.2345295548439026,15.803292274475098,8.248807907104492,10.903664588928223,-13.542869567871094,-18.637470245361328,-8.185522079467773,2.1075809001922607,1.5336756706237793,7.253318786621094,10.461614608764648,0.010579004883766174,9.225496292114258,0.6682001352310181,10.330636978149414,-12.32190990447998,-6.13713264465332,5.9687628746032715,9.780061721801758,-7.305641174316406,13.237990379333496,10.489112854003906,-0.2759018540382385,1.5347381830215454,-2.2354912757873535,1.472005009651184,13.182723045349121,-7.015058517456055,9.568881034851074,19.604860305786133,18.324844360351562,7.077296733856201,-6.01126766204834,5.755007266998291,2.2196953296661377,6.155792236328125,3.77351450920105,0.838746964931488,-3.1568853855133057,-19.766069412231445,6.995737075805664,0.5382156372070312,-17.186113357543945,13.859028816223145,5.9380598068237305,6.578559875488281,10.090991020202637,-2.2846624851226807,-14.154435157775879,7.426022052764893,0.9044631123542786,-5.827080249786377,-11.97795295715332,14.34315013885498,7.2591753005981445,13.703557968139648,-10.181073188781738,9.89534854888916,11.248444557189941,1.9442161321640015,7.827540874481201,-6.172697067260742,1.2435013055801392,6.147950172424316,-9.381630897521973,14.854780197143555,-2.1565349102020264,-1.009792447090149,1.3673158884048462,-5.612588882446289,-18.30649185180664,4.053110122680664,-0.08429411053657532,-16.330646514892578,4.387145519256592,-10.834263801574707,3.0871403217315674,4.34963846206665,-3.8573784828186035,10.062907218933105,4.89443826675415,0.7343834638595581,4.582496166229248,8.47217082977295,0.5729702115058899,-13.57895565032959,0.38722527027130127,12.27788257598877,-4.236069679260254,7.314469814300537,-7.67495584487915,-0.7469547390937805,1.2978215217590332,7.515670299530029,3.6562066078186035,-1.1405596733093262,-1.0401538610458374,-3.34468412399292,11.782361030578613,3.187347888946533,8.348002433776855,-10.830194473266602,4.462279319763184,3.6965696811676025,2.5688915252685547,-2.97651743888855,-1.6792932748794556,-2.1813771724700928,12.219670295715332,10.37580680847168,3.4658257961273193,0.2654723525047302,19.50925636291504,10.824583053588867,-5.93621826171875,4.999208927154541,1.0120056867599487,-0.024989867582917213,9.269729614257812,0.6951959729194641,6.904129505157471,-1.2956043481826782,8.56808853149414,11.033576965332031,4.277466297149658,9.859138488769531,13.883185386657715,4.037423133850098,9.885233879089355,-0.49132996797561646,-3.7056336402893066,-6.8486127853393555,-5.4254469871521,19.983081817626953,-7.070634365081787,10.677597999572754,8.340365409851074,-11.967700958251953,-10.494598388671875,-15.617664337158203,-3.9303669929504395,8.46677017211914,3.361851215362549,14.1694917678833,19.47513771057129,1.776053547859192,3.968518018722534,6.275373935699463,2.1511423587799072,-3.245863199234009,-6.827960968017578,-1.4968971014022827,6.496339797973633,-5.306720733642578,2.669869899749756,-6.147644519805908,-2.6890556812286377,15.960360527038574,2.898207187652588,10.160520553588867,-0.8362972736358643,-16.789459228515625,4.678775310516357,-14.985158920288086,7.621513366699219,7.243142604827881,11.49989128112793,2.415968894958496,-15.394390106201172,-4.853006362915039,-12.404404640197754,-17.738378524780273,2.6297719478607178,-9.182580947875977,0.3600056767463684,-19.277053833007812,9.236348152160645,-0.2528532147407532,14.017102241516113,-7.378181457519531,-13.092333793640137,0.6054431200027466,7.8769378662109375,6.6936354637146,14.204863548278809,-1.4562779664993286,-7.098402976989746,-11.857963562011719,-12.797701835632324,8.526102066040039,-13.820807456970215,-17.265897750854492,8.022733688354492,-5.037740230560303,-19.15917205810547,13.641500473022461,10.446980476379395,-14.64635944366455,9.665449142456055,8.209917068481445,15.88797378540039,5.214683532714844,5.324443817138672,-14.213619232177734,-16.898757934570312,-7.649031639099121,-13.342708587646484,0.9096301794052124,2.2020671367645264,-0.6865725517272949,5.05604362487793,-7.721908092498779,9.444748878479004,7.7218523025512695,17.441261291503906,-18.399938583374023,4.260939121246338,3.245082139968872,4.06164026260376,-2.3672397136688232,3.9677140712738037,2.0672824382781982,0.12266667187213898,-11.683208465576172,-1.6725372076034546,-3.9079034328460693,2.447143077850342,4.176086902618408,5.324954509735107,5.468003749847412,-3.539027452468872,-12.068438529968262,4.398778438568115,8.761313438415527,3.8566510677337646,-1.7673964500427246,5.7773966789245605,9.564337730407715,12.229170799255371,3.746532917022705,8.538725852966309,2.963365077972412,12.791038513183594,-0.2193928360939026,9.560262680053711,-4.132165431976318,-8.45123291015625,-5.87278413772583,2.7950408458709717,10.836783409118652,-16.9913272857666,11.038854598999023,5.659440517425537,9.958982467651367,-17.617019653320312,-15.754225730895996,9.874725341796875,2.7836685180664062,-3.969011068344116,0.07512453943490982,-3.222543478012085,-3.3846213817596436,-2.730215549468994,5.046243667602539,-2.90842342376709,14.631295204162598,-2.502241373062134,2.2428159713745117,9.11697769165039,4.187032222747803,11.994274139404297,-2.7061991691589355,0.4309915006160736,2.7574615478515625,5.238678932189941,0.7016032338142395,1.8439546823501587,-3.1463682651519775,8.771615028381348,1.633443832397461,8.581038475036621,-1.6653075218200684,-2.9832825660705566,6.41384744644165,5.369686603546143,8.556464195251465,3.8620893955230713,8.973274230957031,-1.080709457397461,6.850925445556641,11.90828800201416,11.765181541442871,3.2936043739318848,-6.28605842590332,1.2988929748535156,11.965910911560059,-14.786290168762207,-6.448489189147949,14.633759498596191,-9.770441055297852,5.502593040466309,-9.77290153503418,-5.710954666137695,12.0462646484375,16.380020141601562,9.971809387207031,-20.208385467529297,3.5973992347717285,6.5531086921691895,-0.7805801630020142,-16.619600296020508,-0.24781623482704163,7.286758899688721,7.939176082611084,3.300570487976074,-10.69714641571045,-9.349018096923828,8.279967308044434,10.569316864013672,-5.440094947814941,-12.250264167785645,-1.0597271919250488,17.52802276611328,-11.39808177947998,-0.6992641687393188,5.275062084197998,-17.81277847290039,7.418898582458496,-0.41472283005714417,8.433305740356445,4.520455837249756,-18.011810302734375,2.2641313076019287,7.326953887939453,14.217825889587402,-17.82682228088379,3.811385154724121,2.710710048675537,-0.9371713399887085,2.893918991088867,-6.841564178466797,-4.6111884117126465,-17.899333953857422,15.884183883666992,5.706824779510498,-4.920898914337158,-3.67480731010437,1.3997721672058105,-6.214231491088867,8.44295597076416,2.6089184284210205,2.821087598800659,2.627005100250244,-5.148152828216553,16.2134952545166,3.2111122608184814,7.322500705718994,-1.8570220470428467,4.775797367095947,12.313498497009277,14.228825569152832,3.339446544647217,-6.04171895980835,-0.683127224445343,4.0134382247924805,-13.041949272155762,1.6542901992797852,19.129470825195312,6.45879602432251,18.731889724731445,3.521082639694214,10.432221412658691,-6.01063871383667,15.340394020080566,8.83996295928955,6.2930521965026855,-11.06669807434082,-11.274200439453125,3.8721041679382324,2.308035135269165,-5.292011737823486,-12.048812866210938,-6.698793411254883,2.0891735553741455,9.283453941345215,9.03563404083252,-1.9196711778640747,-13.139189720153809,-3.101292371749878,7.688920021057129,0.27767905592918396,8.783068656921387,10.03113842010498,-2.1427104473114014,1.7189393043518066,7.951604843139648,5.59385347366333,-1.968023419380188,-4.169802188873291,7.996387004852295,0.5745492577552795,-7.6703996658325195,11.70520305633545,1.6756296157836914,-1.0258740186691284,-7.802000522613525,-1.535345435142517,-6.854434490203857,1.7271687984466553,8.215941429138184,10.588653564453125,14.275201797485352,0.7900275588035583,-18.61626625061035,3.4002456665039062,-0.8109259009361267,8.066542625427246,5.499469757080078,9.277523040771484,-16.7557373046875,11.8206787109375,5.181284427642822,-4.961752891540527,15.451119422912598,-16.80008316040039,-14.85545825958252,15.05716323852539,4.903024196624756,4.8615241050720215,14.39183235168457,-6.229965686798096,15.644942283630371,4.001850605010986,-15.963014602661133,2.1332385540008545,15.980205535888672,7.588015556335449,20.368555068969727,0.8837748169898987,6.798898220062256,4.822314262390137,1.6079837083816528,18.334680557250977,6.171286582946777,8.453073501586914,15.376431465148926,0.22512225806713104,-7.884990692138672,-6.010790824890137,11.925332069396973,13.003958702087402,3.873368263244629,8.547297477722168,-1.1891146898269653,-3.4482262134552,8.801834106445312,11.543519020080566,-4.231027603149414,6.985228061676025,8.463383674621582,6.453808307647705,15.970478057861328,11.091245651245117,-2.7879090309143066,-6.442434787750244,8.815812110900879,-6.067019939422607,9.557755470275879,4.886821746826172,-3.895059108734131,-7.351250648498535,0.7267147302627563,-6.615379810333252,8.704267501831055,15.740124702453613,4.192660808563232,-12.854470252990723,-4.620678424835205,-5.272262096405029,-5.7525763511657715,13.345039367675781,13.998292922973633,-4.34384298324585,4.8568034172058105,5.104711532592773,-10.811361312866211,12.535123825073242,19.763906478881836,14.004131317138672,-4.329740047454834,6.161558628082275,2.9942054748535156,8.818696022033691,4.517489910125732,7.518660068511963,-2.877499580383301,16.167985916137695,0.5839172005653381,7.410505771636963,-3.143986225128174,6.221776485443115,5.152403354644775,-19.69464683532715,-3.149613380432129,-16.203264236450195,-7.088023662567139,-17.503957748413086,17.215972900390625,-1.9760133028030396,-9.100114822387695,-6.758937358856201,9.374870300292969,9.642736434936523,11.004730224609375,10.592697143554688,-13.838949203491211,-17.573816299438477,10.279313087463379,9.29438304901123,-1.670212745666504,3.779311180114746,2.7706239223480225,-14.818424224853516,-18.292055130004883,-17.530838012695312,-0.8460536599159241,-7.299465179443359,-3.9621083736419678,-12.673359870910645,4.301450729370117,-4.124107837677002,10.270307540893555,-5.606509685516357,-9.93236255645752,-9.466265678405762,6.373516082763672,10.000245094299316,-3.101722002029419,12.286396026611328,4.464802265167236,3.5085201263427734,8.696146011352539,17.485639572143555,-1.126640796661377,0.2863912284374237,-6.5193705558776855,-3.8418610095977783,15.095209121704102,-0.7510074973106384,5.722648620605469,1.0308165550231934,-0.07830966264009476,9.757823944091797,-1.7488423585891724,2.761122703552246,-0.5921993851661682,8.004720687866211,11.531710624694824,-0.35409873723983765,1.5913879871368408,6.27836275100708,1.4667898416519165,-0.20427767932415009,-0.577197790145874,11.725504875183105,-1.3958977460861206,11.361898422241211,8.207462310791016,6.673460483551025,6.368778228759766,1.577492117881775,1.5918607711791992,-15.699897766113281,-13.214029312133789,-10.798952102661133,-3.1623384952545166,-5.148818492889404,-7.4131903648376465,-16.203725814819336,11.489140510559082,7.181883811950684,12.290642738342285,-3.8029050827026367,12.007590293884277,11.475348472595215,-13.869613647460938,-9.79858684539795,5.548643112182617,18.04630470275879,-4.562780857086182,-0.7609782814979553,-3.569138288497925,5.536942958831787,-1.081807255744934,8.38813304901123,19.560758590698242,-14.767892837524414,-2.4352915287017822,6.008918762207031,18.30842399597168,-6.679207801818848,-15.526034355163574,-1.107895851135254,1.1871088743209839,-6.64717435836792,3.3322672843933105,-3.985445022583008,15.028112411499023,16.312204360961914,5.989300727844238,-2.0319809913635254,4.368596076965332,-15.968326568603516,17.580041885375977,0.9307871460914612,0.913890540599823,10.375621795654297,9.295759201049805,1.9743244647979736,-5.888152122497559,-0.23073628544807434,-2.0563180446624756,3.7464916706085205,4.947309494018555,-0.18505796790122986,17.375347137451172,8.150575637817383,-6.7424116134643555,-13.54053020477295,5.523038387298584,5.5656914710998535,-8.682205200195312,6.59825325012207,-15.422773361206055,8.251409530639648,1.7791800498962402,2.4805805683135986,4.358555793762207,19.808147430419922,15.933341979980469,-6.967807292938232,-0.8552407026290894,-5.030816078186035,8.670903205871582,-3.9114573001861572,10.321236610412598,18.662137985229492,-1.814752221107483,1.6106681823730469,14.613526344299316,-3.6161625385284424,7.5285844802856445,12.431283950805664,14.80785083770752,9.59949016571045,1.1529659032821655,7.1272807121276855,4.904399394989014,2.6511988639831543,-8.174748420715332,9.33772087097168,5.557868003845215,-3.9449079036712646,-10.775465965270996,7.587558269500732,-3.7034859657287598,4.088707447052002,-7.216810703277588,2.36723256111145,2.7515296936035156,6.188308238983154,3.2959344387054443,7.52852201461792,2.2577545642852783,8.621109008789062,0.06333331018686295,-5.968369960784912,-7.938600063323975,-10.313401222229004,-4.360073089599609,-5.234065532684326,3.6224358081817627,-18.457956314086914,16.27709197998047,-12.558547973632812,17.228900909423828,4.248784065246582,10.965744972229004,-0.22276926040649414,-0.7508653402328491,6.302455902099609,-4.984227180480957,0.9426993727684021,14.617305755615234,7.103126049041748,-0.9741159677505493,-1.1484192609786987,-18.050806045532227,5.1713151931762695,7.807372570037842,4.388119220733643,10.545351028442383,2.421138048171997,8.987875938415527,-7.580661773681641,13.502223014831543,15.087723731994629,4.88282585144043,6.939183235168457,6.1647210121154785,-5.753600120544434,3.731858730316162,0.2541995048522949,1.0902427434921265,-4.680004596710205,9.742230415344238,3.6344850063323975,3.9260332584381104,-1.857934594154358,6.397939205169678,12.935260772705078,-14.100004196166992,-6.342421531677246,3.7907912731170654,5.8982062339782715,10.408122062683105,-6.533390522003174,-11.707159042358398,-12.520930290222168,-3.7324390411376953,3.8104240894317627,-15.454381942749023,-12.874505043029785,-14.02938461303711,-13.341829299926758,9.701740264892578,-9.96588134765625,7.244195461273193,3.83062744140625,-1.6966209411621094,-2.258775234222412,-3.9222943782806396,-3.0584716796875,2.476569652557373,2.3258485794067383,-4.472991466522217,-3.7141478061676025,-14.18276596069336,4.824140548706055,7.216395854949951,6.872636795043945,4.12135124206543,4.782020092010498,1.8137178421020508,3.457355499267578,3.3067474365234375,4.127596855163574,1.6982043981552124,3.475588798522949,-17.01004981994629,6.807560920715332,5.888838768005371,2.8157918453216553,2.2143521308898926,-8.33693790435791,-7.05604887008667,15.706787109375,0.36408525705337524,-5.1656670570373535,11.845646858215332,1.9176275730133057,-5.431347370147705,-3.9408187866210938,-14.615152359008789,-14.105263710021973,12.391683578491211,-4.790402889251709,-16.397281646728516,14.93792724609375,-9.230671882629395,-3.547498941421509,1.5580233335494995,10.55376148223877,11.345348358154297,6.313071250915527,7.967395305633545,-2.686081886291504,12.690179824829102,1.7329763174057007,-0.33709079027175903,-16.889686584472656,-15.481136322021484,4.0314178466796875,-0.7335028052330017,14.735758781433105,-7.307629585266113,3.008824348449707,-0.5364976525306702,6.802490234375,-7.028365612030029,5.729926109313965,3.960721015930176,11.594047546386719,1.867387294769287,17.22793197631836,8.643715858459473,2.1880557537078857,-4.690939426422119,-2.6051504611968994,-0.7619275450706482,-5.894759654998779,7.691805362701416,9.037055969238281,-12.114884376525879,15.811484336853027,-5.625721454620361,-4.072243690490723,-3.474072217941284,1.939632773399353,-6.022213935852051,3.6352593898773193,3.633286237716675,5.465536117553711,5.468786716461182,2.0109708309173584,16.46965789794922,4.7282819747924805,7.787343502044678,-18.558502197265625,-14.682049751281738,8.650532722473145,7.922533988952637,-18.544761657714844,-1.0273648500442505,-2.657158851623535,12.075916290283203,5.14813756942749,-0.7685506939888,8.951119422912598,-2.6715924739837646,9.419549942016602,4.756472110748291,-4.438838481903076,-9.245405197143555,-5.279281139373779,-0.3366808593273163,4.608602523803711,-2.377945899963379,-14.890504837036133,0.8853790760040283,5.436670780181885,2.174293279647827,-15.421510696411133,-13.406142234802246,10.147892951965332,3.1943418979644775,-13.518420219421387,7.438749313354492,6.922018527984619,-9.932215690612793,-4.861042022705078,-5.997375965118408,6.704559326171875,13.277397155761719,4.671408176422119,0.1670018881559372,16.7279052734375,3.5960142612457275,2.9484305381774902,5.290905475616455,13.888650894165039,15.91428279876709,7.769593715667725,-1.0900874137878418,-2.2556235790252686,-1.9723175764083862,-0.982835054397583,5.235420227050781,12.981263160705566,3.312680721282959,3.606505870819092,0.7260639071464539,0.18539969623088837,0.6874347925186157,10.945679664611816,19.523035049438477,-8.003459930419922,8.26785659790039,8.019822120666504,-15.935981750488281,-11.565820693969727,9.736827850341797,-8.133062362670898,21.186885833740234,2.7436656951904297,1.2477691173553467,0.08578551560640335,-2.4983010292053223,5.705225467681885,-7.650745868682861,-7.224540710449219,-5.264398574829102,-4.849390506744385,6.973382472991943,0.7723866701126099,-17.955169677734375,7.233811855316162,13.089314460754395,-15.190038681030273,-4.103067874908447,5.36134672164917,-12.212491035461426,-12.091574668884277,3.1489827632904053,16.57270622253418,8.213191032409668,12.642375946044922,-4.00006628036499,3.0347328186035156,1.7542356252670288,7.845147132873535,-13.407835960388184,3.8039321899414062,18.45401954650879,-19.159513473510742,1.7936336994171143,-2.7352523803710938,-15.995926856994629,1.8926469087600708,0.9051357507705688,0.685458242893219,3.066596746444702,5.8104634284973145,2.318814277648926,-1.8103245496749878,5.113453388214111,-9.394137382507324,3.4129350185394287,17.628414154052734,-2.659182071685791,0.6184412837028503,4.306825160980225,16.746200561523438,-4.152464389801025,4.27452278137207,3.32351016998291,8.726292610168457,7.200684547424316,8.549772262573242,-17.096317291259766,-7.357989311218262,5.612125873565674,-8.743715286254883,7.629415035247803,-1.9783682823181152,9.964402198791504,3.3081841468811035,8.587047576904297,2.5841965675354004,7.422187805175781,-5.265602111816406,6.035799503326416,5.181396007537842,4.638844966888428,-9.010763168334961,3.11261248588562,7.707109451293945,5.450997829437256,15.437185287475586,2.023716449737549,-7.343995094299316,3.476651191711426,-1.0025193691253662,14.737903594970703,-13.963602066040039,2.6222243309020996,4.214095592498779,7.93474817276001,0.12824872136116028,-0.2126314342021942,19.41512107849121,-6.7732625007629395,-8.691729545593262,-15.107789993286133,-0.6035723686218262,6.0977301597595215,2.2842905521392822,2.3640027046203613,7.594557285308838,2.7644100189208984,-6.332602500915527,9.429448127746582,9.57166576385498,3.1827476024627686,-1.243478775024414,9.138582229614258,10.113103866577148,0.9262065887451172,4.431440353393555,5.303952693939209,3.531202793121338,-8.077102661132812,1.44075608253479,-0.19933946430683136,-2.9632346630096436,0.44985291361808777,-6.156464099884033,5.4215779304504395,-6.640273094177246,-5.6882500648498535,-11.34393310546875,1.2222375869750977,10.936067581176758,2.119462490081787,-3.916257858276367,-17.33589744567871,3.2872607707977295,-1.8833832740783691,-13.111889839172363,8.211772918701172,-12.069106101989746,12.322854042053223,6.357212066650391,-12.123077392578125,-9.179558753967285,-6.481298446655273,3.100924491882324,5.39930534362793,-3.80299973487854,-5.036981582641602,-2.887441396713257,1.7892096042633057,-5.351545333862305,-4.472332954406738,-5.729347229003906,2.925483465194702,-5.902988910675049,-4.810399055480957,15.320974349975586,10.25556755065918,4.547765731811523,4.9309773445129395,9.754950523376465,15.112127304077148,-7.193201541900635,1.2876698970794678,2.365126132965088,7.410151481628418,-6.046262741088867,8.21678638458252,11.319001197814941,6.070030212402344,-2.8807740211486816,-1.2196122407913208,7.434669494628906,-4.2714338302612305,11.660365104675293,-2.423017740249634,1.7660012245178223,-17.61779022216797,-13.476544380187988,4.387754440307617,-0.8420815467834473,7.354756832122803,-13.723247528076172,10.073868751525879,-6.541758060455322,3.2109596729278564,-10.600679397583008,10.655518531799316,-10.301475524902344,-4.14016580581665,8.16085433959961,0.10560793429613113,-15.454107284545898,6.332873344421387,-6.212101936340332,-13.827665328979492,11.21413516998291,1.7052806615829468,5.292725086212158,11.29135799407959,-5.148672103881836,-16.36713981628418,4.2978339195251465,-12.33120346069336,10.871752738952637,2.249300241470337,6.090079307556152,1.6404573917388916,8.554902076721191,-2.6999082565307617,11.622873306274414,13.013640403747559,-0.3448586165904999,-9.47067928314209,7.041843414306641,19.421432495117188,11.056890487670898,0.6964600086212158,10.228986740112305,7.621954917907715,11.965516090393066,-1.8452913761138916,-4.444457054138184,0.6478465795516968,9.664702415466309,9.138568878173828,7.056002140045166,6.296042442321777,13.026884078979492,-0.8637841939926147,13.554865837097168,0.7165611386299133,4.848567962646484,-5.59578800201416,-3.2347733974456787,4.4206366539001465,0.00839026179164648,11.167630195617676,2.7707293033599854,13.138629913330078,10.48248291015625,-18.685195922851562,9.533194541931152,6.987441539764404,-0.5599146485328674,11.446075439453125,-1.1010905504226685,-4.925610065460205,3.3209331035614014,-13.378254890441895,-0.271272212266922,-16.644489288330078,-1.8074642419815063,2.6054673194885254,11.812088966369629,-4.265599250793457,1.5345221757888794,6.163810729980469,0.2913985550403595,-6.044281005859375,12.961149215698242,-18.321855545043945,-18.21009635925293,-14.045950889587402,-11.639890670776367,-15.372507095336914,7.975301265716553,7.198936462402344,8.467344284057617,-6.97414493560791,19.88868522644043,-4.448676109313965,-3.350747585296631,-4.806064605712891,8.341792106628418,-17.984769821166992,8.432680130004883,8.531339645385742,-4.836578845977783,-6.301533222198486,-0.44840559363365173,-18.56629180908203,19.03929901123047,-0.05737057700753212,-3.1637120246887207,-6.582088470458984,-5.403888702392578,10.3734712600708,13.238714218139648,7.527873516082764,5.2388014793396,-10.818583488464355,3.6352694034576416,6.931298732757568,5.2748003005981445,-5.938413619995117,-20.20013999938965,-1.9998488426208496,-17.971759796142578,9.25082778930664,-2.626063585281372,-0.2756146490573883,-6.891550064086914,8.096616744995117,-13.478931427001953,-14.014327049255371,-2.224261522293091,1.7608895301818848,6.943478107452393,1.7376887798309326,12.537821769714355,-12.609777450561523,20.860387802124023,12.381867408752441,9.35793399810791,-0.5784374475479126,11.755267143249512,20.19822120666504,1.0299803018569946,4.014950275421143,3.4880619049072266,1.0971317291259766,-5.458413600921631,10.683586120605469,-2.907130479812622,-4.353846073150635,-0.9759830832481384,-2.691521644592285,1.584082841873169,-11.102453231811523,2.9108572006225586,-9.152714729309082,-1.576793909072876,-6.554557800292969,0.8960605263710022,-17.724655151367188,4.742316722869873,4.679244518280029,17.609378814697266,2.9435629844665527,10.0652437210083,-14.4683256149292,-6.431364059448242,3.125375986099243,-8.77389144897461,-14.391554832458496,-5.117074489593506,3.189953327178955,-0.8314089179039001,-1.975851058959961,1.8685685396194458,-3.893986225128174,8.460028648376465,14.731013298034668,1.5805705785751343,12.482285499572754,-3.455080270767212,3.5996463298797607,-4.962815761566162,-11.74609088897705,-1.0372014045715332,-6.976966381072998,-18.782705307006836,-0.8964435458183289,-7.078275203704834,-2.1918575763702393,7.442171573638916,-14.882305145263672,1.1784732341766357,0.8076291680335999,-15.982108116149902,0.5368284583091736,11.259349822998047,-11.461820602416992,-1.929234504699707,-0.5116947293281555,3.2133259773254395,9.489974975585938,11.635483741760254,2.1934995651245117,15.317617416381836,12.981366157531738,-2.718424081802368,11.850186347961426,11.37717342376709,4.451115608215332,-3.7035939693450928,6.6102447509765625,9.924901962280273,-4.771852016448975,2.1759753227233887,-1.2882423400878906,-6.427616596221924,-0.5801655054092407,19.819358825683594,-13.407143592834473,13.86474895477295,3.5639917850494385,0.31780320405960083,-4.6446943283081055,12.367889404296875,-5.1899333000183105,7.156850814819336,-2.694509506225586,-3.668114185333252,15.02415943145752,4.550633907318115,-13.752558708190918,6.583811283111572,3.3284342288970947,-4.819712162017822,-2.6447808742523193,13.141279220581055,6.134256839752197,17.12041473388672,9.325624465942383,-2.092317581176758,-4.315021514892578,-9.82114028930664,9.877520561218262,-4.449620246887207,-0.16994184255599976,1.010953426361084,3.3216631412506104,-19.255584716796875,-16.939022064208984,-14.068891525268555,1.0575038194656372,-7.294582366943359,-7.422750473022461,-14.900640487670898,-1.986441969871521,-9.072537422180176,5.863457679748535,-11.018510818481445,-4.961174011230469,-5.437053680419922,-6.9592719078063965,-0.2908778488636017,-2.4873576164245605,4.027717590332031,3.255157470703125,11.573159217834473,-2.7083323001861572,12.19461727142334,2.7438108921051025,-2.822972059249878,-7.559631824493408,3.716313362121582,-10.193663597106934,-11.981780052185059,-3.07450270652771,-0.5369641184806824,-15.722566604614258,-5.412806987762451,6.038914680480957,3.9183058738708496,2.2331807613372803,4.418294906616211,-3.6284468173980713,-2.2284040451049805,3.3353257179260254,-8.61771011352539,3.462102174758911,4.661907196044922,9.807024002075195,5.907254695892334,16.5927791595459,-14.981853485107422,7.6490888595581055,-2.490654945373535,13.04745101928711,6.819240570068359,6.45796537399292,0.8690555095672607,-2.066433906555176,-5.988689422607422,-12.497491836547852,-1.3888765573501587,-17.297380447387695,9.480878829956055,-2.5236940383911133,-8.906545639038086,-9.4139986038208,3.5718460083007812,-12.678388595581055,7.2944512367248535,-4.707453727722168,3.4864559173583984,10.603595733642578,8.589303970336914,8.180525779724121,8.668785095214844,5.450141429901123,-10.248594284057617,2.942842721939087,11.984363555908203,-7.050024032592773,16.979408264160156,-10.301582336425781,15.838959693908691,0.3984523415565491,-1.3870517015457153,12.411258697509766,0.221514493227005,-15.401179313659668,1.4560036659240723,-11.209525108337402,8.816295623779297,6.274645805358887,7.921992301940918,6.511348724365234,1.3018407821655273,-3.388230085372925,0.5100086331367493,7.282222270965576,-10.662461280822754,-0.08156578242778778,-4.989717960357666,-5.454348564147949,2.6746859550476074,9.47569751739502,-6.010288715362549,4.576899528503418,10.931816101074219,-18.321691513061523,-11.59753704071045,4.154483795166016,2.593447208404541,1.833446741104126,16.145410537719727,7.467594623565674,3.216691255569458,10.80088996887207,1.8438302278518677,10.352540969848633,11.296802520751953,-12.703523635864258,4.810367584228516,1.3767884969711304,-17.070068359375,-3.032583475112915,-5.498544216156006,9.941158294677734,12.107913970947266,9.476740837097168,-13.466176986694336,10.007576942443848,-14.852544784545898,-8.679177284240723,-9.440814018249512,-7.954411506652832,3.0011539459228516,-10.12973403930664,5.601855754852295,1.2079246044158936,-13.712162017822266,-5.1391448974609375,-12.129709243774414,3.34932017326355,-5.030328750610352,3.9548041820526123,3.7530505657196045,3.374845266342163,1.2442084550857544,1.219054102897644,0.9818276762962341,-7.188901424407959,-1.4442791938781738,8.920387268066406,0.746091902256012,13.912941932678223,-3.8168725967407227,-5.931949138641357,1.6570605039596558,-7.20848274230957,3.4633636474609375,-5.740079402923584,-3.367302894592285,7.443634986877441,9.046616554260254,5.541693210601807,-5.495193004608154,4.557220458984375,-3.6696250438690186,15.745306968688965,16.495168685913086,11.606660842895508,-5.4360880851745605,6.736104488372803,0.9724254012107849,-14.11609935760498,4.652623176574707,-6.582678318023682,7.518361568450928,2.142895221710205,4.822371482849121,-5.030302047729492,0.5906270146369934,15.299589157104492,11.410279273986816,7.052343368530273,7.36688756942749,-1.3970234394073486,-3.5891530513763428,-15.154603958129883,2.5766985416412354,-6.851780891418457,-9.91070556640625,-13.53756046295166,3.3785369396209717,-6.251618385314941,7.862360954284668,0.09867896884679794,-11.34842586517334,2.5855417251586914,-4.556545734405518,-14.824685096740723,-10.947041511535645,-2.6691527366638184,8.0616455078125,-9.026311874389648,6.072132110595703,0.40446949005126953,2.086418867111206,2.1080121994018555,13.74675464630127,-15.083504676818848,-3.894763231277466,-4.811055660247803,-9.084875106811523,-16.805625915527344,-1.9667166471481323,0.5667007565498352,-13.979897499084473,-15.040094375610352,9.384537696838379,6.859612464904785,-14.990721702575684,11.738691329956055,10.687499046325684,-4.099963665008545,1.405968427658081,1.1572984457015991,-19.704280853271484,5.800812244415283,8.670936584472656,-4.607767105102539,6.471619129180908,19.789012908935547,2.272325038909912,-1.0350816249847412,10.947412490844727,-1.1987751722335815,1.1553139686584473,14.521705627441406,19.50233268737793,-5.351041793823242,15.523184776306152,-9.520328521728516,0.5666674971580505,-6.530599594116211,13.707840919494629,3.1044068336486816,14.69808292388916,3.0969884395599365,6.316970348358154,3.8997609615325928,-0.9169811010360718,3.219123125076294,-0.7842066884040833,9.504345893859863,-5.433940887451172,-5.441898345947266,-4.495570182800293,-1.2481609582901,-3.440131187438965,6.609540939331055,-3.7221710681915283,7.273040294647217,-12.962921142578125,-12.615448951721191,1.6783798933029175,4.244691848754883,1.7299082279205322,10.334571838378906,-0.6490895748138428,12.778688430786133,-0.23619429767131805,1.864864706993103,5.038914680480957,-0.48974862694740295,-1.3025901317596436,-4.619560718536377,12.030817031860352,-7.6959943771362305,-3.2141103744506836,14.192633628845215,9.602188110351562,-5.750927925109863,1.1654926538467407,6.4287028312683105,4.584470748901367,6.947116851806641,-3.545229196548462,-12.194378852844238,-13.678669929504395,12.7332763671875,16.755645751953125,7.48372220993042,-1.7449924945831299,-15.224587440490723,-15.013607025146484,-2.555205821990967,7.4308977127075195,-13.423261642456055,-9.211271286010742,4.352498531341553,8.679627418518066,-18.270652770996094,-4.928719997406006,8.140568733215332,-5.795713901519775,8.20348834991455,8.570680618286133,-13.964991569519043,1.431997537612915,-0.8623068928718567,2.717931032180786,3.1300790309906006,0.41895774006843567,7.340099811553955,3.8571617603302,11.064823150634766,7.108363628387451,-0.7053191661834717,7.183297634124756,14.62485122680664,2.258295774459839,-6.735688209533691,0.15651749074459076,-3.4653549194335938,8.174098014831543,8.869840621948242,15.290980339050293,8.404435157775879,4.441150188446045,10.680902481079102,-2.7985012531280518,1.727702260017395,-3.9460370540618896,-0.2163657248020172,2.1277220249176025,4.154969215393066,0.3849116265773773,2.494281768798828,-11.029934883117676,13.598898887634277,-4.954129695892334,-0.6899232864379883,17.92975425720215,5.823147296905518,-12.891327857971191,-14.467671394348145,3.3734729290008545,-1.500872015953064,-4.620635032653809,-13.980637550354004,-7.522289276123047,-7.66684627532959,-5.267568111419678,-2.1666200160980225,4.952589511871338,-6.315179824829102,4.973729610443115,0.8206078410148621,5.310131549835205,-0.14006051421165466,-5.904277324676514,-8.44894027709961,-4.871633529663086,-3.785999298095703,-10.728876113891602,2.6100635528564453,16.804174423217773,7.9906415939331055,-12.823935508728027,1.5121651887893677,0.8863072395324707,-1.3355035781860352,-5.486279010772705,9.50902271270752,-1.7099195718765259,0.2913365662097931,-6.358151435852051,11.625005722045898,-13.79164981842041,4.191202163696289,-7.043626308441162,16.231143951416016,1.246340036392212,10.431802749633789,3.9910387992858887,0.16110576689243317,-4.21621036529541,0.1904214322566986,-7.179923057556152,-2.6835381984710693,11.04336166381836,3.4235427379608154,-3.3205201625823975,-5.242868423461914,15.078213691711426,7.336101531982422,-3.104764461517334,9.666068077087402,-1.6866097450256348,12.561850547790527,1.2475993633270264,4.302708625793457,12.507556915283203,-2.8093292713165283,6.747842788696289,10.13242244720459,-2.4760899543762207,0.40928393602371216,-5.445465087890625,9.077044486999512,4.925594329833984,9.508119583129883,14.582164764404297,1.6662275791168213,-6.546499252319336,6.635251045227051,3.2220544815063477,3.6546521186828613,0.6132534146308899,1.5427374839782715,7.755660057067871,-2.7279891967773438,-6.266773223876953,11.612129211425781,3.8949460983276367,-2.4898922443389893,-17.909801483154297,-18.35023307800293,-4.155488967895508,-1.1682467460632324,1.1207168102264404,-5.1646599769592285,-6.350212097167969,-3.396045446395874,0.9152004718780518,-1.561141014099121,3.964177131652832,-0.6809818744659424,-12.568000793457031,9.923480033874512,1.34980046749115,5.2154154777526855,9.645143508911133,-3.9624111652374268,12.007631301879883,5.7642693519592285,0.7200576066970825,8.599846839904785,-5.447756290435791,-12.057785034179688,-5.216001510620117,2.2218403816223145,7.468189716339111,-3.8219850063323975,3.534658432006836,-4.810790538787842,0.8422458171844482,-13.115766525268555,10.09843921661377,-15.421320915222168,7.974691390991211,-2.528109073638916,-3.3034451007843018,5.521646976470947,4.166199684143066,-3.4618327617645264,11.902393341064453,-13.595884323120117,-13.65225601196289,-5.994903087615967,-5.332005977630615,-1.7350223064422607,-1.5119924545288086,-1.0424004793167114,4.730522632598877,14.781440734863281,7.462452411651611,5.9489240646362305,-0.8457026481628418,12.146361351013184,-15.603236198425293,6.019865036010742,16.34711265563965,9.859723091125488,7.335545063018799,3.75968337059021,4.052771091461182,-1.8096567392349243,-2.535618305206299,-3.9064197540283203,3.6850850582122803,1.6323760747909546,-1.1197540760040283,-13.147847175598145,-5.8982367515563965,-2.5314531326293945,-4.190357685089111,-12.787649154663086,15.33522891998291,1.2058689594268799,-7.813772201538086,-1.8417953252792358,-3.550845146179199,11.102306365966797,19.750825881958008,-9.549836158752441,-0.010983273386955261,17.955528259277344,3.508220672607422,17.1369686126709,-5.589038848876953,-18.08675765991211,19.051942825317383,2.8820621967315674,-9.279060363769531,11.898316383361816,-12.745644569396973,6.1615753173828125,6.435863971710205,-2.6258034706115723,5.29171085357666,-0.22575820982456207,-16.23390769958496,8.414243698120117,7.248239517211914,-2.7171993255615234,-11.157488822937012,2.6078155040740967,-0.5235024094581604,-7.795541286468506,-17.56899070739746,3.4928605556488037,-2.733092784881592,6.438538551330566,-0.7607527375221252,6.693949222564697,-7.759847640991211,-7.282489776611328,-3.4822709560394287,0.7202816009521484,-2.1302247047424316,-5.816221237182617,-9.887251853942871,2.9988515377044678,-1.758768081665039,7.429051399230957,-1.0377297401428223,3.792412519454956,5.511129379272461,11.861820220947266,4.8557610511779785,0.3627660870552063,-7.079978942871094,2.1562280654907227,-10.933844566345215,6.505823612213135,-7.355530261993408,0.2012244015932083,7.117191791534424,15.099546432495117,0.44998183846473694,-5.287945747375488,6.451767921447754,-4.588973045349121,17.891599655151367,1.9964919090270996,3.1656315326690674,14.407185554504395,7.131036281585693,9.975749015808105,-2.5141751766204834,2.096453905105591,0.1446584165096283,-0.8851664066314697,4.8788323402404785,4.144060134887695,12.063438415527344,8.89951229095459,-3.603348731994629,-8.677103042602539,0.8193240165710449,-3.2830159664154053,-3.4693455696105957,-4.297891139984131,-3.053555965423584,-4.683308124542236,7.144016742706299,-1.0528018474578857,-1.2858673334121704,11.569435119628906,7.109874248504639,8.430201530456543,3.5716705322265625,5.454596042633057,5.132809162139893,-13.977429389953613,-0.611735999584198,0.34841036796569824,7.172802925109863,-3.5204975605010986,0.8400949239730835,-1.839514136314392,11.826354026794434,-4.407724857330322,-13.675881385803223,-15.12187385559082,-5.225244998931885,-11.489707946777344,0.7394793629646301,-4.7612152099609375,-4.823971271514893,15.852408409118652,3.9495482444763184,-14.029657363891602,11.181116104125977,-0.9013235569000244,10.342209815979004,-2.477895736694336,6.26120662689209,12.425399780273438,-16.592914581298828,16.752714157104492,14.282452583312988,6.798586845397949,20.55671501159668,-3.677832841873169,14.607973098754883,-3.298783540725708,-3.063783884048462,-11.65556812286377,-13.569952964782715,-6.009117603302002,0.2422000914812088,4.721982955932617,4.049741744995117,8.962749481201172,-5.567844867706299,-11.935097694396973,1.1085050106048584,-13.52302074432373,10.148679733276367,-0.760189414024353,13.693764686584473,-13.156947135925293,7.9351630210876465,4.3409857749938965,14.167052268981934,13.37121868133545,10.21788501739502,0.6570507287979126,-6.893439769744873,4.316193580627441,-6.269083023071289,9.78319263458252,1.766874074935913,-16.17044448852539,5.092629432678223,10.206449508666992,11.878308296203613,-15.352998733520508,3.994300603866577,5.702523708343506,6.361622333526611,-1.8968385457992554,-15.93578815460205,3.4308114051818848,-1.9007238149642944,1.7050302028656006,-3.4602577686309814,-2.6073784828186035,-5.832449436187744,10.195489883422852,14.445348739624023,-12.204529762268066,0.9262431859970093],\"z\":[-4.768733024597168,-4.176925182342529,-2.6892852783203125,19.759536743164062,-10.57320785522461,-12.508232116699219,-6.0860114097595215,-12.104686737060547,-15.654601097106934,-7.9372711181640625,-10.632357597351074,-7.087875843048096,-12.982342720031738,-3.7308905124664307,-8.374198913574219,-8.421028137207031,-7.0205183029174805,-12.939431190490723,-9.31700325012207,-5.867703437805176,-4.062175750732422,-3.1578168869018555,-6.116450309753418,-6.399796962738037,-1.3554495573043823,5.020702838897705,-7.823887825012207,-10.54896354675293,-4.078935623168945,-2.3208634853363037,-11.742228507995605,-6.8990912437438965,-7.276197910308838,-6.1325364112854,-6.209781169891357,-11.863462448120117,-12.316911697387695,-7.112519264221191,-12.203927993774414,-14.36214828491211,-13.957853317260742,-6.296457767486572,-10.291788101196289,-9.423635482788086,-6.0953369140625,0.5223941802978516,-7.603505611419678,-9.687739372253418,-13.569372177124023,3.1369948387145996,-8.036933898925781,-4.8873186111450195,-12.352171897888184,-9.927261352539062,-10.634212493896484,-11.53437614440918,-4.782887935638428,-16.404403686523438,-6.754877090454102,-13.552631378173828,-3.8549180030822754,-5.383589744567871,-11.970491409301758,-7.331735610961914,-13.36475944519043,0.15286025404930115,-19.192874908447266,-7.375439167022705,-6.4091033935546875,-2.789696216583252,-9.998666763305664,-11.657672882080078,-6.367626190185547,-12.123555183410645,-2.564354658126831,-13.726340293884277,-2.4339447021484375,5.589971542358398,7.294713497161865,-7.919758319854736,-9.821386337280273,-13.513897895812988,-0.9045279026031494,5.536654949188232,12.0514554977417,-8.568266868591309,-14.793971061706543,-6.998867511749268,-12.264195442199707,-15.578638076782227,-9.139771461486816,-4.777291297912598,-14.637994766235352,0.081550233066082,-6.5601677894592285,11.694589614868164,-8.356433868408203,12.327177047729492,-12.460766792297363,2.5347096920013428,17.390911102294922,-8.331097602844238,-4.9478583335876465,-5.366886138916016,14.517290115356445,-7.231686115264893,-15.729911804199219,-6.245452404022217,-4.4955034255981445,-7.757569789886475,15.378945350646973,-5.170046806335449,-2.3238413333892822,-11.966506004333496,-14.969998359680176,-7.808501243591309,14.035799026489258,-14.130330085754395,-15.908394813537598,2.346297264099121,-6.044328212738037,-13.389993667602539,-11.496760368347168,-2.8571295738220215,-18.524763107299805,-9.009991645812988,-12.714234352111816,-10.86710262298584,7.1342339515686035,-11.342872619628906,-14.419178009033203,-13.201122283935547,-14.965934753417969,-14.086029052734375,-2.614741802215576,5.325390338897705,-18.332563400268555,-12.270336151123047,-15.783422470092773,-8.226456642150879,-2.0216283798217773,-17.018489837646484,-16.4654598236084,-16.187145233154297,-17.17121696472168,2.0952608585357666,-6.416119575500488,-8.443588256835938,-7.910680294036865,-9.686996459960938,-13.176543235778809,-5.63685941696167,-13.5152587890625,-8.300077438354492,-8.0672607421875,-8.409615516662598,14.253582954406738,12.546785354614258,-6.4463114738464355,-3.3562605381011963,-12.857534408569336,0.5062854290008545,-1.716091275215149,-0.9762592315673828,-7.160335063934326,-2.093010902404785,-2.3777735233306885,-4.443807125091553,-6.070161819458008,-8.054458618164062,-4.008646488189697,-6.010253429412842,13.861160278320312,-15.906731605529785,-12.266480445861816,-6.784943103790283,13.532308578491211,-5.349620342254639,-18.446487426757812,-13.43278694152832,0.5530964136123657,-16.276681900024414,-7.953229904174805,-5.055844783782959,-16.972349166870117,-9.298850059509277,-7.594799041748047,-16.29216766357422,1.5608620643615723,-2.414966344833374,-14.935614585876465,-8.471961975097656,15.073446273803711,-3.8314223289489746,-17.459177017211914,-13.116055488586426,-12.250986099243164,-8.005461692810059,-6.39980411529541,-4.273317813873291,-3.440228223800659,7.106716156005859,-16.55970573425293,-11.348679542541504,2.390127658843994,-8.710261344909668,-7.971527099609375,-10.416470527648926,-5.819443225860596,1.5355489253997803,0.5434799790382385,-10.735511779785156,-8.44913387298584,-7.582701683044434,17.018592834472656,-7.86898946762085,12.687792778015137,-3.0563182830810547,-5.80931282043457,-9.330536842346191,-3.455223321914673,-15.505895614624023,-0.5252458453178406,-3.0793652534484863,-9.791912078857422,-13.253963470458984,-1.442158579826355,-9.493714332580566,-10.437914848327637,-4.240141868591309,-10.682757377624512,-11.72352123260498,-10.52923583984375,-5.285106182098389,-14.011283874511719,-14.516669273376465,17.342609405517578,-2.3365676403045654,-12.571173667907715,-0.8568874597549438,-9.017938613891602,-12.693410873413086,-8.315890312194824,-10.5738525390625,0.5257009267807007,-8.719449043273926,4.198915004730225,-4.380148410797119,18.403484344482422,-3.3093528747558594,10.619217872619629,-5.818195819854736,-8.17232894897461,-1.6959410905838013,-12.611400604248047,-6.1541876792907715,-3.9849090576171875,-2.2071402072906494,-15.828265190124512,-5.572787284851074,-5.81948184967041,-6.30680513381958,-11.94540786743164,-10.204769134521484,1.4328824281692505,-10.509302139282227,-9.74819278717041,4.050621509552002,-16.699588775634766,-8.248977661132812,0.2900855839252472,-10.30709457397461,-10.090963363647461,-4.987637042999268,-2.8364150524139404,5.6969685554504395,-15.489185333251953,-5.810805320739746,-3.2161178588867188,-9.289268493652344,2.9023494720458984,2.8491790294647217,-3.7161779403686523,21.130882263183594,-10.888521194458008,-8.473766326904297,-1.3482232093811035,-0.9788558483123779,7.801553726196289,-14.872466087341309,-1.5291192531585693,-8.760004043579102,-12.420567512512207,-16.075586318969727,-7.983196258544922,11.0371732711792,-6.755281925201416,15.473214149475098,-1.6889809370040894,-8.228521347045898,-11.977750778198242,11.801614761352539,-16.086566925048828,0.44968757033348083,-8.262242317199707,-6.8625640869140625,-10.676349639892578,-9.789773941040039,3.4180972576141357,-15.754334449768066,-1.3490726947784424,-11.582748413085938,-2.6119163036346436,-7.129438877105713,22.697540283203125,-3.4375321865081787,0.8184940814971924,18.008541107177734,-13.676185607910156,-6.861348628997803,-1.8673505783081055,-5.269150733947754,-5.8893914222717285,-1.5696886777877808,-13.736863136291504,-13.633806228637695,14.061813354492188,6.9074931144714355,-14.866393089294434,-5.911698341369629,-5.87250280380249,-11.406782150268555,-1.987667441368103,13.474841117858887,-3.355456590652466,-2.321861743927002,-7.666156768798828,-6.616166591644287,0.9080674052238464,-8.530590057373047,-4.119980335235596,-15.903661727905273,-5.142869472503662,-13.078643798828125,0.11727941036224365,-8.750604629516602,17.42548179626465,-9.335880279541016,-13.948681831359863,-4.461906909942627,-10.428999900817871,21.863506317138672,-8.342449188232422,-4.726912498474121,19.65242576599121,-8.031401634216309,-1.6140159368515015,2.61287260055542,-7.145280361175537,-18.748470306396484,4.488178253173828,-10.747758865356445,-8.766729354858398,-1.7297054529190063,-10.960701942443848,12.29698371887207,-1.4650548696517944,5.3187055587768555,-15.848198890686035,-1.797086477279663,-9.690702438354492,-9.087677955627441,-4.169104099273682,1.0440007448196411,-15.879963874816895,-10.594196319580078,13.307146072387695,4.952846527099609,15.014729499816895,-11.716383934020996,2.2362723350524902,-11.312577247619629,15.687605857849121,-1.194364309310913,10.426751136779785,-11.997587203979492,-1.345103144645691,-5.491596221923828,-4.580438137054443,-3.863837957382202,-12.468510627746582,-9.275580406188965,1.4044712781906128,-12.946145057678223,-6.473466396331787,-6.533266067504883,0.7722784876823425,-3.544334888458252,-5.162558078765869,-6.340075969696045,-4.533306121826172,0.16459085047245026,-7.243311882019043,-13.003358840942383,14.555937767028809,1.3558598756790161,-16.196788787841797,8.33072566986084,0.8941632509231567,-2.3326609134674072,-5.918172359466553,-8.586908340454102,-3.443241596221924,-7.825867176055908,-12.127914428710938,-0.68880695104599,-3.827324628829956,-0.8831532001495361,-11.838329315185547,-12.983955383300781,-12.944543838500977,3.3321962356567383,-1.034315824508667,-7.043358325958252,-0.991422712802887,-7.6683878898620605,-5.059589862823486,-8.884520530700684,-8.265257835388184,-12.37580680847168,-5.881174564361572,-16.718624114990234,13.112593650817871,-6.972955703735352,0.9214748740196228,-13.355446815490723,-8.537002563476562,-9.671862602233887,-4.931330680847168,4.86677885055542,-3.433605194091797,-15.922191619873047,3.4696044921875,-7.322624206542969,2.672433614730835,-9.410504341125488,-4.4230146408081055,3.1686465740203857,-0.3352925777435303,-9.893695831298828,-7.998882293701172,8.691636085510254,-4.359776496887207,-9.173965454101562,13.035944938659668,0.5750150084495544,3.9243125915527344,-12.27688980102539,-17.36023712158203,-13.473859786987305,-8.340897560119629,-6.679948806762695,4.423871040344238,14.135795593261719,-12.542030334472656,5.1428351402282715,-6.348283290863037,-12.946767807006836,-5.060930252075195,-8.345396995544434,2.8681962490081787,-7.640613079071045,-10.91024112701416,-12.175224304199219,5.198907375335693,-1.1275219917297363,-10.686910629272461,3.396442174911499,-0.8367284536361694,-3.361175298690796,-2.25671648979187,-15.315040588378906,-3.42742919921875,-5.9291791915893555,10.030425071716309,-4.833707809448242,-11.789400100708008,-1.5517655611038208,-14.222358703613281,15.936152458190918,-5.6567463874816895,-2.0268642902374268,-8.7252779006958,-1.2628421783447266,-1.4339468479156494,-9.849691390991211,-11.415042877197266,7.978596210479736,-15.979269027709961,-10.828022003173828,-4.542872905731201,-10.609766006469727,-0.783419668674469,-13.389728546142578,-17.379514694213867,-6.656311511993408,-12.917498588562012,-4.049027919769287,-10.379520416259766,-9.870924949645996,13.286170959472656,-6.511693000793457,-4.76386022567749,-1.3454126119613647,-11.959430694580078,-5.387560844421387,4.94412899017334,11.56431770324707,-10.35152530670166,5.352751731872559,-3.2312448024749756,-4.21669340133667,-12.475693702697754,-3.35953426361084,-4.744192123413086,-10.759428977966309,10.28290843963623,3.601409912109375,16.108715057373047,-1.581719160079956,-6.035144329071045,-9.903275489807129,-4.414551258087158,-10.983738899230957,-7.25191068649292,7.791633129119873,15.086498260498047,12.066123962402344,1.7564427852630615,-7.548467636108398,-7.235240459442139,-0.03832445666193962,13.94619083404541,-11.30741024017334,14.541821479797363,4.264869213104248,-13.13804817199707,-2.69337797164917,5.964999198913574,0.9952384829521179,-5.2646565437316895,-8.188626289367676,-3.9176506996154785,18.636964797973633,-7.1337456703186035,-15.623812675476074,3.509784460067749,-1.5524243116378784,-12.283405303955078,2.936232089996338,-6.394259452819824,7.234744071960449,-2.1167612075805664,-16.544979095458984,17.119653701782227,-11.72305679321289,-13.940974235534668,-9.622450828552246,-8.425288200378418,-14.262701034545898,0.3587898313999176,17.298385620117188,-15.224634170532227,2.598599433898926,2.063674211502075,2.052700996398926,2.912862777709961,-3.725564956665039,4.647413730621338,-0.36144036054611206,1.227101445198059,-4.2372517585754395,-12.985288619995117,-2.1014797687530518,-11.914392471313477,4.927387237548828,12.672324180603027,-3.416602849960327,16.469696044921875,-1.5131855010986328,19.480430603027344,-10.717288970947266,4.274635314941406,-2.9262235164642334,-6.887629985809326,-1.9071992635726929,-12.793107032775879,-5.67081880569458,5.727674961090088,-1.7454267740249634,-8.746310234069824,-5.0524702072143555,-7.396960258483887,0.2874540388584137,-12.455587387084961,-6.959324359893799,20.11626625061035,-8.839927673339844,6.3293561935424805,-7.747895240783691,-4.449333667755127,16.463571548461914,12.61986255645752,-3.7389755249023438,-13.080659866333008,-8.636650085449219,-5.66908073425293,7.607631206512451,-6.465755462646484,-3.319429636001587,15.400107383728027,16.895784378051758,16.152660369873047,-12.072117805480957,-6.571914196014404,12.7848482131958,5.660651683807373,-6.31543493270874,15.934775352478027,1.7476671934127808,-9.907151222229004,-11.507938385009766,13.642095565795898,3.69472599029541,-2.680894136428833,-0.7543509006500244,-10.7290678024292,8.131364822387695,-7.683556079864502,-12.605622291564941,-7.796531677246094,-4.8991546630859375,18.26913833618164,-2.369023084640503,-8.304553031921387,-2.05106258392334,-17.56351661682129,1.8798401355743408,14.079214096069336,-10.422830581665039,2.696488618850708,-4.301558971405029,-3.1915442943573,-7.285429000854492,-5.775764465332031,-0.10828448086977005,-5.876645088195801,0.8278500437736511,0.3991343677043915,17.81979751586914,15.832204818725586,-8.649683952331543,11.060429573059082,0.4822365939617157,-6.963621616363525,-7.171874046325684,-6.112860679626465,8.612005233764648,-11.721412658691406,5.888301849365234,13.396135330200195,10.577162742614746,4.315147399902344,-10.428359031677246,-8.919636726379395,-7.888120174407959,-3.1888034343719482,17.14924430847168,13.535057067871094,-11.028383255004883,17.44607925415039,-2.2861342430114746,-8.707206726074219,-7.120644569396973,20.300540924072266,-3.6094539165496826,-15.322431564331055,-14.338801383972168,-11.895401000976562,-14.233237266540527,20.193199157714844,-9.131431579589844,-16.08441734313965,5.17510986328125,0.6134511828422546,-2.1233882904052734,22.446046829223633,-4.212972164154053,-2.834573268890381,-10.639820098876953,-6.080559253692627,-15.066216468811035,-5.365202903747559,-5.274352073669434,-10.576077461242676,-5.590785503387451,-6.207923889160156,-12.338086128234863,-10.589584350585938,9.772355079650879,-4.0490193367004395,-5.455324172973633,-0.2122780829668045,14.23986530303955,3.4584603309631348,-13.483366966247559,-2.5700972080230713,22.879785537719727,0.7727978825569153,-17.42377471923828,13.997920036315918,-4.964128017425537,-8.045109748840332,-5.596120357513428,18.45683479309082,-13.330414772033691,-4.883197784423828,-8.828997611999512,-3.1888670921325684,0.040422048419713974,-14.5454683303833,-5.060026168823242,-8.889788627624512,7.240880012512207,-15.4695405960083,-9.555633544921875,0.6078524589538574,16.727628707885742,1.4444239139556885,1.736065149307251,0.14822199940681458,20.608631134033203,-15.747568130493164,-4.207983016967773,-12.997392654418945,-8.37447738647461,-11.705037117004395,-0.690883994102478,-9.387222290039062,1.7340222597122192,-4.786766052246094,-6.005652904510498,-4.237141132354736,-5.4874396324157715,-14.609622955322266,-9.324530601501465,-6.516325950622559,2.6826915740966797,4.507184028625488,-2.5461513996124268,-8.68239974975586,22.213396072387695,19.29182243347168,9.469661712646484,1.0430939197540283,9.016131401062012,-15.42154598236084,18.195812225341797,-6.81440544128418,-17.47856903076172,7.334065914154053,1.4719874858856201,8.916139602661133,17.683473587036133,17.42698097229004,7.5157575607299805,2.434218645095825,10.686111450195312,-17.051828384399414,18.09856605529785,-11.288421630859375,-16.154342651367188,-8.047368049621582,-8.646820068359375,-2.932007312774658,4.879150867462158,-13.52176284790039,-0.06253179907798767,-12.035175323486328,-0.40581122040748596,-2.4008560180664062,-1.1766972541809082,-10.385655403137207,-7.764373779296875,-8.991694450378418,4.4739298820495605,-9.468039512634277,-11.76989459991455,-7.037553310394287,0.8968513011932373,17.696598052978516,5.43294620513916,-13.461709976196289,-8.695798873901367,-2.3564813137054443,-1.6293184757232666,3.3915514945983887,-4.703818321228027,1.0743894577026367,-7.1346588134765625,4.740100860595703,-10.912169456481934,-9.34891128540039,-11.507224082946777,-9.59504508972168,-1.3452439308166504,-14.622618675231934,-4.217591762542725,14.928305625915527,-6.063676834106445,-13.640686988830566,-2.153226137161255,-2.2485389709472656,-2.1030433177948,-0.06887533515691757,16.586641311645508,2.5062246322631836,3.020744562149048,-0.9438634514808655,-12.056398391723633,2.0086865425109863,-6.182337284088135,-3.5647199153900146,-9.64799976348877,14.868972778320312,-13.069218635559082,-5.110039234161377,-14.307177543640137,-0.17458322644233704,8.085890769958496,-0.1531744748353958,-7.496525287628174,-13.977498054504395,-12.972977638244629,0.5377423763275146,3.35800838470459,-12.331008911132812,-12.163811683654785,-14.944927215576172,22.17501449584961,16.76666831970215,-0.5164095163345337,14.000533103942871,13.899124145507812,-1.8531768321990967,5.610630512237549,2.7021474838256836,-6.260855197906494,-16.80621910095215,-11.772116661071777,7.184081554412842,10.789127349853516,13.318190574645996,0.8714837431907654,-6.508465766906738,13.473605155944824,1.7223269939422607,-0.11796052753925323,-4.496083736419678,-7.70428991317749,-7.395826816558838,1.1293234825134277,1.6606314182281494,-3.2828400135040283,-9.01555061340332,8.178688049316406,-0.8448952436447144,2.93894362449646,16.966768264770508,2.002119302749634,3.571160316467285,4.645218849182129,2.953476667404175,2.991562843322754,2.063403606414795,-6.346459865570068,3.1813504695892334,-10.079675674438477,-10.395069122314453,17.147340774536133,-10.960596084594727,-0.7669773697853088,20.42852210998535,-3.891613483428955,-10.902017593383789,-13.545960426330566,-17.367446899414062,-16.216299057006836,12.686247825622559,-11.80374526977539,-2.0868828296661377,-8.16244125366211,-3.9662880897521973,-8.922242164611816,-9.972213745117188,-5.061217784881592,-8.735148429870605,-13.669843673706055,5.486506938934326,12.55180549621582,-11.522390365600586,-4.0444464683532715,1.9239853620529175,-6.690211772918701,-8.131644248962402,10.542652130126953,-11.287886619567871,-17.04743766784668,2.3600709438323975,0.09830817580223083,16.183042526245117,-4.1876912117004395,-2.2213375568389893,-12.857415199279785,14.87728500366211,0.06516667455434799,-13.409045219421387,-13.185362815856934,1.1755397319793701,13.954401016235352,4.650596618652344,-5.983555316925049,-7.421894550323486,-11.09162712097168,-13.390135765075684,-15.062847137451172,9.955998420715332,-4.3484368324279785,12.468029975891113,-5.235219955444336,16.256139755249023,17.022687911987305,-11.092558860778809,-2.3859264850616455,3.495006799697876,14.434873580932617,3.2850472927093506,12.068075180053711,-12.049917221069336,-6.351592540740967,1.1823911666870117,2.2076497077941895,-6.609389781951904,-1.8625386953353882,-0.7837189435958862,2.9779856204986572,1.0711485147476196,-3.4518301486968994,2.261075735092163,0.8319963216781616,-10.331596374511719,12.440963745117188,-3.04962420463562,-5.00666618347168,0.7438029646873474,3.2308332920074463,-14.15784740447998,14.727606773376465,22.493894577026367,-5.153751850128174,-0.9659842252731323,1.015321135520935,-5.831099033355713,-5.8208160400390625,-3.5984644889831543,-3.599344253540039,1.146043062210083,3.3764779567718506,18.056198120117188,-10.481106758117676,-9.541596412658691,-4.640101909637451,-0.5374777317047119,23.01418113708496,-5.2047119140625,-1.6518266201019287,6.505144119262695,-0.5563907623291016,14.573555946350098,-14.25601577758789,6.152065753936768,1.0805424451828003,-11.100221633911133,14.880119323730469,6.801299095153809,1.8467832803726196,-0.4632221758365631,-8.810505867004395,7.68177604675293,-3.156235456466675,-5.262819766998291,-5.072345733642578,-3.5357279777526855,-2.7350144386291504,0.25226208567619324,-0.14640939235687256,-7.147810935974121,5.400319576263428,0.5274906754493713,-12.129988670349121,10.963818550109863,-5.506784915924072,3.3438661098480225,18.683656692504883,5.988933086395264,-10.293649673461914,6.174093723297119,-12.14155387878418,0.7093179821968079,-12.948580741882324,-7.161638259887695,9.18846321105957,-5.167788028717041,-2.0442492961883545,-6.504462242126465,-4.97637414932251,15.916194915771484,-6.388607025146484,4.837464332580566,0.3510372042655945,-9.418853759765625,-0.4477796256542206,-11.377690315246582,8.595893859863281,-5.668587684631348,-7.101033687591553,6.332624435424805,-4.141834259033203,-1.14703369140625,16.959171295166016,-7.4684367179870605,21.966075897216797,18.127168655395508,-13.032297134399414,-4.668478488922119,-12.581770896911621,-8.808594703674316,-12.845855712890625,-3.477174758911133,20.489824295043945,20.265426635742188,-2.4317784309387207,0.28425049781799316,-4.113868713378906,1.347091794013977,1.1126434803009033,-2.737307548522949,-3.4344675540924072,-17.12506866455078,-6.476133346557617,1.4879294633865356,-10.965414047241211,-8.17064380645752,-1.2966008186340332,-0.7604389786720276,-16.310365676879883,8.565794944763184,2.58297061920166,-3.1851401329040527,-3.9804368019104004,-5.204865455627441,-14.422503471374512,-4.856809616088867,1.0619343519210815,-10.337677955627441,-4.755573749542236,-0.5242742300033569,-16.386693954467773,21.906784057617188,-3.9395971298217773,-10.438823699951172,-10.955440521240234,-6.829882621765137,8.051936149597168,10.739261627197266,0.07018537819385529,-5.561829090118408,1.2701847553253174,-7.182751655578613,-16.796611785888672,23.368642807006836,2.5113327503204346,-7.863084316253662,4.01475191116333,-0.6516570448875427,3.72874116897583,-4.823254585266113,17.37757110595703,-2.992316484451294,-6.065881729125977,-10.020476341247559,4.95097541809082,-7.105015277862549,-7.708760738372803,-13.377889633178711,15.147110939025879,-5.396060466766357,-9.497775077819824,21.747079849243164,-4.018691539764404,3.836435556411743,-13.240738868713379,13.482400894165039,-6.545289516448975,14.01008129119873,1.2011922597885132,-1.015298843383789,-4.72579288482666,-4.346140384674072,-0.7906014323234558,-4.035272598266602,-6.147495746612549,-3.9658126831054688,-1.1862937211990356,-9.248802185058594,-10.422967910766602,-9.475808143615723,-4.181764125823975,2.6958835124969482,-2.2703709602355957,21.97060203552246,-1.4051364660263062,13.664322853088379,-6.624496936798096,-7.211647033691406,4.5383782386779785,4.071006774902344,-16.050443649291992,-0.6171393394470215,12.879809379577637,-7.6643218994140625,-10.568206787109375,-1.250874638557434,-5.199427604675293,1.5223199129104614,-18.323537826538086,-2.445680618286133,-10.640713691711426,5.464705467224121,-4.242920875549316,-4.115216255187988,-0.6876043081283569,4.242058277130127,1.3464086055755615,23.801042556762695,-15.785051345825195,-1.0619436502456665,11.36961555480957,-13.161558151245117,4.888943195343018,-12.535603523254395,16.996803283691406,-4.141319274902344,6.698279857635498,2.645264148712158,0.35487961769104004,-12.919920921325684,9.254483222961426,-9.605154991149902,-11.117640495300293,4.554488658905029,10.167388916015625,15.298486709594727,1.4633980989456177,-1.8831517696380615,-0.6851731538772583,-4.779592037200928,-9.639603614807129,14.77949047088623,0.31678125262260437,1.0576990842819214,18.956809997558594,-7.630080223083496,-7.829243183135986,16.857446670532227,-3.90952467918396,-8.073732376098633,-13.891449928283691,-6.919245719909668,-1.6111572980880737,2.773397207260132,-1.9682289361953735,-10.098627090454102,1.5277414321899414,-10.98289680480957,-8.215418815612793,-1.2238924503326416,4.4724273681640625,-2.207388162612915,17.899091720581055,-5.232978343963623,-16.93196678161621,-0.6087824106216431,-3.3476154804229736,-3.7536683082580566,-1.0328116416931152,-2.669564962387085,12.619502067565918,17.958908081054688,-4.310328006744385,-5.407968997955322,8.294373512268066,19.871076583862305,8.259888648986816,1.6966054439544678,2.562838077545166,-2.875243902206421,-12.493032455444336,0.0787416473031044,-14.8324556350708,-9.75660514831543,-9.316774368286133,7.517877101898193,-1.830147624015808,8.519887924194336,-5.0096259117126465,-0.5582610368728638,9.9082670211792,-5.958524703979492,9.152487754821777,0.12558422982692719,-5.4295268058776855,-8.690505981445312,-11.366817474365234,1.7850744724273682,-0.04011876881122589,-0.5916692018508911,-13.475011825561523,-0.05598298832774162,17.860994338989258,-11.793990135192871,-7.085180282592773,-2.198378324508667,13.556918144226074,3.6802468299865723,6.419346809387207,20.472232818603516,-13.466300010681152,22.271196365356445,14.258108139038086,-0.07615181058645248,-1.2907029390335083,-4.9836745262146,17.64376449584961,18.876066207885742,13.505281448364258,-1.5864568948745728,0.3456605076789856,5.868114948272705,-11.146934509277344,-14.24189281463623,-2.994562864303589,-9.261930465698242,-6.103745937347412,-6.036527156829834,-5.752866268157959,13.720542907714844,-6.055380821228027,-5.759969711303711,-9.518342971801758,-9.112715721130371,1.1605126857757568,17.1567325592041,-4.276186943054199,-0.37881186604499817,-2.2017266750335693,16.229583740234375,-14.339720726013184,0.6648937463760376,-5.894263744354248,-15.989215850830078,0.026106659322977066,-9.789076805114746,-1.8801947832107544,0.08008323609828949,17.120555877685547,-0.7237976789474487,13.34520149230957,-1.9228330850601196,12.105846405029297,-16.60763168334961,-9.483036041259766,-6.578680992126465,-4.669041633605957,4.962093830108643,-8.90577220916748,-15.225726127624512,-4.522562026977539,14.66002368927002,-12.322749137878418,-5.458359718322754,-2.3764939308166504,-2.7758424282073975,-9.379411697387695,-9.637110710144043,-12.131765365600586,-4.440825939178467,5.319040298461914,13.88999080657959,-8.434179306030273,3.091893434524536,6.492767810821533,-6.062351703643799,-12.171224594116211,17.461456298828125,-8.845501899719238,8.072019577026367,5.631983757019043,7.7644829750061035,7.866314888000488,12.890082359313965,-0.331337034702301,-5.67175817489624,-7.772573947906494,-0.022009683772921562,-6.907586574554443,15.101534843444824,-8.074722290039062,14.346654891967773,-1.7014225721359253,2.658357858657837,0.7246142625808716,-3.7532169818878174,-1.5775271654129028,-13.751884460449219,12.037826538085938,13.164311408996582,-9.85840129852295,-2.7995991706848145,8.124703407287598,11.76140308380127,4.453824520111084,-9.714686393737793,-17.127317428588867,-1.9330403804779053,-1.6357522010803223,-4.034336090087891,-13.746726036071777,6.458861351013184,-4.674731731414795,12.106291770935059,-1.718569278717041,17.51493263244629,3.913188934326172,5.328312397003174,12.355833053588867,1.2078790664672852,-16.92901611328125,-12.723450660705566,-7.750120162963867,12.681105613708496,-12.352816581726074,-8.02051830291748,-8.017912864685059,-15.09573745727539,-15.102298736572266,2.7176706790924072,-10.38581371307373,9.7252197265625,-13.619336128234863,-6.749830722808838,-2.7584011554718018,-0.14819449186325073,-3.6108458042144775,-9.291226387023926,-2.201897621154785,2.2187185287475586,-5.073235988616943,-11.98206615447998,4.466694355010986,21.268224716186523,-14.192292213439941,-12.446540832519531,-1.3332804441452026,-2.744879961013794,-3.7363970279693604,-1.874173641204834,12.691798210144043,-14.115291595458984,1.9407398700714111,-2.3677728176116943,-10.742119789123535,-0.862750768661499,13.909158706665039,-7.1308274269104,-8.410421371459961,-12.753144264221191,-14.354272842407227,-4.391073226928711,-7.115198612213135,3.9693422317504883,0.8400425910949707,-3.557945728302002,-6.971095085144043,-1.1549893617630005,-7.73400354385376,-4.095768451690674,-2.964721202850342,-9.427051544189453,-5.266913414001465,-9.755315780639648,16.484031677246094,13.831026077270508,6.712843894958496,13.641196250915527,0.169072225689888,-4.446661472320557,-2.422210454940796,-10.636345863342285,2.475580930709839,-12.814970970153809,-15.199936866760254,-8.18519115447998,-1.9326529502868652,22.953529357910156,-4.055856704711914,-12.178211212158203,-5.377141952514648,10.630069732666016,-10.578192710876465,15.047502517700195,-2.6985039710998535,-17.515260696411133,-1.6368547677993774,-6.671818733215332,2.1848855018615723,-2.396777629852295,1.8327018022537231,-6.154589653015137,-1.89248526096344,-5.983657360076904,-7.2276997566223145,-7.623363971710205,4.78693962097168,-12.324825286865234,14.221212387084961,-2.905029535293579,3.3395988941192627,-0.9451846480369568,-3.295954704284668,16.28293228149414,4.6001877784729,4.013734817504883,-8.683829307556152,19.80803871154785,18.572458267211914,-4.913518905639648,-13.337687492370605,14.802277565002441,-13.110244750976562,-3.731865882873535,0.709542989730835,1.7525243759155273,19.300682067871094,2.922283887863159,-1.2439837455749512,17.725078582763672,16.920753479003906,6.6231369972229,-6.457935810089111,1.139668583869934,-10.298592567443848,-12.178669929504395,14.332863807678223,15.032089233398438,-9.54041576385498,1.1025210618972778,-16.068225860595703,13.128114700317383,1.2052159309387207,9.189580917358398,-10.092216491699219,2.85461688041687,14.169027328491211,1.1010758876800537,-4.210930347442627,-3.8908462524414062,-10.476015090942383,-0.46949175000190735,10.923791885375977,3.304197072982788,-1.9901560544967651,2.676452875137329,8.579553604125977,20.136568069458008,-0.27793169021606445,-10.746414184570312,0.03141048550605774,15.064950942993164,-10.654511451721191,-16.148122787475586,7.373277187347412,-15.790316581726074,-5.3430681228637695,-9.241439819335938,-5.528613090515137,-5.940547943115234,6.809557914733887,1.2814311981201172,20.086193084716797,-13.988271713256836,-8.778854370117188,5.024101734161377,14.65056037902832,6.055955410003662,-0.9761589169502258,-5.226607799530029,-0.9379192590713501,3.865662097930908,-3.506612777709961,2.761005401611328,-7.2157440185546875,1.6975055932998657,-5.959630489349365,15.972938537597656,-15.34004020690918,-11.775788307189941,-16.99693489074707,18.88907814025879,4.9721479415893555,-6.124591827392578,4.6456475257873535,0.40634584426879883,3.6237633228302,-7.365359783172607,9.15950870513916,-0.443756639957428,-2.3716681003570557,-4.779356956481934,18.520647048950195,-1.3141965866088867,-1.315570592880249,-7.405649662017822,-7.590854644775391,-2.730511426925659,-5.372042179107666,-3.975952625274658,-13.73091983795166,-0.6150474548339844,8.80565071105957,1.371265172958374,0.710735559463501,-1.0856295824050903,11.539612770080566,-11.875505447387695,-0.07542876899242401,-10.141532897949219,-5.541435718536377,-4.144443511962891,2.685115098953247,0.06490835547447205,-10.627857208251953,20.661741256713867,1.6793596744537354,-8.80433464050293,12.023260116577148,-4.771311283111572,5.602465629577637,-16.20452117919922,4.555039405822754,15.784868240356445,3.422931432723999,-4.733102798461914,-12.976422309875488,0.7424204349517822,-12.935070991516113,-4.9825029373168945,1.0131946802139282,-2.9323372840881348,3.084076404571533,-4.995218753814697,10.321186065673828,-7.5794291496276855,-6.961419105529785,-5.7168049812316895,-10.899519920349121,-14.187845230102539,0.12463740259408951,4.456690311431885,-8.40717601776123,-4.912943363189697,-9.92009162902832,-8.336980819702148,-16.207847595214844,6.817482948303223,-10.562541007995605,9.726820945739746,-0.14044801890850067,0.6709623336791992,-8.455578804016113,-18.99352264404297,12.8089599609375,17.87461280822754,-0.36751610040664673,6.794468879699707,11.675308227539062,-4.4589643478393555,9.910443305969238,1.1100656986236572,-0.22318677604198456,11.977396011352539,8.687032699584961,-11.637154579162598,-5.23775053024292,-1.686507225036621,-11.179277420043945,-1.6529957056045532,-2.709203004837036,-3.2104604244232178,13.819429397583008,-1.3111448287963867,13.433967590332031,-7.102604866027832,-7.692738056182861,23.16646957397461,-7.835012435913086,-7.692469120025635,-3.0702710151672363,-3.8012168407440186,9.788578033447266,10.655729293823242,0.6489142179489136,-5.95628023147583,-5.881958484649658,-9.82020378112793,1.1870887279510498,-4.360074520111084,0.07690651714801788,23.61211585998535,-1.582298994064331,3.7323555946350098,-1.563861608505249,-9.370279312133789,-9.064225196838379,-0.8865534067153931,7.94542932510376,15.214151382446289,-5.373058319091797,6.906076431274414,-12.583121299743652,2.245248794555664,-5.082303524017334,-8.052507400512695,5.187686443328857,-11.261760711669922,17.95467758178711,-3.358346700668335,16.306537628173828,-6.807833194732666,-4.427903175354004,5.331141948699951,-5.348422527313232,-11.057279586791992,-0.0736265778541565,-6.2683539390563965,1.5579516887664795,22.37495994567871,0.43589749932289124,3.748098134994507,4.475407123565674,22.208784103393555,12.427308082580566,4.069687843322754,14.019058227539062,13.292593955993652,7.99044942855835,-1.0487356185913086,-2.5698065757751465,-4.608202934265137,-6.858778476715088,20.548480987548828,1.8457517623901367,-10.63231372833252,12.164472579956055,7.565221786499023,14.254132270812988,-16.353084564208984,-4.5754899978637695,-11.329757690429688,0.9815707802772522,-0.2283162921667099,-7.861734390258789,-13.38790512084961,-0.4368194341659546,-3.2016384601593018,-7.7375006675720215,-6.308097839355469,12.89111328125,2.2811813354492188,-7.5992255210876465,4.353841781616211,-9.213200569152832,8.747724533081055,-3.9837987422943115,-14.71445083618164,-1.1502846479415894,1.610977053642273,-0.5563603043556213,-6.275101661682129,-7.81157112121582,-0.5558940172195435,3.2877142429351807,12.298482894897461,1.8538533449172974,-3.449080228805542,-15.012188911437988,-4.072094917297363,6.015182971954346,-7.597753524780273,-8.155194282531738,-6.218094348907471,-3.4894580841064453,-13.995366096496582,6.314610958099365,-12.810698509216309,-4.802011966705322,-4.019364833831787,-12.847264289855957,-5.567275047302246,-11.27825927734375,3.0692062377929688,12.662973403930664,-14.392661094665527,-2.510349750518799,5.820888519287109,-4.332589149475098,-0.5799834132194519,2.127169609069824,-2.1751129627227783,-12.05145263671875,-12.875425338745117,-1.3891464471817017,-1.6006211042404175,0.4276326894760132,1.5214699506759644,0.8028386235237122,-7.792744159698486,-7.113761901855469,0.8046267628669739,-2.2587270736694336,-4.9287333488464355,5.568355083465576,-8.537665367126465,9.476263046264648,7.972736835479736,3.03106427192688,-4.3021721839904785,1.679827094078064,3.472404956817627,-17.139198303222656,-6.239381313323975,2.410673141479492,-3.2998557090759277,-9.147258758544922,3.4010872840881348,13.23337459564209,15.740803718566895,-3.6168694496154785,-12.52272891998291,10.909514427185059,-12.958783149719238,-1.6620198488235474,13.002631187438965,6.759378910064697,11.246241569519043,-11.47774887084961,-3.699646472930908,-6.4213547706604,0.25374308228492737,7.256534099578857,-3.2228100299835205,16.922712326049805,5.57113790512085,-10.773122787475586,-4.722010612487793,-12.884336471557617,-8.073297500610352,5.073802471160889,-7.764623641967773,-9.831192016601562,-0.8617966175079346,-7.458642482757568,16.41840171813965,16.925615310668945,4.795346736907959,9.642146110534668,-9.914315223693848,-6.517299175262451,-4.005429744720459,-3.013927459716797,-9.594990730285645,7.276121616363525,2.857866048812866,-9.044367790222168,-2.2690703868865967,8.136434555053711,7.472751617431641,-9.916552543640137,-3.364877462387085,0.6593421697616577,6.139950752258301,-6.9380292892456055,-7.379964351654053,-10.453474998474121,-1.320152759552002,0.5359086990356445,0.3465555012226105,-3.6970818042755127,0.9396560192108154,-3.7572262287139893,2.3053388595581055,-5.273745536804199,7.725360870361328,11.665863037109375,4.888852596282959,6.838205337524414,3.724274158477783,-12.100252151489258,-2.513284206390381,5.898197174072266,24.65654754638672,-12.814570426940918,-2.782014846801758,-11.144311904907227,3.6649928092956543,3.155095338821411,-9.623408317565918,0.44156697392463684,2.736362934112549,-5.2657670974731445,-5.294291973114014,-6.473645210266113,-1.8387385606765747,0.4660518169403076,-4.889347076416016,10.001996040344238,3.4688026905059814,6.436453819274902,5.12258768081665,2.054243326187134,14.692898750305176,-3.699075222015381,-11.955009460449219,22.10173225402832,-0.5678345561027527,-15.50830364227295,0.6679218411445618,-10.92104434967041,-1.852088451385498,0.030158311128616333,-5.543898105621338,-0.605656623840332,-9.821775436401367,-3.5945441722869873,-9.780403137207031,1.743909478187561,3.067185878753662,-3.0935492515563965,-6.89943790435791,0.5646152496337891,15.375101089477539,-5.252435207366943,7.2887468338012695,-5.461137771606445,1.2602790594100952,16.049516677856445,-6.755390167236328,-15.367051124572754,-3.0415866374969482,23.020719528198242,-0.16038110852241516,14.360979080200195,-0.14977878332138062,17.51194953918457,-3.171318531036377,-11.717668533325195,-17.0604305267334,3.2935471534729004,-9.744516372680664,-5.165624141693115,0.6209276914596558,-3.401932954788208,-4.999640464782715,-8.711407661437988,1.980454683303833,12.935019493103027,-5.148550987243652,14.262704849243164,-2.316276788711548,-2.4637277126312256,-5.040981292724609,2.157595157623291,-13.288117408752441,-3.4963207244873047,-12.364946365356445,1.4655975103378296,-10.052271842956543,1.0651726722717285,6.509413719177246,14.628296852111816,4.543861389160156,6.5016303062438965,-7.77170991897583,-5.67742919921875,-6.410272598266602,-3.861509084701538,-11.081304550170898,6.497588634490967,-0.13919633626937866,1.8680776357650757,-0.565132200717926,18.24190902709961,17.955196380615234,15.974790573120117,-8.157966613769531,-7.99758768081665,-0.7193107604980469,14.737764358520508,14.54847526550293,3.5671868324279785,17.946443557739258,4.193153381347656,-2.54411244392395,-1.0895297527313232,3.750192403793335,-4.134952068328857,2.9733643531799316,-1.1768547296524048,-10.962702751159668,-4.465550899505615,-5.933655738830566,8.92306900024414,-7.702277183532715,-6.099709510803223,14.949764251708984,-5.931604385375977,-3.1700568199157715,-0.20955723524093628,-7.7859416007995605,2.7497055530548096,1.3448412418365479,3.8584139347076416,1.198485255241394,-11.689602851867676,1.373672604560852,16.902441024780273,-10.627429008483887,-5.571365833282471,0.12858183681964874,-7.447228908538818,13.260251998901367,-3.851174831390381,-7.514496803283691,14.803229331970215,10.5180025100708,-14.940319061279297,2.37906813621521,9.499688148498535,12.133687019348145,-6.907929420471191,-7.901863098144531,-2.247499704360962,-7.62218713760376,-1.377488136291504,8.320466995239258,-1.8375227451324463,-7.462436676025391,-8.559815406799316,-8.708580017089844,-3.264475107192993,10.174068450927734,-6.85159158706665,-14.086909294128418,-9.770224571228027,-3.5080108642578125,-3.8774960041046143,-10.693204879760742,-2.837535858154297,3.431652069091797,-11.581343650817871,-6.90294075012207,9.462213516235352,-2.058504581451416,-14.878890991210938,0.059592269361019135,-12.25100040435791,-4.938425540924072,-7.592830657958984,-5.251068592071533,-4.184446334838867,15.53117561340332,-10.402064323425293,-5.813878059387207,4.2572221755981445,17.91874885559082,-10.942584037780762,2.604170322418213,-5.916452884674072,1.1459856033325195,-9.008832931518555,11.096969604492188,9.420618057250977,1.8848931789398193,-5.335547924041748,1.258079171180725,9.939974784851074,-1.1700419187545776,3.707496166229248,11.385260581970215,13.334492683410645,5.516358375549316,-12.384366989135742,4.638603687286377,3.876276731491089,-12.24462604522705,-4.633241653442383,0.8112635016441345,-7.507938385009766,11.289363861083984,-5.194048881530762,0.6143577694892883,6.97114372253418,17.883869171142578,1.0261971950531006,0.08519505709409714,-6.625590801239014,15.873924255371094,-6.189001083374023,10.296263694763184,-11.289521217346191,-9.661744117736816,-3.8072052001953125,-7.317383766174316,-16.883056640625,18.864648818969727,-4.615858554840088,14.540136337280273,0.24387405812740326,1.412042498588562,-3.8960742950439453,-17.859342575073242,-5.67747163772583,-10.438445091247559,-11.546679496765137,4.884859561920166,-12.263761520385742,0.9690146446228027,4.199540138244629,17.60907745361328,17.157127380371094,-8.387371063232422,-6.137112140655518,8.9299898147583,-0.5149679183959961,-1.6416093111038208,-2.794510841369629,3.069011688232422,19.82281494140625,-0.6247962713241577,1.6213665008544922,-5.697073459625244,-12.148004531860352,-3.550485372543335,1.539868950843811,-0.016750911250710487,-11.183655738830566,-6.4744157791137695,-4.135788440704346,17.513198852539062,16.229686737060547,-4.684711456298828,-0.2901594340801239,11.906639099121094,-2.054389476776123,0.5523999333381653,5.989014625549316,-0.2671244144439697,-0.4902794361114502,-3.5994932651519775,1.5387492179870605,0.44837042689323425,-3.9228241443634033,-10.768324851989746,12.392948150634766,9.523944854736328,-6.515146255493164,-5.403974533081055,3.7003285884857178,-15.374323844909668,-5.937485694885254,5.407166957855225,-12.338918685913086,9.83403205871582,-4.135173320770264,-6.728058815002441,-10.655224800109863,-12.25361156463623,-3.483307361602783,-3.4295520782470703,-16.68783187866211,17.544921875,3.286006212234497,-2.92319655418396,-12.741012573242188,12.997652053833008,-1.4532808065414429,-5.28495454788208,2.3117644786834717,-10.390225410461426,-8.937885284423828,-8.816763877868652,13.371774673461914,-17.91370391845703,-1.5199185609817505,16.515161514282227,-5.30742883682251,12.589545249938965,-2.3540308475494385,-12.782266616821289,15.147741317749023,2.720501661300659,10.061742782592773,-1.7853044271469116,-9.715201377868652,-3.4797677993774414,-11.642570495605469,20.955202102661133,-1.6515247821807861,0.7651391625404358,15.452313423156738,-3.7075419425964355,16.279525756835938,-13.347921371459961,11.385537147521973,15.36001968383789,-11.146240234375,-3.8103787899017334,0.7105616331100464,-10.69899845123291,8.092379570007324,-2.7354156970977783,3.2592668533325195,-0.8149775266647339,1.5260359048843384,-3.704974412918091,8.393464088439941,16.106779098510742,2.165764570236206,-0.25378715991973877,-3.721883773803711,0.9979639649391174,-6.83408260345459,-1.8816299438476562,-5.651540756225586,-12.064440727233887,-7.777594089508057,6.595644950866699,-2.4422264099121094,-4.657541751861572,-6.855042934417725,1.2180416584014893,-10.559286117553711,-0.6347929239273071,-1.924710988998413,21.229127883911133,15.120798110961914,5.2814741134643555,-10.201107025146484,12.648245811462402,-4.776519298553467,-13.225711822509766,5.140158653259277,-3.483525514602661,1.072028636932373,3.216301441192627,-2.8526039123535156,8.390619277954102,-4.384951114654541,-5.553280353546143,-0.011002535000443459,-7.2380146980285645,-15.48486042022705,0.35318523645401,2.247013568878174,1.2442150115966797,-6.48174524307251,-3.5098633766174316,-1.8461345434188843,11.1979341506958,19.7072696685791,-5.989772319793701,20.26349639892578,-8.53505802154541,-3.956962823867798,-1.2691130638122559,-12.27718448638916,-5.42682409286499,-1.6760863065719604,17.595632553100586,17.905929565429688,-5.115869998931885,2.0426430702209473,-5.400724411010742,-1.453516960144043,15.808119773864746,-12.509480476379395,-5.96726655960083,-0.15263162553310394,3.2914745807647705,1.2404561042785645,-12.968405723571777,0.621484637260437,-0.7435300350189209,1.3308998346328735,2.463656187057495,-2.1182148456573486,-10.871849060058594,-9.143134117126465,-7.624366760253906,-5.267528057098389,-0.6773690581321716,-0.5608711838722229,-6.696181774139404,10.446503639221191,-2.803607225418091,0.653351902961731,-4.936924934387207,-6.684290885925293,5.267997741699219,-2.1877050399780273,0.8695464730262756,-8.449853897094727,14.978031158447266,-1.7923837900161743,6.179365158081055,5.466353893280029,6.105154991149902,15.78725814819336,5.925110816955566,-0.30241185426712036,-3.7948262691497803,-5.320790767669678,0.47046318650245667,-8.057969093322754,19.003366470336914,2.4942710399627686,-1.0478426218032837,2.600738286972046,-7.408313274383545,-0.11547541618347168,17.874290466308594,1.506718635559082,-5.002053260803223,13.249258995056152,-12.718711853027344,3.602092742919922,23.824804306030273,-3.4071414470672607,-4.864094257354736,-13.828522682189941,-6.783095359802246,3.8761658668518066,12.50033187866211,-1.8365267515182495,-2.0652618408203125,22.44548988342285,-17.255443572998047,1.5444077253341675,-12.170289039611816,3.6064376831054688,4.077452182769775,7.176401615142822,13.09909725189209,19.846458435058594,-2.63301420211792,-2.031620740890503,5.474863529205322,-3.914727210998535,9.126185417175293,-3.484126329421997,-5.0460524559021,-8.972108840942383,8.873346328735352,-0.8366129994392395,10.940217971801758,-0.7732309103012085,-5.729086875915527,21.431854248046875,-1.9970916509628296,9.874756813049316,-8.406975746154785,-4.017653942108154,-1.646217942237854,15.620748519897461,-10.580513954162598,-5.37208890914917,13.36159896850586,-5.096909523010254,16.18566131591797,-8.544459342956543,9.64018726348877,15.882299423217773,18.417648315429688,-6.31970739364624,3.5808205604553223,-2.056530714035034,-5.233236789703369,-12.896411895751953,-10.770893096923828,-9.07871150970459,-3.7449424266815186,-12.14518928527832,-5.613560199737549,-10.373286247253418,21.212690353393555,-8.381775856018066,-1.489162564277649,-2.0781586170196533,-6.12628173828125,-4.39725923538208,-6.125433921813965,-11.373241424560547,-16.85148811340332,-9.958035469055176,2.8908398151397705,12.329488754272461,-2.183954954147339,-3.0195069313049316,22.82514762878418,0.8535317182540894,-5.3490214347839355,-0.6592020988464355,19.208843231201172,-15.978973388671875,-9.48869514465332,11.748164176940918,9.693082809448242,18.512025833129883,-4.933307647705078,-12.602749824523926,-0.7827660441398621,1.2008593082427979,-1.7901889085769653,5.68782377243042,-16.23845100402832,-9.161543846130371,9.79570198059082,-12.353645324707031,-16.581647872924805,1.857373833656311,13.969849586486816,-8.313020706176758,-4.843977928161621,-3.971775531768799,13.4077787399292,1.261197566986084,-3.7776386737823486,1.0560009479522705,-3.7113964557647705,-14.416505813598633,-2.8143019676208496,5.618690013885498,-13.840179443359375,4.860894203186035,-5.052741050720215,4.310872554779053,7.404620170593262,1.8823922872543335,-5.326367378234863,-0.5389979481697083,13.313998222351074,-1.2097247838974,-3.3101866245269775,5.1127142906188965,13.580368041992188,8.479496002197266,-4.66948938369751,-0.532594621181488,2.6095640659332275,15.447831153869629,20.24784278869629,-0.21123243868350983,3.148634910583496,3.7526447772979736,1.2817713022232056,-0.21507611870765686,-7.776127338409424,-5.09018611907959,-3.275423049926758,-1.5093141794204712,-4.691904544830322,11.271882057189941,-10.716069221496582,5.336901664733887,18.904708862304688,-0.7455077767372131,-2.252676486968994,-2.4648334980010986,16.46898651123047,-1.8043015003204346,7.984673976898193,11.602827072143555,-3.43498158454895,0.2590169310569763,-3.8121230602264404,-1.1287661790847778,-12.382220268249512,-7.2347917556762695,-8.070633888244629,4.695230960845947,-6.540103435516357,-3.8124148845672607,2.2312917709350586,9.954499244689941,-14.438663482666016,13.111966133117676,-12.327966690063477,18.62669563293457,3.2778515815734863,-0.8708599805831909,20.46324348449707,6.199572563171387,-6.806692123413086,-5.246828556060791,21.419382095336914,13.377848625183105,8.654142379760742,-3.6896812915802,5.910389423370361,-13.221786499023438,16.17058563232422,1.6290533542633057,15.785701751708984,-4.963751316070557,7.960747718811035,-7.064010143280029,22.581310272216797,-3.2622768878936768,-4.330836296081543,-8.701811790466309,-7.601003170013428,-5.437263488769531,-3.7789671421051025,6.614393711090088,2.3276829719543457,3.7678496837615967,14.325913429260254,-8.092865943908691,0.24902129173278809,1.8007463216781616,-6.163669109344482,1.1752052307128906,-2.1990489959716797,-8.4788179397583,2.8875560760498047,1.0947864055633545,10.004095077514648,-2.2611067295074463,9.415285110473633,0.9038957357406616,-16.090404510498047,10.621611595153809,-8.543181419372559,5.022625923156738,14.092438697814941,-2.536726474761963,-1.499706506729126,-8.781397819519043,2.681128978729248,2.640411138534546,14.084628105163574,0.694015383720398,22.44400405883789,0.4594229757785797,-8.02423095703125,-1.3303279876708984,3.620450735092163,-0.42571407556533813,-10.63113021850586,1.769490361213684,-1.3710360527038574,-4.533560752868652,-2.974212884902954,4.749970436096191,-7.326961994171143,0.021546803414821625,-7.851796627044678,0.16160796582698822,-12.799883842468262,11.951194763183594,14.251282691955566,20.556520462036133,-11.432682037353516,-7.600971221923828,13.751354217529297,-0.32761508226394653,-0.4202989935874939,6.442691326141357,3.9063560962677,-0.5891153812408447,-4.402968406677246,18.41883659362793,-2.8948609828948975,20.572023391723633,-3.980912208557129,0.8728389143943787,-8.726359367370605,-10.854236602783203,-4.21575927734375,-7.500009536743164,-4.502243518829346,14.160187721252441,2.2264020442962646,2.576035499572754,-3.7230560779571533,2.3307299613952637,9.912066459655762,-1.4002639055252075,5.423587322235107,-5.606780529022217,9.410557746887207,-14.509678840637207,13.323108673095703,-16.670467376708984,-8.679975509643555,8.518370628356934,-10.559865951538086,1.8470367193222046,12.96796703338623,4.2997589111328125,7.305278778076172,-14.89261531829834,3.550999641418457,17.809188842773438,-14.517965316772461,-1.8827791213989258,-1.0769524574279785,-0.005522129591554403,9.357810974121094,0.805766761302948,-3.6249208450317383,21.763877868652344,2.552020311355591,14.84701156616211,-9.13367748260498,-2.9252078533172607,5.457032680511475,-5.270158290863037,9.46785831451416,18.89794158935547,-4.759607791900635,8.399177551269531,-14.937182426452637,14.84618854522705,20.471864700317383,-1.7918639183044434,0.5071598291397095,12.03661060333252,17.267772674560547,-3.3609156608581543,0.9243052005767822,-6.311304092407227,-6.297465801239014,9.648250579833984,14.380309104919434,5.0902557373046875,-14.777060508728027,4.056532859802246,1.3350868225097656,14.72338581085205,7.202396392822266,7.323829174041748,7.524074077606201,11.814774513244629,16.28061866760254,-6.316891193389893,10.009861946105957,-2.3265907764434814,2.868046998977661,-5.648723125457764,17.89928436279297,16.203245162963867,1.0934606790542603,5.715692520141602,-4.8755974769592285,-6.529209136962891,-12.495956420898438,3.1920487880706787,-3.2218852043151855,-2.2362539768218994,0.22256378829479218,13.96237564086914,4.226341247558594,-7.577516555786133,-9.191635131835938,-0.023122601211071014,-2.954998016357422,-4.4813714027404785,-9.716280937194824,-3.8776931762695312,4.447909832000732,-10.2598237991333,7.924586772918701,-5.306693077087402,16.021686553955078,0.7282198071479797,17.883358001708984,-0.12337447702884674,-6.7608771324157715,1.6726336479187012,-1.332108736038208,-2.3605685234069824,-1.5275896787643433,-13.222448348999023,-17.099077224731445,-14.47502613067627,4.119544982910156,-2.924988269805908,10.025187492370605,1.518532395362854,-3.40818190574646,-8.189441680908203,13.57799243927002,16.819408416748047,13.125692367553711,-3.5808448791503906,12.967275619506836,17.007671356201172,7.487854957580566,10.54487419128418,-1.3065266609191895,9.087384223937988,13.41800594329834,2.100151777267456,12.653560638427734,-0.03718259930610657,21.845569610595703,12.620744705200195,0.48119014501571655,17.002368927001953,-4.47687292098999,12.447639465332031,18.458398818969727,1.279131293296814,18.683433532714844,1.8660036325454712,-3.865227699279785,-2.9048032760620117,11.517911911010742,-7.1701154708862305,1.1891186237335205,-7.777357578277588,1.406447172164917,-0.2981981933116913,-3.443319797515869,-3.10054874420166,14.122389793395996,10.799352645874023,0.9684131145477295,-5.2146525382995605,12.970512390136719,14.246973037719727,8.165042877197266,-10.41126537322998,-14.29762077331543,22.74139404296875,17.043827056884766,-4.8136982917785645,10.536418914794922,0.47235482931137085,-3.319624662399292,7.700660705566406,-3.2928078174591064,11.328680038452148,-14.706941604614258,11.247347831726074,-12.336868286132812,16.29449462890625,-8.574374198913574,-10.873547554016113,11.564706802368164,10.83011245727539,-7.1260151863098145,7.814178466796875,-8.310072898864746,-10.603464126586914,18.795854568481445,-4.145933151245117,9.791786193847656,1.0821077823638916,-9.382018089294434,-0.16973313689231873,14.070762634277344,-4.037260055541992,-5.654594421386719,-4.063911437988281,10.81957721710205,17.214771270751953,7.612088203430176,1.2785717248916626,11.352372169494629,2.9765233993530273,-7.554858207702637,1.3045533895492554,0.576846182346344,2.9868531227111816,0.6297328472137451,-1.22783625125885,19.41509437561035,9.225558280944824,-12.840137481689453,12.062156677246094,10.239812850952148,2.7602455615997314,13.563008308410645,-6.660216331481934,1.107856273651123,-9.076750755310059,6.024779796600342,3.4153568744659424,4.533613681793213,13.14737606048584,-4.763932704925537,-5.35623836517334,-13.457674980163574,14.68838882446289,4.915213108062744,7.92656135559082,-2.6739249229431152,15.332451820373535,-6.39825963973999,13.917464256286621,-8.193012237548828,-2.877063751220703,-1.1835298538208008,-14.510900497436523,-4.0230183601379395,14.89167308807373,-2.314141035079956,-17.077350616455078,-6.62507963180542,-10.877504348754883,-5.4037556648254395,-5.5000152587890625,5.575497150421143,8.050642967224121,-4.191360950469971,8.327404975891113,4.311229705810547,-8.283414840698242,-8.190658569335938,12.297468185424805,17.65398597717285,-10.053518295288086,-7.991236209869385,2.842496395111084,-13.043941497802734,9.476521492004395,-12.815910339355469,16.822647094726562,0.9997044801712036,-2.2238688468933105,-7.301907062530518,-6.1221022605896,5.364928722381592,-1.133649230003357,-1.298702359199524,11.796335220336914,17.120399475097656,-1.362579584121704,-2.9344780445098877,11.016647338867188,-4.750149726867676,3.3272416591644287,1.9067236185073853,7.0533270835876465,-6.979172706604004,4.601012706756592,5.740012168884277,16.348466873168945,-10.378959655761719,-3.8714356422424316,9.477995872497559,1.704742193222046,3.9873268604278564,2.6860575675964355,4.755478858947754,20.173145294189453,2.4692606925964355,15.455236434936523,8.983743667602539,14.432713508605957,-6.6587748527526855,1.1289273500442505,9.33044719696045,2.584932804107666,4.976867198944092,-2.686729907989502,-8.22153377532959,-6.662791728973389,-8.716246604919434,-0.9282850623130798,3.5977823734283447,5.246248722076416,5.156073570251465,-3.486922264099121,-4.3977437019348145,-8.591748237609863,-5.221299648284912,-3.629457473754883,-10.473114013671875,-10.958614349365234,-6.486343860626221,3.828197717666626,0.594328761100769,1.6082446575164795,-12.106785774230957,-6.2475905418396,-11.58436107635498,16.585935592651367,8.378291130065918,-15.104475021362305,-5.03865909576416,-2.175969123840332,4.412376880645752,11.752608299255371,7.290687084197998,14.345287322998047,-17.167448043823242,-3.976222276687622,-3.696676254272461,10.036825180053711,3.6812024116516113,7.426510334014893,21.68106460571289,-4.199031352996826,4.797797679901123,-2.0050747394561768,12.099461555480957,-3.205552101135254,15.445137977600098,-5.631515026092529,1.557154893875122,-6.904895305633545,-1.1744447946548462,0.6433700323104858,-15.332898139953613,-0.8804135322570801,-4.481594085693359,-11.790193557739258,-2.485940933227539,1.4139060974121094,5.082279205322266,23.91583824157715,3.4728827476501465,17.748945236206055,-6.397736072540283,-4.167460918426514,14.584808349609375,3.814988374710083,4.840126037597656,8.31416130065918,-10.819973945617676,-0.06857705861330032,-1.8625379800796509,-3.897764205932617,-2.4374353885650635,1.5777174234390259,-3.8101816177368164,14.17341136932373,5.354320526123047,-4.352708339691162,-5.441319465637207,-1.5610930919647217,3.2379674911499023,-6.459166049957275,1.7905415296554565,18.442031860351562,4.5432586669921875,3.954771041870117,6.647456645965576,4.32175874710083,0.30295881628990173,-5.272019386291504,-5.112130641937256,17.051097869873047,15.431072235107422,16.40196418762207,4.999707221984863,-6.360294342041016,-0.4940481185913086,6.769187927246094,18.256488800048828,-14.58180046081543,0.08566267788410187,-1.7508656978607178,5.842514514923096,11.29271125793457,-0.24596133828163147,-3.4523725509643555,11.819499015808105,6.320840358734131,2.488133430480957,18.979259490966797,16.658536911010742,-1.209708333015442,-5.017605781555176,-7.303691387176514,14.50270938873291,22.50505828857422,6.254772186279297,4.619932174682617,-6.162574768066406,-3.3466570377349854,8.207221984863281,-6.5207719802856445,-4.022993564605713,-9.429636001586914,17.592906951904297,17.557941436767578,4.414698123931885,3.3364808559417725,9.779433250427246,2.808366298675537,7.343790054321289,-6.096938610076904,5.990851402282715,0.22147731482982635,-6.074161052703857,7.0240678787231445,3.885047435760498,-13.384869575500488,-7.076251029968262,1.4396568536758423,-6.002833366394043,2.8310391902923584,15.33031940460205,15.197242736816406,-0.9897001385688782,-8.367121696472168,-1.370111107826233,10.856476783752441,20.691747665405273,-10.66755485534668,-1.8655176162719727,0.4490974247455597,16.856719970703125,10.037345886230469,3.071056604385376,-15.20335865020752,-3.961008310317993,21.55735206604004,-2.7471988201141357,-0.012365978211164474,0.4368622601032257,23.34899139404297,10.989529609680176,-4.873826026916504,-1.5757255554199219,11.322341918945312,-3.823608875274658,-13.10983657836914,-4.03427267074585,-2.9701380729675293,2.7789669036865234,0.2706552743911743,12.177812576293945,17.729639053344727,6.354264259338379,1.424250841140747,3.7818706035614014,-2.055659770965576,-5.64856481552124,-4.548121452331543,-7.051829814910889,-8.325810432434082,-3.490992307662964,4.718270301818848,-4.225750923156738,12.67120361328125,3.5947494506835938,-8.500057220458984,9.296048164367676,-12.672913551330566,7.407817840576172,-4.093241214752197,7.767609596252441,-0.5214356184005737,-12.187423706054688,-4.3243303298950195,-3.9913628101348877,11.109664916992188,9.034846305847168,-7.52147912979126,17.26292610168457,-10.077279090881348,7.253766059875488,-10.00369644165039,-12.060309410095215,-3.0920398235321045,13.933080673217773,1.8383516073226929,-8.241385459899902,3.5859055519104004,-10.099803924560547,1.9936565160751343,20.871356964111328,-9.873573303222656,-1.5787585973739624,7.350922584533691,7.945687770843506,9.12666130065918,5.805425643920898,5.5216965675354,22.345714569091797,0.5068036317825317,-1.8132898807525635,-6.33378267288208,-0.3221229314804077,-3.167210340499878,-2.7796072959899902,2.0734682083129883,1.5786731243133545,-10.57801628112793,3.0500965118408203,8.16978931427002,1.4344836473464966,0.46465837955474854,13.189666748046875,-5.961899280548096,4.135422229766846,-12.71714973449707,-5.043854713439941,18.266845703125,-1.7235585451126099,-0.8361255526542664,9.814265251159668,6.90625,-8.578336715698242,-5.984316825866699,-8.516183853149414,15.570962905883789,-6.889036655426025,-14.774724006652832,-1.0691713094711304,-12.507225036621094,12.653106689453125,-9.808148384094238,-10.725481033325195,-3.7092084884643555,-12.746246337890625,-1.7050526142120361,-3.446387529373169,-2.546088933944702,8.619009971618652,0.3192579448223114,18.873672485351562,-11.328895568847656,-12.470373153686523,-7.9853997230529785,3.1341514587402344,-12.358237266540527,18.26068687438965,-3.0767650604248047,-4.5979156494140625,11.257573127746582,10.285989761352539,1.2387266159057617,0.5342570543289185,15.587980270385742,7.101765155792236,1.600121259689331,11.046192169189453,-11.755878448486328,-5.385133743286133,11.157612800598145,8.026689529418945,-5.145406723022461,0.6743461489677429,-0.71503084897995,-8.204094886779785,-0.6005094051361084,23.204898834228516,-4.164665222167969,-8.200921058654785,23.093517303466797,-5.3180742263793945,0.7704086303710938,-8.19543170928955,8.423149108886719,0.16894537210464478,-7.616684913635254,-8.209850311279297,-10.965914726257324,-1.473779559135437,-6.955632209777832,-0.3311363160610199,-0.7715997695922852,0.5504570007324219,-5.217667579650879,-6.379698276519775,-10.78161334991455,0.9228160977363586,0.8174924850463867,9.258309364318848,-5.181628227233887,18.720380783081055,16.781457901000977,-13.11947250366211,-5.860589504241943,-2.433382034301758,-3.114314079284668,1.5267666578292847,-1.6459213495254517,18.410188674926758,-5.4623565673828125,-6.527411937713623,6.981837749481201,14.951216697692871,-6.217962265014648,18.307344436645508,10.776832580566406,-4.274365425109863,-16.804597854614258,2.975343704223633,-0.1397147923707962,-9.355097770690918,-1.794883370399475,6.397801399230957,-6.028759479522705,-9.854138374328613,11.954333305358887,-3.1352322101593018,-13.573049545288086,12.149693489074707,-11.600126266479492,-1.7381486892700195,-7.498544216156006,-2.453880548477173,8.113227844238281,-5.212097644805908,3.7230262756347656,-10.76289176940918,-4.811005592346191,6.419872760772705,-8.399499893188477,17.50009536743164,3.2694997787475586,6.139685153961182,12.676671028137207,-5.029319763183594,2.5108675956726074,-1.7665921449661255,-18.254125595092773,10.160707473754883,11.394783973693848,-3.881892204284668,-1.4313849210739136,-4.056729793548584,19.883590698242188,-5.464208602905273,-3.9136621952056885,0.42407795786857605,7.3811750411987305,1.5595946311950684,-11.431137084960938,16.182205200195312,21.29728889465332,-5.41079044342041,-2.9731369018554688,-11.981351852416992,15.562417030334473,5.7350969314575195,-6.656461715698242,20.360355377197266,1.4504616260528564,-11.046792984008789,1.2548106908798218,-7.3317413330078125,5.62701416015625,-1.7325743436813354,-4.541226863861084,-0.5953055620193481,-1.9601216316223145,4.299880504608154,17.982555389404297,-1.6262891292572021,-6.734039783477783,-1.0961626768112183,17.663986206054688,-6.0495734214782715,13.629007339477539,-8.619403839111328,2.237691879272461,7.852460861206055,9.438206672668457,-12.450352668762207,-0.20093050599098206,-1.38471257686615,16.921953201293945,12.313207626342773,5.04992151260376,-5.572388172149658,0.10812285542488098,1.2242130041122437,9.390592575073242,9.23538875579834,-10.618189811706543,2.4242942333221436,-17.38857650756836,-2.27856183052063,1.8415663242340088,-3.4028685092926025,9.735865592956543,6.765148162841797,13.801193237304688,1.172599196434021,0.9164436459541321,-3.8453469276428223,15.779609680175781,1.3102624416351318,2.6152005195617676,6.9792985916137695,13.671819686889648,0.3911678194999695,14.289532661437988,-2.5507869720458984,-8.943096160888672,1.8857417106628418,-0.6727113723754883,7.886483192443848,-12.886323928833008,-3.3891820907592773,21.122060775756836,7.235565185546875,14.944560050964355,23.01947593688965,-15.48176383972168,-6.9712677001953125,-4.381866931915283,9.270416259765625,-6.597211837768555,-12.952550888061523,-10.552240371704102,-0.5462923049926758,-3.027456760406494,13.770788192749023,-3.3447694778442383,8.609220504760742,-7.076206684112549,-7.371020317077637,-0.28004300594329834,0.4368703365325928,-6.341414451599121,2.66277813911438,3.4708406925201416,0.6591736674308777,-2.5048670768737793,1.5059958696365356,5.630683898925781,-4.352480888366699,-6.827062129974365,-4.236898422241211,2.0694892406463623,-1.0935007333755493,-2.184305191040039,-6.483152389526367,-6.840110778808594,-4.883507251739502,3.4012067317962646,1.3099884986877441,-0.6362528204917908,-0.6871210336685181,14.388603210449219,9.975863456726074,-14.979366302490234,5.540741443634033,11.94249439239502,19.02336883544922,17.487455368041992,-17.083036422729492,17.00135040283203,-2.0168094635009766,-2.8542592525482178,-5.2990922927856445,-3.1611945629119873,10.953372955322266,-1.514511227607727,-0.039726875722408295,5.599018573760986,-15.411617279052734,1.514924168586731,-0.6125466227531433,1.480032205581665,-7.998898506164551,0.7892759442329407,12.0264310836792,6.395253658294678,-0.18557968735694885,-9.186049461364746,-4.142165184020996,0.5370582342147827,-3.097240686416626,-5.478947162628174,16.969928741455078,-6.253133296966553,8.235390663146973,11.653239250183105,-2.762247085571289,-3.453768014907837,19.77504539489746,-13.907258987426758,-8.72708797454834,5.045704364776611,-12.160893440246582,8.468239784240723,4.585184574127197,15.142304420471191,-6.398730754852295,8.701290130615234,-0.45297718048095703,-5.933404922485352,6.845959663391113,4.884159088134766,1.2029838562011719,7.0872368812561035,-0.5459373593330383,11.256773948669434,1.4974991083145142,-4.380232334136963,-8.239944458007812,3.072396993637085,11.292818069458008,-6.484993934631348,1.4816066026687622,-4.738138675689697,11.86953067779541,-2.1372828483581543,-5.213463306427002,-13.153043746948242,-10.362517356872559,14.74030590057373,3.6481292247772217,2.4127085208892822,-6.497586727142334,-3.8330721855163574,-4.863580703735352,-6.8587327003479,0.5102032423019409,6.029393672943115,-6.1509623527526855,4.338294982910156,-3.392092227935791,21.381956100463867,7.513030529022217,-2.3917133808135986,-7.227829933166504,-5.269323825836182,-8.785270690917969,13.735251426696777,4.2385687828063965,3.1623098850250244,-6.166256904602051,2.1337993144989014,12.66845417022705,-5.511176109313965,-4.290760517120361,-0.3750045597553253,14.598041534423828,0.3730553388595581,-6.448352336883545,0.7517186999320984,-0.12397470325231552,2.637882709503174,16.796384811401367,8.473413467407227,10.643253326416016,-3.4809048175811768,12.242756843566895,13.901419639587402,-13.409117698669434,-4.030189514160156,-5.117312431335449,-6.793703079223633,-1.9970145225524902,-6.846447944641113,8.039458274841309,17.718860626220703,12.179058074951172,-12.976581573486328,4.904243469238281,-7.218923568725586,3.776716470718384,1.8683315515518188,2.3444533348083496,-0.6440140604972839,-10.927316665649414,-12.3336763381958,6.140700817108154,-3.731922149658203,-5.063409805297852,6.064381122589111,10.74919319152832,21.58403205871582,13.819252967834473,-4.621623516082764,1.1517390012741089,12.439037322998047,17.339462280273438,-5.712085723876953,2.137711524963379,19.804088592529297,-6.5038933753967285,-4.717963218688965,21.01681900024414,7.818508625030518,-0.7991393804550171,8.326168060302734,11.326290130615234,-7.8968071937561035,1.2309809923171997,11.46114730834961,6.699155807495117,9.600499153137207,1.7026268243789673,0.775558590888977,13.335627555847168,16.093305587768555,11.127664566040039,-0.9582130312919617,6.978133678436279,-3.008575677871704,0.37064486742019653,-0.03072383813560009,2.00319504737854,-0.29029351472854614,-0.7381123900413513,-6.554158687591553,1.527407169342041,16.094032287597656,0.6640371084213257,2.0755553245544434,-11.535654067993164,-0.2691078186035156,9.298111915588379,-5.413663864135742,3.8636527061462402,-4.3554229736328125,3.069131851196289,-2.3879196643829346,-10.025636672973633,2.608100652694702,3.517411470413208,-6.055250644683838,-0.22623679041862488,5.060237884521484,-13.171365737915039,-6.515650749206543,0.810975968837738,1.2539761066436768,-1.5094045400619507,-2.8298144340515137,-1.124717354774475,-4.770961761474609,-1.4601317644119263,3.4129161834716797,9.222174644470215,1.2387410402297974,6.458043575286865,-8.74767017364502,-4.842583656311035,-6.468979358673096,-2.8843350410461426,12.967573165893555,-0.7845335006713867,-11.799626350402832,-4.72568941116333,-12.56302547454834,3.1275174617767334,-12.137411117553711,17.12043571472168,19.807931900024414,-7.163665771484375,12.838623046875,-5.195815086364746,0.32953986525535583,21.46189308166504,3.75093936920166,-12.499946594238281,2.1140077114105225,7.10717248916626,6.1308746337890625,16.109405517578125,2.452678680419922,-11.103100776672363,12.108501434326172,-5.783631801605225,4.941046237945557,24.622583389282227,-4.4232869148254395,0.7514705061912537,23.137235641479492,-2.651132822036743,0.3429834246635437,-1.0375885963439941,-2.132413864135742,-0.4671926200389862,0.9392280578613281,4.568238258361816,-6.772535800933838,15.49622917175293,8.099613189697266,-1.4503697156906128,-4.792398929595947,-2.9787068367004395,16.245790481567383,11.481271743774414,-5.69136905670166,3.1415133476257324,5.018352508544922,-1.4107530117034912,15.833112716674805,-1.3866163492202759,1.9849677085876465,-5.150091648101807,2.4467692375183105,3.7798197269439697,14.967292785644531,-6.001671314239502,8.72350788116455,-11.570151329040527,22.60426902770996,11.108095169067383,22.346952438354492,-4.043908596038818,20.5853328704834,-4.441748142242432,6.462390422821045,16.67618751525879,-4.443229675292969,-9.802708625793457,-0.08118516951799393,5.828934192657471,-7.303713798522949,-2.7527506351470947,15.133163452148438,5.187551021575928,3.003575325012207,11.100262641906738,-2.7908902168273926,11.629204750061035,-11.575523376464844,10.53454303741455,8.148955345153809,8.285446166992188,-2.72237229347229,-4.431876182556152,8.690683364868164,8.563231468200684,-10.050939559936523,1.2791942358016968,20.98564910888672,12.244406700134277,-3.6899566650390625,4.705228328704834,15.36742115020752,-5.376069068908691,-2.738055467605591,8.557693481445312,-8.938968658447266,-4.2441816329956055,-4.862123966217041,2.259371280670166,-1.3499863147735596,-15.774571418762207,2.540248394012451,7.560137748718262,-3.579516649246216,11.893266677856445,14.982017517089844,5.881350040435791,6.657534599304199,-1.3851900100708008,8.16564655303955,-0.4548794627189636,20.41533851623535,-6.218316555023193,-2.7028543949127197,2.7056503295898438,-5.124463081359863,11.29736042022705,-6.059624195098877,13.288201332092285,3.5321810245513916,8.866682052612305,11.56458854675293,-0.9092673659324646,0.5463185906410217,0.911453902721405,0.24819085001945496,8.929145812988281,-3.874873161315918,2.5168967247009277,-7.84528112411499,13.775420188903809,16.371213912963867,-12.714864730834961,-16.127016067504883,2.962744951248169,-4.742458820343018,-2.417741060256958,-6.785384654998779,-3.939060688018799,-8.54614543914795,-6.060996055603027,-5.441402912139893,5.927231311798096,-8.276019096374512,0.4866146147251129,-10.206296920776367,-2.9097752571105957,-2.3994131088256836,14.021134376525879,-0.5244431495666504,0.686316728591919,9.920957565307617,8.386855125427246,-4.50983190536499,2.068756580352783,12.731932640075684,-0.486312597990036,21.26577377319336,10.054222106933594,-1.6848927736282349,8.774435997009277,-0.13103970885276794,4.389304161071777,2.1902620792388916,21.42560386657715,2.5732319355010986,1.2476528882980347,0.15748094022274017,0.1621658205986023,-1.2514662742614746,-1.2525919675827026,-1.0011940002441406,14.522300720214844,-0.314852237701416,-6.246628761291504,6.3555192947387695,7.667508125305176,18.323150634765625,4.174838066101074,9.804001808166504,-3.4426727294921875,1.8340740203857422,-2.217015504837036,-3.082904100418091,-4.807275295257568,-4.113598346710205,-12.528557777404785,-3.6375627517700195,6.06030797958374,-0.3880259394645691,17.166912078857422,13.560493469238281,-5.065105438232422,5.752691745758057,0.39612099528312683,1.354139804840088,-4.180969715118408,-4.817685127258301,2.7970526218414307,7.339997291564941,6.020488262176514,-0.6279028058052063,-2.560821533203125,13.549885749816895,-4.454766750335693,-10.454886436462402,7.634518623352051,-10.340993881225586,-0.3760201334953308,12.45657730102539,-8.898608207702637,-1.1299902200698853,-3.758064031600952,-0.31209659576416016,-5.084471225738525,4.220561981201172,-3.843832015991211,10.029464721679688,2.013254165649414,-4.358121395111084,-1.2979063987731934,23.549823760986328,21.497831344604492,20.890466690063477,-12.161675453186035,15.100860595703125,1.841065764427185,-7.626951217651367,13.082221031188965,-5.022382736206055,2.3870747089385986,-5.701458930969238,3.8573496341705322,18.699331283569336,8.338656425476074,-6.399344444274902,1.7920825481414795,-6.978908538818359,9.354567527770996,17.056564331054688,-3.265434741973877,0.878394365310669,0.5702909827232361,-3.9424755573272705,17.39883804321289,-2.6246817111968994,-11.228800773620605,0.9442688226699829,-1.1274975538253784,23.60877227783203,-1.1461890935897827,2.5859506130218506,6.811680793762207,6.197741508483887,14.228262901306152,2.266165018081665,0.818310022354126,-13.084904670715332,3.72540545463562,3.6501708030700684,14.853349685668945,0.06408999115228653,2.754420280456543,14.351456642150879,-3.8110198974609375,1.940592646598816,-2.0037028789520264,-3.7954273223876953,5.187589645385742,14.369751930236816,0.5264475345611572,-1.3006542921066284,18.083478927612305,7.821969509124756,13.423591613769531,3.810730457305908,-2.5231311321258545,-9.553569793701172,-7.110091209411621,2.934659242630005,14.803581237792969,2.5453970432281494,-4.236697196960449,17.162517547607422,-8.841157913208008,-0.4111424684524536,17.692298889160156,-7.508394718170166,-4.866561412811279,1.0481595993041992,2.5618350505828857,3.7546045780181885,-1.4066802263259888,-10.63646411895752,-6.977733135223389,-5.1957573890686035,3.7890727519989014,-6.69094181060791,8.710870742797852,-5.265910625457764,1.7825641632080078,6.496617794036865,-5.536423206329346,4.098949909210205,8.280471801757812,1.8304435014724731,-5.989563941955566,3.329216957092285,-2.222287178039551,-9.930931091308594,8.746997833251953,17.62676239013672,-9.473603248596191,-12.938591003417969,12.338753700256348,13.603339195251465,-0.7151684761047363,14.071106910705566,4.5896453857421875,-0.836514949798584,-6.3554911613464355,-1.3552758693695068,-12.830467224121094,1.8964577913284302,5.684447288513184,-5.03141450881958,-1.029415488243103,2.311533212661743,5.534931182861328,3.457581043243408,9.489944458007812,-5.432732105255127,4.153823375701904,4.976328372955322,14.034815788269043,16.66802406311035,3.429861307144165,0.774526059627533,1.9830530881881714,-0.6194733381271362,4.836452960968018,-4.821292400360107,1.8519140481948853,-3.2155110836029053,17.623580932617188,2.7379398345947266,-12.80756664276123,-12.4081449508667,-7.897663593292236,-5.146914482116699,18.766632080078125,-5.237870693206787,-9.575824737548828,23.803218841552734,14.950911521911621,20.7163143157959,24.092592239379883,9.508584976196289,-6.464320659637451,-3.2136566638946533,1.1081360578536987,3.389308452606201,5.470284938812256,-12.039490699768066,-7.406508445739746,-4.107617378234863,17.97519874572754,11.064180374145508,-2.4260294437408447,-6.637121200561523,1.6733590364456177,-4.393847465515137,22.689796447753906,-8.158428192138672,17.604141235351562,-2.9483070373535156,-8.473165512084961,0.4003306031227112,4.783736228942871,20.70980453491211,2.9702515602111816,-1.0485235452651978,-9.823616981506348,-1.6759393215179443,16.092830657958984,7.846951484680176,-4.240659713745117,4.327056884765625,5.5269999504089355,5.398879051208496,10.64372444152832,22.645200729370117,0.15930797159671783,-15.72456169128418,3.654433250427246,1.7248793840408325,-10.697769165039062,13.171486854553223,1.9153963327407837,13.994437217712402,-7.400427341461182,5.370212554931641,21.9985408782959,0.8783259391784668,-7.966226577758789,-4.481900691986084,-3.4724717140197754,-4.425366401672363,1.2543754577636719,20.87554168701172,-13.559310913085938,6.641139030456543,-12.506781578063965,6.242929458618164,1.9981083869934082,5.861675262451172,10.946016311645508,9.601669311523438,-2.3863790035247803,-11.401715278625488,-1.7116889953613281,-2.8127670288085938,-5.414226531982422,-15.470346450805664,10.039831161499023,3.3097550868988037,-12.195480346679688,-6.991275310516357,-0.8209207653999329,-5.330085754394531,6.211069583892822,0.7840823531150818,12.59262752532959,1.7158710956573486,-5.737695693969727,18.187650680541992,0.8878527879714966,-10.477680206298828,-5.804628849029541,-8.657320022583008,10.506052017211914,-10.893843650817871,-2.392164945602417,16.270036697387695,-3.90716552734375,16.01141929626465,-10.282235145568848,-7.208288669586182,1.702901005744934,1.1724185943603516,-13.346145629882812,-9.26520824432373,-7.953791618347168,4.393820285797119,10.82583236694336,-2.7277092933654785,1.3165500164031982,1.6301568746566772,2.556945562362671,-0.03451858460903168,-10.356178283691406,-13.126181602478027,0.6912310719490051,-0.6950219869613647,-8.28813362121582,-9.78975772857666,-0.19625791907310486,5.163847923278809,8.152308464050293,-8.482197761535645,5.994657516479492,-4.166293144226074,7.28373908996582,-3.7435529232025146,1.7366160154342651,5.774425983428955,-2.694901466369629,-5.008033275604248,1.7808771133422852,1.6475582122802734,7.421124458312988,-4.096622467041016,-16.391502380371094,8.570470809936523,19.04676055908203,-6.6568522453308105,-11.36540412902832,12.039763450622559,21.472288131713867,2.251728057861328,11.100567817687988,9.511490821838379,4.318336486816406,-5.960452556610107,0.9794161915779114,-3.713740825653076,5.89918851852417,-9.427922248840332,-4.781445503234863,2.0991499423980713,2.6636133193969727,2.546076536178589,-4.138702869415283,-2.6727752685546875,3.194307804107666,-2.8967089653015137,-3.3398170471191406,-4.580115795135498,-7.772660255432129,-8.118572235107422,3.5616252422332764,1.6142866611480713,1.1432780027389526,-15.767826080322266,0.3181074261665344,-16.971878051757812,-11.821680068969727,0.4726104438304901,2.2753233909606934,-13.735828399658203,-1.1907262802124023,8.423653602600098,1.7521319389343262,-12.786832809448242,1.4631695747375488,4.511970043182373,12.326878547668457,9.301127433776855,1.7738494873046875,-6.360947132110596,-0.7436383366584778,2.964219093322754,5.457955360412598,-4.3463454246521,-1.4093424081802368,-5.068099498748779,-6.217075824737549,12.806208610534668,-4.206632614135742,15.216383934020996,-2.4910888671875,-0.3103120028972626,-8.4219970703125,10.508965492248535,-3.531911849975586,12.503938674926758,0.0857386440038681,-5.4131669998168945,13.766517639160156,15.708824157714844,-5.951254367828369,2.7560365200042725,-7.620780944824219,-1.1501442193984985,13.326062202453613,-4.5805344581604,-10.596698760986328,-0.7451812028884888,5.5696120262146,12.850833892822266,19.137149810791016,-8.319899559020996,6.491766452789307,-0.5796173214912415,-5.29099178314209,3.0172107219696045,8.264248847961426,-3.3879308700561523,3.8612539768218994,18.73053550720215,7.028767108917236,-13.611164093017578,5.107040882110596,15.86312484741211,6.867096424102783,-4.156991481781006,10.171476364135742,-2.1025168895721436,11.87648868560791,6.709070205688477,14.46428108215332,-8.902032852172852,-2.0586812496185303,-11.168272972106934,1.7296748161315918,2.297273874282837,-4.16880989074707,19.77349090576172,8.265331268310547,14.215414047241211,2.470806837081909,6.932021141052246,8.661795616149902,-6.5133867263793945,-8.383466720581055,-4.647602081298828,12.574190139770508,-5.698030471801758,3.4318320751190186,-2.704063892364502,-9.328986167907715,4.05361270904541,7.978688716888428,1.791519284248352,13.876401901245117,1.0286937952041626,13.455183982849121,-4.135329723358154,-1.7611427307128906,1.5453933477401733,10.513932228088379,17.954383850097656,8.48263168334961,13.820489883422852,0.5610104203224182,0.19839149713516235,0.7177268266677856,-5.381832122802734,0.31051817536354065,-2.926419258117676,21.615558624267578,-1.2042738199234009,18.00812339782715,2.794015407562256,8.548972129821777,0.48437198996543884,16.26272964477539,-10.91243839263916,2.0449836254119873,9.017216682434082,-0.3353683650493622,16.65583038330078,-3.4043073654174805,3.219115972518921,1.2362234592437744,-8.71697998046875,1.5632140636444092,-4.168388366699219,-1.6660029888153076,-7.565145015716553,-6.3871893882751465,-3.1360182762145996,-9.610118865966797,1.5115563869476318,19.964868545532227,-13.401338577270508,17.431928634643555,-10.795870780944824,5.686208724975586,6.567929267883301,-8.559760093688965,-4.109894275665283,5.7079267501831055,9.375981330871582,8.538491249084473,14.218646049499512,0.12400930374860764,0.7062518000602722,5.110867500305176,6.57051420211792,-5.380073070526123,19.466646194458008,-11.692078590393066,-7.503675937652588,-2.23022723197937,4.160303115844727,-4.090790748596191,-2.0607504844665527,-6.403135776519775,-7.613245010375977,-11.638047218322754,1.4784499406814575,-4.082507133483887,-4.70694637298584,-10.161429405212402,-3.2488179206848145,-2.9064369201660156,-12.536544799804688,16.432788848876953,3.2648558616638184,2.973165512084961,11.493633270263672,0.9194024801254272,15.720744132995605,-3.6457273960113525,8.55820369720459,-1.6064987182617188,3.6324591636657715,8.262412071228027,22.446176528930664,3.610870838165283,15.18636417388916,4.025410175323486,10.9730863571167,2.9165987968444824,7.251179218292236,10.642218589782715,-1.2424840927124023,8.595641136169434,16.608142852783203,-8.062592506408691,-10.416956901550293,-9.27336597442627,-0.834616482257843,-5.934357166290283,3.913437843322754,-2.456077814102173,0.5044629573822021,-3.3812668323516846,-10.260261535644531,12.520676612854004,17.724756240844727,-10.71927261352539,6.120090007781982,-1.9366581439971924,-0.40083950757980347,-2.730036973953247,-9.370261192321777,16.636823654174805,2.2977919578552246,2.3832268714904785,-8.60361099243164,0.10165205597877502,-0.13099704682826996,8.730745315551758,-4.252691745758057,2.3837084770202637,2.437623977661133,10.581628799438477,11.326936721801758,2.144730567932129,8.812528610229492,16.938936233520508,-0.26318615674972534,6.694490909576416,-7.662315845489502,-1.310515284538269,-3.223801851272583,9.547666549682617,-5.504559516906738,-6.764033794403076,-2.8265328407287598,5.062155246734619,2.074540853500366,-3.2440433502197266,9.949898719787598,-6.514416217803955,23.146799087524414,1.1251673698425293,0.38608795404434204,-3.651054859161377,0.0888105109333992,18.990631103515625,1.4543379545211792,3.0883584022521973,8.271150588989258,-6.069727420806885,2.7640647888183594,-1.2608740329742432,1.2056498527526855,-3.3598873615264893,-12.17931842803955,-9.172819137573242,-6.995534896850586,10.707895278930664,2.9256367683410645,-2.5003037452697754,11.858593940734863,-4.056431770324707,6.69659948348999,2.1491477489471436,-5.300670623779297,-2.426769495010376,-3.1330337524414062,-1.1504355669021606,1.7946308851242065,-4.902916431427002,1.7485240697860718,14.948846817016602,8.877650260925293,-5.925626277923584,2.6114768981933594,-0.05724022537469864,-9.327008247375488,8.196873664855957,7.479167461395264,24.406410217285156,-3.4841575622558594,-9.42000961303711,-2.653376579284668,-0.6976841688156128,-3.3989503383636475,19.097328186035156,9.226696014404297,-0.679091215133667,11.851634979248047,2.614109516143799,-6.179816246032715,-7.6020660400390625,-8.079427719116211,6.736422061920166,18.480337142944336,-5.975722312927246,-2.819270133972168,-6.477370262145996,14.972329139709473,-13.331609725952148,20.34665298461914,10.167783737182617,-7.2167134284973145,14.906094551086426,-4.1567277908325195,-6.623681545257568,8.293267250061035,0.7607684135437012,3.357729434967041,10.531281471252441,0.06078723818063736,-5.30555534362793,1.720091462135315,5.976325035095215,6.952570915222168,1.2340757846832275,6.875554084777832,-5.115218162536621,3.1210076808929443,4.534954071044922,-8.060033798217773,13.431385040283203,-4.006567478179932,-5.601783752441406,-10.635003089904785,-2.739403247833252,-4.523295879364014,9.530220031738281,-12.005178451538086,-9.624062538146973,8.306392669677734,5.956517219543457,-5.485279560089111,0.8374040126800537,-10.920283317565918,-1.5689232349395752,6.031663417816162,2.737412452697754,-6.913345813751221,0.9762955904006958,-6.102481842041016,-0.5851312875747681,16.643590927124023,15.510272979736328,-3.2679994106292725,-1.034822702407837,-0.99711674451828,7.815559387207031,-7.712498664855957,12.94947624206543,0.10131197422742844,14.85555648803711,-7.831629753112793,7.42444372177124,-4.25892972946167,16.601131439208984,12.8433837890625,-5.123723983764648,3.0733821392059326,13.214366912841797,9.104645729064941,2.1430153846740723,18.809404373168945,1.2392330169677734,13.792841911315918,3.420820474624634,-5.231741428375244,-0.4198741316795349,-3.0750625133514404,0.9175766110420227,14.070476531982422,0.3668373227119446,12.439626693725586,14.09973430633545,-8.531329154968262,9.650529861450195,4.350777626037598,14.109725952148438,2.24881911277771,2.7442128658294678,10.900395393371582,-1.873018503189087,2.317748785018921,5.0918989181518555,13.845908164978027,-10.800031661987305,7.673610687255859,-1.4959434270858765,6.210387706756592,1.314359188079834,-1.2051677703857422,-3.8063788414001465,-3.517693519592285,-2.9577817916870117,0.561260461807251,1.2936296463012695,0.7036494016647339,8.968842506408691,0.15038098394870758,9.988142967224121,1.2212334871292114,6.700405597686768,2.8537912368774414,8.92999267578125,-7.194565773010254,-5.048705101013184,2.910316228866577,-4.83030366897583,-8.0728120803833,-8.269096374511719,8.050944328308105,-0.23406116664409637,1.4024852514266968,-4.094785213470459,-5.654953479766846,0.29572415351867676,-4.498230934143066,2.761991262435913,-13.2589111328125,7.919215202331543,-4.779394149780273,21.30910301208496,-6.475647926330566,0.8323036432266235,18.217212677001953,9.101085662841797,3.2051329612731934,5.965946674346924,8.672191619873047,8.478612899780273,0.33620429039001465,-5.635913848876953,-6.163516521453857,9.132549285888672,10.489616394042969,16.50838851928711,10.783832550048828,-4.508211135864258,-9.895605087280273,1.2059755325317383,3.559743881225586,10.146300315856934,17.558134078979492,-8.944500923156738,2.959954261779785,-9.227381706237793,8.092171669006348,5.921040058135986,4.133209705352783,15.97885513305664,6.251084327697754,10.02686882019043,-11.57385540008545,5.855894088745117,-10.454743385314941,-4.388736724853516,5.3041229248046875,-4.758164405822754,-2.287837505340576,2.053555965423584,-3.932973623275757,0.7426789402961731,-8.20458698272705,-1.9645087718963623,8.709525108337402,-0.21677735447883606,1.6959559917449951,11.69983959197998,-1.974064826965332,16.622634887695312,-3.2350621223449707,13.551216125488281,17.442882537841797,-1.6667873859405518,-0.24932509660720825,-10.706604957580566,0.10378356277942657,17.594873428344727,5.4468674659729,1.839739441871643,0.8591041564941406,-8.158001899719238,0.2902722954750061,-11.585840225219727,8.03980541229248,6.013228416442871,4.505518913269043,-3.549623966217041,22.35777473449707,12.866480827331543,-7.009854316711426,1.6087614297866821,4.094923973083496,0.4661356508731842,4.330719470977783,18.488752365112305,9.726202964782715,0.22640317678451538,6.81935453414917,-7.68373441696167,5.686532974243164,6.1644673347473145,2.038649797439575,1.1953673362731934,11.825222969055176,4.054388999938965,-1.1169017553329468,-15.868785858154297,8.848139762878418,3.6130921840667725,-4.733323097229004,12.883328437805176,-1.5624727010726929,5.984442234039307,20.809919357299805,4.153176307678223,-4.4711384773254395,-0.2764938771724701,10.115937232971191,-1.92947256565094,2.312784433364868,14.513776779174805,-3.919088363647461,4.577085971832275,13.928863525390625,-14.695072174072266,15.736727714538574,-7.5171356201171875,-3.402988910675049,7.583277225494385,-2.936659574508667,-5.115576267242432,0.7657276391983032,0.9510917067527771,-2.946242332458496,6.182095527648926,7.935660362243652,9.631895065307617,-4.098571300506592,7.712347030639648,21.130212783813477,-3.747384786605835,-8.651596069335938,23.78482437133789,-3.7402825355529785,12.099043846130371,3.373199939727783,13.576136589050293,1.2893671989440918,-14.898445129394531,-10.719494819641113,-0.5969756841659546,1.7012087106704712,7.01657247543335,11.646679878234863,-5.094992637634277,-5.232430934906006,-1.5340787172317505,-6.4843339920043945,3.679858446121216,18.01108741760254,0.13529375195503235,4.970263957977295,11.902722358703613,-1.4746613502502441,-6.616307258605957,3.4043729305267334,6.723968029022217,0.7369657754898071,-4.168408393859863,3.01617431640625,2.531198501586914,-4.488332748413086,0.4921756088733673,-6.068028450012207,-9.042394638061523,6.309745788574219,12.702925682067871,2.006532907485962,12.650869369506836,-0.3716673254966736,-1.2297128438949585,-15.643956184387207,4.617599964141846,0.07992316037416458,-0.794768214225769,5.594130516052246,-7.445563793182373,-3.9551360607147217,8.109257698059082,2.332573890686035,-11.821879386901855,6.020496845245361,0.2339644730091095,2.5968446731567383,4.866308689117432,-1.0984902381896973,6.290060997009277,-5.806357383728027,7.708408355712891,-3.7256550788879395,0.7883379459381104,15.874151229858398,14.877215385437012,16.223827362060547,1.1902921199798584,3.36836838722229,8.762744903564453,7.125339508056641,0.1339610069990158,1.20441734790802,12.514939308166504,-4.923819541931152,-12.739396095275879,4.51666784286499,4.176092624664307,-5.488192558288574,-0.7879117727279663,3.8145592212677,3.084235429763794,5.6688337326049805,-5.5948486328125,-4.396081447601318,18.161880493164062,16.371625900268555,8.021815299987793,17.585956573486328,3.5571043491363525,1.5295822620391846,3.542386531829834,4.971235752105713,15.246872901916504,12.125523567199707,0.0009590514237061143,6.046561241149902,-9.840296745300293,2.2949655055999756,5.914304256439209,-2.375610828399658,-1.183875560760498,1.8477613925933838,1.0557749271392822,21.030794143676758,-1.8888441324234009,2.3119845390319824,-2.088874340057373,17.970876693725586,0.819129228591919,-4.659791469573975,3.8138628005981445,22.884984970092773,6.823369026184082,-2.0769739151000977,-2.272150754928589,17.217777252197266,14.471257209777832,7.971138954162598,0.2572031617164612,-4.9738054275512695,15.40519905090332,17.252416610717773,15.995436668395996,5.884242057800293,11.2108793258667,-1.7748905420303345,1.5077368021011353,-1.8530863523483276,8.086625099182129,1.0893135070800781,1.8384339809417725,9.450212478637695,7.243464946746826,4.0721821784973145,16.954145431518555,-5.741177558898926,4.014776229858398,0.8280473947525024,2.7482948303222656,0.5684823393821716,1.4962365627288818,-3.9280731678009033,-3.1087913513183594,-10.397208213806152,-5.695326805114746,-6.411182403564453,-9.997021675109863,-5.321631908416748,-0.35693204402923584,17.168663024902344,-0.8209932446479797,1.976051688194275,3.3193154335021973,-2.5107250213623047,8.415109634399414,9.708990097045898,-7.470451831817627,-4.139750957489014,-5.319169521331787,6.266141414642334,0.5559507608413696,-0.12959381937980652,4.772181510925293,5.005218982696533,12.93134593963623,-5.507655620574951,11.623151779174805,9.9326810836792,-4.123767375946045,1.3365483283996582,-5.497376918792725,3.3678994178771973,12.647716522216797,12.983797073364258,11.68268871307373,-1.0590373277664185,-5.634056568145752,3.131376028060913,18.408584594726562,2.4626753330230713,15.288673400878906,-2.4569005966186523,-9.911924362182617,4.490126132965088,5.072314739227295,1.5265922546386719,1.0789302587509155,2.1710309982299805,4.19688606262207,-5.634839057922363,-2.57770037651062,-10.088579177856445,9.848980903625488,13.096899032592773,-9.886873245239258,12.696615219116211,12.802788734436035,0.3618685007095337,-8.070887565612793,-5.372185230255127,-1.7388869524002075,0.12527307868003845,-6.355233669281006,-3.1397714614868164,-3.3407723903656006,6.221668243408203,8.396721839904785,16.323633193969727,-2.7763571739196777,3.6352577209472656,1.8112294673919678,17.2235164642334,-3.637026071548462,-5.855478763580322,2.6931655406951904,-4.026647090911865,-5.41013765335083,-4.79755163192749,-5.657008171081543,13.066905975341797,1.3733689785003662,11.169013977050781,-0.10210651904344559,3.435969114303589,2.956796169281006,-0.4632855951786041,-4.018863677978516,-6.23234748840332,0.5923267602920532,-4.920383453369141,-5.9348464012146,1.5836987495422363,4.795785427093506,10.550148010253906,-3.2518954277038574,17.475902557373047,-8.435341835021973,14.913890838623047,-4.054126739501953,3.5048911571502686,10.034638404846191,15.8868989944458,-7.5134806632995605,-2.798356533050537,5.641254425048828,-2.1798269748687744,-6.267178535461426,14.953255653381348,4.178770065307617,-6.679379463195801,0.03414391353726387,3.445875883102417,-2.513951301574707,-0.3501031696796417,-10.706573486328125,-0.760654866695404,10.059473037719727,-3.8927860260009766,18.043773651123047,-2.172913074493408,1.7646294832229614,-5.992119312286377,12.8466215133667,16.428264617919922,-4.382125377655029,6.262746810913086,16.52576446533203,1.0803083181381226,6.7761921882629395,12.31491470336914,-5.276919841766357,-3.6100614070892334,-7.206155776977539,-1.0148690938949585,-5.57994270324707,-5.716931343078613],\"type\":\"scatter3d\"}],                        {\"margin\":{\"b\":0,\"l\":0,\"r\":0,\"t\":0},\"template\":{\"data\":{\"histogram2dcontour\":[{\"type\":\"histogram2dcontour\",\"colorbar\":{\"outlinewidth\":0,\"ticks\":\"\"},\"colorscale\":[[0.0,\"#0d0887\"],[0.1111111111111111,\"#46039f\"],[0.2222222222222222,\"#7201a8\"],[0.3333333333333333,\"#9c179e\"],[0.4444444444444444,\"#bd3786\"],[0.5555555555555556,\"#d8576b\"],[0.6666666666666666,\"#ed7953\"],[0.7777777777777778,\"#fb9f3a\"],[0.8888888888888888,\"#fdca26\"],[1.0,\"#f0f921\"]]}],\"choropleth\":[{\"type\":\"choropleth\",\"colorbar\":{\"outlinewidth\":0,\"ticks\":\"\"}}],\"histogram2d\":[{\"type\":\"histogram2d\",\"colorbar\":{\"outlinewidth\":0,\"ticks\":\"\"},\"colorscale\":[[0.0,\"#0d0887\"],[0.1111111111111111,\"#46039f\"],[0.2222222222222222,\"#7201a8\"],[0.3333333333333333,\"#9c179e\"],[0.4444444444444444,\"#bd3786\"],[0.5555555555555556,\"#d8576b\"],[0.6666666666666666,\"#ed7953\"],[0.7777777777777778,\"#fb9f3a\"],[0.8888888888888888,\"#fdca26\"],[1.0,\"#f0f921\"]]}],\"heatmap\":[{\"type\":\"heatmap\",\"colorbar\":{\"outlinewidth\":0,\"ticks\":\"\"},\"colorscale\":[[0.0,\"#0d0887\"],[0.1111111111111111,\"#46039f\"],[0.2222222222222222,\"#7201a8\"],[0.3333333333333333,\"#9c179e\"],[0.4444444444444444,\"#bd3786\"],[0.5555555555555556,\"#d8576b\"],[0.6666666666666666,\"#ed7953\"],[0.7777777777777778,\"#fb9f3a\"],[0.8888888888888888,\"#fdca26\"],[1.0,\"#f0f921\"]]}],\"heatmapgl\":[{\"type\":\"heatmapgl\",\"colorbar\":{\"outlinewidth\":0,\"ticks\":\"\"},\"colorscale\":[[0.0,\"#0d0887\"],[0.1111111111111111,\"#46039f\"],[0.2222222222222222,\"#7201a8\"],[0.3333333333333333,\"#9c179e\"],[0.4444444444444444,\"#bd3786\"],[0.5555555555555556,\"#d8576b\"],[0.6666666666666666,\"#ed7953\"],[0.7777777777777778,\"#fb9f3a\"],[0.8888888888888888,\"#fdca26\"],[1.0,\"#f0f921\"]]}],\"contourcarpet\":[{\"type\":\"contourcarpet\",\"colorbar\":{\"outlinewidth\":0,\"ticks\":\"\"}}],\"contour\":[{\"type\":\"contour\",\"colorbar\":{\"outlinewidth\":0,\"ticks\":\"\"},\"colorscale\":[[0.0,\"#0d0887\"],[0.1111111111111111,\"#46039f\"],[0.2222222222222222,\"#7201a8\"],[0.3333333333333333,\"#9c179e\"],[0.4444444444444444,\"#bd3786\"],[0.5555555555555556,\"#d8576b\"],[0.6666666666666666,\"#ed7953\"],[0.7777777777777778,\"#fb9f3a\"],[0.8888888888888888,\"#fdca26\"],[1.0,\"#f0f921\"]]}],\"surface\":[{\"type\":\"surface\",\"colorbar\":{\"outlinewidth\":0,\"ticks\":\"\"},\"colorscale\":[[0.0,\"#0d0887\"],[0.1111111111111111,\"#46039f\"],[0.2222222222222222,\"#7201a8\"],[0.3333333333333333,\"#9c179e\"],[0.4444444444444444,\"#bd3786\"],[0.5555555555555556,\"#d8576b\"],[0.6666666666666666,\"#ed7953\"],[0.7777777777777778,\"#fb9f3a\"],[0.8888888888888888,\"#fdca26\"],[1.0,\"#f0f921\"]]}],\"mesh3d\":[{\"type\":\"mesh3d\",\"colorbar\":{\"outlinewidth\":0,\"ticks\":\"\"}}],\"scatter\":[{\"fillpattern\":{\"fillmode\":\"overlay\",\"size\":10,\"solidity\":0.2},\"type\":\"scatter\"}],\"parcoords\":[{\"type\":\"parcoords\",\"line\":{\"colorbar\":{\"outlinewidth\":0,\"ticks\":\"\"}}}],\"scatterpolargl\":[{\"type\":\"scatterpolargl\",\"marker\":{\"colorbar\":{\"outlinewidth\":0,\"ticks\":\"\"}}}],\"bar\":[{\"error_x\":{\"color\":\"#2a3f5f\"},\"error_y\":{\"color\":\"#2a3f5f\"},\"marker\":{\"line\":{\"color\":\"#E5ECF6\",\"width\":0.5},\"pattern\":{\"fillmode\":\"overlay\",\"size\":10,\"solidity\":0.2}},\"type\":\"bar\"}],\"scattergeo\":[{\"type\":\"scattergeo\",\"marker\":{\"colorbar\":{\"outlinewidth\":0,\"ticks\":\"\"}}}],\"scatterpolar\":[{\"type\":\"scatterpolar\",\"marker\":{\"colorbar\":{\"outlinewidth\":0,\"ticks\":\"\"}}}],\"histogram\":[{\"marker\":{\"pattern\":{\"fillmode\":\"overlay\",\"size\":10,\"solidity\":0.2}},\"type\":\"histogram\"}],\"scattergl\":[{\"type\":\"scattergl\",\"marker\":{\"colorbar\":{\"outlinewidth\":0,\"ticks\":\"\"}}}],\"scatter3d\":[{\"type\":\"scatter3d\",\"line\":{\"colorbar\":{\"outlinewidth\":0,\"ticks\":\"\"}},\"marker\":{\"colorbar\":{\"outlinewidth\":0,\"ticks\":\"\"}}}],\"scattermapbox\":[{\"type\":\"scattermapbox\",\"marker\":{\"colorbar\":{\"outlinewidth\":0,\"ticks\":\"\"}}}],\"scatterternary\":[{\"type\":\"scatterternary\",\"marker\":{\"colorbar\":{\"outlinewidth\":0,\"ticks\":\"\"}}}],\"scattercarpet\":[{\"type\":\"scattercarpet\",\"marker\":{\"colorbar\":{\"outlinewidth\":0,\"ticks\":\"\"}}}],\"carpet\":[{\"aaxis\":{\"endlinecolor\":\"#2a3f5f\",\"gridcolor\":\"white\",\"linecolor\":\"white\",\"minorgridcolor\":\"white\",\"startlinecolor\":\"#2a3f5f\"},\"baxis\":{\"endlinecolor\":\"#2a3f5f\",\"gridcolor\":\"white\",\"linecolor\":\"white\",\"minorgridcolor\":\"white\",\"startlinecolor\":\"#2a3f5f\"},\"type\":\"carpet\"}],\"table\":[{\"cells\":{\"fill\":{\"color\":\"#EBF0F8\"},\"line\":{\"color\":\"white\"}},\"header\":{\"fill\":{\"color\":\"#C8D4E3\"},\"line\":{\"color\":\"white\"}},\"type\":\"table\"}],\"barpolar\":[{\"marker\":{\"line\":{\"color\":\"#E5ECF6\",\"width\":0.5},\"pattern\":{\"fillmode\":\"overlay\",\"size\":10,\"solidity\":0.2}},\"type\":\"barpolar\"}],\"pie\":[{\"automargin\":true,\"type\":\"pie\"}]},\"layout\":{\"autotypenumbers\":\"strict\",\"colorway\":[\"#636efa\",\"#EF553B\",\"#00cc96\",\"#ab63fa\",\"#FFA15A\",\"#19d3f3\",\"#FF6692\",\"#B6E880\",\"#FF97FF\",\"#FECB52\"],\"font\":{\"color\":\"#2a3f5f\"},\"hovermode\":\"closest\",\"hoverlabel\":{\"align\":\"left\"},\"paper_bgcolor\":\"white\",\"plot_bgcolor\":\"#E5ECF6\",\"polar\":{\"bgcolor\":\"#E5ECF6\",\"angularaxis\":{\"gridcolor\":\"white\",\"linecolor\":\"white\",\"ticks\":\"\"},\"radialaxis\":{\"gridcolor\":\"white\",\"linecolor\":\"white\",\"ticks\":\"\"}},\"ternary\":{\"bgcolor\":\"#E5ECF6\",\"aaxis\":{\"gridcolor\":\"white\",\"linecolor\":\"white\",\"ticks\":\"\"},\"baxis\":{\"gridcolor\":\"white\",\"linecolor\":\"white\",\"ticks\":\"\"},\"caxis\":{\"gridcolor\":\"white\",\"linecolor\":\"white\",\"ticks\":\"\"}},\"coloraxis\":{\"colorbar\":{\"outlinewidth\":0,\"ticks\":\"\"}},\"colorscale\":{\"sequential\":[[0.0,\"#0d0887\"],[0.1111111111111111,\"#46039f\"],[0.2222222222222222,\"#7201a8\"],[0.3333333333333333,\"#9c179e\"],[0.4444444444444444,\"#bd3786\"],[0.5555555555555556,\"#d8576b\"],[0.6666666666666666,\"#ed7953\"],[0.7777777777777778,\"#fb9f3a\"],[0.8888888888888888,\"#fdca26\"],[1.0,\"#f0f921\"]],\"sequentialminus\":[[0.0,\"#0d0887\"],[0.1111111111111111,\"#46039f\"],[0.2222222222222222,\"#7201a8\"],[0.3333333333333333,\"#9c179e\"],[0.4444444444444444,\"#bd3786\"],[0.5555555555555556,\"#d8576b\"],[0.6666666666666666,\"#ed7953\"],[0.7777777777777778,\"#fb9f3a\"],[0.8888888888888888,\"#fdca26\"],[1.0,\"#f0f921\"]],\"diverging\":[[0,\"#8e0152\"],[0.1,\"#c51b7d\"],[0.2,\"#de77ae\"],[0.3,\"#f1b6da\"],[0.4,\"#fde0ef\"],[0.5,\"#f7f7f7\"],[0.6,\"#e6f5d0\"],[0.7,\"#b8e186\"],[0.8,\"#7fbc41\"],[0.9,\"#4d9221\"],[1,\"#276419\"]]},\"xaxis\":{\"gridcolor\":\"white\",\"linecolor\":\"white\",\"ticks\":\"\",\"title\":{\"standoff\":15},\"zerolinecolor\":\"white\",\"automargin\":true,\"zerolinewidth\":2},\"yaxis\":{\"gridcolor\":\"white\",\"linecolor\":\"white\",\"ticks\":\"\",\"title\":{\"standoff\":15},\"zerolinecolor\":\"white\",\"automargin\":true,\"zerolinewidth\":2},\"scene\":{\"xaxis\":{\"backgroundcolor\":\"#E5ECF6\",\"gridcolor\":\"white\",\"linecolor\":\"white\",\"showbackground\":true,\"ticks\":\"\",\"zerolinecolor\":\"white\",\"gridwidth\":2},\"yaxis\":{\"backgroundcolor\":\"#E5ECF6\",\"gridcolor\":\"white\",\"linecolor\":\"white\",\"showbackground\":true,\"ticks\":\"\",\"zerolinecolor\":\"white\",\"gridwidth\":2},\"zaxis\":{\"backgroundcolor\":\"#E5ECF6\",\"gridcolor\":\"white\",\"linecolor\":\"white\",\"showbackground\":true,\"ticks\":\"\",\"zerolinecolor\":\"white\",\"gridwidth\":2}},\"shapedefaults\":{\"line\":{\"color\":\"#2a3f5f\"}},\"annotationdefaults\":{\"arrowcolor\":\"#2a3f5f\",\"arrowhead\":0,\"arrowwidth\":1},\"geo\":{\"bgcolor\":\"white\",\"landcolor\":\"#E5ECF6\",\"subunitcolor\":\"white\",\"showland\":true,\"showlakes\":true,\"lakecolor\":\"white\"},\"title\":{\"x\":0.05},\"mapbox\":{\"style\":\"light\"}}}},                        {\"responsive\": true}                    ).then(function(){\n",
       "                            \n",
       "var gd = document.getElementById('0a25879a-3a70-48ae-b450-a95a1eaf5662');\n",
       "var x = new MutationObserver(function (mutations, observer) {{\n",
       "        var display = window.getComputedStyle(gd).display;\n",
       "        if (!display || display === 'none') {{\n",
       "            console.log([gd, 'removed!']);\n",
       "            Plotly.purge(gd);\n",
       "            observer.disconnect();\n",
       "        }}\n",
       "}});\n",
       "\n",
       "// Listen for the removal of the full notebook cells\n",
       "var notebookContainer = gd.closest('#notebook-container');\n",
       "if (notebookContainer) {{\n",
       "    x.observe(notebookContainer, {childList: true});\n",
       "}}\n",
       "\n",
       "// Listen for the clearing of the current output cell\n",
       "var outputEl = gd.closest('.output');\n",
       "if (outputEl) {{\n",
       "    x.observe(outputEl, {childList: true});\n",
       "}}\n",
       "\n",
       "                        })                };                            </script>        </div>\n",
       "</body>\n",
       "</html>"
      ]
     },
     "metadata": {},
     "output_type": "display_data"
    }
   ],
   "source": [
    "trace =  go.Scatter3d(\n",
    "   x = out_tsne[:,0],\n",
    "   y = out_tsne[:,1],\n",
    "   z = out_tsne[:,2],\n",
    "   mode = 'markers',\n",
    "   marker = dict(\n",
    "       size = 5,\n",
    "       opacity = 0.8,)\n",
    "   )\n",
    "data = [trace]\n",
    "layout = go.Layout(\n",
    "      margin=dict(l=0, r=0, b=0, t=0)\n",
    ")\n",
    "fig = go.Figure(data=data, layout=layout)\n",
    "fig.show()"
   ]
  },
  {
   "cell_type": "code",
   "execution_count": null,
   "id": "YMIuODjFzdIo",
   "metadata": {
    "colab": {
     "base_uri": "https://localhost:8080/"
    },
    "id": "YMIuODjFzdIo",
    "outputId": "10498ac5-fc70-4c60-968f-830448ac3c7c",
    "scrolled": true
   },
   "outputs": [
    {
     "data": {
      "text/plain": [
       "[(0, 1.0),\n",
       " (2405, 0.31304951684997057),\n",
       " (1214, 0.2757054832851779),\n",
       " (507, 0.24701609087778553),\n",
       " (582, 0.2345207879911715),\n",
       " (539, 0.23394386020951635),\n",
       " (3728, 0.23078316568852544),\n",
       " (94, 0.22360679774997896),\n",
       " (1202, 0.2145290825802583),\n",
       " (778, 0.21320071635561044),\n",
       " (61, 0.21300321680756462),\n",
       " (4046, 0.21213203435596426),\n",
       " (1192, 0.2091650066335189),\n",
       " (1916, 0.20756952180649918),\n",
       " (47, 0.2064113218862204),\n",
       " (3671, 0.2053959590644373),\n",
       " (942, 0.20328927815368153),\n",
       " (2782, 0.20207259421636903),\n",
       " (1069, 0.19754591932991794),\n",
       " (577, 0.1956559480312316),\n",
       " (2329, 0.19364916731037088),\n",
       " (172, 0.19364916731037085),\n",
       " (322, 0.19289712886816485),\n",
       " (972, 0.1926686588971131),\n",
       " (74, 0.1918806447200494),\n",
       " (3606, 0.19034674690672024),\n",
       " (260, 0.18981415059132414),\n",
       " (151, 0.1897366596101028),\n",
       " (1087, 0.1886484436567597),\n",
       " (111, 0.18450624160577703),\n",
       " (4405, 0.1825741858350554),\n",
       " (4190, 0.18257418583505539),\n",
       " (3160, 0.1821996742902561),\n",
       " (973, 0.18195633571851272),\n",
       " (2969, 0.18136906252750293),\n",
       " (1199, 0.17928429140015903),\n",
       " (3997, 0.17928429140015903),\n",
       " (27, 0.17787811838447135),\n",
       " (1440, 0.17677669529663687),\n",
       " (4, 0.17541160386140586),\n",
       " (305, 0.17516226243634267),\n",
       " (150, 0.17355253362515582),\n",
       " (2511, 0.17320508075688773),\n",
       " (1533, 0.17213259316477408),\n",
       " (3325, 0.16854996561581048),\n",
       " (3719, 0.16854996561581048),\n",
       " (495, 0.16770509831248423),\n",
       " (168, 0.16685595311797868),\n",
       " (184, 0.16685595311797866),\n",
       " (83, 0.16609095970747992),\n",
       " (220, 0.1651445647689541),\n",
       " (1327, 0.1651445647689541),\n",
       " (300, 0.1631883414420549),\n",
       " (931, 0.16269784336399212),\n",
       " (36, 0.1614429614050549),\n",
       " (2200, 0.1614429614050549),\n",
       " (4336, 0.1614429614050549),\n",
       " (3536, 0.15975241260567347),\n",
       " (3626, 0.15975241260567347),\n",
       " (249, 0.158113883008419),\n",
       " (1319, 0.158113883008419),\n",
       " (2997, 0.158113883008419),\n",
       " (1978, 0.15811388300841897),\n",
       " (1054, 0.15811388300841894),\n",
       " (1827, 0.15811388300841894),\n",
       " (838, 0.1571468165481551),\n",
       " (661, 0.15689290811054724),\n",
       " (91, 0.1559625734730109),\n",
       " (373, 0.15504341823651058),\n",
       " (529, 0.15498260496951666),\n",
       " (595, 0.15498260496951666),\n",
       " (46, 0.15389675281277312),\n",
       " (41, 0.15348515337873014),\n",
       " (342, 0.15344872638085652),\n",
       " (67, 0.15000000000000002),\n",
       " (1273, 0.15),\n",
       " (1342, 0.14815943949743846),\n",
       " (158, 0.14790199457749043),\n",
       " (1176, 0.14638501094227999),\n",
       " (149, 0.14605934866804426),\n",
       " (5, 0.14532958974404492),\n",
       " (4008, 0.14509525002200233),\n",
       " (773, 0.14433756729740643),\n",
       " (2756, 0.14288690166235204),\n",
       " (31, 0.1419904585617662),\n",
       " (187, 0.1414213562373095),\n",
       " (256, 0.1414213562373095),\n",
       " (1379, 0.1414213562373095),\n",
       " (3145, 0.1405456737852613),\n",
       " (26, 0.13987572123604708),\n",
       " (1392, 0.13944333775567921),\n",
       " (127, 0.13884202690012465),\n",
       " (52, 0.13837968120433278),\n",
       " (311, 0.13837968120433278),\n",
       " (1295, 0.13837968120433278),\n",
       " (1475, 0.13728129459672883),\n",
       " (7, 0.13693063937629155),\n",
       " (557, 0.13693063937629155),\n",
       " (937, 0.1355815361366601),\n",
       " (1654, 0.1355815361366601),\n",
       " (513, 0.13552618543578768),\n",
       " (275, 0.1336306209562122),\n",
       " (579, 0.1336306209562122),\n",
       " (581, 0.1336306209562122),\n",
       " (1613, 0.1328422328310143),\n",
       " (4538, 0.1328422328310143),\n",
       " (490, 0.1318760946791574),\n",
       " (1669, 0.1318760946791574),\n",
       " (294, 0.13176156917368248),\n",
       " (568, 0.13176156917368248),\n",
       " (2071, 0.13176156917368248),\n",
       " (95, 0.1315587028960544),\n",
       " (1934, 0.1315587028960544),\n",
       " (4777, 0.1315587028960544),\n",
       " (17, 0.13135265938214027),\n",
       " (1737, 0.13043729868748774),\n",
       " (108, 0.1303116728289208),\n",
       " (72, 0.12996881122750908),\n",
       " (232, 0.12996881122750908),\n",
       " (461, 0.12996881122750908),\n",
       " (2492, 0.12996881122750908),\n",
       " (466, 0.12909944487358058),\n",
       " (502, 0.12909944487358055),\n",
       " (1353, 0.12909944487358055),\n",
       " (2727, 0.12824729401064427),\n",
       " (1320, 0.12780193008453872),\n",
       " (4348, 0.1267731382092775),\n",
       " (227, 0.12659242088545833),\n",
       " (843, 0.12659242088545833),\n",
       " (859, 0.12659242088545833),\n",
       " (1745, 0.12659242088545833),\n",
       " (3352, 0.12659242088545833),\n",
       " (1325, 0.1264911064067352),\n",
       " (1961, 0.12613124477737825),\n",
       " (1271, 0.12565617248750865),\n",
       " (1556, 0.125),\n",
       " (3407, 0.125),\n",
       " (56, 0.12403473458920847),\n",
       " (476, 0.12403473458920847),\n",
       " (1484, 0.12403473458920847),\n",
       " (3779, 0.12403473458920847),\n",
       " (3980, 0.12403473458920847),\n",
       " (777, 0.12350804543889277),\n",
       " (2709, 0.12350804543889275),\n",
       " (37, 0.12346619958119871),\n",
       " (1013, 0.12346619958119871),\n",
       " (2165, 0.12346619958119871),\n",
       " (206, 0.12297746456210364),\n",
       " (740, 0.1224744871391589),\n",
       " (2129, 0.12247448713915889),\n",
       " (131, 0.12198750911856666),\n",
       " (105, 0.12171612389003693),\n",
       " (505, 0.12171612389003693),\n",
       " (668, 0.12171612389003693),\n",
       " (2452, 0.12171612389003693),\n",
       " (2869, 0.12146644952683741),\n",
       " (39, 0.12056070554260304),\n",
       " (138, 0.12056070554260304),\n",
       " (166, 0.12056070554260304),\n",
       " (413, 0.12056070554260304),\n",
       " (889, 0.12006004503753284),\n",
       " (1369, 0.11952286093343936),\n",
       " (14, 0.11918282365569904),\n",
       " (2177, 0.11918282365569904),\n",
       " (126, 0.11785113019775792),\n",
       " (330, 0.11785113019775792),\n",
       " (2446, 0.11785113019775792),\n",
       " (3233, 0.11785113019775792),\n",
       " (3338, 0.11785113019775792),\n",
       " (3620, 0.11785113019775792),\n",
       " (4077, 0.11785113019775792),\n",
       " (35, 0.11744404390294069),\n",
       " (935, 0.11744404390294069),\n",
       " (1770, 0.11744404390294069),\n",
       " (2575, 0.11744404390294069),\n",
       " (2580, 0.11744404390294069),\n",
       " (1874, 0.11677484162422844),\n",
       " (134, 0.11547005383792515),\n",
       " (208, 0.11547005383792515),\n",
       " (368, 0.11547005383792515),\n",
       " (487, 0.11547005383792515),\n",
       " (1156, 0.11547005383792515),\n",
       " (1829, 0.11547005383792515),\n",
       " (2374, 0.11547005383792515),\n",
       " (2968, 0.11547005383792515),\n",
       " (3374, 0.11547005383792515),\n",
       " (2682, 0.11531640100361064),\n",
       " (4228, 0.11531640100361064),\n",
       " (1711, 0.11504474832710557),\n",
       " (102, 0.11420804814403214),\n",
       " (219, 0.11359236684941297),\n",
       " (1066, 0.11359236684941297),\n",
       " (2648, 0.11359236684941297),\n",
       " (139, 0.11338934190276816),\n",
       " (438, 0.1129384878631564),\n",
       " (549, 0.1129384878631564),\n",
       " (1084, 0.1129384878631564),\n",
       " (1000, 0.11258799375612023),\n",
       " (363, 0.11258799375612022),\n",
       " (160, 0.11237822733688876),\n",
       " (2476, 0.11180339887498951),\n",
       " (2876, 0.11180339887498951),\n",
       " (334, 0.1118033988749895),\n",
       " (2019, 0.1118033988749895),\n",
       " (11, 0.11180339887498948),\n",
       " (400, 0.11180339887498948),\n",
       " (900, 0.11180339887498948),\n",
       " (1002, 0.11180339887498948),\n",
       " (1094, 0.11180339887498948),\n",
       " (1272, 0.11180339887498948),\n",
       " (4004, 0.11180339887498948),\n",
       " (587, 0.11070186069251191),\n",
       " (2543, 0.11070186069251191),\n",
       " (3210, 0.11044815607660857),\n",
       " (84, 0.11028219331407116),\n",
       " (68, 0.11009637651263607),\n",
       " (483, 0.11009637651263607),\n",
       " (781, 0.11009637651263607),\n",
       " (1045, 0.11009637651263607),\n",
       " (432, 0.10963225241337866),\n",
       " (1297, 0.10963225241337866),\n",
       " (1493, 0.1095445115010332),\n",
       " (85, 0.10905596674870727),\n",
       " (1526, 0.10882143751650175),\n",
       " (4568, 0.10882143751650175),\n",
       " (589, 0.10882143751650174),\n",
       " (228, 0.10859306069076735),\n",
       " (454, 0.10859306069076735),\n",
       " (536, 0.10859306069076735),\n",
       " (870, 0.10859306069076735),\n",
       " (1246, 0.10859306069076735),\n",
       " (2816, 0.10859306069076735),\n",
       " (4343, 0.10859306069076735),\n",
       " (4673, 0.10846522890932808),\n",
       " (238, 0.10811249552346709),\n",
       " (1218, 0.10758287072798381),\n",
       " (43, 0.1075828707279838),\n",
       " (2, 0.10690449676496976),\n",
       " (50, 0.10690449676496976),\n",
       " (1299, 0.10690449676496976),\n",
       " (229, 0.10673521004472301),\n",
       " (279, 0.10660035817780522),\n",
       " (1804, 0.10660035817780522),\n",
       " (3441, 0.10660035817780522),\n",
       " (3628, 0.10660035817780522),\n",
       " (3081, 0.10606601717798213),\n",
       " (123, 0.10564428184106459),\n",
       " (1798, 0.10564428184106459),\n",
       " (2280, 0.10564428184106459),\n",
       " (122, 0.10540925533894598),\n",
       " (422, 0.10540925533894598),\n",
       " (678, 0.10540925533894598),\n",
       " (1029, 0.10540925533894598),\n",
       " (1941, 0.10540925533894598),\n",
       " (2056, 0.10540925533894598),\n",
       " (2737, 0.10540925533894598),\n",
       " (81, 0.10476454436543672),\n",
       " (1570, 0.10476454436543672),\n",
       " (262, 0.10471347707292389),\n",
       " (420, 0.10471347707292389),\n",
       " (814, 0.10471347707292389),\n",
       " (1779, 0.10471347707292389),\n",
       " (2368, 0.10471347707292389),\n",
       " (3307, 0.10471347707292389),\n",
       " (28, 0.10397504898200727),\n",
       " (236, 0.10397504898200727),\n",
       " (899, 0.10397504898200727),\n",
       " (1612, 0.10397504898200727),\n",
       " (30, 0.10380684981717495),\n",
       " (182, 0.10380684981717495),\n",
       " (1017, 0.10380684981717495),\n",
       " (1414, 0.10380684981717495),\n",
       " (1508, 0.10380684981717495),\n",
       " (307, 0.10366105360784117),\n",
       " (2327, 0.10350983390135313),\n",
       " (692, 0.1029233711990773),\n",
       " (939, 0.10289915108550529),\n",
       " (87, 0.10259783520851541),\n",
       " (121, 0.10259783520851541),\n",
       " (775, 0.10259783520851541),\n",
       " (3924, 0.10259783520851541),\n",
       " (2111, 0.10229915092057103),\n",
       " (467, 0.10206207261596574),\n",
       " (70, 0.10127393670836667),\n",
       " (449, 0.10127393670836667),\n",
       " (1235, 0.10127393670836667),\n",
       " (1374, 0.10127393670836667),\n",
       " (3006, 0.10127393670836667),\n",
       " (4468, 0.10127393670836667),\n",
       " (2105, 0.1012220412723645),\n",
       " (2350, 0.1012220412723645),\n",
       " (189, 0.1011299793694863),\n",
       " (584, 0.1011299793694863),\n",
       " (2670, 0.1011299793694863),\n",
       " (4163, 0.1011299793694863),\n",
       " (143, 0.10040241611281236),\n",
       " (170, 0.10040241611281236),\n",
       " (1635, 0.10040241611281236),\n",
       " (787, 0.1),\n",
       " (1806, 0.1),\n",
       " (1492, 0.09960238411119945),\n",
       " (653, 0.09890707100936805),\n",
       " (808, 0.09890707100936805),\n",
       " (1003, 0.09890707100936805),\n",
       " (1497, 0.09890707100936805),\n",
       " (2630, 0.09890707100936805),\n",
       " (1451, 0.09882117688026186),\n",
       " (2095, 0.09882117688026186),\n",
       " (3091, 0.09882117688026186),\n",
       " (2435, 0.09882117688026185),\n",
       " (21, 0.09877295966495897),\n",
       " (223, 0.09877295966495897),\n",
       " (332, 0.09877295966495897),\n",
       " (472, 0.09877295966495897),\n",
       " (2813, 0.09877295966495897),\n",
       " (2102, 0.09805806756909202),\n",
       " (4483, 0.09805806756909202),\n",
       " (329, 0.09759000729485333),\n",
       " (687, 0.09759000729485333),\n",
       " (2144, 0.09759000729485333),\n",
       " (4602, 0.09759000729485333),\n",
       " (572, 0.09731236802019037),\n",
       " (654, 0.09731236802019037),\n",
       " (627, 0.09682458365518543),\n",
       " (2808, 0.09682458365518543),\n",
       " (3153, 0.09682458365518543),\n",
       " (3619, 0.09682458365518543),\n",
       " (2029, 0.09658342616078197),\n",
       " (75, 0.09644856443408242),\n",
       " (3496, 0.09644856443408242),\n",
       " (3903, 0.09587062360592132),\n",
       " (1630, 0.095831484749991),\n",
       " (10, 0.09534625892455924),\n",
       " (312, 0.09534625892455924),\n",
       " (754, 0.09534625892455924),\n",
       " (786, 0.09534625892455924),\n",
       " (1035, 0.09534625892455924),\n",
       " (1767, 0.09534625892455924),\n",
       " (2249, 0.09534625892455924),\n",
       " (3439, 0.09517337345336013),\n",
       " (491, 0.09517337345336012),\n",
       " (1401, 0.09517337345336012),\n",
       " (1346, 0.09486832980505139),\n",
       " (1520, 0.09486832980505139),\n",
       " (1741, 0.09486832980505139),\n",
       " (2758, 0.09486832980505139),\n",
       " (2783, 0.09486832980505139),\n",
       " (4128, 0.09486832980505139),\n",
       " (4201, 0.09486832980505139),\n",
       " (2494, 0.0944911182523068),\n",
       " (86, 0.09428090415820634),\n",
       " (266, 0.09428090415820634),\n",
       " (508, 0.09428090415820634),\n",
       " (1080, 0.09428090415820634),\n",
       " (1292, 0.09428090415820634),\n",
       " (3150, 0.09428090415820634),\n",
       " (101, 0.09325048082403138),\n",
       " (510, 0.09325048082403138),\n",
       " (986, 0.09325048082403138),\n",
       " (1610, 0.09325048082403138),\n",
       " (2159, 0.09325048082403138),\n",
       " (3426, 0.09325048082403138),\n",
       " (4266, 0.09325048082403138),\n",
       " (233, 0.09302605094190636),\n",
       " (624, 0.09302605094190636),\n",
       " (1154, 0.09302605094190636),\n",
       " (1238, 0.09302605094190636),\n",
       " (1571, 0.09302605094190636),\n",
       " (2517, 0.09302605094190636),\n",
       " (3481, 0.09302605094190636),\n",
       " (3659, 0.09302605094190636),\n",
       " (3952, 0.09302605094190636),\n",
       " (4133, 0.09302605094190636),\n",
       " (1723, 0.09302605094190634),\n",
       " (1435, 0.09252915127470066),\n",
       " (1894, 0.09252915127470066),\n",
       " (445, 0.09225312080288851),\n",
       " (1397, 0.09225312080288851),\n",
       " (3753, 0.09225312080288851),\n",
       " (4017, 0.09225312080288851),\n",
       " (230, 0.09190182776172597),\n",
       " (4545, 0.09190182776172597),\n",
       " (9, 0.0912870929175277),\n",
       " (898, 0.0912870929175277),\n",
       " (1068, 0.0912870929175277),\n",
       " (1107, 0.0912870929175277),\n",
       " (2237, 0.0912870929175277),\n",
       " (4203, 0.0912870929175277),\n",
       " (263, 0.09128709291752769),\n",
       " (695, 0.09128709291752769),\n",
       " (1075, 0.09128709291752769),\n",
       " (1164, 0.09128709291752769),\n",
       " (1682, 0.09128709291752769),\n",
       " (2157, 0.09128709291752769),\n",
       " (2246, 0.09128709291752769),\n",
       " (3053, 0.09128709291752769),\n",
       " (3837, 0.09128709291752769),\n",
       " (3998, 0.09128709291752769),\n",
       " (412, 0.09035079029052512),\n",
       " (480, 0.09035079029052512),\n",
       " (535, 0.09035079029052512),\n",
       " (932, 0.09035079029052512),\n",
       " (1819, 0.09035079029052512),\n",
       " (3253, 0.09035079029052512),\n",
       " (4789, 0.09009374626955591),\n",
       " (239, 0.0900937462695559),\n",
       " (200, 0.08964214570007953),\n",
       " (319, 0.08964214570007953),\n",
       " (2319, 0.08964214570007953),\n",
       " (2785, 0.08964214570007953),\n",
       " (157, 0.08964214570007951),\n",
       " (295, 0.08944271909999159),\n",
       " (365, 0.08944271909999159),\n",
       " (371, 0.08944271909999159),\n",
       " (410, 0.08944271909999159),\n",
       " (643, 0.08944271909999159),\n",
       " (1355, 0.08944271909999159),\n",
       " (2552, 0.08944271909999159),\n",
       " (2697, 0.08944271909999159),\n",
       " (3933, 0.08944271909999159),\n",
       " (286, 0.08894600837060251),\n",
       " (1688, 0.08856148855400953),\n",
       " (3353, 0.08856148855400953),\n",
       " (3781, 0.08856148855400953),\n",
       " (3872, 0.08856148855400953),\n",
       " (3734, 0.08808303292720553),\n",
       " (325, 0.08808303292720551),\n",
       " (1260, 0.08808303292720551),\n",
       " (1569, 0.08808303292720551),\n",
       " (1938, 0.08808303292720551),\n",
       " (2266, 0.08808303292720551),\n",
       " (3899, 0.08808303292720551),\n",
       " (4196, 0.08808303292720551),\n",
       " (799, 0.08784104611578832),\n",
       " (243, 0.08770580193070293),\n",
       " (1697, 0.08770580193070293),\n",
       " (2243, 0.08770580193070293),\n",
       " (2646, 0.08770580193070293),\n",
       " (473, 0.08687444855261388),\n",
       " (813, 0.08687444855261388),\n",
       " (2484, 0.08687444855261388),\n",
       " (3609, 0.08687444855261388),\n",
       " (4790, 0.08687444855261388),\n",
       " (1739, 0.08677626681257791),\n",
       " (2566, 0.08677626681257791),\n",
       " (274, 0.08669104580816224),\n",
       " (33, 0.08660254037844387),\n",
       " (159, 0.08660254037844387),\n",
       " (362, 0.08660254037844387),\n",
       " (791, 0.08660254037844387),\n",
       " (1304, 0.08660254037844387),\n",
       " (1880, 0.08660254037844387),\n",
       " (2558, 0.08660254037844387),\n",
       " (2641, 0.08660254037844387),\n",
       " (3570, 0.08660254037844387),\n",
       " (4016, 0.08660254037844387),\n",
       " (278, 0.08606629658238704),\n",
       " (596, 0.08606629658238704),\n",
       " (602, 0.08606629658238704),\n",
       " (1442, 0.08606629658238704),\n",
       " (2068, 0.08606629658238704),\n",
       " (3405, 0.08606629658238704),\n",
       " (1955, 0.08574929257125441),\n",
       " (3429, 0.08574929257125441),\n",
       " (331, 0.08528028654224418),\n",
       " (1842, 0.08528028654224418),\n",
       " (2014, 0.08528028654224418),\n",
       " (3387, 0.08528028654224418),\n",
       " (3618, 0.08528028654224418),\n",
       " (301, 0.08524929243380919),\n",
       " (660, 0.08519427513705972),\n",
       " (878, 0.08519427513705972),\n",
       " (1278, 0.08519427513705972),\n",
       " (1470, 0.08519427513705972),\n",
       " (2049, 0.08519427513705972),\n",
       " (2392, 0.08519427513705972),\n",
       " (2502, 0.08519427513705972),\n",
       " (2946, 0.08519427513705972),\n",
       " (3535, 0.08519427513705972),\n",
       " (4254, 0.08519427513705972),\n",
       " (18, 0.0847579379526013),\n",
       " (785, 0.0847579379526013),\n",
       " (1771, 0.0847579379526013),\n",
       " (199, 0.08451542547285167),\n",
       " (1167, 0.08451542547285167),\n",
       " (1274, 0.08451542547285167),\n",
       " (12, 0.08385254915624211),\n",
       " (148, 0.08385254915624211),\n",
       " (167, 0.08385254915624211),\n",
       " (244, 0.08385254915624211),\n",
       " (511, 0.08385254915624211),\n",
       " (715, 0.08385254915624211),\n",
       " (978, 0.08385254915624211),\n",
       " (1752, 0.08385254915624211),\n",
       " (2089, 0.08385254915624211),\n",
       " (2647, 0.08385254915624211),\n",
       " (4403, 0.08385254915624211),\n",
       " (1173, 0.08377078165833911),\n",
       " (1231, 0.08377078165833911),\n",
       " (1673, 0.08377078165833911),\n",
       " (2573, 0.08377078165833911),\n",
       " (2736, 0.08377078165833911),\n",
       " (479, 0.08333333333333333),\n",
       " (2444, 0.08333333333333333),\n",
       " (63, 0.08304547985373996),\n",
       " (270, 0.08304547985373996),\n",
       " (395, 0.08304547985373996),\n",
       " (827, 0.08304547985373996),\n",
       " (1193, 0.08304547985373996),\n",
       " (1902, 0.08304547985373996),\n",
       " (292, 0.08257228238447706),\n",
       " (389, 0.08257228238447706),\n",
       " (920, 0.08257228238447706),\n",
       " (1025, 0.08257228238447706),\n",
       " (1717, 0.08257228238447706),\n",
       " (2656, 0.08257228238447706),\n",
       " (3133, 0.08257228238447706),\n",
       " (3551, 0.08233869695926184),\n",
       " (3808, 0.08195375470622297),\n",
       " (29, 0.0816496580927726),\n",
       " (169, 0.0816496580927726),\n",
       " (752, 0.0816496580927726),\n",
       " (1828, 0.0816496580927726),\n",
       " (3632, 0.0816496580927726),\n",
       " (4095, 0.0816496580927726),\n",
       " (564, 0.08134892168199606),\n",
       " (1247, 0.08134892168199606),\n",
       " (1257, 0.08134892168199606),\n",
       " (1476, 0.08134892168199606),\n",
       " (2116, 0.08134892168199606),\n",
       " (2247, 0.08134892168199606),\n",
       " (2955, 0.08134892168199606),\n",
       " (3107, 0.08134892168199606),\n",
       " (3447, 0.08134892168199606),\n",
       " (3486, 0.08134892168199606),\n",
       " (3513, 0.08134892168199606),\n",
       " (4331, 0.08134892168199606),\n",
       " (4490, 0.08134892168199606),\n",
       " (4754, 0.08134892168199606),\n",
       " (234, 0.0809776330178916),\n",
       " (856, 0.0809776330178916),\n",
       " (2359, 0.0809776330178916),\n",
       " (2588, 0.0809776330178916),\n",
       " (2966, 0.0809776330178916),\n",
       " (3586, 0.0809776330178916),\n",
       " (1904, 0.08068715304598786),\n",
       " (32, 0.08032193289024989),\n",
       " (48, 0.08032193289024989),\n",
       " (129, 0.08032193289024989),\n",
       " (217, 0.08032193289024989),\n",
       " (575, 0.08032193289024989),\n",
       " (618, 0.08032193289024989),\n",
       " (1303, 0.08032193289024989),\n",
       " (88, 0.08017837257372731),\n",
       " (141, 0.08017837257372731),\n",
       " (356, 0.08017837257372731),\n",
       " (794, 0.08017837257372731),\n",
       " (987, 0.08017837257372731),\n",
       " (2864, 0.08017837257372731),\n",
       " (3295, 0.08017837257372731),\n",
       " (19, 0.07968190728895956),\n",
       " (2468, 0.07968190728895956),\n",
       " (3554, 0.07968190728895956),\n",
       " (2382, 0.07945521577046603),\n",
       " (45, 0.07905694150420949),\n",
       " (190, 0.07905694150420949),\n",
       " (457, 0.07905694150420949),\n",
       " (745, 0.07905694150420949),\n",
       " (963, 0.07905694150420949),\n",
       " (995, 0.07905694150420949),\n",
       " (1095, 0.07905694150420949),\n",
       " (1132, 0.07905694150420949),\n",
       " (1147, 0.07905694150420949),\n",
       " (2155, 0.07905694150420949),\n",
       " (2257, 0.07905694150420949),\n",
       " (3342, 0.07905694150420949),\n",
       " (4279, 0.07905694150420949),\n",
       " (4472, 0.07905694150420949),\n",
       " (4641, 0.07905694150420949),\n",
       " (2828, 0.07866459694094408),\n",
       " (79, 0.07844645405527362),\n",
       " (375, 0.07844645405527362),\n",
       " (1824, 0.07844645405527362),\n",
       " (3879, 0.07844645405527362),\n",
       " (4506, 0.07844645405527362),\n",
       " (1, 0.07798128673650545),\n",
       " (23, 0.07798128673650545),\n",
       " (960, 0.07798128673650545),\n",
       " (1139, 0.07798128673650545),\n",
       " (1585, 0.07798128673650545),\n",
       " (2108, 0.07798128673650545),\n",
       " (2861, 0.07798128673650545),\n",
       " (3320, 0.07798128673650545),\n",
       " (3446, 0.07798128673650545),\n",
       " (106, 0.0778498944161523),\n",
       " (403, 0.0778498944161523),\n",
       " (541, 0.0778498944161523),\n",
       " (2315, 0.07726674092862558),\n",
       " (164, 0.07694837640638656),\n",
       " (326, 0.07694837640638656),\n",
       " (1205, 0.07694837640638656),\n",
       " (1310, 0.07694837640638656),\n",
       " (1402, 0.07694837640638656),\n",
       " (1684, 0.07694837640638656),\n",
       " (1743, 0.07694837640638656),\n",
       " (2640, 0.07694837640638656),\n",
       " (4560, 0.07694837640638656),\n",
       " (486, 0.0767868896042439),\n",
       " (501, 0.07669649888473705),\n",
       " (812, 0.07669649888473705),\n",
       " (1101, 0.07669649888473705),\n",
       " (1625, 0.07669649888473705),\n",
       " (2199, 0.07669649888473705),\n",
       " (2384, 0.07669649888473705),\n",
       " (2788, 0.07669649888473705),\n",
       " (2792, 0.07669649888473705),\n",
       " (3495, 0.07669649888473705),\n",
       " (3718, 0.07669649888473705),\n",
       " (4034, 0.07669649888473705),\n",
       " (4075, 0.07669649888473705),\n",
       " (4502, 0.07669649888473705),\n",
       " (38, 0.0761386987626881),\n",
       " (103, 0.0761386987626881),\n",
       " (3558, 0.0761386987626881),\n",
       " (152, 0.075955452531275),\n",
       " (203, 0.075955452531275),\n",
       " (241, 0.075955452531275),\n",
       " (315, 0.075955452531275),\n",
       " (547, 0.075955452531275),\n",
       " (894, 0.075955452531275),\n",
       " (2124, 0.075955452531275),\n",
       " (2163, 0.075955452531275),\n",
       " (3299, 0.075955452531275),\n",
       " (3345, 0.075955452531275),\n",
       " (3849, 0.075955452531275),\n",
       " (1530, 0.07559289460184544),\n",
       " (125, 0.07547319081399415),\n",
       " (193, 0.07537783614444091),\n",
       " (1920, 0.07505866250408015),\n",
       " (2393, 0.07505866250408015),\n",
       " (2545, 0.07505866250408015),\n",
       " (242, 0.07500000000000001),\n",
       " (245, 0.07500000000000001),\n",
       " (306, 0.07500000000000001),\n",
       " (341, 0.07500000000000001),\n",
       " (1515, 0.07500000000000001),\n",
       " (2171, 0.07500000000000001),\n",
       " (2300, 0.07500000000000001),\n",
       " (3164, 0.07500000000000001),\n",
       " (4626, 0.07500000000000001),\n",
       " (4657, 0.07500000000000001),\n",
       " (4671, 0.07500000000000001),\n",
       " (153, 0.074535599249993),\n",
       " (2667, 0.074535599249993),\n",
       " (2846, 0.074535599249993),\n",
       " (2852, 0.074535599249993),\n",
       " (3460, 0.074535599249993),\n",
       " (3726, 0.074535599249993),\n",
       " (3986, 0.074535599249993),\n",
       " (4353, 0.074535599249993),\n",
       " (16, 0.07407971974871923),\n",
       " (98, 0.07407971974871923),\n",
       " (626, 0.07407971974871923),\n",
       " (854, 0.07407971974871923),\n",
       " (985, 0.07407971974871923),\n",
       " (1267, 0.07407971974871923),\n",
       " (1323, 0.07407971974871923),\n",
       " (1838, 0.07407971974871923),\n",
       " (2291, 0.07407971974871923),\n",
       " (2657, 0.07407971974871923),\n",
       " (2679, 0.07407971974871923),\n",
       " (3026, 0.07407971974871923),\n",
       " (4341, 0.07407971974871923),\n",
       " (1344, 0.07402332101976053),\n",
       " (112, 0.07319250547113999),\n",
       " (142, 0.07319250547113999),\n",
       " (922, 0.07319250547113999),\n",
       " (1111, 0.07319250547113999),\n",
       " (1159, 0.07319250547113999),\n",
       " (1291, 0.07319250547113999),\n",
       " (2220, 0.07319250547113999),\n",
       " (2445, 0.07319250547113999),\n",
       " (3100, 0.07319250547113999),\n",
       " (3138, 0.07319250547113999),\n",
       " (3162, 0.07319250547113999),\n",
       " (3231, 0.07319250547113999),\n",
       " (3762, 0.07319250547113999),\n",
       " (4316, 0.07319250547113999),\n",
       " (3329, 0.07277781371744775),\n",
       " (246, 0.07254762501100116),\n",
       " (1617, 0.07254762501100116),\n",
       " (1818, 0.07254762501100116),\n",
       " (3178, 0.07254762501100116),\n",
       " (3976, 0.07254762501100116),\n",
       " (4516, 0.07254762501100116),\n",
       " (235, 0.07233642332556181),\n",
       " (485, 0.07233642332556181),\n",
       " (901, 0.07233642332556181),\n",
       " (929, 0.07233642332556181),\n",
       " (1288, 0.07233642332556181),\n",
       " (1715, 0.07233642332556181),\n",
       " (51, 0.07207499701564472),\n",
       " (1655, 0.07207499701564472),\n",
       " (1922, 0.07207499701564472),\n",
       " (2001, 0.07207499701564472),\n",
       " (222, 0.07161148740394328),\n",
       " (391, 0.07161148740394328),\n",
       " (96, 0.07150969419341943),\n",
       " (174, 0.07150969419341943),\n",
       " (369, 0.07150969419341943),\n",
       " (632, 0.07150969419341943),\n",
       " (737, 0.07150969419341943),\n",
       " (1287, 0.07150969419341943),\n",
       " (1519, 0.07150969419341943),\n",
       " (2936, 0.07150969419341943),\n",
       " (3089, 0.07150969419341943),\n",
       " (4624, 0.07150969419341943),\n",
       " (4640, 0.07150969419341943),\n",
       " (1483, 0.07115680669648201),\n",
       " (62, 0.07071067811865475),\n",
       " (361, 0.07071067811865475),\n",
       " (381, 0.07071067811865475),\n",
       " (402, 0.07071067811865475),\n",
       " (534, 0.07071067811865475),\n",
       " (680, 0.07071067811865475),\n",
       " (1078, 0.07071067811865475),\n",
       " (1660, 0.07071067811865475),\n",
       " (1694, 0.07071067811865475),\n",
       " (2252, 0.07071067811865475),\n",
       " (2496, 0.07071067811865475),\n",
       " (2579, 0.07071067811865475),\n",
       " (2635, 0.07071067811865475),\n",
       " (2873, 0.07071067811865475),\n",
       " (3281, 0.07071067811865475),\n",
       " (3525, 0.07071067811865475),\n",
       " (4236, 0.07071067811865475),\n",
       " (4587, 0.07071067811865475),\n",
       " (4771, 0.07071067811865475),\n",
       " (40, 0.06993786061802354),\n",
       " (207, 0.06993786061802354),\n",
       " (210, 0.06993786061802354),\n",
       " (492, 0.06993786061802354),\n",
       " (1007, 0.06993786061802354),\n",
       " (2914, 0.06993786061802354),\n",
       " (2982, 0.06993786061802354),\n",
       " (3020, 0.06993786061802354),\n",
       " (4043, 0.06993786061802354),\n",
       " (4558, 0.06993786061802354),\n",
       " (3, 0.06984302957695782),\n",
       " (1986, 0.06984302957695782),\n",
       " (82, 0.06918984060216639),\n",
       " (349, 0.06918984060216639),\n",
       " (350, 0.06918984060216639),\n",
       " (503, 0.06918984060216639),\n",
       " (543, 0.06918984060216639),\n",
       " (634, 0.06918984060216639),\n",
       " (1140, 0.06918984060216639),\n",
       " (1143, 0.06918984060216639),\n",
       " (1363, 0.06918984060216639),\n",
       " (1619, 0.06918984060216639),\n",
       " (1639, 0.06918984060216639),\n",
       " (2052, 0.06918984060216639),\n",
       " (2391, 0.06918984060216639),\n",
       " (3476, 0.06918984060216639),\n",
       " (774, 0.06900655593423542),\n",
       " (776, 0.06900655593423542),\n",
       " (858, 0.06900655593423542),\n",
       " (1137, 0.06900655593423542),\n",
       " (1280, 0.06900655593423542),\n",
       " (2270, 0.06900655593423542),\n",
       " (4074, 0.06900655593423542),\n",
       " (4246, 0.06900655593423542),\n",
       " (4473, 0.06900655593423542),\n",
       " (4492, 0.06900655593423542),\n",
       " (2186, 0.06859943405700353),\n",
       " (71, 0.06846531968814579),\n",
       " (977, 0.06846531968814579),\n",
       " (1166, 0.06846531968814579),\n",
       " (1496, 0.06846531968814579),\n",
       " (1992, 0.06846531968814579),\n",
       " (2707, 0.06846531968814579),\n",
       " (3298, 0.06846531968814579),\n",
       " (3468, 0.06846531968814579),\n",
       " (3814, 0.06846531968814579),\n",
       " (2017, 0.06846531968814577),\n",
       " (1487, 0.06793662204867576),\n",
       " (76, 0.06776309271789384),\n",
       " (97, 0.06776309271789384),\n",
       " (784, 0.06776309271789384),\n",
       " (833, 0.06776309271789384),\n",
       " (862, 0.06776309271789384),\n",
       " (1879, 0.06776309271789384),\n",
       " (2215, 0.06776309271789384),\n",
       " (3204, 0.06776309271789384),\n",
       " (3399, 0.06776309271789384),\n",
       " (3462, 0.06776309271789384),\n",
       " (3803, 0.06776309271789384),\n",
       " (59, 0.0674199862463242),\n",
       " (790, 0.0674199862463242),\n",
       " (866, 0.0674199862463242),\n",
       " (1252, 0.0674199862463242),\n",
       " (1651, 0.0674199862463242),\n",
       " (2293, 0.0674199862463242),\n",
       " (2797, 0.0674199862463242),\n",
       " (3115, 0.0674199862463242),\n",
       " (3974, 0.0674199862463242),\n",
       " (4129, 0.0674199862463242),\n",
       " (4654, 0.0674199862463242),\n",
       " (4737, 0.0674199862463242),\n",
       " (93, 0.0670820393249937),\n",
       " (271, 0.0670820393249937),\n",
       " (665, 0.0670820393249937),\n",
       " (816, 0.0670820393249937),\n",
       " (885, 0.0670820393249937),\n",
       " (908, 0.0670820393249937),\n",
       " (933, 0.0670820393249937),\n",
       " (1423, 0.0670820393249937),\n",
       " (1690, 0.0670820393249937),\n",
       " (2954, 0.0670820393249937),\n",
       " (3009, 0.0670820393249937),\n",
       " (3470, 0.0670820393249937),\n",
       " (4081, 0.0670820393249937),\n",
       " (4178, 0.0670820393249937),\n",
       " (55, 0.06666666666666667),\n",
       " (2759, 0.06666666666666667),\n",
       " (175, 0.06642111641550714),\n",
       " (302, 0.06642111641550714),\n",
       " (674, 0.06642111641550714),\n",
       " (728, 0.06642111641550714),\n",
       " (1843, 0.06642111641550714),\n",
       " (2099, 0.06642111641550714),\n",
       " (2523, 0.06642111641550714),\n",
       " (2848, 0.06642111641550714),\n",
       " (3303, 0.06642111641550714),\n",
       " (3421, 0.06642111641550714),\n",
       " (850, 0.0659380473395787),\n",
       " (1043, 0.0659380473395787),\n",
       " (1417, 0.0659380473395787),\n",
       " (1498, 0.0659380473395787),\n",
       " (1517, 0.0659380473395787),\n",
       " (1766, 0.0659380473395787),\n",
       " (2110, 0.0659380473395787),\n",
       " (2161, 0.0659380473395787),\n",
       " (2208, 0.0659380473395787),\n",
       " (2335, 0.0659380473395787),\n",
       " (2768, 0.0659380473395787),\n",
       " (2894, 0.0659380473395787),\n",
       " (3428, 0.0659380473395787),\n",
       " (3767, 0.0659380473395787),\n",
       " (4028, 0.0659380473395787),\n",
       " (4064, 0.0659380473395787),\n",
       " (4368, 0.0659380473395787),\n",
       " (4542, 0.0659380473395787),\n",
       " (335, 0.0657793514480272),\n",
       " (1116, 0.0657793514480272),\n",
       " (1761, 0.0657793514480272),\n",
       " (2827, 0.0657793514480272),\n",
       " (183, 0.06558258357839529),\n",
       " (254, 0.0651558364144604),\n",
       " (419, 0.0651558364144604),\n",
       " (782, 0.0651558364144604),\n",
       " (1065, 0.0651558364144604),\n",
       " (1144, 0.0651558364144604),\n",
       " (1338, 0.0651558364144604),\n",
       " (1628, 0.0651558364144604),\n",
       " (2205, 0.0651558364144604),\n",
       " (2901, 0.0651558364144604),\n",
       " (3483, 0.0651558364144604),\n",
       " (3699, 0.0651558364144604),\n",
       " (25, 0.06488856845230502),\n",
       " (100, 0.06454972243679029),\n",
       " (800, 0.06454972243679029),\n",
       " (993, 0.06454972243679029),\n",
       " (1406, 0.06454972243679029),\n",
       " (1534, 0.06454972243679029),\n",
       " (2377, 0.06454972243679029),\n",
       " (2475, 0.06454972243679029),\n",
       " (2652, 0.06454972243679029),\n",
       " (2708, 0.06454972243679029),\n",
       " (2923, 0.06454972243679029),\n",
       " (4009, 0.06454972243679029),\n",
       " (4412, 0.06454972243679029),\n",
       " (4443, 0.06454972243679029),\n",
       " (165, 0.06454972243679027),\n",
       " (600, 0.06454972243679027),\n",
       " (671, 0.06454972243679027),\n",
       " (732, 0.06454972243679027),\n",
       " (1276, 0.06454972243679027),\n",
       " (1453, 0.06454972243679027),\n",
       " (1588, 0.06454972243679027),\n",
       " (1998, 0.06454972243679027),\n",
       " (2239, 0.06454972243679027),\n",
       " (3308, 0.06454972243679027),\n",
       " (3905, 0.06454972243679027),\n",
       " (2045, 0.06433562658187233),\n",
       " (1832, 0.06421612990679357),\n",
       " (212, 0.06396021490668313),\n",
       " (734, 0.06396021490668313),\n",
       " (1201, 0.06396021490668313),\n",
       " (2986, 0.06396021490668313),\n",
       " (488, 0.06388765649999399),\n",
       " (379, 0.06356417261637283),\n",
       " (893, 0.06356417261637283),\n",
       " (304, 0.06350006350009525),\n",
       " (15, 0.06338656910463875),\n",
       " (124, 0.06338656910463875),\n",
       " (132, 0.06338656910463875),\n",
       " (540, 0.06338656910463875),\n",
       " (704, 0.06338656910463875),\n",
       " (1502, 0.06338656910463875),\n",
       " (4121, 0.06338656910463875),\n",
       " (109, 0.0632455532033676),\n",
       " (205, 0.0632455532033676),\n",
       " (209, 0.0632455532033676),\n",
       " (1226, 0.0632455532033676),\n",
       " (1485, 0.0632455532033676),\n",
       " (2441, 0.0632455532033676),\n",
       " (2529, 0.0632455532033676),\n",
       " (2547, 0.0632455532033676),\n",
       " (3070, 0.0632455532033676),\n",
       " (3221, 0.0632455532033676),\n",
       " (3714, 0.0632455532033676),\n",
       " (3830, 0.0632455532033676),\n",
       " (4431, 0.0632455532033676),\n",
       " (4638, 0.0632455532033676),\n",
       " (58, 0.06282808624375433),\n",
       " (140, 0.06282808624375433),\n",
       " (215, 0.06282808624375433),\n",
       " (635, 0.06282808624375433),\n",
       " (2031, 0.06282808624375433),\n",
       " (2676, 0.06282808624375433),\n",
       " (253, 0.06228410989030497),\n",
       " (675, 0.06228410989030497),\n",
       " (1009, 0.06228410989030497),\n",
       " (1016, 0.06228410989030497),\n",
       " (1119, 0.06228410989030497),\n",
       " (1184, 0.06228410989030497),\n",
       " (1428, 0.06228410989030497),\n",
       " (1441, 0.06228410989030497),\n",
       " (2301, 0.06228410989030497),\n",
       " (2316, 0.06228410989030497),\n",
       " (2400, 0.06228410989030497),\n",
       " (3223, 0.06228410989030497),\n",
       " (3701, 0.06228410989030497),\n",
       " (22, 0.062017367294604234),\n",
       " (179, 0.062017367294604234),\n",
       " (418, 0.062017367294604234),\n",
       " (546, 0.062017367294604234),\n",
       " (570, 0.062017367294604234),\n",
       " (1333, 0.062017367294604234),\n",
       " (1516, 0.062017367294604234),\n",
       " (1733, 0.062017367294604234),\n",
       " (2313, 0.062017367294604234),\n",
       " (2322, 0.062017367294604234),\n",
       " (2431, 0.062017367294604234),\n",
       " (2549, 0.062017367294604234),\n",
       " (2850, 0.062017367294604234),\n",
       " (3306, 0.062017367294604234),\n",
       " (4214, 0.062017367294604234),\n",
       " (4290, 0.062017367294604234),\n",
       " (4312, 0.062017367294604234),\n",
       " (1954, 0.06175402271944638),\n",
       " (2260, 0.06175402271944638),\n",
       " (2298, 0.06175402271944638),\n",
       " (2592, 0.06175402271944638),\n",
       " (3908, 0.06175402271944638),\n",
       " (2515, 0.06142951168339512),\n",
       " (3633, 0.06123724356957946),\n",
       " (281, 0.06123724356957945),\n",
       " (282, 0.06123724356957945),\n",
       " (447, 0.06123724356957945),\n",
       " (565, 0.06123724356957945),\n",
       " (735, 0.06123724356957945),\n",
       " (770, 0.06123724356957945),\n",
       " (1999, 0.06123724356957945),\n",
       " (3877, 0.06123724356957945),\n",
       " (44, 0.060858061945018464),\n",
       " (216, 0.060858061945018464),\n",
       " (308, 0.060858061945018464),\n",
       " (459, 0.060858061945018464),\n",
       " (537, 0.060858061945018464),\n",
       " (1083, 0.060858061945018464),\n",
       " (1677, 0.060858061945018464),\n",
       " (1785, 0.060858061945018464),\n",
       " (2214, 0.060858061945018464),\n",
       " (2255, 0.060858061945018464),\n",
       " (2618, 0.060858061945018464),\n",
       " (2660, 0.060858061945018464),\n",
       " (2711, 0.060858061945018464),\n",
       " (2779, 0.060858061945018464),\n",
       " (3396, 0.060858061945018464),\n",
       " (3410, 0.060858061945018464),\n",
       " (3861, 0.060858061945018464),\n",
       " (3889, 0.060858061945018464),\n",
       " (746, 0.0607332247634187),\n",
       " (1085, 0.0607332247634187),\n",
       " (1844, 0.0607332247634187),\n",
       " (2131, 0.0607332247634187),\n",
       " (2653, 0.0607332247634187),\n",
       " (2754, 0.0607332247634187),\n",
       " ...]"
      ]
     },
     "execution_count": 211,
     "metadata": {},
     "output_type": "execute_result"
    }
   ],
   "source": [
    "sorted(list(enumerate(similarity[0])), reverse=True, key=lambda x:x[1])"
   ]
  },
  {
   "cell_type": "markdown",
   "id": "j22kiuV7OU3w",
   "metadata": {
    "id": "j22kiuV7OU3w"
   },
   "source": [
    "# Graph Work"
   ]
  },
  {
   "cell_type": "code",
   "execution_count": null,
   "id": "_ZNliV11xllI",
   "metadata": {
    "id": "_ZNliV11xllI"
   },
   "outputs": [],
   "source": [
    "import plotly.graph_objects as go"
   ]
  },
  {
   "cell_type": "code",
   "execution_count": null,
   "id": "NLcBc6Fcf7X4",
   "metadata": {
    "colab": {
     "base_uri": "https://localhost:8080/",
     "height": 423
    },
    "id": "NLcBc6Fcf7X4",
    "outputId": "42982fc9-e0cf-4508-bff6-a312f75706bf",
    "scrolled": true
   },
   "outputs": [],
   "source": [
    "new_df"
   ]
  },
  {
   "cell_type": "code",
   "execution_count": null,
   "id": "zbChUdCgPxgx",
   "metadata": {
    "colab": {
     "base_uri": "https://localhost:8080/",
     "height": 1000
    },
    "id": "zbChUdCgPxgx",
    "outputId": "66dc36fa-ef5e-44b3-efbf-629f0e2c754e"
   },
   "outputs": [],
   "source": [
    "new_df[new_df['actorsandactress'].explode().str.contains('nicolas',case=False)]"
   ]
  },
  {
   "cell_type": "code",
   "execution_count": null,
   "id": "i0kx1xYn8UEq",
   "metadata": {
    "colab": {
     "base_uri": "https://localhost:8080/",
     "height": 53
    },
    "id": "i0kx1xYn8UEq",
    "outputId": "fea32187-dd47-43dd-ece1-e0433f81dcec"
   },
   "outputs": [],
   "source": [
    "new_df[new_df[search_for].str.contains(name, case=False, na=False)]"
   ]
  },
  {
   "cell_type": "code",
   "execution_count": null,
   "id": "dYwx8kuP1OVi",
   "metadata": {
    "colab": {
     "base_uri": "https://localhost:8080/",
     "height": 423
    },
    "id": "dYwx8kuP1OVi",
    "outputId": "96957100-98f2-472d-c7e9-8ef21e76a118"
   },
   "outputs": [],
   "source": [
    "name = 'superman' # Some words may not work | when searching for tags avoid spaces\n",
    "search_for = 'tags' # title | tags\n",
    "save = []\n",
    "try:\n",
    "    distances = similarity[new_df[new_df[search_for].str.contains(name, case=False, na=False)].index[0]]\n",
    "except IndexError as e:\n",
    "    print(f\"{name} is not in class {search_for}\")\n",
    "    raise\n",
    "sim_list = sorted(list(enumerate(distances)), reverse=True, key=lambda x:x[1])[0:]\n",
    "sim = pd.DataFrame(sim_list,columns=['Movie Index', 'Similarity'])\n",
    "for i in sim_list:\n",
    "  save.append(new_df.iloc[i[0]].title)\n",
    "  title = pd.DataFrame(save,columns=['Title'])\n",
    "sim = pd.concat([sim, title], axis=1, ignore_index=True)\n",
    "sim = sim.rename(columns={0: 'Movie Index',1:'Similarity',2:'Title'})\n",
    "sim"
   ]
  },
  {
   "cell_type": "code",
   "execution_count": null,
   "id": "vlTjnA-15Ao8",
   "metadata": {
    "colab": {
     "base_uri": "https://localhost:8080/",
     "height": 542
    },
    "id": "vlTjnA-15Ao8",
    "outputId": "98d363a7-8881-4e27-e38d-456588d8070d"
   },
   "outputs": [],
   "source": [
    "# Create scatter plot\n",
    "sim['Similarity'] = sim['Similarity'].replace(0, np.nan)[1:] # do [1:] for a less biased graph\n",
    "trace = go.Scatter(\n",
    "    x = sim['Similarity'],\n",
    "    y = sim['Movie Index'],\n",
    "    mode = 'markers',\n",
    "    text = sim['Title'],\n",
    "    marker=dict(\n",
    "        size=10,\n",
    "        color=sim['Similarity'],\n",
    "        colorscale='Viridis',\n",
    "        showscale=True\n",
    "    ),\n",
    "    textposition=\"top center\"\n",
    ")\n",
    "\n",
    "layout = go.Layout(\n",
    "    title='Similarity Clusters',\n",
    "    xaxis=dict(title='Distance (How similar)'),\n",
    "    yaxis=dict(title='Index'),\n",
    "    hovermode='closest'\n",
    ")\n",
    "\n",
    "fig = go.Figure(data=[trace], layout=layout)\n",
    "\n",
    "fig.show()\n"
   ]
  },
  {
   "cell_type": "markdown",
   "id": "7oiaG1HeOc2E",
   "metadata": {
    "id": "7oiaG1HeOc2E"
   },
   "source": [
    "# Project Work"
   ]
  },
  {
   "cell_type": "code",
   "execution_count": null,
   "id": "90ad1b27-2e10-4555-9038-8e5cb90b1f3d",
   "metadata": {
    "id": "90ad1b27-2e10-4555-9038-8e5cb90b1f3d"
   },
   "outputs": [],
   "source": []
  },
  {
   "cell_type": "code",
   "execution_count": 76,
   "id": "a3a04171-3cd8-47d4-bc57-ba173cc31dc5",
   "metadata": {
    "id": "a3a04171-3cd8-47d4-bc57-ba173cc31dc5",
    "scrolled": true
   },
   "outputs": [],
   "source": [
    "def recommend_by_actor_or_actress(cast):\n",
    "    # Find movies with the given cast\n",
    "    matching_movies = new_df[new_df['actorsandactress'].str.contains(cast, case=False)]\n",
    "\n",
    "    # Check if any matching movies are found\n",
    "    if matching_movies.empty:\n",
    "        print(f\"No movies found with cast: {cast}\")\n",
    "        return\n",
    "\n",
    "    # Sort matching movies by vote_average in descending order\n",
    "    matching_movies = matching_movies.sort_values(by='vote_average', ascending=False)\n",
    "\n",
    "    # Print titles of the top 5 matching movies by vote_average\n",
    "    for title in matching_movies['title'].head(5):\n",
    "        print(title)\n",
    "\n",
    "def recommend_title(movie):\n",
    "    movie_index = new_df[new_df['title'].str.contains(movie, case=False)].index[0]\n",
    "    distances = similarity[movie_index]\n",
    "    movies_list = sorted(list(enumerate(distances)), reverse=True, key=lambda x: x[1])[0:5]\n",
    "\n",
    "    for i in movies_list:\n",
    "        print(new_df.iloc[i[0]].title)\n",
    "def reccommend_tags(tag):\n",
    "    movie_index = new_df[new_df['tags'].str.contains(tag, case=False)].index[0]\n",
    "    distances = similarity[movie_index]\n",
    "    movies_list = sorted(list(enumerate(distances)), reverse=True, key=lambda x: x[1])[0:5]\n",
    "\n",
    "    for i in movies_list:\n",
    "        print(new_df.iloc[i[0]].title)\n"
   ]
  },
  {
   "cell_type": "code",
   "execution_count": 86,
   "id": "3vLiGGOF2SrX",
   "metadata": {
    "colab": {
     "base_uri": "https://localhost:8080/"
    },
    "id": "3vLiGGOF2SrX",
    "outputId": "810ad0f5-e96a-4b72-de4f-462ae7cc162f"
   },
   "outputs": [
    {
     "name": "stdout",
     "output_type": "stream",
     "text": [
      "Jurassic World\n",
      "Jurassic Park\n",
      "The Lost World: Jurassic Park\n",
      "Walking With Dinosaurs\n",
      "Guardians of the Galaxy\n"
     ]
    }
   ],
   "source": [
    "reccommend_tags('horror')"
   ]
  },
  {
   "cell_type": "code",
   "execution_count": 78,
   "id": "28bec736-c134-4b47-b56e-5e012deab248",
   "metadata": {
    "colab": {
     "base_uri": "https://localhost:8080/"
    },
    "id": "28bec736-c134-4b47-b56e-5e012deab248",
    "outputId": "82f789f9-ff77-4ee4-99f9-3d55ec1a314a"
   },
   "outputs": [
    {
     "name": "stdout",
     "output_type": "stream",
     "text": [
      "Avatar\n",
      "Aliens\n",
      "Aliens vs Predator: Requiem\n",
      "Independence Day\n",
      "Battle: Los Angeles\n"
     ]
    }
   ],
   "source": [
    "recommend_title('avatar')"
   ]
  },
  {
   "cell_type": "code",
   "execution_count": 79,
   "id": "da2a33ab-83c6-486f-808c-7502539892d7",
   "metadata": {
    "colab": {
     "base_uri": "https://localhost:8080/"
    },
    "id": "da2a33ab-83c6-486f-808c-7502539892d7",
    "outputId": "6efb36f8-bb9f-4879-cfdc-23a9ae9768e2"
   },
   "outputs": [
    {
     "name": "stdout",
     "output_type": "stream",
     "text": [
      "Adaptation.\n",
      "Leaving Las Vegas\n",
      "Lord of War\n",
      "The Rock\n",
      "The Croods\n"
     ]
    }
   ],
   "source": [
    "recommend_by_actor_or_actress('nicolas')"
   ]
  },
  {
   "cell_type": "code",
   "execution_count": 80,
   "id": "c60d4309-54f1-45de-96ec-a5f637b3a6b3",
   "metadata": {
    "id": "c60d4309-54f1-45de-96ec-a5f637b3a6b3"
   },
   "outputs": [],
   "source": [
    "import pickle"
   ]
  },
  {
   "cell_type": "code",
   "execution_count": 81,
   "id": "7f443801-ffe8-4f42-aca2-3b78166c14ae",
   "metadata": {
    "id": "7f443801-ffe8-4f42-aca2-3b78166c14ae"
   },
   "outputs": [],
   "source": [
    "pickle.dump(new_df,open('movies.pkl','wb'))"
   ]
  },
  {
   "cell_type": "code",
   "execution_count": 82,
   "id": "998584bf-acee-457c-8c3a-6b4cd64860bb",
   "metadata": {
    "id": "998584bf-acee-457c-8c3a-6b4cd64860bb"
   },
   "outputs": [
    {
     "data": {
      "text/plain": [
       "array(['Avatar', \"Pirates of the Caribbean: At World's End\", 'Spectre',\n",
       "       ..., 'Signed, Sealed, Delivered', 'Shanghai Calling',\n",
       "       'My Date with Drew'], dtype=object)"
      ]
     },
     "execution_count": 82,
     "metadata": {},
     "output_type": "execute_result"
    }
   ],
   "source": [
    "new_df['title'].values"
   ]
  },
  {
   "cell_type": "code",
   "execution_count": 83,
   "id": "e1860e63-2f41-4d9b-a150-fe3de3b5768c",
   "metadata": {
    "id": "e1860e63-2f41-4d9b-a150-fe3de3b5768c"
   },
   "outputs": [],
   "source": [
    "pickle.dump(similarity,open('similarity.pkl','wb'))"
   ]
  },
  {
   "cell_type": "code",
   "execution_count": 84,
   "id": "9c63c7f3-2726-497a-a9e1-7a131accd534",
   "metadata": {
    "id": "9c63c7f3-2726-497a-a9e1-7a131accd534"
   },
   "outputs": [
    {
     "data": {
      "text/plain": [
       "array(['Sam Worthington Zoe Saldana Sigourney Weaver',\n",
       "       'Johnny Depp Orlando Bloom Keira Knightley',\n",
       "       'Daniel Craig Christoph Waltz Léa Seydoux', ...,\n",
       "       'Eric Mabius Kristin Booth Crystal Lowe',\n",
       "       'Daniel Henney Eliza Coupe Bill Paxton',\n",
       "       'Drew Barrymore Brian Herzlinger Corey Feldman'], dtype=object)"
      ]
     },
     "execution_count": 84,
     "metadata": {},
     "output_type": "execute_result"
    }
   ],
   "source": [
    "new_df['actorsandactress'].values"
   ]
  },
  {
   "cell_type": "code",
   "execution_count": 85,
   "id": "de2c7714-b528-41b4-9706-88686a8726a5",
   "metadata": {
    "id": "de2c7714-b528-41b4-9706-88686a8726a5"
   },
   "outputs": [
    {
     "name": "stdout",
     "output_type": "stream",
     "text": [
      "Index(['movie_id', 'title', 'tags', 'actorsandactress', 'vote_average'], dtype='object')\n"
     ]
    }
   ],
   "source": [
    "print(new_df.columns)"
   ]
  },
  {
   "cell_type": "code",
   "execution_count": null,
   "id": "caf1c5fc-056c-4d7a-bfd9-e4fb3ad83fc3",
   "metadata": {
    "id": "caf1c5fc-056c-4d7a-bfd9-e4fb3ad83fc3"
   },
   "outputs": [],
   "source": []
  },
  {
   "cell_type": "code",
   "execution_count": null,
   "id": "d51b3740-69b4-4093-8193-e3967f48d7cd",
   "metadata": {
    "id": "d51b3740-69b4-4093-8193-e3967f48d7cd"
   },
   "outputs": [],
   "source": []
  }
 ],
 "metadata": {
  "colab": {
   "collapsed_sections": [
    "u9ECYEfTSi5b"
   ],
   "provenance": []
  },
  "kernelspec": {
   "display_name": "Python 3 (ipykernel)",
   "language": "python",
   "name": "python3"
  },
  "language_info": {
   "codemirror_mode": {
    "name": "ipython",
    "version": 3
   },
   "file_extension": ".py",
   "mimetype": "text/x-python",
   "name": "python",
   "nbconvert_exporter": "python",
   "pygments_lexer": "ipython3",
   "version": "3.12.3"
  }
 },
 "nbformat": 4,
 "nbformat_minor": 5
}
